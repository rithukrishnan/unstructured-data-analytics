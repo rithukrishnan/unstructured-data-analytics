{
 "cells": [
  {
   "cell_type": "markdown",
   "metadata": {},
   "source": [
    "Test of concept before importing to google collab. "
   ]
  },
  {
   "cell_type": "markdown",
   "metadata": {},
   "source": [
    "## Set up"
   ]
  },
  {
   "cell_type": "code",
   "execution_count": 1,
   "metadata": {},
   "outputs": [],
   "source": [
    "#Importing packages for later\n",
    "import numpy as np\n",
    "import pandas as pd\n",
    "import matplotlib.pyplot as plt\n",
    "from sklearn import manifold\n",
    "from matplotlib.font_manager import FontProperties\n",
    "import re"
   ]
  },
  {
   "cell_type": "code",
   "execution_count": 2,
   "metadata": {},
   "outputs": [],
   "source": [
    "#Read in the scrape results\n",
    "commercials_df = pd.read_csv('scrape_results.csv',sep = '\\t')\n",
    "#Read in the car brands and car models csv file. Note: we delted car: cars entry here\n",
    "car_df = pd.read_csv('car models and brands.csv', names = ['car_brand','car_model'])"
   ]
  },
  {
   "cell_type": "markdown",
   "metadata": {},
   "source": [
    "## Clean up section"
   ]
  },
  {
   "cell_type": "code",
   "execution_count": 3,
   "metadata": {},
   "outputs": [],
   "source": [
    "#There are punctuation errors for the car brands (and also maybe car models). \n",
    "#Use re to clean that up.\n",
    "car_df['car_brand'] = car_df['car_brand'].apply(lambda x: re.sub(r'[^\\w\\s]','',x))\n",
    "car_df['car_model'] = car_df['car_model'].apply(lambda x: re.sub(r'[^\\w\\s]','',x))\n",
    "\n",
    "#Drop any duplicates in the car models\n",
    "car_df2 = car_df.drop_duplicates('car_model')\n",
    "\n",
    "#Convert dataframe to a dictionary\n",
    "prelim_dict = car_df2.set_index('car_model').to_dict('index')\n",
    "#Idea is to have the key be the model. The value be the brand. If the key is in the comment then convert it into the brand.\n",
    "\n",
    "#This may be inefficient but it works so...\n",
    "#Create a new empty dictionary\n",
    "model_to_brand_dict = {}\n",
    "#Iterate over the prelim dictionary to make a new one.\n",
    "for key,value in prelim_dict.items():\n",
    "    for key1, value1 in value.items():\n",
    "        model_to_brand_dict[key] = value1\n",
    "        \n",
    "#Now we have a model_to_brand_dict that we can convert models to brands with.\n",
    "\n",
    "#We need to filter out stopwords\n",
    "from nltk.corpus import stopwords\n",
    "#Use nltk's stopwords list\n",
    "stopwords_list = stopwords.words('english')"
   ]
  },
  {
   "cell_type": "code",
   "execution_count": 4,
   "metadata": {},
   "outputs": [],
   "source": [
    "#clean_comment accepts a string. It then cleans the comment by removing punctuation and stopwords.\n",
    "#It returns a list of words in that string.\n",
    "def clean_comment(comment):\n",
    "    #For cleaning up the test comment. Remove punctuation and make everything lower case.\n",
    "    comment = re.sub(r'[^\\w\\s]','',comment.lower())\n",
    "    \n",
    "    #Syntax translation:\n",
    "    #word can be anything. I choose word since it's what we're essentially doing\n",
    "    #comment.split() converts the comment into a list. \n",
    "    #Then see if the word in that list is in the drop_stop or not. \n",
    "    #Drops any word that is in the stopwords list.\n",
    "    stopwords_list = stopwords.words('english')\n",
    "    #Store this list and return it.\n",
    "    cleaned = [word for word in comment.split() if word not in stopwords_list]\n",
    "    return cleaned"
   ]
  },
  {
   "cell_type": "code",
   "execution_count": 5,
   "metadata": {},
   "outputs": [],
   "source": [
    "#Use function to create a new cleaned comment column.\n",
    "commercials_df['cleaned comment'] = commercials_df['comments'].astype(str).apply(clean_comment)"
   ]
  },
  {
   "cell_type": "code",
   "execution_count": 6,
   "metadata": {},
   "outputs": [],
   "source": [
    "#Function to replace all of the car models with car brands.\n",
    "#Part 2 of cleaning comments.\n",
    "#Could merge into clean comment but I feel this is more clear.\n",
    "#model_to_brand takes a list of words as a parameter and a model_to_brand_dict.\n",
    "#It then iterates over the list and sees if each word matches a key in the dictionary. \n",
    "#If the word is in the dictionary, it will be converted to a brand.\n",
    "#Specifically, dict[key] gives the value of that key. In this case model: brand.\n",
    "#Returns the word list converted \n",
    "def model_to_brand(word_list,word_dict=model_to_brand_dict):\n",
    "    #Need initial index of -1 to get index 0 for the iteration\n",
    "    index = -1\n",
    "    for word in word_list: #Iterate for every word in the list\n",
    "        index += 1\n",
    "        if word in model_to_brand_dict: #word is a key in the dictionary\n",
    "            #Convert key to value. Model to brand.\n",
    "            word_list[index] = model_to_brand_dict[word]\n",
    "    return word_list"
   ]
  },
  {
   "cell_type": "code",
   "execution_count": 7,
   "metadata": {},
   "outputs": [],
   "source": [
    "#Using function to replace models with brands\n",
    "commercials_df['cleaned comment'] = commercials_df['cleaned comment'].map(model_to_brand)"
   ]
  },
  {
   "cell_type": "code",
   "execution_count": 8,
   "metadata": {},
   "outputs": [],
   "source": [
    "#Create an empty brand dictionary in order to count brands later\n",
    "brand_dict = {}\n",
    "for brand in car_df['car_brand'].drop_duplicates():\n",
    "    brand_dict[brand] = 0"
   ]
  },
  {
   "cell_type": "code",
   "execution_count": 9,
   "metadata": {},
   "outputs": [],
   "source": [
    "#Accepts a list of words as a parameter.\n",
    "#Counts word occurrences and stores it as a dictionary which is returned.\n",
    "def create_word_count(word_list):\n",
    "    #Create dictionary that acts as the values for the main frame.\n",
    "    word_frequency={}\n",
    "\n",
    "    for word in word_list: #Take each word in the words list.\n",
    "        if word in word_frequency: #If I have seen this word, update number of times seen by 1\n",
    "            word_frequency[word] +=1\n",
    "        else: #I have not seen this word yet. Put it in as a key value.\n",
    "            word_frequency[word]  = 1\n",
    "    return word_frequency"
   ]
  },
  {
   "cell_type": "code",
   "execution_count": 10,
   "metadata": {},
   "outputs": [],
   "source": [
    "#Create a new column that contains the word frequency dictionaries\n",
    "commercials_df['count dictionary'] = commercials_df['cleaned comment'].map(create_word_count)"
   ]
  },
  {
   "cell_type": "markdown",
   "metadata": {},
   "source": [
    "## Top 10 brands, lift matrix, and MDS plot"
   ]
  },
  {
   "cell_type": "markdown",
   "metadata": {},
   "source": [
    "$Lift(A,B) = \\frac{n*num(A,B)}{num(A)*num(B)}$ where num stands for number of times occurred."
   ]
  },
  {
   "cell_type": "code",
   "execution_count": 11,
   "metadata": {},
   "outputs": [],
   "source": [
    "#Lift is calculated with the frequentist approach\n",
    "#Parameters are two words: a and b\n",
    "#3rd one is a series of dictionaries aka the commercials_df['count_dictionary']\n",
    "#Put in as a default value.\n",
    "def calc_lift(a,b,series_of_dictionaries = commercials_df['count dictionary']):\n",
    "    #Define count variables\n",
    "    count_a = 0\n",
    "    count_b = 0\n",
    "    count_ab = 0\n",
    "    #Define total length of series which is also the number of messages\n",
    "    n = len(series_of_dictionaries)\n",
    "    if a == b: #A and b are the same word. The lift is 1.\n",
    "        return 1\n",
    "    #Otherwise iterate through the dictionaries\n",
    "    #Count occurrences of a,b,(a,b) in the dictionary\n",
    "    for dictionary in series_of_dictionaries:\n",
    "        if a in dictionary: #a is in the dictionary. Add 1 to count_a\n",
    "            count_a += 1\n",
    "        if b in dictionary: #b is in the dictionary. Add 1 to count_b\n",
    "            count_b += 1\n",
    "        if a in dictionary and b in dictionary: #both a,b are in the dictionary. Add 1 to count_ab\n",
    "            count_ab += 1\n",
    "    try: #Try and except block because division by zero is technically possible.\n",
    "        lift = (n*count_ab)/(count_a*count_b)\n",
    "    except: #Happens if an error occurs\n",
    "        #Dividing by zero. So either count_a or count_b is zero.\n",
    "        #return a NaN value\n",
    "        return np.NaN\n",
    "    #return the lift\n",
    "    return lift"
   ]
  },
  {
   "cell_type": "code",
   "execution_count": 12,
   "metadata": {},
   "outputs": [],
   "source": [
    "#Count the number of times a brand has been mentioned in a message/comment throughout the entire df\n",
    "for dictionary in commercials_df['count dictionary']: #Take each dictionary\n",
    "    for key,value in dictionary.items(): #For each key (word) and value (frequency)\n",
    "        if key in brand_dict: #The key matches the brand key. \n",
    "            #Add 1 to the value aka times it ocurred.\n",
    "            brand_dict[key] += 1"
   ]
  },
  {
   "cell_type": "code",
   "execution_count": 13,
   "metadata": {},
   "outputs": [],
   "source": [
    "#Uncomment to display the dictionary if you want to see it\n",
    "#brand_dict"
   ]
  },
  {
   "cell_type": "markdown",
   "metadata": {},
   "source": [
    "### Top Ten Brands"
   ]
  },
  {
   "cell_type": "code",
   "execution_count": 14,
   "metadata": {},
   "outputs": [
    {
     "data": {
      "text/html": [
       "<div>\n",
       "<style scoped>\n",
       "    .dataframe tbody tr th:only-of-type {\n",
       "        vertical-align: middle;\n",
       "    }\n",
       "\n",
       "    .dataframe tbody tr th {\n",
       "        vertical-align: top;\n",
       "    }\n",
       "\n",
       "    .dataframe thead th {\n",
       "        text-align: right;\n",
       "    }\n",
       "</style>\n",
       "<table border=\"1\" class=\"dataframe\">\n",
       "  <thead>\n",
       "    <tr style=\"text-align: right;\">\n",
       "      <th></th>\n",
       "      <th>brand</th>\n",
       "      <th>frequency</th>\n",
       "    </tr>\n",
       "  </thead>\n",
       "  <tbody>\n",
       "    <tr>\n",
       "      <th>30</th>\n",
       "      <td>toyota</td>\n",
       "      <td>547</td>\n",
       "    </tr>\n",
       "    <tr>\n",
       "      <th>9</th>\n",
       "      <td>honda</td>\n",
       "      <td>308</td>\n",
       "    </tr>\n",
       "    <tr>\n",
       "      <th>8</th>\n",
       "      <td>ford</td>\n",
       "      <td>302</td>\n",
       "    </tr>\n",
       "    <tr>\n",
       "      <th>5</th>\n",
       "      <td>chevrolet</td>\n",
       "      <td>298</td>\n",
       "    </tr>\n",
       "    <tr>\n",
       "      <th>11</th>\n",
       "      <td>hyundai</td>\n",
       "      <td>264</td>\n",
       "    </tr>\n",
       "    <tr>\n",
       "      <th>27</th>\n",
       "      <td>subaru</td>\n",
       "      <td>237</td>\n",
       "    </tr>\n",
       "    <tr>\n",
       "      <th>2</th>\n",
       "      <td>bmw</td>\n",
       "      <td>213</td>\n",
       "    </tr>\n",
       "    <tr>\n",
       "      <th>1</th>\n",
       "      <td>audi</td>\n",
       "      <td>156</td>\n",
       "    </tr>\n",
       "    <tr>\n",
       "      <th>31</th>\n",
       "      <td>volkswagen</td>\n",
       "      <td>151</td>\n",
       "    </tr>\n",
       "    <tr>\n",
       "      <th>21</th>\n",
       "      <td>nissan</td>\n",
       "      <td>149</td>\n",
       "    </tr>\n",
       "  </tbody>\n",
       "</table>\n",
       "</div>"
      ],
      "text/plain": [
       "         brand  frequency\n",
       "30      toyota        547\n",
       "9        honda        308\n",
       "8         ford        302\n",
       "5    chevrolet        298\n",
       "11     hyundai        264\n",
       "27      subaru        237\n",
       "2          bmw        213\n",
       "1         audi        156\n",
       "31  volkswagen        151\n",
       "21      nissan        149"
      ]
     },
     "execution_count": 14,
     "metadata": {},
     "output_type": "execute_result"
    }
   ],
   "source": [
    "#Make a dataframe from the dicitonary\n",
    "brand_df = pd.DataFrame.from_dict(brand_dict, orient = 'index').reset_index()\n",
    "brand_df.columns = ['brand','frequency']\n",
    "#Display the top ten brands\n",
    "brand_df.sort_values('frequency',ascending=False).head(10)"
   ]
  },
  {
   "cell_type": "markdown",
   "metadata": {},
   "source": [
    "### Lift matrix"
   ]
  },
  {
   "cell_type": "code",
   "execution_count": 15,
   "metadata": {},
   "outputs": [],
   "source": [
    "#Store this as a dataframe.\n",
    "top_ten = brand_df.sort_values('frequency',ascending=False).head(10)\n",
    "\n",
    "#Create a top ten list to use in a dataframe to create a blank matrix\n",
    "top_ten_list = []\n",
    "for brand in top_ten['brand']:\n",
    "    top_ten_list.append(brand)\n",
    "\n",
    "#Create the empty matrix\n",
    "lift_matrix = pd.DataFrame(index = top_ten_list, columns = top_ten_list)\n",
    "\n",
    "#Uncomment if you want to see it\n",
    "#lift_matrix"
   ]
  },
  {
   "cell_type": "code",
   "execution_count": 16,
   "metadata": {},
   "outputs": [],
   "source": [
    "#Do a double for loop on the top_ten_list. To create the lift matrix\n",
    "#Makes sure that each lift value is calculated for every brand.\n",
    "for brand in top_ten_list: #Take brand\n",
    "    for brand2 in top_ten_list: #match it with every brand in the list including itself.\n",
    "        lift_matrix.loc[brand][brand2] = calc_lift(brand,brand2)"
   ]
  },
  {
   "cell_type": "code",
   "execution_count": 17,
   "metadata": {
    "scrolled": true
   },
   "outputs": [
    {
     "data": {
      "text/html": [
       "<div>\n",
       "<style scoped>\n",
       "    .dataframe tbody tr th:only-of-type {\n",
       "        vertical-align: middle;\n",
       "    }\n",
       "\n",
       "    .dataframe tbody tr th {\n",
       "        vertical-align: top;\n",
       "    }\n",
       "\n",
       "    .dataframe thead th {\n",
       "        text-align: right;\n",
       "    }\n",
       "</style>\n",
       "<table border=\"1\" class=\"dataframe\">\n",
       "  <thead>\n",
       "    <tr style=\"text-align: right;\">\n",
       "      <th></th>\n",
       "      <th>toyota</th>\n",
       "      <th>honda</th>\n",
       "      <th>ford</th>\n",
       "      <th>chevrolet</th>\n",
       "      <th>hyundai</th>\n",
       "      <th>subaru</th>\n",
       "      <th>bmw</th>\n",
       "      <th>audi</th>\n",
       "      <th>volkswagen</th>\n",
       "      <th>nissan</th>\n",
       "    </tr>\n",
       "  </thead>\n",
       "  <tbody>\n",
       "    <tr>\n",
       "      <th>toyota</th>\n",
       "      <td>1</td>\n",
       "      <td>2.47499</td>\n",
       "      <td>1.44238</td>\n",
       "      <td>1.12676</td>\n",
       "      <td>1.20312</td>\n",
       "      <td>1.83797</td>\n",
       "      <td>1.10774</td>\n",
       "      <td>1.2798</td>\n",
       "      <td>1.32218</td>\n",
       "      <td>2.49714</td>\n",
       "    </tr>\n",
       "    <tr>\n",
       "      <th>honda</th>\n",
       "      <td>2.47499</td>\n",
       "      <td>1</td>\n",
       "      <td>2.72173</td>\n",
       "      <td>2.27151</td>\n",
       "      <td>1.52622</td>\n",
       "      <td>2.78815</td>\n",
       "      <td>1.21066</td>\n",
       "      <td>2.06627</td>\n",
       "      <td>2.56162</td>\n",
       "      <td>3.02868</td>\n",
       "    </tr>\n",
       "    <tr>\n",
       "      <th>ford</th>\n",
       "      <td>1.44238</td>\n",
       "      <td>2.72173</td>\n",
       "      <td>1</td>\n",
       "      <td>2.97853</td>\n",
       "      <td>0.871664</td>\n",
       "      <td>2.15</td>\n",
       "      <td>1.31188</td>\n",
       "      <td>0.842927</td>\n",
       "      <td>1.30626</td>\n",
       "      <td>1.32379</td>\n",
       "    </tr>\n",
       "    <tr>\n",
       "      <th>chevrolet</th>\n",
       "      <td>1.12676</td>\n",
       "      <td>2.27151</td>\n",
       "      <td>2.97853</td>\n",
       "      <td>1</td>\n",
       "      <td>0.820266</td>\n",
       "      <td>1.33543</td>\n",
       "      <td>1.25128</td>\n",
       "      <td>2.02882</td>\n",
       "      <td>1.65474</td>\n",
       "      <td>2.01234</td>\n",
       "    </tr>\n",
       "    <tr>\n",
       "      <th>hyundai</th>\n",
       "      <td>1.20312</td>\n",
       "      <td>1.52622</td>\n",
       "      <td>0.871664</td>\n",
       "      <td>0.820266</td>\n",
       "      <td>1</td>\n",
       "      <td>1.03139</td>\n",
       "      <td>1.32416</td>\n",
       "      <td>2.29011</td>\n",
       "      <td>2.24142</td>\n",
       "      <td>1.51434</td>\n",
       "    </tr>\n",
       "    <tr>\n",
       "      <th>subaru</th>\n",
       "      <td>1.83797</td>\n",
       "      <td>2.78815</td>\n",
       "      <td>2.15</td>\n",
       "      <td>1.33543</td>\n",
       "      <td>1.03139</td>\n",
       "      <td>1</td>\n",
       "      <td>1.96668</td>\n",
       "      <td>1.4769</td>\n",
       "      <td>2.21935</td>\n",
       "      <td>1.82743</td>\n",
       "    </tr>\n",
       "    <tr>\n",
       "      <th>bmw</th>\n",
       "      <td>1.10774</td>\n",
       "      <td>1.21066</td>\n",
       "      <td>1.31188</td>\n",
       "      <td>1.25128</td>\n",
       "      <td>1.32416</td>\n",
       "      <td>1.96668</td>\n",
       "      <td>1</td>\n",
       "      <td>5.07933</td>\n",
       "      <td>1.69773</td>\n",
       "      <td>1.40769</td>\n",
       "    </tr>\n",
       "    <tr>\n",
       "      <th>audi</th>\n",
       "      <td>1.2798</td>\n",
       "      <td>2.06627</td>\n",
       "      <td>0.842927</td>\n",
       "      <td>2.02882</td>\n",
       "      <td>2.29011</td>\n",
       "      <td>1.4769</td>\n",
       "      <td>5.07933</td>\n",
       "      <td>1</td>\n",
       "      <td>3.58244</td>\n",
       "      <td>1.28136</td>\n",
       "    </tr>\n",
       "    <tr>\n",
       "      <th>volkswagen</th>\n",
       "      <td>1.32218</td>\n",
       "      <td>2.56162</td>\n",
       "      <td>1.30626</td>\n",
       "      <td>1.65474</td>\n",
       "      <td>2.24142</td>\n",
       "      <td>2.21935</td>\n",
       "      <td>1.69773</td>\n",
       "      <td>3.58244</td>\n",
       "      <td>1</td>\n",
       "      <td>1.76506</td>\n",
       "    </tr>\n",
       "    <tr>\n",
       "      <th>nissan</th>\n",
       "      <td>2.49714</td>\n",
       "      <td>3.02868</td>\n",
       "      <td>1.32379</td>\n",
       "      <td>2.01234</td>\n",
       "      <td>1.51434</td>\n",
       "      <td>1.82743</td>\n",
       "      <td>1.40769</td>\n",
       "      <td>1.28136</td>\n",
       "      <td>1.76506</td>\n",
       "      <td>1</td>\n",
       "    </tr>\n",
       "  </tbody>\n",
       "</table>\n",
       "</div>"
      ],
      "text/plain": [
       "             toyota    honda      ford chevrolet   hyundai   subaru      bmw  \\\n",
       "toyota            1  2.47499   1.44238   1.12676   1.20312  1.83797  1.10774   \n",
       "honda       2.47499        1   2.72173   2.27151   1.52622  2.78815  1.21066   \n",
       "ford        1.44238  2.72173         1   2.97853  0.871664     2.15  1.31188   \n",
       "chevrolet   1.12676  2.27151   2.97853         1  0.820266  1.33543  1.25128   \n",
       "hyundai     1.20312  1.52622  0.871664  0.820266         1  1.03139  1.32416   \n",
       "subaru      1.83797  2.78815      2.15   1.33543   1.03139        1  1.96668   \n",
       "bmw         1.10774  1.21066   1.31188   1.25128   1.32416  1.96668        1   \n",
       "audi         1.2798  2.06627  0.842927   2.02882   2.29011   1.4769  5.07933   \n",
       "volkswagen  1.32218  2.56162   1.30626   1.65474   2.24142  2.21935  1.69773   \n",
       "nissan      2.49714  3.02868   1.32379   2.01234   1.51434  1.82743  1.40769   \n",
       "\n",
       "                audi volkswagen   nissan  \n",
       "toyota        1.2798    1.32218  2.49714  \n",
       "honda        2.06627    2.56162  3.02868  \n",
       "ford        0.842927    1.30626  1.32379  \n",
       "chevrolet    2.02882    1.65474  2.01234  \n",
       "hyundai      2.29011    2.24142  1.51434  \n",
       "subaru        1.4769    2.21935  1.82743  \n",
       "bmw          5.07933    1.69773  1.40769  \n",
       "audi               1    3.58244  1.28136  \n",
       "volkswagen   3.58244          1  1.76506  \n",
       "nissan       1.28136    1.76506        1  "
      ]
     },
     "execution_count": 17,
     "metadata": {},
     "output_type": "execute_result"
    }
   ],
   "source": [
    "#Display the lift matrix\n",
    "lift_matrix"
   ]
  },
  {
   "cell_type": "markdown",
   "metadata": {},
   "source": [
    "### MDS Plot"
   ]
  },
  {
   "cell_type": "markdown",
   "metadata": {},
   "source": [
    "The dissimilarity matrix is the inverse of the similarity matrix. So in this case lift."
   ]
  },
  {
   "cell_type": "code",
   "execution_count": 18,
   "metadata": {},
   "outputs": [],
   "source": [
    "#Dissimilarity_matrix calculation\n",
    "dissimilarity_matrix = lift_matrix**(-1)\n",
    "#Need to also fill diagonal with zeroes\n",
    "np.fill_diagonal(dissimilarity_matrix.values, 0)"
   ]
  },
  {
   "cell_type": "code",
   "execution_count": 19,
   "metadata": {},
   "outputs": [
    {
     "data": {
      "image/png": "[encoded data removed]",
      "text/plain": [
       "<Figure size 432x288 with 1 Axes>"
      ]
     },
     "metadata": {
      "needs_background": "light"
     },
     "output_type": "display_data"
    }
   ],
   "source": [
    "#As stated in the instructions, used an external script for the MDS plot.\n",
    "#MDS plot script credit to: https://github.com/pazhani1994\n",
    "from matplotlib.font_manager import FontProperties\n",
    "mds = manifold.MDS(n_components=2, dissimilarity=\"precomputed\", random_state=6)\n",
    "results = mds.fit(dissimilarity_matrix)\n",
    "\n",
    "coords = results.embedding_\n",
    "plt.subplots_adjust(bottom = 0.1)\n",
    "plt.scatter(\n",
    "    coords[:, 0], coords[:, 1], marker = 'o'\n",
    "    )\n",
    "font0 = FontProperties()\n",
    "font = font0.copy()\n",
    "\n",
    "## Change the size of the font\n",
    "## Sizes: ['xx-small', 'x-small', 'small', 'medium', 'large','x-large', 'xx-large']\n",
    "font.set_size('medium')\n",
    "\n",
    "\n",
    "for label, x, y in zip(top_ten_list, coords[:, 0], coords[:, 1]):\n",
    "    plt.annotate(\n",
    "        label,\n",
    "        xy = (x, y), xytext = (10, 10),\n",
    "         fontproperties=font,\n",
    "        textcoords = 'offset points', ha = 'right', va = 'bottom',\n",
    "        bbox = dict(boxstyle = 'round,pad=0.5', fc = 'violet', alpha = 0.5),\n",
    "        arrowprops = dict(arrowstyle = '->', connectionstyle = 'arc3,rad=0'))"
   ]
  },
  {
   "cell_type": "markdown",
   "metadata": {},
   "source": [
    "## Attributes and Aspirations (Task C and Task E)"
   ]
  },
  {
   "cell_type": "markdown",
   "metadata": {},
   "source": [
    "For attributes you guys can run a list or something to find the top 5. It's similar to how I found the top 5 brands. I already wrote some of the code to help you guys along."
   ]
  },
  {
   "cell_type": "code",
   "execution_count": 20,
   "metadata": {},
   "outputs": [],
   "source": [
    "#Create a list of attributes that we think belong to cars in the commercials\n",
    "attribute_list = ['performance','luxury','reliable','safety','affordable','favorite','buy','speed','comfort',\n",
    "                 'warranty','price','msrp','security','fuel','consumption','insurance','maintainence']\n",
    "#Feel free to append or add more to the list\n",
    "#attribute_list.append('Phrase here')"
   ]
  },
  {
   "cell_type": "code",
   "execution_count": 21,
   "metadata": {},
   "outputs": [],
   "source": [
    "attribute_df = pd.DataFrame(index = attribute_list)"
   ]
  },
  {
   "cell_type": "code",
   "execution_count": 22,
   "metadata": {},
   "outputs": [],
   "source": [
    "attribute_df['frequency'] = 0"
   ]
  },
  {
   "cell_type": "code",
   "execution_count": 23,
   "metadata": {},
   "outputs": [
    {
     "data": {
      "text/html": [
       "<div>\n",
       "<style scoped>\n",
       "    .dataframe tbody tr th:only-of-type {\n",
       "        vertical-align: middle;\n",
       "    }\n",
       "\n",
       "    .dataframe tbody tr th {\n",
       "        vertical-align: top;\n",
       "    }\n",
       "\n",
       "    .dataframe thead th {\n",
       "        text-align: right;\n",
       "    }\n",
       "</style>\n",
       "<table border=\"1\" class=\"dataframe\">\n",
       "  <thead>\n",
       "    <tr style=\"text-align: right;\">\n",
       "      <th></th>\n",
       "      <th>frequency</th>\n",
       "    </tr>\n",
       "  </thead>\n",
       "  <tbody>\n",
       "    <tr>\n",
       "      <th>performance</th>\n",
       "      <td>0</td>\n",
       "    </tr>\n",
       "    <tr>\n",
       "      <th>luxury</th>\n",
       "      <td>0</td>\n",
       "    </tr>\n",
       "    <tr>\n",
       "      <th>reliable</th>\n",
       "      <td>0</td>\n",
       "    </tr>\n",
       "    <tr>\n",
       "      <th>safety</th>\n",
       "      <td>0</td>\n",
       "    </tr>\n",
       "    <tr>\n",
       "      <th>affordable</th>\n",
       "      <td>0</td>\n",
       "    </tr>\n",
       "    <tr>\n",
       "      <th>favorite</th>\n",
       "      <td>0</td>\n",
       "    </tr>\n",
       "    <tr>\n",
       "      <th>buy</th>\n",
       "      <td>0</td>\n",
       "    </tr>\n",
       "    <tr>\n",
       "      <th>speed</th>\n",
       "      <td>0</td>\n",
       "    </tr>\n",
       "    <tr>\n",
       "      <th>comfort</th>\n",
       "      <td>0</td>\n",
       "    </tr>\n",
       "    <tr>\n",
       "      <th>warranty</th>\n",
       "      <td>0</td>\n",
       "    </tr>\n",
       "    <tr>\n",
       "      <th>price</th>\n",
       "      <td>0</td>\n",
       "    </tr>\n",
       "    <tr>\n",
       "      <th>msrp</th>\n",
       "      <td>0</td>\n",
       "    </tr>\n",
       "    <tr>\n",
       "      <th>security</th>\n",
       "      <td>0</td>\n",
       "    </tr>\n",
       "    <tr>\n",
       "      <th>fuel</th>\n",
       "      <td>0</td>\n",
       "    </tr>\n",
       "    <tr>\n",
       "      <th>consumption</th>\n",
       "      <td>0</td>\n",
       "    </tr>\n",
       "    <tr>\n",
       "      <th>insurance</th>\n",
       "      <td>0</td>\n",
       "    </tr>\n",
       "    <tr>\n",
       "      <th>maintainence</th>\n",
       "      <td>0</td>\n",
       "    </tr>\n",
       "  </tbody>\n",
       "</table>\n",
       "</div>"
      ],
      "text/plain": [
       "              frequency\n",
       "performance           0\n",
       "luxury                0\n",
       "reliable              0\n",
       "safety                0\n",
       "affordable            0\n",
       "favorite              0\n",
       "buy                   0\n",
       "speed                 0\n",
       "comfort               0\n",
       "warranty              0\n",
       "price                 0\n",
       "msrp                  0\n",
       "security              0\n",
       "fuel                  0\n",
       "consumption           0\n",
       "insurance             0\n",
       "maintainence          0"
      ]
     },
     "execution_count": 23,
     "metadata": {},
     "output_type": "execute_result"
    }
   ],
   "source": [
    "attribute_df"
   ]
  },
  {
   "cell_type": "code",
   "execution_count": 24,
   "metadata": {},
   "outputs": [],
   "source": [
    "#Count the number of times a brand has been mentioned in a message/comment throughout the entire df\n",
    "for dictionary in commercials_df['count dictionary']: #Take each dictionary\n",
    "    for key,value in dictionary.items(): #For each key (word) and value (frequency)\n",
    "        if key in attribute_list: #The key matches a word in the attribute list.\n",
    "            #Add 1 to the value of the word it matched in the dataframe.\n",
    "            attribute_df.loc[key] += 1"
   ]
  },
  {
   "cell_type": "code",
   "execution_count": 25,
   "metadata": {},
   "outputs": [
    {
     "data": {
      "text/html": [
       "<div>\n",
       "<style scoped>\n",
       "    .dataframe tbody tr th:only-of-type {\n",
       "        vertical-align: middle;\n",
       "    }\n",
       "\n",
       "    .dataframe tbody tr th {\n",
       "        vertical-align: top;\n",
       "    }\n",
       "\n",
       "    .dataframe thead th {\n",
       "        text-align: right;\n",
       "    }\n",
       "</style>\n",
       "<table border=\"1\" class=\"dataframe\">\n",
       "  <thead>\n",
       "    <tr style=\"text-align: right;\">\n",
       "      <th></th>\n",
       "      <th>frequency</th>\n",
       "    </tr>\n",
       "  </thead>\n",
       "  <tbody>\n",
       "    <tr>\n",
       "      <th>performance</th>\n",
       "      <td>42</td>\n",
       "    </tr>\n",
       "    <tr>\n",
       "      <th>luxury</th>\n",
       "      <td>60</td>\n",
       "    </tr>\n",
       "    <tr>\n",
       "      <th>reliable</th>\n",
       "      <td>28</td>\n",
       "    </tr>\n",
       "    <tr>\n",
       "      <th>safety</th>\n",
       "      <td>19</td>\n",
       "    </tr>\n",
       "    <tr>\n",
       "      <th>affordable</th>\n",
       "      <td>6</td>\n",
       "    </tr>\n",
       "    <tr>\n",
       "      <th>favorite</th>\n",
       "      <td>39</td>\n",
       "    </tr>\n",
       "    <tr>\n",
       "      <th>buy</th>\n",
       "      <td>222</td>\n",
       "    </tr>\n",
       "    <tr>\n",
       "      <th>speed</th>\n",
       "      <td>41</td>\n",
       "    </tr>\n",
       "    <tr>\n",
       "      <th>comfort</th>\n",
       "      <td>0</td>\n",
       "    </tr>\n",
       "    <tr>\n",
       "      <th>warranty</th>\n",
       "      <td>17</td>\n",
       "    </tr>\n",
       "    <tr>\n",
       "      <th>price</th>\n",
       "      <td>90</td>\n",
       "    </tr>\n",
       "    <tr>\n",
       "      <th>msrp</th>\n",
       "      <td>15</td>\n",
       "    </tr>\n",
       "    <tr>\n",
       "      <th>security</th>\n",
       "      <td>4</td>\n",
       "    </tr>\n",
       "    <tr>\n",
       "      <th>fuel</th>\n",
       "      <td>30</td>\n",
       "    </tr>\n",
       "    <tr>\n",
       "      <th>consumption</th>\n",
       "      <td>4</td>\n",
       "    </tr>\n",
       "    <tr>\n",
       "      <th>insurance</th>\n",
       "      <td>31</td>\n",
       "    </tr>\n",
       "    <tr>\n",
       "      <th>maintainence</th>\n",
       "      <td>1</td>\n",
       "    </tr>\n",
       "  </tbody>\n",
       "</table>\n",
       "</div>"
      ],
      "text/plain": [
       "              frequency\n",
       "performance          42\n",
       "luxury               60\n",
       "reliable             28\n",
       "safety               19\n",
       "affordable            6\n",
       "favorite             39\n",
       "buy                 222\n",
       "speed                41\n",
       "comfort               0\n",
       "warranty             17\n",
       "price                90\n",
       "msrp                 15\n",
       "security              4\n",
       "fuel                 30\n",
       "consumption           4\n",
       "insurance            31\n",
       "maintainence          1"
      ]
     },
     "execution_count": 25,
     "metadata": {},
     "output_type": "execute_result"
    }
   ],
   "source": [
    "attribute_df"
   ]
  },
  {
   "cell_type": "code",
   "execution_count": 26,
   "metadata": {},
   "outputs": [],
   "source": [
    "top_five_attributes = attribute_df.sort_values('frequency',ascending = False).head(5)"
   ]
  },
  {
   "cell_type": "code",
   "execution_count": 27,
   "metadata": {},
   "outputs": [
    {
     "data": {
      "text/html": [
       "<div>\n",
       "<style scoped>\n",
       "    .dataframe tbody tr th:only-of-type {\n",
       "        vertical-align: middle;\n",
       "    }\n",
       "\n",
       "    .dataframe tbody tr th {\n",
       "        vertical-align: top;\n",
       "    }\n",
       "\n",
       "    .dataframe thead th {\n",
       "        text-align: right;\n",
       "    }\n",
       "</style>\n",
       "<table border=\"1\" class=\"dataframe\">\n",
       "  <thead>\n",
       "    <tr style=\"text-align: right;\">\n",
       "      <th></th>\n",
       "      <th>frequency</th>\n",
       "    </tr>\n",
       "  </thead>\n",
       "  <tbody>\n",
       "    <tr>\n",
       "      <th>buy</th>\n",
       "      <td>222</td>\n",
       "    </tr>\n",
       "    <tr>\n",
       "      <th>price</th>\n",
       "      <td>90</td>\n",
       "    </tr>\n",
       "    <tr>\n",
       "      <th>luxury</th>\n",
       "      <td>60</td>\n",
       "    </tr>\n",
       "    <tr>\n",
       "      <th>performance</th>\n",
       "      <td>42</td>\n",
       "    </tr>\n",
       "    <tr>\n",
       "      <th>speed</th>\n",
       "      <td>41</td>\n",
       "    </tr>\n",
       "  </tbody>\n",
       "</table>\n",
       "</div>"
      ],
      "text/plain": [
       "             frequency\n",
       "buy                222\n",
       "price               90\n",
       "luxury              60\n",
       "performance         42\n",
       "speed               41"
      ]
     },
     "execution_count": 27,
     "metadata": {},
     "output_type": "execute_result"
    }
   ],
   "source": [
    "top_five_attributes"
   ]
  },
  {
   "cell_type": "markdown",
   "metadata": {},
   "source": [
    "Afterwhich, you guys can just do what I did with the lift matrix. Note: needs to be 5 brands."
   ]
  },
  {
   "cell_type": "code",
   "execution_count": null,
   "metadata": {},
   "outputs": [],
   "source": []
  }
 ],
 "metadata": {
  "kernelspec": {
   "display_name": "Python 3",
   "language": "python",
   "name": "python3"
  },
  "language_info": {
   "codemirror_mode": {
    "name": "ipython",
    "version": 3
   },
   "file_extension": ".py",
   "mimetype": "text/x-python",
   "name": "python",
   "nbconvert_exporter": "python",
   "pygments_lexer": "ipython3",
   "version": "3.8.3"
  }
 },
 "nbformat": 4,
 "nbformat_minor": 4
}
