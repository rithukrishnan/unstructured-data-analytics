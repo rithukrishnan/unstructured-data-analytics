{
 "cells": [
  {
   "cell_type": "code",
   "execution_count": null,
   "metadata": {
    "colab": {
     "base_uri": "https://localhost:8080/",
     "height": 384
    },
    "id": "gluArwlncQbR",
    "outputId": "d3a54999-4ec2-44c3-a76f-386f38b2a9ce"
   },
   "outputs": [
    {
     "name": "stdout",
     "output_type": "stream",
     "text": [
      "Requirement already satisfied: selenium in /usr/local/lib/python3.6/dist-packages (3.141.0)\n",
      "Requirement already satisfied: urllib3 in /usr/local/lib/python3.6/dist-packages (from selenium) (1.24.3)\n",
      "Hit:1 https://cloud.r-project.org/bin/linux/ubuntu bionic-cran40/ InRelease\n",
      "Ign:2 https://developer.download.nvidia.com/compute/cuda/repos/ubuntu1804/x86_64  InRelease\n",
      "Ign:3 https://developer.download.nvidia.com/compute/machine-learning/repos/ubuntu1804/x86_64  InRelease\n",
      "Hit:4 https://developer.download.nvidia.com/compute/cuda/repos/ubuntu1804/x86_64  Release\n",
      "Hit:5 https://developer.download.nvidia.com/compute/machine-learning/repos/ubuntu1804/x86_64  Release\n",
      "Hit:6 http://archive.ubuntu.com/ubuntu bionic InRelease\n",
      "Hit:7 http://ppa.launchpad.net/c2d4u.team/c2d4u4.0+/ubuntu bionic InRelease\n",
      "Hit:8 http://security.ubuntu.com/ubuntu bionic-security InRelease\n",
      "Hit:9 http://archive.ubuntu.com/ubuntu bionic-updates InRelease\n",
      "Hit:10 http://archive.ubuntu.com/ubuntu bionic-backports InRelease\n",
      "Hit:11 http://ppa.launchpad.net/graphics-drivers/ppa/ubuntu bionic InRelease\n",
      "Reading package lists...\n",
      "Reading package lists...\n",
      "Building dependency tree...\n",
      "Reading state information...\n",
      "chromium-chromedriver is already the newest version (86.0.4240.75-0ubuntu0.18.04.1).\n",
      "0 upgraded, 0 newly installed, 0 to remove and 25 not upgraded.\n",
      "cp: '/usr/lib/chromium-browser/chromedriver' and '/usr/bin/chromedriver' are the same file\n"
     ]
    }
   ],
   "source": [
    "!pip install selenium\n",
    "!apt-get -q update # to update ubuntu to correctly run apt install\n",
    "!apt install -yq chromium-chromedriver\n",
    "!cp /usr/lib/chromium-browser/chromedriver /usr/bin"
   ]
  },
  {
   "cell_type": "code",
   "execution_count": 1,
   "metadata": {
    "id": "c3frY6QCeLMd"
   },
   "outputs": [],
   "source": [
    "from selenium import webdriver\n",
    "import pandas as pd\n",
    "import sys\n",
    "#sys.path.insert(0,'/usr/lib/chromium-browser/chromedriver')"
   ]
  },
  {
   "cell_type": "code",
   "execution_count": null,
   "metadata": {
    "id": "3E_Xt888eOfk"
   },
   "outputs": [],
   "source": [
    "chrome_options = webdriver.ChromeOptions()\n",
    "chrome_options.add_argument('--headless')\n",
    "chrome_options.add_argument('--no-sandbox')\n",
    "chrome_options.add_argument('--disable-dev-shm-usage')"
   ]
  },
  {
   "cell_type": "markdown",
   "metadata": {
    "id": "29HtvCbdxol4"
   },
   "source": [
    "# Attempt 2 - SC"
   ]
  },
  {
   "cell_type": "code",
   "execution_count": null,
   "metadata": {
    "colab": {
     "base_uri": "https://localhost:8080/",
     "height": 470
    },
    "id": "QTx-x7tZxqOl",
    "outputId": "ef28c77b-7058-4dba-ca93-a16aa684a437"
   },
   "outputs": [
    {
     "name": "stdout",
     "output_type": "stream",
     "text": [
      "Requirement already satisfied: google-cloud-vision in /usr/local/lib/python3.6/dist-packages (2.0.0)\n",
      "Requirement already satisfied: libcst>=0.2.5 in /usr/local/lib/python3.6/dist-packages (from google-cloud-vision) (0.3.13)\n",
      "Requirement already satisfied: google-api-core[grpc]<2.0.0dev,>=1.22.2 in /usr/local/lib/python3.6/dist-packages (from google-cloud-vision) (1.23.0)\n",
      "Requirement already satisfied: proto-plus>=1.4.0 in /usr/local/lib/python3.6/dist-packages (from google-cloud-vision) (1.11.0)\n",
      "Requirement already satisfied: typing-inspect>=0.4.0 in /usr/local/lib/python3.6/dist-packages (from libcst>=0.2.5->google-cloud-vision) (0.6.0)\n",
      "Requirement already satisfied: pyyaml>=5.2 in /usr/local/lib/python3.6/dist-packages (from libcst>=0.2.5->google-cloud-vision) (5.3.1)\n",
      "Requirement already satisfied: typing-extensions>=3.7.4.2 in /usr/local/lib/python3.6/dist-packages (from libcst>=0.2.5->google-cloud-vision) (3.7.4.3)\n",
      "Requirement already satisfied: dataclasses>=0.6.0; python_version < \"3.7\" in /usr/local/lib/python3.6/dist-packages (from libcst>=0.2.5->google-cloud-vision) (0.7)\n",
      "Requirement already satisfied: protobuf>=3.12.0 in /usr/local/lib/python3.6/dist-packages (from google-api-core[grpc]<2.0.0dev,>=1.22.2->google-cloud-vision) (3.12.4)\n",
      "Requirement already satisfied: requests<3.0.0dev,>=2.18.0 in /usr/local/lib/python3.6/dist-packages (from google-api-core[grpc]<2.0.0dev,>=1.22.2->google-cloud-vision) (2.23.0)\n",
      "Requirement already satisfied: pytz in /usr/local/lib/python3.6/dist-packages (from google-api-core[grpc]<2.0.0dev,>=1.22.2->google-cloud-vision) (2018.9)\n",
      "Requirement already satisfied: googleapis-common-protos<2.0dev,>=1.6.0 in /usr/local/lib/python3.6/dist-packages (from google-api-core[grpc]<2.0.0dev,>=1.22.2->google-cloud-vision) (1.52.0)\n",
      "Requirement already satisfied: google-auth<2.0dev,>=1.21.1 in /usr/local/lib/python3.6/dist-packages (from google-api-core[grpc]<2.0.0dev,>=1.22.2->google-cloud-vision) (1.22.1)\n",
      "Requirement already satisfied: setuptools>=34.0.0 in /usr/local/lib/python3.6/dist-packages (from google-api-core[grpc]<2.0.0dev,>=1.22.2->google-cloud-vision) (50.3.0)\n",
      "Requirement already satisfied: six>=1.13.0 in /usr/local/lib/python3.6/dist-packages (from google-api-core[grpc]<2.0.0dev,>=1.22.2->google-cloud-vision) (1.15.0)\n",
      "Requirement already satisfied: grpcio<2.0dev,>=1.29.0; extra == \"grpc\" in /usr/local/lib/python3.6/dist-packages (from google-api-core[grpc]<2.0.0dev,>=1.22.2->google-cloud-vision) (1.32.0)\n",
      "Requirement already satisfied: mypy-extensions>=0.3.0 in /usr/local/lib/python3.6/dist-packages (from typing-inspect>=0.4.0->libcst>=0.2.5->google-cloud-vision) (0.4.3)\n",
      "Requirement already satisfied: chardet<4,>=3.0.2 in /usr/local/lib/python3.6/dist-packages (from requests<3.0.0dev,>=2.18.0->google-api-core[grpc]<2.0.0dev,>=1.22.2->google-cloud-vision) (3.0.4)\n",
      "Requirement already satisfied: idna<3,>=2.5 in /usr/local/lib/python3.6/dist-packages (from requests<3.0.0dev,>=2.18.0->google-api-core[grpc]<2.0.0dev,>=1.22.2->google-cloud-vision) (2.10)\n",
      "Requirement already satisfied: urllib3!=1.25.0,!=1.25.1,<1.26,>=1.21.1 in /usr/local/lib/python3.6/dist-packages (from requests<3.0.0dev,>=2.18.0->google-api-core[grpc]<2.0.0dev,>=1.22.2->google-cloud-vision) (1.24.3)\n",
      "Requirement already satisfied: certifi>=2017.4.17 in /usr/local/lib/python3.6/dist-packages (from requests<3.0.0dev,>=2.18.0->google-api-core[grpc]<2.0.0dev,>=1.22.2->google-cloud-vision) (2020.6.20)\n",
      "Requirement already satisfied: cachetools<5.0,>=2.0.0 in /usr/local/lib/python3.6/dist-packages (from google-auth<2.0dev,>=1.21.1->google-api-core[grpc]<2.0.0dev,>=1.22.2->google-cloud-vision) (4.1.1)\n",
      "Requirement already satisfied: rsa<5,>=3.1.4; python_version >= \"3.5\" in /usr/local/lib/python3.6/dist-packages (from google-auth<2.0dev,>=1.21.1->google-api-core[grpc]<2.0.0dev,>=1.22.2->google-cloud-vision) (4.6)\n",
      "Requirement already satisfied: pyasn1-modules>=0.2.1 in /usr/local/lib/python3.6/dist-packages (from google-auth<2.0dev,>=1.21.1->google-api-core[grpc]<2.0.0dev,>=1.22.2->google-cloud-vision) (0.2.8)\n",
      "Requirement already satisfied: pyasn1>=0.1.3 in /usr/local/lib/python3.6/dist-packages (from rsa<5,>=3.1.4; python_version >= \"3.5\"->google-auth<2.0dev,>=1.21.1->google-api-core[grpc]<2.0.0dev,>=1.22.2->google-cloud-vision) (0.4.8)\n"
     ]
    }
   ],
   "source": [
    "#!pip install google-cloud-vision\n"
   ]
  },
  {
   "cell_type": "code",
   "execution_count": null,
   "metadata": {
    "colab": {
     "base_uri": "https://localhost:8080/",
     "height": 141
    },
    "id": "MX5KBZ4fyppu",
    "outputId": "a56e4349-d985-4f68-9d04-59d98a1eb66c"
   },
   "outputs": [
    {
     "name": "stdout",
     "output_type": "stream",
     "text": [
      "Requirement already satisfied: instaloader in /usr/local/lib/python3.6/dist-packages (4.5.3)\n",
      "Requirement already satisfied: requests>=2.4 in /usr/local/lib/python3.6/dist-packages (from instaloader) (2.23.0)\n",
      "Requirement already satisfied: chardet<4,>=3.0.2 in /usr/local/lib/python3.6/dist-packages (from requests>=2.4->instaloader) (3.0.4)\n",
      "Requirement already satisfied: idna<3,>=2.5 in /usr/local/lib/python3.6/dist-packages (from requests>=2.4->instaloader) (2.10)\n",
      "Requirement already satisfied: certifi>=2017.4.17 in /usr/local/lib/python3.6/dist-packages (from requests>=2.4->instaloader) (2020.6.20)\n",
      "Requirement already satisfied: urllib3!=1.25.0,!=1.25.1,<1.26,>=1.21.1 in /usr/local/lib/python3.6/dist-packages (from requests>=2.4->instaloader) (1.24.3)\n"
     ]
    }
   ],
   "source": [
    "#pip install instaloader"
   ]
  },
  {
   "cell_type": "code",
   "execution_count": 2,
   "metadata": {
    "id": "Z5-iypwDxtOU"
   },
   "outputs": [],
   "source": [
    "#import instaloader\n",
    "import pandas as pd\n",
    "import time\n",
    "import os\n",
    "\n",
    "pd.set_option('display.max_columns', 700)\n",
    "pd.set_option('display.max_rows', 700)"
   ]
  },
  {
   "cell_type": "code",
   "execution_count": null,
   "metadata": {
    "id": "8_cgdO8AyoA9"
   },
   "outputs": [],
   "source": [
    "#initializing. Set user name as 'natgeo' \n",
    "L = instaloader.Instaloader()\n",
    "user_name = 'zara'\n",
    "profile = instaloader.Profile.from_username(L.context, user_name)#.get_posts()\n",
    "\n",
    "#Data frame to store the relevant columns \n",
    "posts_df = pd.DataFrame(columns=['post_url', 'num_comments', 'num_likes', 'caption', 'image_url', 'is_video'])\n",
    "\n",
    "#we get the post shortcode using instaloader- use that to create the url \n",
    "post_url_structure = 'https://www.instagram.com/p/{}/'\n",
    "\n",
    "# get the posts from the user_name\n",
    "posts = profile.get_posts()\n",
    "\n",
    "# number of posts to extract and initialize the counter\n",
    "num_posts_to_extract = 700\n",
    "number = 0 \n",
    "#to tract the scraping process. The loop will print the number of posts extract at the following intervals\n",
    "print_list = list(range(0,700,50))"
   ]
  },
  {
   "cell_type": "code",
   "execution_count": null,
   "metadata": {
    "colab": {
     "base_uri": "https://localhost:8080/",
     "height": 277
    },
    "id": "eCj_ovbny0Dw",
    "outputId": "36bc2733-e475-491a-dbc9-fae70c0f9fd7"
   },
   "outputs": [
    {
     "name": "stdout",
     "output_type": "stream",
     "text": [
      "0 posts extracted \n",
      "50 posts extracted \n",
      "100 posts extracted \n",
      "150 posts extracted \n",
      "200 posts extracted \n",
      "250 posts extracted \n",
      "300 posts extracted \n",
      "350 posts extracted \n",
      "400 posts extracted \n",
      "450 posts extracted \n",
      "500 posts extracted \n",
      "550 posts extracted \n",
      "600 posts extracted \n",
      "650 posts extracted \n"
     ]
    },
    {
     "data": {
      "text/plain": [
       "42.75347304344177"
      ]
     },
     "execution_count": 34,
     "metadata": {
      "tags": []
     },
     "output_type": "execute_result"
    }
   ],
   "source": [
    "start_time = time.time()\n",
    "for post in posts:\n",
    "    \n",
    "    #print out the number of posts extracted at regular intervals\n",
    "    if number < num_posts_to_extract:\n",
    "        if number in print_list:\n",
    "            print ('{} posts extracted '.format(number))\n",
    "            \n",
    "        #increase the counter by 1\n",
    "        number += 1\n",
    "        \n",
    "        #append the required post details to the initialized dataframe \n",
    "        posts_df = posts_df.append({'post_url': post_url_structure.format(post.shortcode),\n",
    "                                    'num_comments': post.comments,\n",
    "                                    'num_likes': post.likes,\n",
    "                                    'caption': post.caption,\n",
    "                                    'image_url': post.url, \n",
    "                                    'is_video': post.is_video}, ignore_index=True)\n",
    "        \n",
    "        #convert the is_video column to bool - if we get enough posts that are not videos, then break the loop\n",
    "        posts_df.is_video.astype('bool')\n",
    "        if posts_df[posts_df.is_video == False].shape[0] == num_posts_to_extract:\n",
    "            number = num_posts_to_extract\n",
    "        \n",
    "        \n",
    "    else:\n",
    "        break\n",
    "    \n",
    "#total time taken to extract number of posts in num_posts_to_extract variable\n",
    "total_time_taken = time.time() - start_time\n",
    "total_time_taken"
   ]
  },
  {
   "cell_type": "code",
   "execution_count": null,
   "metadata": {
    "colab": {
     "base_uri": "https://localhost:8080/",
     "height": 34
    },
    "id": "zsWQURJ-y9pq",
    "outputId": "415d6168-17de-4e08-f004-8d0c6991c429"
   },
   "outputs": [
    {
     "data": {
      "text/plain": [
       "700"
      ]
     },
     "execution_count": 35,
     "metadata": {
      "tags": []
     },
     "output_type": "execute_result"
    }
   ],
   "source": [
    "len(posts_df)"
   ]
  },
  {
   "cell_type": "code",
   "execution_count": null,
   "metadata": {
    "id": "33EjLyyRt_es"
   },
   "outputs": [],
   "source": [
    "posts_df.to_csv('posts_df.csv')"
   ]
  },
  {
   "cell_type": "code",
   "execution_count": null,
   "metadata": {
    "colab": {
     "base_uri": "https://localhost:8080/",
     "height": 378
    },
    "id": "P4nF1nhCy-ph",
    "outputId": "bf7bfa9a-0348-4458-bf7d-47104b612549"
   },
   "outputs": [
    {
     "data": {
      "text/html": [
       "<div>\n",
       "<style scoped>\n",
       "    .dataframe tbody tr th:only-of-type {\n",
       "        vertical-align: middle;\n",
       "    }\n",
       "\n",
       "    .dataframe tbody tr th {\n",
       "        vertical-align: top;\n",
       "    }\n",
       "\n",
       "    .dataframe thead th {\n",
       "        text-align: right;\n",
       "    }\n",
       "</style>\n",
       "<table border=\"1\" class=\"dataframe\">\n",
       "  <thead>\n",
       "    <tr style=\"text-align: right;\">\n",
       "      <th></th>\n",
       "      <th>post_url</th>\n",
       "      <th>num_comments</th>\n",
       "      <th>num_likes</th>\n",
       "      <th>caption</th>\n",
       "      <th>image_url</th>\n",
       "      <th>is_video</th>\n",
       "    </tr>\n",
       "  </thead>\n",
       "  <tbody>\n",
       "    <tr>\n",
       "      <th>0</th>\n",
       "      <td>https://www.instagram.com/p/CGkn044ildP/</td>\n",
       "      <td>188</td>\n",
       "      <td>22863</td>\n",
       "      <td>Dress up #zarawoman</td>\n",
       "      <td>https://scontent-ort2-1.cdninstagram.com/v/t51...</td>\n",
       "      <td>True</td>\n",
       "    </tr>\n",
       "    <tr>\n",
       "      <th>1</th>\n",
       "      <td>https://www.instagram.com/p/CGkWFytikqo/</td>\n",
       "      <td>134</td>\n",
       "      <td>24056</td>\n",
       "      <td>Dress up #zarawoman</td>\n",
       "      <td>https://scontent-ort2-1.cdninstagram.com/v/t51...</td>\n",
       "      <td>True</td>\n",
       "    </tr>\n",
       "    <tr>\n",
       "      <th>2</th>\n",
       "      <td>https://www.instagram.com/p/CGkBsOBi1ny/</td>\n",
       "      <td>130</td>\n",
       "      <td>22749</td>\n",
       "      <td>Dress up #zarawoman</td>\n",
       "      <td>https://scontent-ort2-1.cdninstagram.com/v/t51...</td>\n",
       "      <td>True</td>\n",
       "    </tr>\n",
       "    <tr>\n",
       "      <th>3</th>\n",
       "      <td>https://www.instagram.com/p/CGdByXPhb0J/</td>\n",
       "      <td>421</td>\n",
       "      <td>73652</td>\n",
       "      <td>FW20 Campaign. Kids Collection\\nCreative Direc...</td>\n",
       "      <td>https://scontent-ort2-1.cdninstagram.com/v/t51...</td>\n",
       "      <td>False</td>\n",
       "    </tr>\n",
       "    <tr>\n",
       "      <th>4</th>\n",
       "      <td>https://www.instagram.com/p/CGcs5sHBXp5/</td>\n",
       "      <td>126</td>\n",
       "      <td>38707</td>\n",
       "      <td>FW20 Campaign. Kids Collection\\nCreative Direc...</td>\n",
       "      <td>https://scontent-ort2-1.cdninstagram.com/v/t51...</td>\n",
       "      <td>False</td>\n",
       "    </tr>\n",
       "  </tbody>\n",
       "</table>\n",
       "</div>"
      ],
      "text/plain": [
       "                                   post_url num_comments num_likes  \\\n",
       "0  https://www.instagram.com/p/CGkn044ildP/          188     22863   \n",
       "1  https://www.instagram.com/p/CGkWFytikqo/          134     24056   \n",
       "2  https://www.instagram.com/p/CGkBsOBi1ny/          130     22749   \n",
       "3  https://www.instagram.com/p/CGdByXPhb0J/          421     73652   \n",
       "4  https://www.instagram.com/p/CGcs5sHBXp5/          126     38707   \n",
       "\n",
       "                                             caption  \\\n",
       "0                                Dress up #zarawoman   \n",
       "1                                Dress up #zarawoman   \n",
       "2                                Dress up #zarawoman   \n",
       "3  FW20 Campaign. Kids Collection\\nCreative Direc...   \n",
       "4  FW20 Campaign. Kids Collection\\nCreative Direc...   \n",
       "\n",
       "                                           image_url is_video  \n",
       "0  https://scontent-ort2-1.cdninstagram.com/v/t51...     True  \n",
       "1  https://scontent-ort2-1.cdninstagram.com/v/t51...     True  \n",
       "2  https://scontent-ort2-1.cdninstagram.com/v/t51...     True  \n",
       "3  https://scontent-ort2-1.cdninstagram.com/v/t51...    False  \n",
       "4  https://scontent-ort2-1.cdninstagram.com/v/t51...    False  "
      ]
     },
     "execution_count": 37,
     "metadata": {
      "tags": []
     },
     "output_type": "execute_result"
    }
   ],
   "source": [
    "posts_df.head()"
   ]
  },
  {
   "cell_type": "code",
   "execution_count": null,
   "metadata": {
    "colab": {
     "base_uri": "https://localhost:8080/",
     "height": 482
    },
    "id": "ZOrNwb1Zzud0",
    "outputId": "a83543a1-ec53-441d-9fe0-c97309a342cc"
   },
   "outputs": [
    {
     "data": {
      "text/html": [
       "<div>\n",
       "<style scoped>\n",
       "    .dataframe tbody tr th:only-of-type {\n",
       "        vertical-align: middle;\n",
       "    }\n",
       "\n",
       "    .dataframe tbody tr th {\n",
       "        vertical-align: top;\n",
       "    }\n",
       "\n",
       "    .dataframe thead th {\n",
       "        text-align: right;\n",
       "    }\n",
       "</style>\n",
       "<table border=\"1\" class=\"dataframe\">\n",
       "  <thead>\n",
       "    <tr style=\"text-align: right;\">\n",
       "      <th></th>\n",
       "      <th>post_url</th>\n",
       "      <th>num_comments</th>\n",
       "      <th>num_likes</th>\n",
       "      <th>caption</th>\n",
       "      <th>image_url</th>\n",
       "      <th>is_video</th>\n",
       "    </tr>\n",
       "  </thead>\n",
       "  <tbody>\n",
       "    <tr>\n",
       "      <th>3</th>\n",
       "      <td>https://www.instagram.com/p/CGdByXPhb0J/</td>\n",
       "      <td>421</td>\n",
       "      <td>73652</td>\n",
       "      <td>FW20 Campaign. Kids Collection\\nCreative Direc...</td>\n",
       "      <td>https://scontent-ort2-1.cdninstagram.com/v/t51...</td>\n",
       "      <td>False</td>\n",
       "    </tr>\n",
       "    <tr>\n",
       "      <th>4</th>\n",
       "      <td>https://www.instagram.com/p/CGcs5sHBXp5/</td>\n",
       "      <td>126</td>\n",
       "      <td>38707</td>\n",
       "      <td>FW20 Campaign. Kids Collection\\nCreative Direc...</td>\n",
       "      <td>https://scontent-ort2-1.cdninstagram.com/v/t51...</td>\n",
       "      <td>False</td>\n",
       "    </tr>\n",
       "    <tr>\n",
       "      <th>5</th>\n",
       "      <td>https://www.instagram.com/p/CGcEoEkh5hX/</td>\n",
       "      <td>196</td>\n",
       "      <td>56437</td>\n",
       "      <td>FW20 Campaign. Kids Collection\\nCreative Direc...</td>\n",
       "      <td>https://scontent-ort2-1.cdninstagram.com/v/t51...</td>\n",
       "      <td>False</td>\n",
       "    </tr>\n",
       "    <tr>\n",
       "      <th>6</th>\n",
       "      <td>https://www.instagram.com/p/CGacyX7BvYy/</td>\n",
       "      <td>110</td>\n",
       "      <td>34944</td>\n",
       "      <td>FW20 Campaign. Man Collection\\nCreative Direct...</td>\n",
       "      <td>https://scontent-ort2-1.cdninstagram.com/v/t51...</td>\n",
       "      <td>False</td>\n",
       "    </tr>\n",
       "    <tr>\n",
       "      <th>7</th>\n",
       "      <td>https://www.instagram.com/p/CGZ3BIVB_Hb/</td>\n",
       "      <td>189</td>\n",
       "      <td>34440</td>\n",
       "      <td>FW20 Campaign. Man Collection\\nCreative Direct...</td>\n",
       "      <td>https://scontent-ort2-1.cdninstagram.com/v/t51...</td>\n",
       "      <td>False</td>\n",
       "    </tr>\n",
       "  </tbody>\n",
       "</table>\n",
       "</div>"
      ],
      "text/plain": [
       "                                   post_url num_comments num_likes  \\\n",
       "3  https://www.instagram.com/p/CGdByXPhb0J/          421     73652   \n",
       "4  https://www.instagram.com/p/CGcs5sHBXp5/          126     38707   \n",
       "5  https://www.instagram.com/p/CGcEoEkh5hX/          196     56437   \n",
       "6  https://www.instagram.com/p/CGacyX7BvYy/          110     34944   \n",
       "7  https://www.instagram.com/p/CGZ3BIVB_Hb/          189     34440   \n",
       "\n",
       "                                             caption  \\\n",
       "3  FW20 Campaign. Kids Collection\\nCreative Direc...   \n",
       "4  FW20 Campaign. Kids Collection\\nCreative Direc...   \n",
       "5  FW20 Campaign. Kids Collection\\nCreative Direc...   \n",
       "6  FW20 Campaign. Man Collection\\nCreative Direct...   \n",
       "7  FW20 Campaign. Man Collection\\nCreative Direct...   \n",
       "\n",
       "                                           image_url is_video  \n",
       "3  https://scontent-ort2-1.cdninstagram.com/v/t51...    False  \n",
       "4  https://scontent-ort2-1.cdninstagram.com/v/t51...    False  \n",
       "5  https://scontent-ort2-1.cdninstagram.com/v/t51...    False  \n",
       "6  https://scontent-ort2-1.cdninstagram.com/v/t51...    False  \n",
       "7  https://scontent-ort2-1.cdninstagram.com/v/t51...    False  "
      ]
     },
     "execution_count": 38,
     "metadata": {
      "tags": []
     },
     "output_type": "execute_result"
    }
   ],
   "source": [
    "#filtering to look at post urls which are only images and NOT videos\n",
    "\n",
    "mask = (posts_df['is_video'] == False) \n",
    "img_posts_df = posts_df[mask]\n",
    "img_posts_df.head()"
   ]
  },
  {
   "cell_type": "code",
   "execution_count": null,
   "metadata": {
    "colab": {
     "base_uri": "https://localhost:8080/",
     "height": 34
    },
    "id": "eLqTXEciz5hn",
    "outputId": "6281fc4f-3b64-4e52-e3d1-3d1235cb6194"
   },
   "outputs": [
    {
     "data": {
      "text/plain": [
       "570"
      ]
     },
     "execution_count": 39,
     "metadata": {
      "tags": []
     },
     "output_type": "execute_result"
    }
   ],
   "source": [
    "len(img_posts_df) # There are 572 image posts from the original 700 total."
   ]
  },
  {
   "cell_type": "code",
   "execution_count": 3,
   "metadata": {
    "id": "fPXFIVIo116_"
   },
   "outputs": [],
   "source": [
    "# Google Cloud Vision\n",
    "#pip install --upgrade google-cloud-vision\n",
    "\n",
    "from google.cloud import vision"
   ]
  },
  {
   "cell_type": "markdown",
   "metadata": {
    "id": "FGoY-6WA47NI"
   },
   "source": [
    "Modified to grab the labels"
   ]
  },
  {
   "cell_type": "code",
   "execution_count": 15,
   "metadata": {},
   "outputs": [],
   "source": [
    "posts_df = pd.read_csv('posts_df.csv')"
   ]
  },
  {
   "cell_type": "code",
   "execution_count": 16,
   "metadata": {},
   "outputs": [],
   "source": [
    "mask = (posts_df['is_video'] == False) \n",
    "img_posts_df = posts_df[mask].copy()"
   ]
  },
  {
   "cell_type": "code",
   "execution_count": 17,
   "metadata": {},
   "outputs": [
    {
     "data": {
      "text/html": [
       "<div>\n",
       "<style scoped>\n",
       "    .dataframe tbody tr th:only-of-type {\n",
       "        vertical-align: middle;\n",
       "    }\n",
       "\n",
       "    .dataframe tbody tr th {\n",
       "        vertical-align: top;\n",
       "    }\n",
       "\n",
       "    .dataframe thead th {\n",
       "        text-align: right;\n",
       "    }\n",
       "</style>\n",
       "<table border=\"1\" class=\"dataframe\">\n",
       "  <thead>\n",
       "    <tr style=\"text-align: right;\">\n",
       "      <th></th>\n",
       "      <th>Unnamed: 0</th>\n",
       "      <th>post_url</th>\n",
       "      <th>num_comments</th>\n",
       "      <th>num_likes</th>\n",
       "      <th>caption</th>\n",
       "      <th>image_url</th>\n",
       "      <th>is_video</th>\n",
       "    </tr>\n",
       "  </thead>\n",
       "  <tbody>\n",
       "    <tr>\n",
       "      <th>3</th>\n",
       "      <td>3</td>\n",
       "      <td>https://www.instagram.com/p/CGdByXPhb0J/</td>\n",
       "      <td>421</td>\n",
       "      <td>73652</td>\n",
       "      <td>FW20 Campaign. Kids Collection\\nCreative Direc...</td>\n",
       "      <td>https://scontent-ort2-1.cdninstagram.com/v/t51...</td>\n",
       "      <td>False</td>\n",
       "    </tr>\n",
       "    <tr>\n",
       "      <th>4</th>\n",
       "      <td>4</td>\n",
       "      <td>https://www.instagram.com/p/CGcs5sHBXp5/</td>\n",
       "      <td>126</td>\n",
       "      <td>38707</td>\n",
       "      <td>FW20 Campaign. Kids Collection\\nCreative Direc...</td>\n",
       "      <td>https://scontent-ort2-1.cdninstagram.com/v/t51...</td>\n",
       "      <td>False</td>\n",
       "    </tr>\n",
       "    <tr>\n",
       "      <th>5</th>\n",
       "      <td>5</td>\n",
       "      <td>https://www.instagram.com/p/CGcEoEkh5hX/</td>\n",
       "      <td>196</td>\n",
       "      <td>56437</td>\n",
       "      <td>FW20 Campaign. Kids Collection\\nCreative Direc...</td>\n",
       "      <td>https://scontent-ort2-1.cdninstagram.com/v/t51...</td>\n",
       "      <td>False</td>\n",
       "    </tr>\n",
       "    <tr>\n",
       "      <th>6</th>\n",
       "      <td>6</td>\n",
       "      <td>https://www.instagram.com/p/CGacyX7BvYy/</td>\n",
       "      <td>110</td>\n",
       "      <td>34944</td>\n",
       "      <td>FW20 Campaign. Man Collection\\nCreative Direct...</td>\n",
       "      <td>https://scontent-ort2-1.cdninstagram.com/v/t51...</td>\n",
       "      <td>False</td>\n",
       "    </tr>\n",
       "    <tr>\n",
       "      <th>7</th>\n",
       "      <td>7</td>\n",
       "      <td>https://www.instagram.com/p/CGZ3BIVB_Hb/</td>\n",
       "      <td>189</td>\n",
       "      <td>34440</td>\n",
       "      <td>FW20 Campaign. Man Collection\\nCreative Direct...</td>\n",
       "      <td>https://scontent-ort2-1.cdninstagram.com/v/t51...</td>\n",
       "      <td>False</td>\n",
       "    </tr>\n",
       "  </tbody>\n",
       "</table>\n",
       "</div>"
      ],
      "text/plain": [
       "   Unnamed: 0                                  post_url  num_comments  \\\n",
       "3           3  https://www.instagram.com/p/CGdByXPhb0J/           421   \n",
       "4           4  https://www.instagram.com/p/CGcs5sHBXp5/           126   \n",
       "5           5  https://www.instagram.com/p/CGcEoEkh5hX/           196   \n",
       "6           6  https://www.instagram.com/p/CGacyX7BvYy/           110   \n",
       "7           7  https://www.instagram.com/p/CGZ3BIVB_Hb/           189   \n",
       "\n",
       "   num_likes                                            caption  \\\n",
       "3      73652  FW20 Campaign. Kids Collection\\nCreative Direc...   \n",
       "4      38707  FW20 Campaign. Kids Collection\\nCreative Direc...   \n",
       "5      56437  FW20 Campaign. Kids Collection\\nCreative Direc...   \n",
       "6      34944  FW20 Campaign. Man Collection\\nCreative Direct...   \n",
       "7      34440  FW20 Campaign. Man Collection\\nCreative Direct...   \n",
       "\n",
       "                                           image_url  is_video  \n",
       "3  https://scontent-ort2-1.cdninstagram.com/v/t51...     False  \n",
       "4  https://scontent-ort2-1.cdninstagram.com/v/t51...     False  \n",
       "5  https://scontent-ort2-1.cdninstagram.com/v/t51...     False  \n",
       "6  https://scontent-ort2-1.cdninstagram.com/v/t51...     False  \n",
       "7  https://scontent-ort2-1.cdninstagram.com/v/t51...     False  "
      ]
     },
     "execution_count": 17,
     "metadata": {},
     "output_type": "execute_result"
    }
   ],
   "source": [
    "img_posts_df.head()"
   ]
  },
  {
   "cell_type": "code",
   "execution_count": 5,
   "metadata": {},
   "outputs": [],
   "source": [
    "#pip install --upgrade google-cloud-storage"
   ]
  },
  {
   "cell_type": "code",
   "execution_count": 47,
   "metadata": {},
   "outputs": [],
   "source": [
    "#Instagram Image Labels-a3d885a11705.json"
   ]
  },
  {
   "cell_type": "code",
   "execution_count": 11,
   "metadata": {},
   "outputs": [],
   "source": [
    "import os\n",
    "credential_path = \"insta-labels-49a2c1f81040.json\"\n",
    "os.environ['GOOGLE_APPLICATION_CREDENTIALS'] = credential_path"
   ]
  },
  {
   "cell_type": "code",
   "execution_count": 42,
   "metadata": {},
   "outputs": [],
   "source": [
    "import numpy as np"
   ]
  },
  {
   "cell_type": "code",
   "execution_count": 45,
   "metadata": {},
   "outputs": [],
   "source": [
    "def get_labels_url(url):\n",
    "    #Modified code from: https://cloud.google.com/vision/docs/labels\n",
    "    #Now returns a list of labels instead of printing them\n",
    "    from google.cloud import vision\n",
    "    client = vision.ImageAnnotatorClient()\n",
    "    image = vision.Image()\n",
    "    \n",
    "    #Try and except block. Any image url that google can't access returns NaN\n",
    "    try:\n",
    "        image.source.image_uri = url\n",
    "\n",
    "        response = client.label_detection(image=image)\n",
    "        labels = response.label_annotations\n",
    "    \n",
    "        #Create an empty label list\n",
    "        label_list = []\n",
    "        #Iterate through the cloud detected labels and append it to the label list\n",
    "        for label in labels:\n",
    "            label_list.append(label.description)\n",
    "    except:\n",
    "        return np.Nan\n",
    "\n",
    "    #Return the label list.\n",
    "    return label_list"
   ]
  },
  {
   "cell_type": "code",
   "execution_count": 47,
   "metadata": {},
   "outputs": [
    {
     "name": "stderr",
     "output_type": "stream",
     "text": [
      "<ipython-input-47-fe1a99cdc5a2>:1: SettingWithCopyWarning: \n",
      "A value is trying to be set on a copy of a slice from a DataFrame.\n",
      "Try using .loc[row_indexer,col_indexer] = value instead\n",
      "\n",
      "See the caveats in the documentation: https://pandas.pydata.org/pandas-docs/stable/user_guide/indexing.html#returning-a-view-versus-a-copy\n",
      "  img_posts_df['labels'] = img_posts_df['image_url'].apply(get_labels_url)\n"
     ]
    },
    {
     "data": {
      "text/html": [
       "<div>\n",
       "<style scoped>\n",
       "    .dataframe tbody tr th:only-of-type {\n",
       "        vertical-align: middle;\n",
       "    }\n",
       "\n",
       "    .dataframe tbody tr th {\n",
       "        vertical-align: top;\n",
       "    }\n",
       "\n",
       "    .dataframe thead th {\n",
       "        text-align: right;\n",
       "    }\n",
       "</style>\n",
       "<table border=\"1\" class=\"dataframe\">\n",
       "  <thead>\n",
       "    <tr style=\"text-align: right;\">\n",
       "      <th></th>\n",
       "      <th>Unnamed: 0</th>\n",
       "      <th>post_url</th>\n",
       "      <th>num_comments</th>\n",
       "      <th>num_likes</th>\n",
       "      <th>caption</th>\n",
       "      <th>image_url</th>\n",
       "      <th>is_video</th>\n",
       "      <th>labels</th>\n",
       "    </tr>\n",
       "  </thead>\n",
       "  <tbody>\n",
       "    <tr>\n",
       "      <th>3</th>\n",
       "      <td>3</td>\n",
       "      <td>https://www.instagram.com/p/CGdByXPhb0J/</td>\n",
       "      <td>421</td>\n",
       "      <td>73652</td>\n",
       "      <td>FW20 Campaign. Kids Collection\\nCreative Direc...</td>\n",
       "      <td>https://scontent-ort2-1.cdninstagram.com/v/t51...</td>\n",
       "      <td>False</td>\n",
       "      <td>[Clothing, Fashion, Outerwear, Fur, Street fas...</td>\n",
       "    </tr>\n",
       "    <tr>\n",
       "      <th>4</th>\n",
       "      <td>4</td>\n",
       "      <td>https://www.instagram.com/p/CGcs5sHBXp5/</td>\n",
       "      <td>126</td>\n",
       "      <td>38707</td>\n",
       "      <td>FW20 Campaign. Kids Collection\\nCreative Direc...</td>\n",
       "      <td>https://scontent-ort2-1.cdninstagram.com/v/t51...</td>\n",
       "      <td>False</td>\n",
       "      <td>[]</td>\n",
       "    </tr>\n",
       "    <tr>\n",
       "      <th>5</th>\n",
       "      <td>5</td>\n",
       "      <td>https://www.instagram.com/p/CGcEoEkh5hX/</td>\n",
       "      <td>196</td>\n",
       "      <td>56437</td>\n",
       "      <td>FW20 Campaign. Kids Collection\\nCreative Direc...</td>\n",
       "      <td>https://scontent-ort2-1.cdninstagram.com/v/t51...</td>\n",
       "      <td>False</td>\n",
       "      <td>[Cool, Fashion, Jeans, Sitting, Denim, Shoe, S...</td>\n",
       "    </tr>\n",
       "    <tr>\n",
       "      <th>6</th>\n",
       "      <td>6</td>\n",
       "      <td>https://www.instagram.com/p/CGacyX7BvYy/</td>\n",
       "      <td>110</td>\n",
       "      <td>34944</td>\n",
       "      <td>FW20 Campaign. Man Collection\\nCreative Direct...</td>\n",
       "      <td>https://scontent-ort2-1.cdninstagram.com/v/t51...</td>\n",
       "      <td>False</td>\n",
       "      <td>[Hair, Face, Hairstyle, Eyebrow, Forehead, Chi...</td>\n",
       "    </tr>\n",
       "    <tr>\n",
       "      <th>7</th>\n",
       "      <td>7</td>\n",
       "      <td>https://www.instagram.com/p/CGZ3BIVB_Hb/</td>\n",
       "      <td>189</td>\n",
       "      <td>34440</td>\n",
       "      <td>FW20 Campaign. Man Collection\\nCreative Direct...</td>\n",
       "      <td>https://scontent-ort2-1.cdninstagram.com/v/t51...</td>\n",
       "      <td>False</td>\n",
       "      <td>[]</td>\n",
       "    </tr>\n",
       "  </tbody>\n",
       "</table>\n",
       "</div>"
      ],
      "text/plain": [
       "   Unnamed: 0                                  post_url  num_comments  \\\n",
       "3           3  https://www.instagram.com/p/CGdByXPhb0J/           421   \n",
       "4           4  https://www.instagram.com/p/CGcs5sHBXp5/           126   \n",
       "5           5  https://www.instagram.com/p/CGcEoEkh5hX/           196   \n",
       "6           6  https://www.instagram.com/p/CGacyX7BvYy/           110   \n",
       "7           7  https://www.instagram.com/p/CGZ3BIVB_Hb/           189   \n",
       "\n",
       "   num_likes                                            caption  \\\n",
       "3      73652  FW20 Campaign. Kids Collection\\nCreative Direc...   \n",
       "4      38707  FW20 Campaign. Kids Collection\\nCreative Direc...   \n",
       "5      56437  FW20 Campaign. Kids Collection\\nCreative Direc...   \n",
       "6      34944  FW20 Campaign. Man Collection\\nCreative Direct...   \n",
       "7      34440  FW20 Campaign. Man Collection\\nCreative Direct...   \n",
       "\n",
       "                                           image_url  is_video  \\\n",
       "3  https://scontent-ort2-1.cdninstagram.com/v/t51...     False   \n",
       "4  https://scontent-ort2-1.cdninstagram.com/v/t51...     False   \n",
       "5  https://scontent-ort2-1.cdninstagram.com/v/t51...     False   \n",
       "6  https://scontent-ort2-1.cdninstagram.com/v/t51...     False   \n",
       "7  https://scontent-ort2-1.cdninstagram.com/v/t51...     False   \n",
       "\n",
       "                                              labels  \n",
       "3  [Clothing, Fashion, Outerwear, Fur, Street fas...  \n",
       "4                                                 []  \n",
       "5  [Cool, Fashion, Jeans, Sitting, Denim, Shoe, S...  \n",
       "6  [Hair, Face, Hairstyle, Eyebrow, Forehead, Chi...  \n",
       "7                                                 []  "
      ]
     },
     "execution_count": 47,
     "metadata": {},
     "output_type": "execute_result"
    }
   ],
   "source": [
    "img_posts_df['labels'] = img_posts_df['image_url'].apply(get_labels_url)\n",
    "img_posts_df.head()"
   ]
  },
  {
   "cell_type": "code",
   "execution_count": 137,
   "metadata": {
    "scrolled": true
   },
   "outputs": [
    {
     "name": "stderr",
     "output_type": "stream",
     "text": [
      "<ipython-input-137-a4be7c0bdcdf>:1: SettingWithCopyWarning: \n",
      "A value is trying to be set on a copy of a slice from a DataFrame.\n",
      "Try using .loc[row_indexer,col_indexer] = value instead\n",
      "\n",
      "See the caveats in the documentation: https://pandas.pydata.org/pandas-docs/stable/user_guide/indexing.html#returning-a-view-versus-a-copy\n",
      "  img_posts_df['labels_str'] = img_posts_df['labels'].apply(lambda x: ' '.join(x))\n"
     ]
    }
   ],
   "source": [
    "img_posts_df['labels_str'] = img_posts_df['labels'].apply(lambda x: ' '.join(x))"
   ]
  },
  {
   "cell_type": "code",
   "execution_count": 141,
   "metadata": {
    "id": "zvd3G-i8v0Mz"
   },
   "outputs": [],
   "source": [
    "img_posts_df.to_csv('img_posts_z.csv')"
   ]
  },
  {
   "cell_type": "markdown",
   "metadata": {
    "id": "C0kJYavVs-G_"
   },
   "source": [
    "# Task A. Create a metric for engagement by using a weighted sum of # likes and # comments.However, first normalize # likes and # comments such that they both have values between 0 and 1. You can scale the # likes by dividing by the maximum # likes (for a post) in your data and do the same for # comments, so that # likes and comments will be in the range [0,1]. Now create an engagement score = .4*# likes (normalized) + .6*# comments (normalized). Define High (1) and Low (0) engagement based on whether the engagement score is above or below the median value. \n"
   ]
  },
  {
   "cell_type": "code",
   "execution_count": 159,
   "metadata": {
    "colab": {
     "base_uri": "https://localhost:8080/",
     "height": 482
    },
    "id": "_h7xDBiqv8Gt",
    "outputId": "2267ca7a-f0a5-4fe2-944e-07bed87a355f"
   },
   "outputs": [
    {
     "data": {
      "text/html": [
       "<div>\n",
       "<style scoped>\n",
       "    .dataframe tbody tr th:only-of-type {\n",
       "        vertical-align: middle;\n",
       "    }\n",
       "\n",
       "    .dataframe tbody tr th {\n",
       "        vertical-align: top;\n",
       "    }\n",
       "\n",
       "    .dataframe thead th {\n",
       "        text-align: right;\n",
       "    }\n",
       "</style>\n",
       "<table border=\"1\" class=\"dataframe\">\n",
       "  <thead>\n",
       "    <tr style=\"text-align: right;\">\n",
       "      <th></th>\n",
       "      <th>Unnamed: 0</th>\n",
       "      <th>Unnamed: 0.1</th>\n",
       "      <th>post_url</th>\n",
       "      <th>num_comments</th>\n",
       "      <th>num_likes</th>\n",
       "      <th>caption</th>\n",
       "      <th>image_url</th>\n",
       "      <th>is_video</th>\n",
       "      <th>labels</th>\n",
       "      <th>labels_str</th>\n",
       "    </tr>\n",
       "  </thead>\n",
       "  <tbody>\n",
       "    <tr>\n",
       "      <th>0</th>\n",
       "      <td>3</td>\n",
       "      <td>3</td>\n",
       "      <td>https://www.instagram.com/p/CGdByXPhb0J/</td>\n",
       "      <td>421</td>\n",
       "      <td>73652</td>\n",
       "      <td>FW20 Campaign. Kids Collection\\nCreative Direc...</td>\n",
       "      <td>https://scontent-ort2-1.cdninstagram.com/v/t51...</td>\n",
       "      <td>False</td>\n",
       "      <td>['Clothing', 'Fashion', 'Outerwear', 'Fur', 'S...</td>\n",
       "      <td>Clothing Fashion Outerwear Fur Street fashion ...</td>\n",
       "    </tr>\n",
       "    <tr>\n",
       "      <th>1</th>\n",
       "      <td>4</td>\n",
       "      <td>4</td>\n",
       "      <td>https://www.instagram.com/p/CGcs5sHBXp5/</td>\n",
       "      <td>126</td>\n",
       "      <td>38707</td>\n",
       "      <td>FW20 Campaign. Kids Collection\\nCreative Direc...</td>\n",
       "      <td>https://scontent-ort2-1.cdninstagram.com/v/t51...</td>\n",
       "      <td>False</td>\n",
       "      <td>[]</td>\n",
       "      <td>NaN</td>\n",
       "    </tr>\n",
       "    <tr>\n",
       "      <th>2</th>\n",
       "      <td>5</td>\n",
       "      <td>5</td>\n",
       "      <td>https://www.instagram.com/p/CGcEoEkh5hX/</td>\n",
       "      <td>196</td>\n",
       "      <td>56437</td>\n",
       "      <td>FW20 Campaign. Kids Collection\\nCreative Direc...</td>\n",
       "      <td>https://scontent-ort2-1.cdninstagram.com/v/t51...</td>\n",
       "      <td>False</td>\n",
       "      <td>['Cool', 'Fashion', 'Jeans', 'Sitting', 'Denim...</td>\n",
       "      <td>Cool Fashion Jeans Sitting Denim Shoe Style</td>\n",
       "    </tr>\n",
       "    <tr>\n",
       "      <th>3</th>\n",
       "      <td>6</td>\n",
       "      <td>6</td>\n",
       "      <td>https://www.instagram.com/p/CGacyX7BvYy/</td>\n",
       "      <td>110</td>\n",
       "      <td>34944</td>\n",
       "      <td>FW20 Campaign. Man Collection\\nCreative Direct...</td>\n",
       "      <td>https://scontent-ort2-1.cdninstagram.com/v/t51...</td>\n",
       "      <td>False</td>\n",
       "      <td>['Hair', 'Face', 'Hairstyle', 'Eyebrow', 'Fore...</td>\n",
       "      <td>Hair Face Hairstyle Eyebrow Forehead Chin Head...</td>\n",
       "    </tr>\n",
       "    <tr>\n",
       "      <th>4</th>\n",
       "      <td>7</td>\n",
       "      <td>7</td>\n",
       "      <td>https://www.instagram.com/p/CGZ3BIVB_Hb/</td>\n",
       "      <td>189</td>\n",
       "      <td>34440</td>\n",
       "      <td>FW20 Campaign. Man Collection\\nCreative Direct...</td>\n",
       "      <td>https://scontent-ort2-1.cdninstagram.com/v/t51...</td>\n",
       "      <td>False</td>\n",
       "      <td>[]</td>\n",
       "      <td>NaN</td>\n",
       "    </tr>\n",
       "  </tbody>\n",
       "</table>\n",
       "</div>"
      ],
      "text/plain": [
       "   Unnamed: 0  Unnamed: 0.1                                  post_url  \\\n",
       "0           3             3  https://www.instagram.com/p/CGdByXPhb0J/   \n",
       "1           4             4  https://www.instagram.com/p/CGcs5sHBXp5/   \n",
       "2           5             5  https://www.instagram.com/p/CGcEoEkh5hX/   \n",
       "3           6             6  https://www.instagram.com/p/CGacyX7BvYy/   \n",
       "4           7             7  https://www.instagram.com/p/CGZ3BIVB_Hb/   \n",
       "\n",
       "   num_comments  num_likes                                            caption  \\\n",
       "0           421      73652  FW20 Campaign. Kids Collection\\nCreative Direc...   \n",
       "1           126      38707  FW20 Campaign. Kids Collection\\nCreative Direc...   \n",
       "2           196      56437  FW20 Campaign. Kids Collection\\nCreative Direc...   \n",
       "3           110      34944  FW20 Campaign. Man Collection\\nCreative Direct...   \n",
       "4           189      34440  FW20 Campaign. Man Collection\\nCreative Direct...   \n",
       "\n",
       "                                           image_url  is_video  \\\n",
       "0  https://scontent-ort2-1.cdninstagram.com/v/t51...     False   \n",
       "1  https://scontent-ort2-1.cdninstagram.com/v/t51...     False   \n",
       "2  https://scontent-ort2-1.cdninstagram.com/v/t51...     False   \n",
       "3  https://scontent-ort2-1.cdninstagram.com/v/t51...     False   \n",
       "4  https://scontent-ort2-1.cdninstagram.com/v/t51...     False   \n",
       "\n",
       "                                              labels  \\\n",
       "0  ['Clothing', 'Fashion', 'Outerwear', 'Fur', 'S...   \n",
       "1                                                 []   \n",
       "2  ['Cool', 'Fashion', 'Jeans', 'Sitting', 'Denim...   \n",
       "3  ['Hair', 'Face', 'Hairstyle', 'Eyebrow', 'Fore...   \n",
       "4                                                 []   \n",
       "\n",
       "                                          labels_str  \n",
       "0  Clothing Fashion Outerwear Fur Street fashion ...  \n",
       "1                                                NaN  \n",
       "2        Cool Fashion Jeans Sitting Denim Shoe Style  \n",
       "3  Hair Face Hairstyle Eyebrow Forehead Chin Head...  \n",
       "4                                                NaN  "
      ]
     },
     "execution_count": 159,
     "metadata": {},
     "output_type": "execute_result"
    }
   ],
   "source": [
    "df_z = pd.read_csv('img_posts_z.csv')\n",
    "df_z.head()"
   ]
  },
  {
   "cell_type": "code",
   "execution_count": 160,
   "metadata": {
    "id": "2GRD9FO77HfK"
   },
   "outputs": [],
   "source": [
    "df_z.loc[:,('comment_norm')] = df_z['num_comments']/max(df_z['num_comments']) #normalizing comment count\n"
   ]
  },
  {
   "cell_type": "code",
   "execution_count": 161,
   "metadata": {
    "id": "wrPj5-powYrp"
   },
   "outputs": [],
   "source": [
    "df_z.loc[:,('likes_norm')] = df_z.loc[:,('num_likes')]/max(df_z['num_likes']) #normalizing likes count\n"
   ]
  },
  {
   "cell_type": "code",
   "execution_count": 162,
   "metadata": {
    "id": "GKSz4m_JwgKW"
   },
   "outputs": [],
   "source": [
    " .4# likes (normalized) + .6# comments (normalized)\n",
    "\n",
    " df_z.loc[:,('engage_scores')] = ((0.4* df_z.loc[:,('likes_norm')]) + \n",
    "                                 (0.6* df_z.loc[:,('comment_norm')]))"
   ]
  },
  {
   "cell_type": "code",
   "execution_count": 163,
   "metadata": {
    "id": "gW0_-pwQxNt2"
   },
   "outputs": [],
   "source": [
    "# Assign values of 1 and 0 ...\n",
    "\n",
    "center = df_z['engage_scores'].median()\n",
    "#center\n",
    "df_z['engagement_metr'] = np.where( df_z['engage_scores'] >= center, 1, 0)\n",
    "\n",
    "# value counts of 1 and 0\n",
    "df_z['engagement_metr'].value_counts()\n",
    "\n",
    "df_z.to_csv('metricscore.csv')"
   ]
  },
  {
   "cell_type": "code",
   "execution_count": 164,
   "metadata": {
    "colab": {
     "base_uri": "https://localhost:8080/",
     "height": 482
    },
    "id": "cVexJwdByiUJ",
    "outputId": "cfe98f28-9f27-4003-c420-395e8f4f405c"
   },
   "outputs": [
    {
     "data": {
      "text/html": [
       "<div>\n",
       "<style scoped>\n",
       "    .dataframe tbody tr th:only-of-type {\n",
       "        vertical-align: middle;\n",
       "    }\n",
       "\n",
       "    .dataframe tbody tr th {\n",
       "        vertical-align: top;\n",
       "    }\n",
       "\n",
       "    .dataframe thead th {\n",
       "        text-align: right;\n",
       "    }\n",
       "</style>\n",
       "<table border=\"1\" class=\"dataframe\">\n",
       "  <thead>\n",
       "    <tr style=\"text-align: right;\">\n",
       "      <th></th>\n",
       "      <th>Unnamed: 0</th>\n",
       "      <th>Unnamed: 0.1</th>\n",
       "      <th>post_url</th>\n",
       "      <th>num_comments</th>\n",
       "      <th>num_likes</th>\n",
       "      <th>caption</th>\n",
       "      <th>image_url</th>\n",
       "      <th>is_video</th>\n",
       "      <th>labels</th>\n",
       "      <th>labels_str</th>\n",
       "      <th>comment_norm</th>\n",
       "      <th>likes_norm</th>\n",
       "      <th>engage_scores</th>\n",
       "      <th>engagement_metr</th>\n",
       "    </tr>\n",
       "  </thead>\n",
       "  <tbody>\n",
       "    <tr>\n",
       "      <th>0</th>\n",
       "      <td>3</td>\n",
       "      <td>3</td>\n",
       "      <td>https://www.instagram.com/p/CGdByXPhb0J/</td>\n",
       "      <td>421</td>\n",
       "      <td>73652</td>\n",
       "      <td>FW20 Campaign. Kids Collection\\nCreative Direc...</td>\n",
       "      <td>https://scontent-ort2-1.cdninstagram.com/v/t51...</td>\n",
       "      <td>False</td>\n",
       "      <td>['Clothing', 'Fashion', 'Outerwear', 'Fur', 'S...</td>\n",
       "      <td>Clothing Fashion Outerwear Fur Street fashion ...</td>\n",
       "      <td>0.129698</td>\n",
       "      <td>0.251290</td>\n",
       "      <td>0.178335</td>\n",
       "      <td>1</td>\n",
       "    </tr>\n",
       "    <tr>\n",
       "      <th>1</th>\n",
       "      <td>4</td>\n",
       "      <td>4</td>\n",
       "      <td>https://www.instagram.com/p/CGcs5sHBXp5/</td>\n",
       "      <td>126</td>\n",
       "      <td>38707</td>\n",
       "      <td>FW20 Campaign. Kids Collection\\nCreative Direc...</td>\n",
       "      <td>https://scontent-ort2-1.cdninstagram.com/v/t51...</td>\n",
       "      <td>False</td>\n",
       "      <td>[]</td>\n",
       "      <td>NaN</td>\n",
       "      <td>0.038817</td>\n",
       "      <td>0.132063</td>\n",
       "      <td>0.076115</td>\n",
       "      <td>0</td>\n",
       "    </tr>\n",
       "    <tr>\n",
       "      <th>2</th>\n",
       "      <td>5</td>\n",
       "      <td>5</td>\n",
       "      <td>https://www.instagram.com/p/CGcEoEkh5hX/</td>\n",
       "      <td>196</td>\n",
       "      <td>56437</td>\n",
       "      <td>FW20 Campaign. Kids Collection\\nCreative Direc...</td>\n",
       "      <td>https://scontent-ort2-1.cdninstagram.com/v/t51...</td>\n",
       "      <td>False</td>\n",
       "      <td>['Cool', 'Fashion', 'Jeans', 'Sitting', 'Denim...</td>\n",
       "      <td>Cool Fashion Jeans Sitting Denim Shoe Style</td>\n",
       "      <td>0.060382</td>\n",
       "      <td>0.192555</td>\n",
       "      <td>0.113251</td>\n",
       "      <td>0</td>\n",
       "    </tr>\n",
       "    <tr>\n",
       "      <th>3</th>\n",
       "      <td>6</td>\n",
       "      <td>6</td>\n",
       "      <td>https://www.instagram.com/p/CGacyX7BvYy/</td>\n",
       "      <td>110</td>\n",
       "      <td>34944</td>\n",
       "      <td>FW20 Campaign. Man Collection\\nCreative Direct...</td>\n",
       "      <td>https://scontent-ort2-1.cdninstagram.com/v/t51...</td>\n",
       "      <td>False</td>\n",
       "      <td>['Hair', 'Face', 'Hairstyle', 'Eyebrow', 'Fore...</td>\n",
       "      <td>Hair Face Hairstyle Eyebrow Forehead Chin Head...</td>\n",
       "      <td>0.033888</td>\n",
       "      <td>0.119224</td>\n",
       "      <td>0.068022</td>\n",
       "      <td>0</td>\n",
       "    </tr>\n",
       "    <tr>\n",
       "      <th>4</th>\n",
       "      <td>7</td>\n",
       "      <td>7</td>\n",
       "      <td>https://www.instagram.com/p/CGZ3BIVB_Hb/</td>\n",
       "      <td>189</td>\n",
       "      <td>34440</td>\n",
       "      <td>FW20 Campaign. Man Collection\\nCreative Direct...</td>\n",
       "      <td>https://scontent-ort2-1.cdninstagram.com/v/t51...</td>\n",
       "      <td>False</td>\n",
       "      <td>[]</td>\n",
       "      <td>NaN</td>\n",
       "      <td>0.058226</td>\n",
       "      <td>0.117504</td>\n",
       "      <td>0.081937</td>\n",
       "      <td>0</td>\n",
       "    </tr>\n",
       "  </tbody>\n",
       "</table>\n",
       "</div>"
      ],
      "text/plain": [
       "   Unnamed: 0  Unnamed: 0.1                                  post_url  \\\n",
       "0           3             3  https://www.instagram.com/p/CGdByXPhb0J/   \n",
       "1           4             4  https://www.instagram.com/p/CGcs5sHBXp5/   \n",
       "2           5             5  https://www.instagram.com/p/CGcEoEkh5hX/   \n",
       "3           6             6  https://www.instagram.com/p/CGacyX7BvYy/   \n",
       "4           7             7  https://www.instagram.com/p/CGZ3BIVB_Hb/   \n",
       "\n",
       "   num_comments  num_likes                                            caption  \\\n",
       "0           421      73652  FW20 Campaign. Kids Collection\\nCreative Direc...   \n",
       "1           126      38707  FW20 Campaign. Kids Collection\\nCreative Direc...   \n",
       "2           196      56437  FW20 Campaign. Kids Collection\\nCreative Direc...   \n",
       "3           110      34944  FW20 Campaign. Man Collection\\nCreative Direct...   \n",
       "4           189      34440  FW20 Campaign. Man Collection\\nCreative Direct...   \n",
       "\n",
       "                                           image_url  is_video  \\\n",
       "0  https://scontent-ort2-1.cdninstagram.com/v/t51...     False   \n",
       "1  https://scontent-ort2-1.cdninstagram.com/v/t51...     False   \n",
       "2  https://scontent-ort2-1.cdninstagram.com/v/t51...     False   \n",
       "3  https://scontent-ort2-1.cdninstagram.com/v/t51...     False   \n",
       "4  https://scontent-ort2-1.cdninstagram.com/v/t51...     False   \n",
       "\n",
       "                                              labels  \\\n",
       "0  ['Clothing', 'Fashion', 'Outerwear', 'Fur', 'S...   \n",
       "1                                                 []   \n",
       "2  ['Cool', 'Fashion', 'Jeans', 'Sitting', 'Denim...   \n",
       "3  ['Hair', 'Face', 'Hairstyle', 'Eyebrow', 'Fore...   \n",
       "4                                                 []   \n",
       "\n",
       "                                          labels_str  comment_norm  \\\n",
       "0  Clothing Fashion Outerwear Fur Street fashion ...      0.129698   \n",
       "1                                                NaN      0.038817   \n",
       "2        Cool Fashion Jeans Sitting Denim Shoe Style      0.060382   \n",
       "3  Hair Face Hairstyle Eyebrow Forehead Chin Head...      0.033888   \n",
       "4                                                NaN      0.058226   \n",
       "\n",
       "   likes_norm  engage_scores  engagement_metr  \n",
       "0    0.251290       0.178335                1  \n",
       "1    0.132063       0.076115                0  \n",
       "2    0.192555       0.113251                0  \n",
       "3    0.119224       0.068022                0  \n",
       "4    0.117504       0.081937                0  "
      ]
     },
     "execution_count": 164,
     "metadata": {},
     "output_type": "execute_result"
    }
   ],
   "source": [
    "df_z.head()"
   ]
  },
  {
   "cell_type": "markdown",
   "metadata": {
    "id": "e_IkdCoBtGLQ"
   },
   "source": [
    "# Task B. Using TF-IDF scores, run a logistic regression with engagement (binary) as the dependent variable, and the image labels as independent variables. What is the accuracy (show the confusion matrix)?What accuracy do you get by using the post caption words as the independent variables instead of image labels? Finally, what accuracy do you get by combining the image labels and post captions and using them as independent variables? What can you conclude from your analysis?"
   ]
  },
  {
   "cell_type": "markdown",
   "metadata": {
    "id": "AJs5D7cGtGgz"
   },
   "source": []
  },
  {
   "cell_type": "markdown",
   "metadata": {
    "id": "kQfT9FyxtLGa"
   },
   "source": [
    "# Task C. Perform topic modeling (LDA) on the image labels. Choose an appropriate number of topics. You may want to start with 4, but adjust the number up or down depending on the word distributions you get. LDA should produce two outputs: (i) A file showing which words load on which topics, and (ii) a file showing topic weights for each image. \n",
    "\n",
    "## Now take the quartiles with highest and lowest engagement scores. What are the differences in the average topic weights of pictures across the two quartiles (e.g., greater proportion of some topics in highest engagement quartile)? Show the main results in a table. "
   ]
  },
  {
   "cell_type": "code",
   "execution_count": 194,
   "metadata": {},
   "outputs": [],
   "source": [
    "#pip install --upgrade gensim"
   ]
  },
  {
   "cell_type": "code",
   "execution_count": 195,
   "metadata": {},
   "outputs": [],
   "source": [
    "from gensim import corpora, models"
   ]
  },
  {
   "cell_type": "code",
   "execution_count": 166,
   "metadata": {},
   "outputs": [],
   "source": [
    "#Drop random column names.\n",
    "df_z = df_z.drop(columns = ['Unnamed: 0','Unnamed: 0.1'])"
   ]
  },
  {
   "cell_type": "code",
   "execution_count": 181,
   "metadata": {},
   "outputs": [],
   "source": [
    "#Drop missing values\n",
    "df_z = df_z.dropna(subset = ['labels_str']).copy()"
   ]
  },
  {
   "cell_type": "markdown",
   "metadata": {},
   "source": [
    "Pre processing the labels. Since for some reason when reading from csv, it put the labels back into string format. So before topic modeling, let's pre process and clean up the labels again."
   ]
  },
  {
   "cell_type": "code",
   "execution_count": 188,
   "metadata": {},
   "outputs": [],
   "source": [
    "#Convert labels to lower case. \n",
    "#Do not need to remove punctuation and other preprocessing steps since labels were inputted in very nicely.\n",
    "df_z['labels_str'] = df_z['labels_str'].apply(lambda x: x.lower())"
   ]
  },
  {
   "cell_type": "code",
   "execution_count": 177,
   "metadata": {},
   "outputs": [],
   "source": [
    "from nltk.tokenize import sent_tokenize, word_tokenize\n",
    "def get_tokens(entry):\n",
    "    #Use nltk to get word tokens.\n",
    "    tokens = word_tokenize(entry)\n",
    "    \n",
    "    #Tokenize the word here. Returns the word if the word is a string. .isalpha() is a method that does this.\n",
    "    token_words = [w for w in tokens if w.isalpha()]\n",
    "    \n",
    "    return token_words"
   ]
  },
  {
   "cell_type": "code",
   "execution_count": 199,
   "metadata": {},
   "outputs": [],
   "source": [
    "df_z['labels_tokens'] = df_z['labels_str'].apply(get_tokens)"
   ]
  },
  {
   "cell_type": "markdown",
   "metadata": {},
   "source": [
    "Notably there are some labels that belong with each other i.e. fashion design. Thus we incorporate bigrams for our LDA."
   ]
  },
  {
   "cell_type": "code",
   "execution_count": 201,
   "metadata": {},
   "outputs": [],
   "source": [
    "def bigrams(words, bi_min=15, tri_min=10):\n",
    "    bigram = models.Phrases(words, min_count = bi_min)\n",
    "    bigram_mod = models.phrases.Phraser(bigram)\n",
    "    return bigram_mod"
   ]
  },
  {
   "cell_type": "code",
   "execution_count": 204,
   "metadata": {},
   "outputs": [],
   "source": [
    "def get_corpus(df):\n",
    "    \n",
    "    #Use bigram function earlier.\n",
    "    bigram = bigrams(df.labels_tokens)\n",
    "    bigram = [bigram[review] for review in df.labels_tokens]\n",
    "    #Get id2word dictionary\n",
    "    id2word = corpora.Dictionary(bigram)\n",
    "    id2word.filter_extremes(no_below=10, no_above=0.35)\n",
    "    id2word.compactify()\n",
    "    #Make the corpus\n",
    "    corpus = [id2word.doc2bow(text) for text in bigram]\n",
    "    #Return all three\n",
    "    return corpus, id2word, bigram"
   ]
  },
  {
   "cell_type": "code",
   "execution_count": 205,
   "metadata": {},
   "outputs": [],
   "source": [
    "corpus, id2word, bigram = get_corpus(df_z)"
   ]
  },
  {
   "cell_type": "markdown",
   "metadata": {},
   "source": [
    "For selecting the ideal number of topics we tested out a range of values and arrive at what we think makes sense from the topic printing. We aim to avoid redundancy in this regard."
   ]
  },
  {
   "cell_type": "code",
   "execution_count": 244,
   "metadata": {},
   "outputs": [],
   "source": [
    "num_topics = 5"
   ]
  },
  {
   "cell_type": "code",
   "execution_count": 245,
   "metadata": {},
   "outputs": [],
   "source": [
    "lda_model = models.LdaModel(corpus, num_topics=num_topics, \\\n",
    "                                  id2word=id2word, \\\n",
    "                                  )"
   ]
  },
  {
   "cell_type": "code",
   "execution_count": 246,
   "metadata": {},
   "outputs": [
    {
     "data": {
      "text/plain": [
       "[(0,\n",
       "  '0.075*\"photography\" + 0.059*\"leg\" + 0.047*\"sitting\" + 0.045*\"photo_shoot\" + 0.037*\"shoulder\" + 0.034*\"design\" + 0.033*\"footwear\" + 0.027*\"outerwear\" + 0.025*\"model\" + 0.024*\"monochrome\"'),\n",
       " (1,\n",
       "  '0.054*\"outerwear\" + 0.050*\"model\" + 0.050*\"design\" + 0.034*\"joint\" + 0.033*\"suit\" + 0.033*\"leg\" + 0.031*\"formal_wear\" + 0.030*\"standing\" + 0.027*\"shoulder\" + 0.027*\"photography\"'),\n",
       " (2,\n",
       "  '0.082*\"photography\" + 0.062*\"outerwear\" + 0.042*\"leg\" + 0.033*\"footwear\" + 0.032*\"shoulder\" + 0.031*\"human\" + 0.029*\"sleeve\" + 0.027*\"neck\" + 0.025*\"design\" + 0.023*\"street\"'),\n",
       " (3,\n",
       "  '0.092*\"hair\" + 0.058*\"beauty\" + 0.054*\"hairstyle\" + 0.052*\"photography\" + 0.040*\"face\" + 0.039*\"model\" + 0.032*\"lip\" + 0.027*\"skin\" + 0.027*\"blond\" + 0.025*\"eyebrow\"'),\n",
       " (4,\n",
       "  '0.057*\"outerwear\" + 0.054*\"dress\" + 0.053*\"shoulder\" + 0.045*\"beauty\" + 0.044*\"photography\" + 0.038*\"white\" + 0.037*\"model\" + 0.035*\"standing\" + 0.032*\"sleeve\" + 0.028*\"leg\"')]"
      ]
     },
     "execution_count": 246,
     "metadata": {},
     "output_type": "execute_result"
    }
   ],
   "source": [
    "lda_model.print_topics()"
   ]
  },
  {
   "cell_type": "code",
   "execution_count": 248,
   "metadata": {
    "scrolled": true
   },
   "outputs": [],
   "source": [
    "#Make a dataframe to store the topic and the word weights\n",
    "lda_df = pd.DataFrame(lda_model.show_topics(),columns = ['Topic','Word Weights'])"
   ]
  },
  {
   "cell_type": "code",
   "execution_count": 249,
   "metadata": {},
   "outputs": [
    {
     "data": {
      "text/html": [
       "<div>\n",
       "<style scoped>\n",
       "    .dataframe tbody tr th:only-of-type {\n",
       "        vertical-align: middle;\n",
       "    }\n",
       "\n",
       "    .dataframe tbody tr th {\n",
       "        vertical-align: top;\n",
       "    }\n",
       "\n",
       "    .dataframe thead th {\n",
       "        text-align: right;\n",
       "    }\n",
       "</style>\n",
       "<table border=\"1\" class=\"dataframe\">\n",
       "  <thead>\n",
       "    <tr style=\"text-align: right;\">\n",
       "      <th></th>\n",
       "      <th>Topic</th>\n",
       "      <th>Word Weights</th>\n",
       "    </tr>\n",
       "  </thead>\n",
       "  <tbody>\n",
       "    <tr>\n",
       "      <th>0</th>\n",
       "      <td>0</td>\n",
       "      <td>0.075*\"photography\" + 0.059*\"leg\" + 0.047*\"sit...</td>\n",
       "    </tr>\n",
       "    <tr>\n",
       "      <th>1</th>\n",
       "      <td>1</td>\n",
       "      <td>0.054*\"outerwear\" + 0.050*\"model\" + 0.050*\"des...</td>\n",
       "    </tr>\n",
       "    <tr>\n",
       "      <th>2</th>\n",
       "      <td>2</td>\n",
       "      <td>0.082*\"photography\" + 0.062*\"outerwear\" + 0.04...</td>\n",
       "    </tr>\n",
       "    <tr>\n",
       "      <th>3</th>\n",
       "      <td>3</td>\n",
       "      <td>0.092*\"hair\" + 0.058*\"beauty\" + 0.054*\"hairsty...</td>\n",
       "    </tr>\n",
       "    <tr>\n",
       "      <th>4</th>\n",
       "      <td>4</td>\n",
       "      <td>0.057*\"outerwear\" + 0.054*\"dress\" + 0.053*\"sho...</td>\n",
       "    </tr>\n",
       "  </tbody>\n",
       "</table>\n",
       "</div>"
      ],
      "text/plain": [
       "   Topic                                       Word Weights\n",
       "0      0  0.075*\"photography\" + 0.059*\"leg\" + 0.047*\"sit...\n",
       "1      1  0.054*\"outerwear\" + 0.050*\"model\" + 0.050*\"des...\n",
       "2      2  0.082*\"photography\" + 0.062*\"outerwear\" + 0.04...\n",
       "3      3  0.092*\"hair\" + 0.058*\"beauty\" + 0.054*\"hairsty...\n",
       "4      4  0.057*\"outerwear\" + 0.054*\"dress\" + 0.053*\"sho..."
      ]
     },
     "execution_count": 249,
     "metadata": {},
     "output_type": "execute_result"
    }
   ],
   "source": [
    "lda_df.head()"
   ]
  },
  {
   "cell_type": "code",
   "execution_count": 251,
   "metadata": {},
   "outputs": [],
   "source": [
    "#Store dataframe as a csv\n",
    "#Stores word weights for each topic as a file task.\n",
    "lda_df.to_csv('Word_Weights_for_Topics.csv')"
   ]
  },
  {
   "cell_type": "code",
   "execution_count": 263,
   "metadata": {},
   "outputs": [],
   "source": [
    "image_vecs = []\n",
    "#Iterate through every image in the document and get the vector for the topic weights for each image\n",
    "for i in range(len(df_z.labels_tokens)):\n",
    "    top_topics = lda_model.get_document_topics(corpus[i], minimum_probability=0.0)\n",
    "    topic_vec = [top_topics[i][1] for i in range(len(lda_df))]\n",
    "    image_vecs.append(topic_vec)"
   ]
  },
  {
   "cell_type": "code",
   "execution_count": 268,
   "metadata": {},
   "outputs": [],
   "source": [
    "image_vec_df = pd.DataFrame(image_vecs)\n",
    "image_vec_df.columns = ['topic0','topic1','topic2','topic3','topic4']"
   ]
  },
  {
   "cell_type": "code",
   "execution_count": 273,
   "metadata": {},
   "outputs": [],
   "source": [
    "#Put in the weights for each image in a dataframe\n",
    "df_z_weights =pd.concat([df_z.reset_index(drop=True), image_vec_df.reset_index(drop=True)], axis=1)"
   ]
  },
  {
   "cell_type": "code",
   "execution_count": 274,
   "metadata": {},
   "outputs": [],
   "source": [
    "df_z_weights.to_csv('Image_Topic_Weights.csv')"
   ]
  },
  {
   "cell_type": "code",
   "execution_count": 275,
   "metadata": {},
   "outputs": [],
   "source": [
    "#Use numpy's percentiles to get things into quartiles.\n",
    "q1=np.percentile(df_z_weights.engage_scores, 25) \n",
    "q2=np.percentile(df_z_weights.engage_scores, 50)  \n",
    "q3=np.percentile(df_z_weights.engage_scores, 75)"
   ]
  },
  {
   "cell_type": "code",
   "execution_count": 279,
   "metadata": {},
   "outputs": [],
   "source": [
    "top_quartile = df_z_weights[df_z_weights['engage_scores']>q3]"
   ]
  },
  {
   "cell_type": "code",
   "execution_count": 280,
   "metadata": {},
   "outputs": [
    {
     "data": {
      "text/html": [
       "<div>\n",
       "<style scoped>\n",
       "    .dataframe tbody tr th:only-of-type {\n",
       "        vertical-align: middle;\n",
       "    }\n",
       "\n",
       "    .dataframe tbody tr th {\n",
       "        vertical-align: top;\n",
       "    }\n",
       "\n",
       "    .dataframe thead th {\n",
       "        text-align: right;\n",
       "    }\n",
       "</style>\n",
       "<table border=\"1\" class=\"dataframe\">\n",
       "  <thead>\n",
       "    <tr style=\"text-align: right;\">\n",
       "      <th></th>\n",
       "      <th>post_url</th>\n",
       "      <th>num_comments</th>\n",
       "      <th>num_likes</th>\n",
       "      <th>caption</th>\n",
       "      <th>image_url</th>\n",
       "      <th>is_video</th>\n",
       "      <th>labels</th>\n",
       "      <th>labels_str</th>\n",
       "      <th>comment_norm</th>\n",
       "      <th>likes_norm</th>\n",
       "      <th>engage_scores</th>\n",
       "      <th>engagement_metr</th>\n",
       "      <th>labels_tokens</th>\n",
       "      <th>topic0</th>\n",
       "      <th>topic1</th>\n",
       "      <th>topic2</th>\n",
       "      <th>topic3</th>\n",
       "      <th>topic4</th>\n",
       "    </tr>\n",
       "  </thead>\n",
       "  <tbody>\n",
       "    <tr>\n",
       "      <th>121</th>\n",
       "      <td>https://www.instagram.com/p/CA5y1ovhdXV/</td>\n",
       "      <td>3246</td>\n",
       "      <td>85040</td>\n",
       "      <td>We stand for equality</td>\n",
       "      <td>https://scontent-ort2-1.cdninstagram.com/v/t51...</td>\n",
       "      <td>False</td>\n",
       "      <td>[text, black, font, darkness, light, logo, sky...</td>\n",
       "      <td>text black font darkness light logo black-and-...</td>\n",
       "      <td>1.000000</td>\n",
       "      <td>0.290144</td>\n",
       "      <td>0.716058</td>\n",
       "      <td>1</td>\n",
       "      <td>[text, black, font, darkness, light, logo, sky...</td>\n",
       "      <td>0.051394</td>\n",
       "      <td>0.050769</td>\n",
       "      <td>0.051452</td>\n",
       "      <td>0.795092</td>\n",
       "      <td>0.051293</td>\n",
       "    </tr>\n",
       "    <tr>\n",
       "      <th>294</th>\n",
       "      <td>https://www.instagram.com/p/B4o4mwQir5I/</td>\n",
       "      <td>873</td>\n",
       "      <td>268939</td>\n",
       "      <td>Celebrate yourself this season! #zaratrf Thank...</td>\n",
       "      <td>https://scontent-ort2-1.cdninstagram.com/v/t51...</td>\n",
       "      <td>False</td>\n",
       "      <td>[clothing, sitting, beauty, photo, shoot, fash...</td>\n",
       "      <td>clothing sitting beauty photo shoot fashion fa...</td>\n",
       "      <td>0.268946</td>\n",
       "      <td>0.917580</td>\n",
       "      <td>0.528400</td>\n",
       "      <td>1</td>\n",
       "      <td>[clothing, sitting, beauty, photo, shoot, fash...</td>\n",
       "      <td>0.338760</td>\n",
       "      <td>0.020831</td>\n",
       "      <td>0.021362</td>\n",
       "      <td>0.598393</td>\n",
       "      <td>0.020655</td>\n",
       "    </tr>\n",
       "    <tr>\n",
       "      <th>346</th>\n",
       "      <td>https://www.instagram.com/p/B3EVc7GiY5k/</td>\n",
       "      <td>571</td>\n",
       "      <td>293096</td>\n",
       "      <td>The Autumn approaches and the Bourgeois trend ...</td>\n",
       "      <td>https://scontent-ort2-1.cdninstagram.com/v/t51...</td>\n",
       "      <td>False</td>\n",
       "      <td>[clothing, collar, neck, fashion, outerwear, b...</td>\n",
       "      <td>clothing collar neck fashion outerwear blouse ...</td>\n",
       "      <td>0.175909</td>\n",
       "      <td>1.000000</td>\n",
       "      <td>0.505545</td>\n",
       "      <td>1</td>\n",
       "      <td>[clothing, collar, neck, fashion, outerwear, b...</td>\n",
       "      <td>0.029212</td>\n",
       "      <td>0.028894</td>\n",
       "      <td>0.883008</td>\n",
       "      <td>0.029264</td>\n",
       "      <td>0.029622</td>\n",
       "    </tr>\n",
       "    <tr>\n",
       "      <th>474</th>\n",
       "      <td>https://www.instagram.com/p/By27vPIiHi-/</td>\n",
       "      <td>2408</td>\n",
       "      <td>39559</td>\n",
       "      <td>ZARA SRPLS | New sweatshirts are now available...</td>\n",
       "      <td>https://scontent-ort2-1.cdninstagram.com/v/t51...</td>\n",
       "      <td>False</td>\n",
       "      <td>[clothing, sleeve, neck, shoulder, pink, outer...</td>\n",
       "      <td>clothing t-shirt sleeve neck long-sleeved t-sh...</td>\n",
       "      <td>0.741836</td>\n",
       "      <td>0.134969</td>\n",
       "      <td>0.499089</td>\n",
       "      <td>1</td>\n",
       "      <td>[clothing, sleeve, neck, shoulder, pink, outer...</td>\n",
       "      <td>0.025511</td>\n",
       "      <td>0.025539</td>\n",
       "      <td>0.025907</td>\n",
       "      <td>0.025203</td>\n",
       "      <td>0.897839</td>\n",
       "    </tr>\n",
       "    <tr>\n",
       "      <th>298</th>\n",
       "      <td>https://www.instagram.com/p/B4kq2FKCT8E/</td>\n",
       "      <td>682</td>\n",
       "      <td>264309</td>\n",
       "      <td>It's party night! Get ready with our latest ed...</td>\n",
       "      <td>https://scontent-ort2-1.cdninstagram.com/v/t51...</td>\n",
       "      <td>False</td>\n",
       "      <td>[clothing, fashion, model, tights, leggings, s...</td>\n",
       "      <td>clothing fashion model tights leggings shoulde...</td>\n",
       "      <td>0.210105</td>\n",
       "      <td>0.901783</td>\n",
       "      <td>0.486776</td>\n",
       "      <td>1</td>\n",
       "      <td>[clothing, fashion, model, tights, leggings, s...</td>\n",
       "      <td>0.029197</td>\n",
       "      <td>0.029022</td>\n",
       "      <td>0.028930</td>\n",
       "      <td>0.028812</td>\n",
       "      <td>0.884038</td>\n",
       "    </tr>\n",
       "  </tbody>\n",
       "</table>\n",
       "</div>"
      ],
      "text/plain": [
       "                                     post_url  num_comments  num_likes  \\\n",
       "121  https://www.instagram.com/p/CA5y1ovhdXV/          3246      85040   \n",
       "294  https://www.instagram.com/p/B4o4mwQir5I/           873     268939   \n",
       "346  https://www.instagram.com/p/B3EVc7GiY5k/           571     293096   \n",
       "474  https://www.instagram.com/p/By27vPIiHi-/          2408      39559   \n",
       "298  https://www.instagram.com/p/B4kq2FKCT8E/           682     264309   \n",
       "\n",
       "                                               caption  \\\n",
       "121                              We stand for equality   \n",
       "294  Celebrate yourself this season! #zaratrf Thank...   \n",
       "346  The Autumn approaches and the Bourgeois trend ...   \n",
       "474  ZARA SRPLS | New sweatshirts are now available...   \n",
       "298  It's party night! Get ready with our latest ed...   \n",
       "\n",
       "                                             image_url  is_video  \\\n",
       "121  https://scontent-ort2-1.cdninstagram.com/v/t51...     False   \n",
       "294  https://scontent-ort2-1.cdninstagram.com/v/t51...     False   \n",
       "346  https://scontent-ort2-1.cdninstagram.com/v/t51...     False   \n",
       "474  https://scontent-ort2-1.cdninstagram.com/v/t51...     False   \n",
       "298  https://scontent-ort2-1.cdninstagram.com/v/t51...     False   \n",
       "\n",
       "                                                labels  \\\n",
       "121  [text, black, font, darkness, light, logo, sky...   \n",
       "294  [clothing, sitting, beauty, photo, shoot, fash...   \n",
       "346  [clothing, collar, neck, fashion, outerwear, b...   \n",
       "474  [clothing, sleeve, neck, shoulder, pink, outer...   \n",
       "298  [clothing, fashion, model, tights, leggings, s...   \n",
       "\n",
       "                                            labels_str  comment_norm  \\\n",
       "121  text black font darkness light logo black-and-...      1.000000   \n",
       "294  clothing sitting beauty photo shoot fashion fa...      0.268946   \n",
       "346  clothing collar neck fashion outerwear blouse ...      0.175909   \n",
       "474  clothing t-shirt sleeve neck long-sleeved t-sh...      0.741836   \n",
       "298  clothing fashion model tights leggings shoulde...      0.210105   \n",
       "\n",
       "     likes_norm  engage_scores  engagement_metr  \\\n",
       "121    0.290144       0.716058                1   \n",
       "294    0.917580       0.528400                1   \n",
       "346    1.000000       0.505545                1   \n",
       "474    0.134969       0.499089                1   \n",
       "298    0.901783       0.486776                1   \n",
       "\n",
       "                                         labels_tokens    topic0    topic1  \\\n",
       "121  [text, black, font, darkness, light, logo, sky...  0.051394  0.050769   \n",
       "294  [clothing, sitting, beauty, photo, shoot, fash...  0.338760  0.020831   \n",
       "346  [clothing, collar, neck, fashion, outerwear, b...  0.029212  0.028894   \n",
       "474  [clothing, sleeve, neck, shoulder, pink, outer...  0.025511  0.025539   \n",
       "298  [clothing, fashion, model, tights, leggings, s...  0.029197  0.029022   \n",
       "\n",
       "       topic2    topic3    topic4  \n",
       "121  0.051452  0.795092  0.051293  \n",
       "294  0.021362  0.598393  0.020655  \n",
       "346  0.883008  0.029264  0.029622  \n",
       "474  0.025907  0.025203  0.897839  \n",
       "298  0.028930  0.028812  0.884038  "
      ]
     },
     "execution_count": 280,
     "metadata": {},
     "output_type": "execute_result"
    }
   ],
   "source": [
    "top_quartile.sort_values(by ='engage_scores', ascending = False).head()"
   ]
  },
  {
   "cell_type": "code",
   "execution_count": 281,
   "metadata": {},
   "outputs": [],
   "source": [
    "top_quartile_average_weights = top_quartile[[\"topic0\",'topic1',\"topic2\",'topic3',\"topic4\"]].mean(axis=0)"
   ]
  },
  {
   "cell_type": "code",
   "execution_count": 282,
   "metadata": {},
   "outputs": [
    {
     "data": {
      "text/plain": [
       "topic0    0.199671\n",
       "topic1    0.141485\n",
       "topic2    0.145464\n",
       "topic3    0.194904\n",
       "topic4    0.318476\n",
       "dtype: float64"
      ]
     },
     "execution_count": 282,
     "metadata": {},
     "output_type": "execute_result"
    }
   ],
   "source": [
    "top_quartile_average_weights"
   ]
  },
  {
   "cell_type": "code",
   "execution_count": 283,
   "metadata": {},
   "outputs": [],
   "source": [
    "bottom_quartile = df_z_weights[df_z_weights['engage_scores']<q1]"
   ]
  },
  {
   "cell_type": "code",
   "execution_count": 284,
   "metadata": {},
   "outputs": [
    {
     "data": {
      "text/html": [
       "<div>\n",
       "<style scoped>\n",
       "    .dataframe tbody tr th:only-of-type {\n",
       "        vertical-align: middle;\n",
       "    }\n",
       "\n",
       "    .dataframe tbody tr th {\n",
       "        vertical-align: top;\n",
       "    }\n",
       "\n",
       "    .dataframe thead th {\n",
       "        text-align: right;\n",
       "    }\n",
       "</style>\n",
       "<table border=\"1\" class=\"dataframe\">\n",
       "  <thead>\n",
       "    <tr style=\"text-align: right;\">\n",
       "      <th></th>\n",
       "      <th>post_url</th>\n",
       "      <th>num_comments</th>\n",
       "      <th>num_likes</th>\n",
       "      <th>caption</th>\n",
       "      <th>image_url</th>\n",
       "      <th>is_video</th>\n",
       "      <th>labels</th>\n",
       "      <th>labels_str</th>\n",
       "      <th>comment_norm</th>\n",
       "      <th>likes_norm</th>\n",
       "      <th>engage_scores</th>\n",
       "      <th>engagement_metr</th>\n",
       "      <th>labels_tokens</th>\n",
       "      <th>topic0</th>\n",
       "      <th>topic1</th>\n",
       "      <th>topic2</th>\n",
       "      <th>topic3</th>\n",
       "      <th>topic4</th>\n",
       "    </tr>\n",
       "  </thead>\n",
       "  <tbody>\n",
       "    <tr>\n",
       "      <th>340</th>\n",
       "      <td>https://www.instagram.com/p/B3Uwi2cilmC/</td>\n",
       "      <td>75</td>\n",
       "      <td>20539</td>\n",
       "      <td>ZARA SRPLS | CLLCTN 03 | DRP01 available tomor...</td>\n",
       "      <td>https://scontent-ort2-1.cdninstagram.com/v/t51...</td>\n",
       "      <td>False</td>\n",
       "      <td>[military, uniform, design, soldier, pattern, ...</td>\n",
       "      <td>military uniform design soldier pattern unifor...</td>\n",
       "      <td>0.023105</td>\n",
       "      <td>0.070076</td>\n",
       "      <td>0.041894</td>\n",
       "      <td>0</td>\n",
       "      <td>[military, uniform, design, soldier, pattern, ...</td>\n",
       "      <td>0.040274</td>\n",
       "      <td>0.838591</td>\n",
       "      <td>0.040623</td>\n",
       "      <td>0.040315</td>\n",
       "      <td>0.040197</td>\n",
       "    </tr>\n",
       "    <tr>\n",
       "      <th>548</th>\n",
       "      <td>https://www.instagram.com/p/BxKU6d8hsbT/</td>\n",
       "      <td>87</td>\n",
       "      <td>18930</td>\n",
       "      <td>ZARA SRPLS | Next chapter | DRP02\\nA limited e...</td>\n",
       "      <td>https://scontent-ort2-1.cdninstagram.com/v/t51...</td>\n",
       "      <td>False</td>\n",
       "      <td>[clothing, fashion, dress, footwear, waist, le...</td>\n",
       "      <td>clothing fashion dress footwear waist leg desi...</td>\n",
       "      <td>0.026802</td>\n",
       "      <td>0.064586</td>\n",
       "      <td>0.041916</td>\n",
       "      <td>0</td>\n",
       "      <td>[clothing, fashion, dress, footwear, waist, le...</td>\n",
       "      <td>0.022703</td>\n",
       "      <td>0.909289</td>\n",
       "      <td>0.022771</td>\n",
       "      <td>0.022359</td>\n",
       "      <td>0.022878</td>\n",
       "    </tr>\n",
       "    <tr>\n",
       "      <th>547</th>\n",
       "      <td>https://www.instagram.com/p/BxK0ivNhBOg/</td>\n",
       "      <td>113</td>\n",
       "      <td>19726</td>\n",
       "      <td>ZARA SRPLS | Next chapter | DRP02\\nThis is a l...</td>\n",
       "      <td>https://scontent-ort2-1.cdninstagram.com/v/t51...</td>\n",
       "      <td>False</td>\n",
       "      <td>[hair, face, hairstyle, fashion, model, eyebro...</td>\n",
       "      <td>hair face hairstyle fashion model eyebrow fash...</td>\n",
       "      <td>0.034812</td>\n",
       "      <td>0.067302</td>\n",
       "      <td>0.047808</td>\n",
       "      <td>0</td>\n",
       "      <td>[hair, face, hairstyle, fashion, model, eyebro...</td>\n",
       "      <td>0.020134</td>\n",
       "      <td>0.020157</td>\n",
       "      <td>0.020049</td>\n",
       "      <td>0.919503</td>\n",
       "      <td>0.020156</td>\n",
       "    </tr>\n",
       "    <tr>\n",
       "      <th>529</th>\n",
       "      <td>https://www.instagram.com/p/BxhgPUKipTO/</td>\n",
       "      <td>86</td>\n",
       "      <td>23715</td>\n",
       "      <td>#ZARATRIBE Meet @dylanfender “At this moment i...</td>\n",
       "      <td>https://scontent-ort2-1.cdninstagram.com/v/t51...</td>\n",
       "      <td>False</td>\n",
       "      <td>[eating, food, dish, fast, food, cuisine, junk...</td>\n",
       "      <td>eating food dish fast food cuisine junk food m...</td>\n",
       "      <td>0.026494</td>\n",
       "      <td>0.080912</td>\n",
       "      <td>0.048261</td>\n",
       "      <td>0</td>\n",
       "      <td>[eating, food, dish, fast, food, cuisine, junk...</td>\n",
       "      <td>0.200000</td>\n",
       "      <td>0.200000</td>\n",
       "      <td>0.200000</td>\n",
       "      <td>0.200000</td>\n",
       "      <td>0.200000</td>\n",
       "    </tr>\n",
       "    <tr>\n",
       "      <th>549</th>\n",
       "      <td>https://www.instagram.com/p/BxJ7CyChdbN/</td>\n",
       "      <td>96</td>\n",
       "      <td>23277</td>\n",
       "      <td>ZARA SRPLS | Next chapter | DRP02\\nThis second...</td>\n",
       "      <td>https://scontent-ort2-1.cdninstagram.com/v/t51...</td>\n",
       "      <td>False</td>\n",
       "      <td>[hair, face, hairstyle, eyebrow, chin, long, h...</td>\n",
       "      <td>hair face hairstyle eyebrow chin long hair fas...</td>\n",
       "      <td>0.029575</td>\n",
       "      <td>0.079418</td>\n",
       "      <td>0.049512</td>\n",
       "      <td>0</td>\n",
       "      <td>[hair, face, hairstyle, eyebrow, chin, long, h...</td>\n",
       "      <td>0.020178</td>\n",
       "      <td>0.020164</td>\n",
       "      <td>0.020225</td>\n",
       "      <td>0.919290</td>\n",
       "      <td>0.020143</td>\n",
       "    </tr>\n",
       "  </tbody>\n",
       "</table>\n",
       "</div>"
      ],
      "text/plain": [
       "                                     post_url  num_comments  num_likes  \\\n",
       "340  https://www.instagram.com/p/B3Uwi2cilmC/            75      20539   \n",
       "548  https://www.instagram.com/p/BxKU6d8hsbT/            87      18930   \n",
       "547  https://www.instagram.com/p/BxK0ivNhBOg/           113      19726   \n",
       "529  https://www.instagram.com/p/BxhgPUKipTO/            86      23715   \n",
       "549  https://www.instagram.com/p/BxJ7CyChdbN/            96      23277   \n",
       "\n",
       "                                               caption  \\\n",
       "340  ZARA SRPLS | CLLCTN 03 | DRP01 available tomor...   \n",
       "548  ZARA SRPLS | Next chapter | DRP02\\nA limited e...   \n",
       "547  ZARA SRPLS | Next chapter | DRP02\\nThis is a l...   \n",
       "529  #ZARATRIBE Meet @dylanfender “At this moment i...   \n",
       "549  ZARA SRPLS | Next chapter | DRP02\\nThis second...   \n",
       "\n",
       "                                             image_url  is_video  \\\n",
       "340  https://scontent-ort2-1.cdninstagram.com/v/t51...     False   \n",
       "548  https://scontent-ort2-1.cdninstagram.com/v/t51...     False   \n",
       "547  https://scontent-ort2-1.cdninstagram.com/v/t51...     False   \n",
       "529  https://scontent-ort2-1.cdninstagram.com/v/t51...     False   \n",
       "549  https://scontent-ort2-1.cdninstagram.com/v/t51...     False   \n",
       "\n",
       "                                                labels  \\\n",
       "340  [military, uniform, design, soldier, pattern, ...   \n",
       "548  [clothing, fashion, dress, footwear, waist, le...   \n",
       "547  [hair, face, hairstyle, fashion, model, eyebro...   \n",
       "529  [eating, food, dish, fast, food, cuisine, junk...   \n",
       "549  [hair, face, hairstyle, eyebrow, chin, long, h...   \n",
       "\n",
       "                                            labels_str  comment_norm  \\\n",
       "340  military uniform design soldier pattern unifor...      0.023105   \n",
       "548  clothing fashion dress footwear waist leg desi...      0.026802   \n",
       "547  hair face hairstyle fashion model eyebrow fash...      0.034812   \n",
       "529  eating food dish fast food cuisine junk food m...      0.026494   \n",
       "549  hair face hairstyle eyebrow chin long hair fas...      0.029575   \n",
       "\n",
       "     likes_norm  engage_scores  engagement_metr  \\\n",
       "340    0.070076       0.041894                0   \n",
       "548    0.064586       0.041916                0   \n",
       "547    0.067302       0.047808                0   \n",
       "529    0.080912       0.048261                0   \n",
       "549    0.079418       0.049512                0   \n",
       "\n",
       "                                         labels_tokens    topic0    topic1  \\\n",
       "340  [military, uniform, design, soldier, pattern, ...  0.040274  0.838591   \n",
       "548  [clothing, fashion, dress, footwear, waist, le...  0.022703  0.909289   \n",
       "547  [hair, face, hairstyle, fashion, model, eyebro...  0.020134  0.020157   \n",
       "529  [eating, food, dish, fast, food, cuisine, junk...  0.200000  0.200000   \n",
       "549  [hair, face, hairstyle, eyebrow, chin, long, h...  0.020178  0.020164   \n",
       "\n",
       "       topic2    topic3    topic4  \n",
       "340  0.040623  0.040315  0.040197  \n",
       "548  0.022771  0.022359  0.022878  \n",
       "547  0.020049  0.919503  0.020156  \n",
       "529  0.200000  0.200000  0.200000  \n",
       "549  0.020225  0.919290  0.020143  "
      ]
     },
     "execution_count": 284,
     "metadata": {},
     "output_type": "execute_result"
    }
   ],
   "source": [
    "bottom_quartile.sort_values(by ='engage_scores', ascending = True).head()"
   ]
  },
  {
   "cell_type": "code",
   "execution_count": 285,
   "metadata": {},
   "outputs": [],
   "source": [
    "bottom_quartile_average_weights = bottom_quartile[[\"topic0\",'topic1',\"topic2\",'topic3',\"topic4\"]].mean(axis=0)"
   ]
  },
  {
   "cell_type": "code",
   "execution_count": 286,
   "metadata": {},
   "outputs": [
    {
     "data": {
      "text/plain": [
       "topic0    0.204607\n",
       "topic1    0.206332\n",
       "topic2    0.203019\n",
       "topic3    0.200261\n",
       "topic4    0.185781\n",
       "dtype: float64"
      ]
     },
     "execution_count": 286,
     "metadata": {},
     "output_type": "execute_result"
    }
   ],
   "source": [
    "bottom_quartile_average_weights"
   ]
  },
  {
   "cell_type": "code",
   "execution_count": 287,
   "metadata": {},
   "outputs": [],
   "source": [
    "quartile_topics = pd.concat([top_quartile_average_weights,bottom_quartile_average_weights],axis=1)\n",
    "quartile_topics.columns = ['Top Quartile','Bottom Quartile']"
   ]
  },
  {
   "cell_type": "code",
   "execution_count": 288,
   "metadata": {},
   "outputs": [
    {
     "data": {
      "text/html": [
       "<div>\n",
       "<style scoped>\n",
       "    .dataframe tbody tr th:only-of-type {\n",
       "        vertical-align: middle;\n",
       "    }\n",
       "\n",
       "    .dataframe tbody tr th {\n",
       "        vertical-align: top;\n",
       "    }\n",
       "\n",
       "    .dataframe thead th {\n",
       "        text-align: right;\n",
       "    }\n",
       "</style>\n",
       "<table border=\"1\" class=\"dataframe\">\n",
       "  <thead>\n",
       "    <tr style=\"text-align: right;\">\n",
       "      <th></th>\n",
       "      <th>Top Quartile</th>\n",
       "      <th>Bottom Quartile</th>\n",
       "    </tr>\n",
       "  </thead>\n",
       "  <tbody>\n",
       "    <tr>\n",
       "      <th>topic0</th>\n",
       "      <td>0.199671</td>\n",
       "      <td>0.204607</td>\n",
       "    </tr>\n",
       "    <tr>\n",
       "      <th>topic1</th>\n",
       "      <td>0.141485</td>\n",
       "      <td>0.206332</td>\n",
       "    </tr>\n",
       "    <tr>\n",
       "      <th>topic2</th>\n",
       "      <td>0.145464</td>\n",
       "      <td>0.203019</td>\n",
       "    </tr>\n",
       "    <tr>\n",
       "      <th>topic3</th>\n",
       "      <td>0.194904</td>\n",
       "      <td>0.200261</td>\n",
       "    </tr>\n",
       "    <tr>\n",
       "      <th>topic4</th>\n",
       "      <td>0.318476</td>\n",
       "      <td>0.185781</td>\n",
       "    </tr>\n",
       "  </tbody>\n",
       "</table>\n",
       "</div>"
      ],
      "text/plain": [
       "        Top Quartile  Bottom Quartile\n",
       "topic0      0.199671         0.204607\n",
       "topic1      0.141485         0.206332\n",
       "topic2      0.145464         0.203019\n",
       "topic3      0.194904         0.200261\n",
       "topic4      0.318476         0.185781"
      ]
     },
     "execution_count": 288,
     "metadata": {},
     "output_type": "execute_result"
    }
   ],
   "source": [
    "quartile_topics"
   ]
  },
  {
   "cell_type": "markdown",
   "metadata": {
    "id": "rZYZQA8gtTHS"
   },
   "source": [
    "# Task D. What advice would you give Zara if it wants to increase engagement on its Instagram page based on your findings in Tasks B and C?   "
   ]
  },
  {
   "cell_type": "markdown",
   "metadata": {
    "id": "DsacZZF7003E"
   },
   "source": []
  }
 ],
 "metadata": {
  "colab": {
   "collapsed_sections": [],
   "name": "Instagram_zara",
   "provenance": []
  },
  "kernelspec": {
   "display_name": "Python 3",
   "language": "python",
   "name": "python3"
  },
  "language_info": {
   "codemirror_mode": {
    "name": "ipython",
    "version": 3
   },
   "file_extension": ".py",
   "mimetype": "text/x-python",
   "name": "python",
   "nbconvert_exporter": "python",
   "pygments_lexer": "ipython3",
   "version": "3.8.3"
  }
 },
 "nbformat": 4,
 "nbformat_minor": 1
}
