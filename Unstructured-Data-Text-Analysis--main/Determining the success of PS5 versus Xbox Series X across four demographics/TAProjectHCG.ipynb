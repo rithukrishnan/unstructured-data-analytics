{
  "nbformat": 4,
  "nbformat_minor": 0,
  "metadata": {
    "colab": {
      "name": "TAProjectHCG.ipynb",
      "provenance": [],
      "collapsed_sections": []
    },
    "kernelspec": {
      "name": "python3",
      "display_name": "Python 3"
    }
  },
  "cells": [
    {
      "cell_type": "code",
      "metadata": {
        "id": "51m7iZeHYoe9",
        "outputId": "3321cf8d-c847-42ee-e564-18c12599ba5b",
        "colab": {
          "base_uri": "https://localhost:8080/",
          "height": 581
        }
      },
      "source": [
        "!python -m spacy download en_core_web_lg"
      ],
      "execution_count": 1,
      "outputs": [
        {
          "output_type": "stream",
          "text": [
            "Collecting en_core_web_lg==2.2.5\n",
            "\u001b[?25l  Downloading https://github.com/explosion/spacy-models/releases/download/en_core_web_lg-2.2.5/en_core_web_lg-2.2.5.tar.gz (827.9MB)\n",
            "\u001b[K     |████████████████████████████████| 827.9MB 1.1MB/s \n",
            "\u001b[?25hRequirement already satisfied: spacy>=2.2.2 in /usr/local/lib/python3.6/dist-packages (from en_core_web_lg==2.2.5) (2.2.4)\n",
            "Requirement already satisfied: srsly<1.1.0,>=1.0.2 in /usr/local/lib/python3.6/dist-packages (from spacy>=2.2.2->en_core_web_lg==2.2.5) (1.0.2)\n",
            "Requirement already satisfied: tqdm<5.0.0,>=4.38.0 in /usr/local/lib/python3.6/dist-packages (from spacy>=2.2.2->en_core_web_lg==2.2.5) (4.41.1)\n",
            "Requirement already satisfied: plac<1.2.0,>=0.9.6 in /usr/local/lib/python3.6/dist-packages (from spacy>=2.2.2->en_core_web_lg==2.2.5) (1.1.3)\n",
            "Requirement already satisfied: murmurhash<1.1.0,>=0.28.0 in /usr/local/lib/python3.6/dist-packages (from spacy>=2.2.2->en_core_web_lg==2.2.5) (1.0.2)\n",
            "Requirement already satisfied: wasabi<1.1.0,>=0.4.0 in /usr/local/lib/python3.6/dist-packages (from spacy>=2.2.2->en_core_web_lg==2.2.5) (0.8.0)\n",
            "Requirement already satisfied: catalogue<1.1.0,>=0.0.7 in /usr/local/lib/python3.6/dist-packages (from spacy>=2.2.2->en_core_web_lg==2.2.5) (1.0.0)\n",
            "Requirement already satisfied: cymem<2.1.0,>=2.0.2 in /usr/local/lib/python3.6/dist-packages (from spacy>=2.2.2->en_core_web_lg==2.2.5) (2.0.3)\n",
            "Requirement already satisfied: numpy>=1.15.0 in /usr/local/lib/python3.6/dist-packages (from spacy>=2.2.2->en_core_web_lg==2.2.5) (1.18.5)\n",
            "Requirement already satisfied: requests<3.0.0,>=2.13.0 in /usr/local/lib/python3.6/dist-packages (from spacy>=2.2.2->en_core_web_lg==2.2.5) (2.23.0)\n",
            "Requirement already satisfied: setuptools in /usr/local/lib/python3.6/dist-packages (from spacy>=2.2.2->en_core_web_lg==2.2.5) (50.3.0)\n",
            "Requirement already satisfied: blis<0.5.0,>=0.4.0 in /usr/local/lib/python3.6/dist-packages (from spacy>=2.2.2->en_core_web_lg==2.2.5) (0.4.1)\n",
            "Requirement already satisfied: thinc==7.4.0 in /usr/local/lib/python3.6/dist-packages (from spacy>=2.2.2->en_core_web_lg==2.2.5) (7.4.0)\n",
            "Requirement already satisfied: preshed<3.1.0,>=3.0.2 in /usr/local/lib/python3.6/dist-packages (from spacy>=2.2.2->en_core_web_lg==2.2.5) (3.0.2)\n",
            "Requirement already satisfied: importlib-metadata>=0.20; python_version < \"3.8\" in /usr/local/lib/python3.6/dist-packages (from catalogue<1.1.0,>=0.0.7->spacy>=2.2.2->en_core_web_lg==2.2.5) (2.0.0)\n",
            "Requirement already satisfied: urllib3!=1.25.0,!=1.25.1,<1.26,>=1.21.1 in /usr/local/lib/python3.6/dist-packages (from requests<3.0.0,>=2.13.0->spacy>=2.2.2->en_core_web_lg==2.2.5) (1.24.3)\n",
            "Requirement already satisfied: certifi>=2017.4.17 in /usr/local/lib/python3.6/dist-packages (from requests<3.0.0,>=2.13.0->spacy>=2.2.2->en_core_web_lg==2.2.5) (2020.6.20)\n",
            "Requirement already satisfied: idna<3,>=2.5 in /usr/local/lib/python3.6/dist-packages (from requests<3.0.0,>=2.13.0->spacy>=2.2.2->en_core_web_lg==2.2.5) (2.10)\n",
            "Requirement already satisfied: chardet<4,>=3.0.2 in /usr/local/lib/python3.6/dist-packages (from requests<3.0.0,>=2.13.0->spacy>=2.2.2->en_core_web_lg==2.2.5) (3.0.4)\n",
            "Requirement already satisfied: zipp>=0.5 in /usr/local/lib/python3.6/dist-packages (from importlib-metadata>=0.20; python_version < \"3.8\"->catalogue<1.1.0,>=0.0.7->spacy>=2.2.2->en_core_web_lg==2.2.5) (3.2.0)\n",
            "Building wheels for collected packages: en-core-web-lg\n",
            "  Building wheel for en-core-web-lg (setup.py) ... \u001b[?25l\u001b[?25hdone\n",
            "  Created wheel for en-core-web-lg: filename=en_core_web_lg-2.2.5-cp36-none-any.whl size=829180944 sha256=3ab8a7b8c2444dbe0a8f8e47fe9e74f1fc7fe6bf9a45961eb0c4825c09a3d3b4\n",
            "  Stored in directory: /tmp/pip-ephem-wheel-cache-ks7b7yga/wheels/2a/c1/a6/fc7a877b1efca9bc6a089d6f506f16d3868408f9ff89f8dbfc\n",
            "Successfully built en-core-web-lg\n",
            "Installing collected packages: en-core-web-lg\n",
            "Successfully installed en-core-web-lg-2.2.5\n",
            "\u001b[38;5;2m✔ Download and installation successful\u001b[0m\n",
            "You can now load the model via spacy.load('en_core_web_lg')\n"
          ],
          "name": "stdout"
        }
      ]
    },
    {
      "cell_type": "code",
      "metadata": {
        "id": "9iBetv6vZiMu"
      },
      "source": [
        "import spacy\n",
        "import numpy as np\n",
        "from sklearn.metrics.pairwise import cosine_similarity\n",
        "from sklearn.feature_extraction.text import CountVectorizer\n",
        "import pandas as pd\n",
        "import en_core_web_lg"
      ],
      "execution_count": 1,
      "outputs": []
    },
    {
      "cell_type": "code",
      "metadata": {
        "id": "m9RLVbavZk4T"
      },
      "source": [
        "nlp = spacy.load('en_core_web_lg')"
      ],
      "execution_count": 2,
      "outputs": []
    },
    {
      "cell_type": "code",
      "metadata": {
        "id": "t1sToIX9d7RX"
      },
      "source": [
        "#Importing packages for later\n",
        "import numpy as np\n",
        "import pandas as pd\n",
        "import matplotlib.pyplot as plt\n",
        "from sklearn import manifold\n",
        "from matplotlib.font_manager import FontProperties\n",
        "import re\n"
      ],
      "execution_count": 3,
      "outputs": []
    },
    {
      "cell_type": "code",
      "metadata": {
        "id": "Ocyp2gpjeDHx",
        "outputId": "b9e88ef0-bebc-479a-a393-c8cdb08e5099",
        "colab": {
          "base_uri": "https://localhost:8080/",
          "height": 357
        }
      },
      "source": [
        "#Read in the scrape results\n",
        "rgame = pd.read_csv('rgames_comments.csv')#,sep = '\\t')\n",
        "#Read in the ps5 xbox csv file. \n",
        "model_brand = pd.read_csv('ps5_xbox.csv', header = None, sep=',')\n",
        "model_brand.columns = ['brand','model']\n",
        "#names = ['brand','model'], sep=',')\n",
        "rgame[:5]"
      ],
      "execution_count": 46,
      "outputs": [
        {
          "output_type": "execute_result",
          "data": {
            "text/html": [
              "<div>\n",
              "<style scoped>\n",
              "    .dataframe tbody tr th:only-of-type {\n",
              "        vertical-align: middle;\n",
              "    }\n",
              "\n",
              "    .dataframe tbody tr th {\n",
              "        vertical-align: top;\n",
              "    }\n",
              "\n",
              "    .dataframe thead th {\n",
              "        text-align: right;\n",
              "    }\n",
              "</style>\n",
              "<table border=\"1\" class=\"dataframe\">\n",
              "  <thead>\n",
              "    <tr style=\"text-align: right;\">\n",
              "      <th></th>\n",
              "      <th>submission</th>\n",
              "      <th>author</th>\n",
              "      <th>body</th>\n",
              "      <th>score</th>\n",
              "      <th>created</th>\n",
              "      <th>url_of_post</th>\n",
              "    </tr>\n",
              "  </thead>\n",
              "  <tbody>\n",
              "    <tr>\n",
              "      <th>0</th>\n",
              "      <td>ipfelj</td>\n",
              "      <td>Smallgenie549</td>\n",
              "      <td>PS5 has to be $500 too, right?</td>\n",
              "      <td>1567</td>\n",
              "      <td>1.599657e+09</td>\n",
              "      <td>/r/Games/comments/ipfelj/xbox_series_x_launche...</td>\n",
              "    </tr>\n",
              "    <tr>\n",
              "      <th>1</th>\n",
              "      <td>ipfelj</td>\n",
              "      <td>niallmul97</td>\n",
              "      <td>As a PC guy with no real horse in this race, t...</td>\n",
              "      <td>5805</td>\n",
              "      <td>1.599657e+09</td>\n",
              "      <td>/r/Games/comments/ipfelj/xbox_series_x_launche...</td>\n",
              "    </tr>\n",
              "    <tr>\n",
              "      <th>2</th>\n",
              "      <td>ipfelj</td>\n",
              "      <td>narutomaki</td>\n",
              "      <td>Well there it is. It's nice to know the releas...</td>\n",
              "      <td>822</td>\n",
              "      <td>1.599657e+09</td>\n",
              "      <td>/r/Games/comments/ipfelj/xbox_series_x_launche...</td>\n",
              "    </tr>\n",
              "    <tr>\n",
              "      <th>3</th>\n",
              "      <td>ipfelj</td>\n",
              "      <td>LIGHT_COLLUSION</td>\n",
              "      <td>Did my coffee not kick in yet or is EA Play no...</td>\n",
              "      <td>1585</td>\n",
              "      <td>1.599657e+09</td>\n",
              "      <td>/r/Games/comments/ipfelj/xbox_series_x_launche...</td>\n",
              "    </tr>\n",
              "    <tr>\n",
              "      <th>4</th>\n",
              "      <td>ipfelj</td>\n",
              "      <td>firesyrup</td>\n",
              "      <td>I'm surprised they didn't wait for Sony to rev...</td>\n",
              "      <td>384</td>\n",
              "      <td>1.599657e+09</td>\n",
              "      <td>/r/Games/comments/ipfelj/xbox_series_x_launche...</td>\n",
              "    </tr>\n",
              "  </tbody>\n",
              "</table>\n",
              "</div>"
            ],
            "text/plain": [
              "  submission  ...                                        url_of_post\n",
              "0     ipfelj  ...  /r/Games/comments/ipfelj/xbox_series_x_launche...\n",
              "1     ipfelj  ...  /r/Games/comments/ipfelj/xbox_series_x_launche...\n",
              "2     ipfelj  ...  /r/Games/comments/ipfelj/xbox_series_x_launche...\n",
              "3     ipfelj  ...  /r/Games/comments/ipfelj/xbox_series_x_launche...\n",
              "4     ipfelj  ...  /r/Games/comments/ipfelj/xbox_series_x_launche...\n",
              "\n",
              "[5 rows x 6 columns]"
            ]
          },
          "metadata": {
            "tags": []
          },
          "execution_count": 46
        }
      ]
    },
    {
      "cell_type": "code",
      "metadata": {
        "id": "E0_cqwvNhbDK",
        "outputId": "f88a8d9b-c867-42e3-f64e-80b895830b0a",
        "colab": {
          "base_uri": "https://localhost:8080/",
          "height": 607
        }
      },
      "source": [
        "model_brand"
      ],
      "execution_count": 47,
      "outputs": [
        {
          "output_type": "execute_result",
          "data": {
            "text/html": [
              "<div>\n",
              "<style scoped>\n",
              "    .dataframe tbody tr th:only-of-type {\n",
              "        vertical-align: middle;\n",
              "    }\n",
              "\n",
              "    .dataframe tbody tr th {\n",
              "        vertical-align: top;\n",
              "    }\n",
              "\n",
              "    .dataframe thead th {\n",
              "        text-align: right;\n",
              "    }\n",
              "</style>\n",
              "<table border=\"1\" class=\"dataframe\">\n",
              "  <thead>\n",
              "    <tr style=\"text-align: right;\">\n",
              "      <th></th>\n",
              "      <th>brand</th>\n",
              "      <th>model</th>\n",
              "    </tr>\n",
              "  </thead>\n",
              "  <tbody>\n",
              "    <tr>\n",
              "      <th>0</th>\n",
              "      <td>xbox</td>\n",
              "      <td>xbox series one x</td>\n",
              "    </tr>\n",
              "    <tr>\n",
              "      <th>1</th>\n",
              "      <td>xbox</td>\n",
              "      <td>xbox series one</td>\n",
              "    </tr>\n",
              "    <tr>\n",
              "      <th>2</th>\n",
              "      <td>xbox</td>\n",
              "      <td>xbox one</td>\n",
              "    </tr>\n",
              "    <tr>\n",
              "      <th>3</th>\n",
              "      <td>xbox</td>\n",
              "      <td>xbox series one s</td>\n",
              "    </tr>\n",
              "    <tr>\n",
              "      <th>4</th>\n",
              "      <td>xbox</td>\n",
              "      <td>xbox series 1x</td>\n",
              "    </tr>\n",
              "    <tr>\n",
              "      <th>5</th>\n",
              "      <td>xbox</td>\n",
              "      <td>xbox series 1s</td>\n",
              "    </tr>\n",
              "    <tr>\n",
              "      <th>6</th>\n",
              "      <td>xbox</td>\n",
              "      <td>xbox series x</td>\n",
              "    </tr>\n",
              "    <tr>\n",
              "      <th>7</th>\n",
              "      <td>xbox</td>\n",
              "      <td>xbox series s</td>\n",
              "    </tr>\n",
              "    <tr>\n",
              "      <th>8</th>\n",
              "      <td>xbox</td>\n",
              "      <td>xbox 1</td>\n",
              "    </tr>\n",
              "    <tr>\n",
              "      <th>9</th>\n",
              "      <td>xbox</td>\n",
              "      <td>xbox 1x</td>\n",
              "    </tr>\n",
              "    <tr>\n",
              "      <th>10</th>\n",
              "      <td>xbox</td>\n",
              "      <td>series 1</td>\n",
              "    </tr>\n",
              "    <tr>\n",
              "      <th>11</th>\n",
              "      <td>xbox</td>\n",
              "      <td>xbox 1s</td>\n",
              "    </tr>\n",
              "    <tr>\n",
              "      <th>12</th>\n",
              "      <td>ps5</td>\n",
              "      <td>play station 5</td>\n",
              "    </tr>\n",
              "    <tr>\n",
              "      <th>13</th>\n",
              "      <td>ps5</td>\n",
              "      <td>playstation 5</td>\n",
              "    </tr>\n",
              "    <tr>\n",
              "      <th>14</th>\n",
              "      <td>ps5</td>\n",
              "      <td>p s 5</td>\n",
              "    </tr>\n",
              "    <tr>\n",
              "      <th>15</th>\n",
              "      <td>ps5</td>\n",
              "      <td>playstation</td>\n",
              "    </tr>\n",
              "    <tr>\n",
              "      <th>16</th>\n",
              "      <td>pc</td>\n",
              "      <td>pc</td>\n",
              "    </tr>\n",
              "    <tr>\n",
              "      <th>17</th>\n",
              "      <td>pc</td>\n",
              "      <td>computer</td>\n",
              "    </tr>\n",
              "  </tbody>\n",
              "</table>\n",
              "</div>"
            ],
            "text/plain": [
              "   brand              model\n",
              "0   xbox  xbox series one x\n",
              "1   xbox   xbox series one \n",
              "2   xbox           xbox one\n",
              "3   xbox  xbox series one s\n",
              "4   xbox     xbox series 1x\n",
              "5   xbox     xbox series 1s\n",
              "6   xbox      xbox series x\n",
              "7   xbox     xbox series s \n",
              "8   xbox             xbox 1\n",
              "9   xbox           xbox 1x \n",
              "10  xbox           series 1\n",
              "11  xbox            xbox 1s\n",
              "12   ps5    play station 5 \n",
              "13   ps5      playstation 5\n",
              "14   ps5              p s 5\n",
              "15   ps5        playstation\n",
              "16    pc                 pc\n",
              "17    pc           computer"
            ]
          },
          "metadata": {
            "tags": []
          },
          "execution_count": 47
        }
      ]
    },
    {
      "cell_type": "code",
      "metadata": {
        "id": "vq8mFPEGhNoM",
        "outputId": "ff9e2e5d-f939-4879-d2e4-e5abf2f4fecd",
        "colab": {
          "base_uri": "https://localhost:8080/",
          "height": 85
        }
      },
      "source": [
        "import re\n",
        "import nltk\n",
        "nltk.download('stopwords')\n",
        "nltk.download('punkt')\n",
        "from nltk.corpus import stopwords\n",
        "from nltk.probability import FreqDist\n",
        "\n",
        "from nltk import pos_tag, word_tokenize\n",
        "from nltk.stem.porter import PorterStemmer\n",
        "import matplotlib.pyplot as plt\n",
        "\n",
        "from sklearn.manifold import MDS\n",
        "from sklearn.metrics import euclidean_distances\n"
      ],
      "execution_count": 48,
      "outputs": [
        {
          "output_type": "stream",
          "text": [
            "[nltk_data] Downloading package stopwords to /root/nltk_data...\n",
            "[nltk_data]   Package stopwords is already up-to-date!\n",
            "[nltk_data] Downloading package punkt to /root/nltk_data...\n",
            "[nltk_data]   Package punkt is already up-to-date!\n"
          ],
          "name": "stdout"
        }
      ]
    },
    {
      "cell_type": "code",
      "metadata": {
        "id": "OZVwx62ZiApI"
      },
      "source": [
        "## Create dictionary for model to brand mapping\n",
        "model_brand = model_brand.set_index('model')\n",
        "model_brand_dict = model_brand[\"brand\"].to_dict()"
      ],
      "execution_count": 49,
      "outputs": []
    },
    {
      "cell_type": "code",
      "metadata": {
        "id": "3mUzreLuiTBq"
      },
      "source": [
        "stop = stopwords.words('english')\n",
        "\n",
        "rgame[\"body\"] = rgame[\"body\"].astype(str)\n",
        "rgame[\"comments_tokens\"] = rgame[\"body\"].apply(lambda each_post: word_tokenize(re.sub(r'[^\\w\\s]',' ',each_post.lower())))\n",
        "rgame[\"comments_tokens\"] = rgame[\"comments_tokens\"].apply(lambda list_of_words: [x if x not in model_brand_dict else model_brand_dict[x] for x in list_of_words])\n",
        "rgame[\"comments_tokens\"] = rgame[\"comments_tokens\"].apply(lambda list_of_words: [x for x in list_of_words if x not in stop])\n"
      ],
      "execution_count": 50,
      "outputs": []
    },
    {
      "cell_type": "code",
      "metadata": {
        "id": "Z3pt3K4jivg-",
        "outputId": "f9650ef9-cfc4-4c30-b3dc-f0e60c21d1a1",
        "colab": {
          "base_uri": "https://localhost:8080/",
          "height": 1000
        }
      },
      "source": [
        "## Get all the unique tokens in each comments\n",
        "rgame[\"comments_unique\"] = rgame[\"comments_tokens\"].apply(lambda x: sorted(set(x)))\n",
        "rgame"
      ],
      "execution_count": 51,
      "outputs": [
        {
          "output_type": "execute_result",
          "data": {
            "text/html": [
              "<div>\n",
              "<style scoped>\n",
              "    .dataframe tbody tr th:only-of-type {\n",
              "        vertical-align: middle;\n",
              "    }\n",
              "\n",
              "    .dataframe tbody tr th {\n",
              "        vertical-align: top;\n",
              "    }\n",
              "\n",
              "    .dataframe thead th {\n",
              "        text-align: right;\n",
              "    }\n",
              "</style>\n",
              "<table border=\"1\" class=\"dataframe\">\n",
              "  <thead>\n",
              "    <tr style=\"text-align: right;\">\n",
              "      <th></th>\n",
              "      <th>submission</th>\n",
              "      <th>author</th>\n",
              "      <th>body</th>\n",
              "      <th>score</th>\n",
              "      <th>created</th>\n",
              "      <th>url_of_post</th>\n",
              "      <th>comments_tokens</th>\n",
              "      <th>comments_unique</th>\n",
              "    </tr>\n",
              "  </thead>\n",
              "  <tbody>\n",
              "    <tr>\n",
              "      <th>0</th>\n",
              "      <td>ipfelj</td>\n",
              "      <td>Smallgenie549</td>\n",
              "      <td>PS5 has to be $500 too, right?</td>\n",
              "      <td>1567</td>\n",
              "      <td>1.599657e+09</td>\n",
              "      <td>/r/Games/comments/ipfelj/xbox_series_x_launche...</td>\n",
              "      <td>[ps5, 500, right]</td>\n",
              "      <td>[500, ps5, right]</td>\n",
              "    </tr>\n",
              "    <tr>\n",
              "      <th>1</th>\n",
              "      <td>ipfelj</td>\n",
              "      <td>niallmul97</td>\n",
              "      <td>As a PC guy with no real horse in this race, t...</td>\n",
              "      <td>5805</td>\n",
              "      <td>1.599657e+09</td>\n",
              "      <td>/r/Games/comments/ipfelj/xbox_series_x_launche...</td>\n",
              "      <td>[pc, guy, real, horse, race, insane, amount, p...</td>\n",
              "      <td>[499, amount, guy, horse, insane, interested, ...</td>\n",
              "    </tr>\n",
              "    <tr>\n",
              "      <th>2</th>\n",
              "      <td>ipfelj</td>\n",
              "      <td>narutomaki</td>\n",
              "      <td>Well there it is. It's nice to know the releas...</td>\n",
              "      <td>822</td>\n",
              "      <td>1.599657e+09</td>\n",
              "      <td>/r/Games/comments/ipfelj/xbox_series_x_launche...</td>\n",
              "      <td>[well, nice, know, release, date, also, kind, ...</td>\n",
              "      <td>[also, date, decided, due, dump, f, feels, inf...</td>\n",
              "    </tr>\n",
              "    <tr>\n",
              "      <th>3</th>\n",
              "      <td>ipfelj</td>\n",
              "      <td>LIGHT_COLLUSION</td>\n",
              "      <td>Did my coffee not kick in yet or is EA Play no...</td>\n",
              "      <td>1585</td>\n",
              "      <td>1.599657e+09</td>\n",
              "      <td>/r/Games/comments/ipfelj/xbox_series_x_launche...</td>\n",
              "      <td>[coffee, kick, yet, ea, play, included, gpu, p...</td>\n",
              "      <td>[09, 10, 100, 2, 20, 2020, 60, able, addition,...</td>\n",
              "    </tr>\n",
              "    <tr>\n",
              "      <th>4</th>\n",
              "      <td>ipfelj</td>\n",
              "      <td>firesyrup</td>\n",
              "      <td>I'm surprised they didn't wait for Sony to rev...</td>\n",
              "      <td>384</td>\n",
              "      <td>1.599657e+09</td>\n",
              "      <td>/r/Games/comments/ipfelj/xbox_series_x_launche...</td>\n",
              "      <td>[surprised, wait, sony, reveal, price, ps5, he...</td>\n",
              "      <td>[chicken, glad, headstart, phase, price, ps5, ...</td>\n",
              "    </tr>\n",
              "    <tr>\n",
              "      <th>...</th>\n",
              "      <td>...</td>\n",
              "      <td>...</td>\n",
              "      <td>...</td>\n",
              "      <td>...</td>\n",
              "      <td>...</td>\n",
              "      <td>...</td>\n",
              "      <td>...</td>\n",
              "      <td>...</td>\n",
              "    </tr>\n",
              "    <tr>\n",
              "      <th>6073</th>\n",
              "      <td>j4wsgi</td>\n",
              "      <td>ketchup92</td>\n",
              "      <td>No the PS4 was always loud, especially the fir...</td>\n",
              "      <td>217</td>\n",
              "      <td>1.601812e+09</td>\n",
              "      <td>/r/Games/comments/j4wsgi/playstation_5_first_i...</td>\n",
              "      <td>[ps4, always, loud, especially, first, units, ...</td>\n",
              "      <td>[always, applied, bunch, especially, first, lo...</td>\n",
              "    </tr>\n",
              "    <tr>\n",
              "      <th>6074</th>\n",
              "      <td>j4wsgi</td>\n",
              "      <td>Titan7771</td>\n",
              "      <td>Apparently these reviewers can’t even take pic...</td>\n",
              "      <td>60</td>\n",
              "      <td>1.601816e+09</td>\n",
              "      <td>/r/Games/comments/j4wsgi/playstation_5_first_i...</td>\n",
              "      <td>[apparently, reviewers, even, take, pictures, ...</td>\n",
              "      <td>[allowed, apparently, back, bizarre, even, lik...</td>\n",
              "    </tr>\n",
              "    <tr>\n",
              "      <th>6075</th>\n",
              "      <td>j4wsgi</td>\n",
              "      <td>tymandude1</td>\n",
              "      <td>Apparently the only way you're allowed to impl...</td>\n",
              "      <td>59</td>\n",
              "      <td>1.601816e+09</td>\n",
              "      <td>/r/Games/comments/j4wsgi/playstation_5_first_i...</td>\n",
              "      <td>[apparently, way, allowed, implement, gyro, ei...</td>\n",
              "      <td>[allowed, apparently, day, designed, disregard...</td>\n",
              "    </tr>\n",
              "    <tr>\n",
              "      <th>6076</th>\n",
              "      <td>j4wsgi</td>\n",
              "      <td>varnums1666</td>\n",
              "      <td>I, for one, loved having a very big map button.</td>\n",
              "      <td>51</td>\n",
              "      <td>1.601835e+09</td>\n",
              "      <td>/r/Games/comments/j4wsgi/playstation_5_first_i...</td>\n",
              "      <td>[one, loved, big, map, button]</td>\n",
              "      <td>[big, button, loved, map, one]</td>\n",
              "    </tr>\n",
              "    <tr>\n",
              "      <th>6077</th>\n",
              "      <td>j4wsgi</td>\n",
              "      <td>1120am18</td>\n",
              "      <td>I thought the noise issue was overblown until ...</td>\n",
              "      <td>91</td>\n",
              "      <td>1.601813e+09</td>\n",
              "      <td>/r/Games/comments/j4wsgi/playstation_5_first_i...</td>\n",
              "      <td>[thought, noise, issue, overblown, got, hands,...</td>\n",
              "      <td>[3, away, cleaner, couch, death, got, hands, i...</td>\n",
              "    </tr>\n",
              "  </tbody>\n",
              "</table>\n",
              "<p>6078 rows × 8 columns</p>\n",
              "</div>"
            ],
            "text/plain": [
              "     submission  ...                                    comments_unique\n",
              "0        ipfelj  ...                                  [500, ps5, right]\n",
              "1        ipfelj  ...  [499, amount, guy, horse, insane, interested, ...\n",
              "2        ipfelj  ...  [also, date, decided, due, dump, f, feels, inf...\n",
              "3        ipfelj  ...  [09, 10, 100, 2, 20, 2020, 60, able, addition,...\n",
              "4        ipfelj  ...  [chicken, glad, headstart, phase, price, ps5, ...\n",
              "...         ...  ...                                                ...\n",
              "6073     j4wsgi  ...  [always, applied, bunch, especially, first, lo...\n",
              "6074     j4wsgi  ...  [allowed, apparently, back, bizarre, even, lik...\n",
              "6075     j4wsgi  ...  [allowed, apparently, day, designed, disregard...\n",
              "6076     j4wsgi  ...                     [big, button, loved, map, one]\n",
              "6077     j4wsgi  ...  [3, away, cleaner, couch, death, got, hands, i...\n",
              "\n",
              "[6078 rows x 8 columns]"
            ]
          },
          "metadata": {
            "tags": []
          },
          "execution_count": 51
        }
      ]
    },
    {
      "cell_type": "markdown",
      "metadata": {
        "id": "4oCyrlgkliux"
      },
      "source": [
        "##Lift analysis of brands"
      ]
    },
    {
      "cell_type": "code",
      "metadata": {
        "id": "fTtgl2aqlomO"
      },
      "source": [
        "## Get frequency of all words\n",
        "all_words = rgame['comments_unique'].sum()\n",
        "freq_dist = nltk.FreqDist(all_words)"
      ],
      "execution_count": 52,
      "outputs": []
    },
    {
      "cell_type": "code",
      "metadata": {
        "id": "j9-EnjS-luQW"
      },
      "source": [
        "## Get the frequency counts of all brands\n",
        "all_brands_dict = {your_key: freq_dist[your_key] for your_key in freq_dist.keys() if your_key in model_brand_dict.values()}\n",
        "all_brands = pd.DataFrame.from_dict(all_brands_dict, orient='index').reset_index()\n",
        "all_brands.columns = [\"brand\",\"word_frequency\"]\n",
        "all_brands.sort_values(\"word_frequency\", ascending= False, inplace=True)"
      ],
      "execution_count": 53,
      "outputs": []
    },
    {
      "cell_type": "markdown",
      "metadata": {
        "id": "b4oYjoscl1lP"
      },
      "source": [
        "###ranking"
      ]
    },
    {
      "cell_type": "code",
      "metadata": {
        "id": "KpESwJz7l3B4",
        "outputId": "feca56ee-6115-45d6-82f2-53ed29a49ce8",
        "colab": {
          "base_uri": "https://localhost:8080/",
          "height": 142
        }
      },
      "source": [
        "## Display the brands ranking by frequency count\n",
        "top_brands = all_brands.head(3)\n",
        "top10 = all_brands.head(3)\n",
        "top_brands"
      ],
      "execution_count": 54,
      "outputs": [
        {
          "output_type": "execute_result",
          "data": {
            "text/html": [
              "<div>\n",
              "<style scoped>\n",
              "    .dataframe tbody tr th:only-of-type {\n",
              "        vertical-align: middle;\n",
              "    }\n",
              "\n",
              "    .dataframe tbody tr th {\n",
              "        vertical-align: top;\n",
              "    }\n",
              "\n",
              "    .dataframe thead th {\n",
              "        text-align: right;\n",
              "    }\n",
              "</style>\n",
              "<table border=\"1\" class=\"dataframe\">\n",
              "  <thead>\n",
              "    <tr style=\"text-align: right;\">\n",
              "      <th></th>\n",
              "      <th>brand</th>\n",
              "      <th>word_frequency</th>\n",
              "    </tr>\n",
              "  </thead>\n",
              "  <tbody>\n",
              "    <tr>\n",
              "      <th>2</th>\n",
              "      <td>xbox</td>\n",
              "      <td>358</td>\n",
              "    </tr>\n",
              "    <tr>\n",
              "      <th>0</th>\n",
              "      <td>ps5</td>\n",
              "      <td>271</td>\n",
              "    </tr>\n",
              "    <tr>\n",
              "      <th>1</th>\n",
              "      <td>pc</td>\n",
              "      <td>232</td>\n",
              "    </tr>\n",
              "  </tbody>\n",
              "</table>\n",
              "</div>"
            ],
            "text/plain": [
              "  brand  word_frequency\n",
              "2  xbox             358\n",
              "0   ps5             271\n",
              "1    pc             232"
            ]
          },
          "metadata": {
            "tags": []
          },
          "execution_count": 54
        }
      ]
    },
    {
      "cell_type": "code",
      "metadata": {
        "id": "Hy1XU3ZOmctw",
        "outputId": "894e6688-49de-447b-b9d0-1b565f562070",
        "colab": {
          "base_uri": "https://localhost:8080/",
          "height": 666
        }
      },
      "source": [
        "rgame.head()"
      ],
      "execution_count": 13,
      "outputs": [
        {
          "output_type": "execute_result",
          "data": {
            "text/html": [
              "<div>\n",
              "<style scoped>\n",
              "    .dataframe tbody tr th:only-of-type {\n",
              "        vertical-align: middle;\n",
              "    }\n",
              "\n",
              "    .dataframe tbody tr th {\n",
              "        vertical-align: top;\n",
              "    }\n",
              "\n",
              "    .dataframe thead th {\n",
              "        text-align: right;\n",
              "    }\n",
              "</style>\n",
              "<table border=\"1\" class=\"dataframe\">\n",
              "  <thead>\n",
              "    <tr style=\"text-align: right;\">\n",
              "      <th></th>\n",
              "      <th>submission</th>\n",
              "      <th>author</th>\n",
              "      <th>body</th>\n",
              "      <th>score</th>\n",
              "      <th>created</th>\n",
              "      <th>url_of_post</th>\n",
              "      <th>comments_tokens</th>\n",
              "      <th>comments_unique</th>\n",
              "    </tr>\n",
              "  </thead>\n",
              "  <tbody>\n",
              "    <tr>\n",
              "      <th>0</th>\n",
              "      <td>ipfelj</td>\n",
              "      <td>Smallgenie549</td>\n",
              "      <td>PS5 has to be $500 too, right?</td>\n",
              "      <td>1567</td>\n",
              "      <td>1.599657e+09</td>\n",
              "      <td>/r/Games/comments/ipfelj/xbox_series_x_launche...</td>\n",
              "      <td>[ps5, 500, right]</td>\n",
              "      <td>[500, ps5, right]</td>\n",
              "    </tr>\n",
              "    <tr>\n",
              "      <th>1</th>\n",
              "      <td>ipfelj</td>\n",
              "      <td>niallmul97</td>\n",
              "      <td>As a PC guy with no real horse in this race, t...</td>\n",
              "      <td>5805</td>\n",
              "      <td>1.599657e+09</td>\n",
              "      <td>/r/Games/comments/ipfelj/xbox_series_x_launche...</td>\n",
              "      <td>[pc, guy, real, horse, race, insane, amount, p...</td>\n",
              "      <td>[499, amount, guy, horse, insane, interested, ...</td>\n",
              "    </tr>\n",
              "    <tr>\n",
              "      <th>2</th>\n",
              "      <td>ipfelj</td>\n",
              "      <td>narutomaki</td>\n",
              "      <td>Well there it is. It's nice to know the releas...</td>\n",
              "      <td>822</td>\n",
              "      <td>1.599657e+09</td>\n",
              "      <td>/r/Games/comments/ipfelj/xbox_series_x_launche...</td>\n",
              "      <td>[well, nice, know, release, date, also, kind, ...</td>\n",
              "      <td>[also, date, decided, due, dump, f, feels, inf...</td>\n",
              "    </tr>\n",
              "    <tr>\n",
              "      <th>3</th>\n",
              "      <td>ipfelj</td>\n",
              "      <td>LIGHT_COLLUSION</td>\n",
              "      <td>Did my coffee not kick in yet or is EA Play no...</td>\n",
              "      <td>1585</td>\n",
              "      <td>1.599657e+09</td>\n",
              "      <td>/r/Games/comments/ipfelj/xbox_series_x_launche...</td>\n",
              "      <td>[coffee, kick, yet, ea, play, included, gpu, p...</td>\n",
              "      <td>[09, 10, 100, 2, 20, 2020, 60, able, addition,...</td>\n",
              "    </tr>\n",
              "    <tr>\n",
              "      <th>4</th>\n",
              "      <td>ipfelj</td>\n",
              "      <td>firesyrup</td>\n",
              "      <td>I'm surprised they didn't wait for Sony to rev...</td>\n",
              "      <td>384</td>\n",
              "      <td>1.599657e+09</td>\n",
              "      <td>/r/Games/comments/ipfelj/xbox_series_x_launche...</td>\n",
              "      <td>[surprised, wait, sony, reveal, price, ps5, he...</td>\n",
              "      <td>[chicken, glad, headstart, phase, price, ps5, ...</td>\n",
              "    </tr>\n",
              "  </tbody>\n",
              "</table>\n",
              "</div>"
            ],
            "text/plain": [
              "  submission  ...                                    comments_unique\n",
              "0     ipfelj  ...                                  [500, ps5, right]\n",
              "1     ipfelj  ...  [499, amount, guy, horse, insane, interested, ...\n",
              "2     ipfelj  ...  [also, date, decided, due, dump, f, feels, inf...\n",
              "3     ipfelj  ...  [09, 10, 100, 2, 20, 2020, 60, able, addition,...\n",
              "4     ipfelj  ...  [chicken, glad, headstart, phase, price, ps5, ...\n",
              "\n",
              "[5 rows x 8 columns]"
            ]
          },
          "metadata": {
            "tags": []
          },
          "execution_count": 13
        }
      ]
    },
    {
      "cell_type": "markdown",
      "metadata": {
        "id": "ZFlFrJmnmhpG"
      },
      "source": [
        "###lift function\n"
      ]
    },
    {
      "cell_type": "code",
      "metadata": {
        "id": "QrE7aNJPmjqk"
      },
      "source": [
        "def calculate_lift(a, b, tokenized_posts):\n",
        "    num_a = 0\n",
        "    num_b = 0\n",
        "    num_a_b = 0\n",
        "    n = len(tokenized_posts)\n",
        "    if a==b:\n",
        "        return 1\n",
        "    for i in tokenized_posts:\n",
        "        if a in i:\n",
        "            num_a += 1\n",
        "        if b in i:\n",
        "            num_b += 1\n",
        "        if a in i and b in i:\n",
        "            num_a_b += 1\n",
        "    if num_a == 0:\n",
        "        return (float(n)*num_a_b)/(num_b)\n",
        "    elif num_b == 0:\n",
        "        return (float(n)*num_a_b)/(num_a)\n",
        "    else:\n",
        "        return (float(n)*num_a_b)/(num_a*num_b)"
      ],
      "execution_count": 55,
      "outputs": []
    },
    {
      "cell_type": "code",
      "metadata": {
        "id": "73bKK61OnwuQ"
      },
      "source": [
        "## Get the lift scores for the top-10 brands\n",
        "num_brands = 3\n",
        "\n",
        "## print(top_brands)\n",
        "top_brands = top_brands.head(num_brands)\n",
        "lift_brands = []\n",
        "for index, brand_a in top_brands.iterrows():\n",
        "    for index, brand_b in top_brands.iterrows():\n",
        "        lift_brands.append(calculate_lift(brand_a.brand, brand_b.brand, rgame.comments_unique))"
      ],
      "execution_count": 56,
      "outputs": []
    },
    {
      "cell_type": "code",
      "metadata": {
        "id": "Xr0xT0w3oGWz"
      },
      "source": [
        "lift_brands_df = np.reshape(lift_brands,(num_brands,num_brands))"
      ],
      "execution_count": 57,
      "outputs": []
    },
    {
      "cell_type": "markdown",
      "metadata": {
        "id": "zriRDknCoWpC"
      },
      "source": [
        "### console to console Lift Matrix"
      ]
    },
    {
      "cell_type": "code",
      "metadata": {
        "id": "3CCUn1D_oG9O",
        "outputId": "2e4bfab2-e7ae-4a05-ce85-bad74dc6067b",
        "colab": {
          "base_uri": "https://localhost:8080/",
          "height": 142
        }
      },
      "source": [
        "lift_brands = pd.DataFrame(data= lift_brands_df)\n",
        "\n",
        "for i in range(3):\n",
        "    lift_brands = lift_brands.rename(columns = {i: top_brands.iloc[i, 0]})\n",
        "    lift_brands = lift_brands.rename(index = {i: top_brands.iloc[i, 0]})\n",
        "lift_brands"
      ],
      "execution_count": 58,
      "outputs": [
        {
          "output_type": "execute_result",
          "data": {
            "text/html": [
              "<div>\n",
              "<style scoped>\n",
              "    .dataframe tbody tr th:only-of-type {\n",
              "        vertical-align: middle;\n",
              "    }\n",
              "\n",
              "    .dataframe tbody tr th {\n",
              "        vertical-align: top;\n",
              "    }\n",
              "\n",
              "    .dataframe thead th {\n",
              "        text-align: right;\n",
              "    }\n",
              "</style>\n",
              "<table border=\"1\" class=\"dataframe\">\n",
              "  <thead>\n",
              "    <tr style=\"text-align: right;\">\n",
              "      <th></th>\n",
              "      <th>xbox</th>\n",
              "      <th>ps5</th>\n",
              "      <th>pc</th>\n",
              "    </tr>\n",
              "  </thead>\n",
              "  <tbody>\n",
              "    <tr>\n",
              "      <th>xbox</th>\n",
              "      <td>1.000000</td>\n",
              "      <td>3.633594</td>\n",
              "      <td>4.756670</td>\n",
              "    </tr>\n",
              "    <tr>\n",
              "      <th>ps5</th>\n",
              "      <td>3.633594</td>\n",
              "      <td>1.000000</td>\n",
              "      <td>2.996851</td>\n",
              "    </tr>\n",
              "    <tr>\n",
              "      <th>pc</th>\n",
              "      <td>4.756670</td>\n",
              "      <td>2.996851</td>\n",
              "      <td>1.000000</td>\n",
              "    </tr>\n",
              "  </tbody>\n",
              "</table>\n",
              "</div>"
            ],
            "text/plain": [
              "          xbox       ps5        pc\n",
              "xbox  1.000000  3.633594  4.756670\n",
              "ps5   3.633594  1.000000  2.996851\n",
              "pc    4.756670  2.996851  1.000000"
            ]
          },
          "metadata": {
            "tags": []
          },
          "execution_count": 58
        }
      ]
    },
    {
      "cell_type": "markdown",
      "metadata": {
        "id": "G2dwaj2Aoj0s"
      },
      "source": [
        "###MDS plot"
      ]
    },
    {
      "cell_type": "code",
      "metadata": {
        "id": "84ios_QKomEj",
        "outputId": "39e07336-8fc7-48a2-fa6a-111934e8907e",
        "colab": {
          "base_uri": "https://localhost:8080/",
          "height": 292
        }
      },
      "source": [
        "## Calculating the dissimilarity matrix which is the input for plotting MDS plot\n",
        "dissimilarity_matrix = 1/lift_brands\n",
        "np.fill_diagonal(dissimilarity_matrix.values, 0)\n",
        "\n",
        "## Plotting MDS plot\n",
        "from sklearn import manifold\n",
        "seed = np.random.RandomState(seed=3)\n",
        "mds = manifold.MDS(n_components=2, max_iter=3000, eps=1e-9, \n",
        "      random_state=seed, dissimilarity=\"precomputed\", n_jobs=1)\n",
        "results = mds.fit(dissimilarity_matrix)\n",
        "coords = results.embedding_\n",
        "\n",
        "plt.subplots_adjust(bottom = 0.1)\n",
        "plt.scatter(\n",
        "    coords[:, 0], coords[:, 1], marker = 'o'\n",
        "    )\n",
        "for label, x, y in zip(lift_brands, coords[:, 0], coords[:, 1]):\n",
        "    \n",
        "    plt.annotate(\n",
        "        label,\n",
        "        xy = (x, y), xytext = (-20, 20),\n",
        "        textcoords = 'offset points',ha = 'left', va = 'bottom',\n",
        "        bbox = dict(boxstyle = 'round,pad=0.5', fc = 'orange', alpha = 0.5),\n",
        "        arrowprops = dict(arrowstyle = '->', connectionstyle = 'arc3,rad=0'))\n",
        "\n",
        "plt.show()"
      ],
      "execution_count": 18,
      "outputs": [
        {
          "output_type": "display_data",
          "data": {
            "image/png": "[encoded data removed]",
            "text/plain": [
              "<Figure size 432x288 with 1 Axes>"
            ]
          },
          "metadata": {
            "tags": [],
            "needs_background": "light"
          }
        }
      ]
    },
    {
      "cell_type": "markdown",
      "metadata": {
        "id": "rYfmsNsapXE5"
      },
      "source": [
        "##Attribute Analysis using lift"
      ]
    },
    {
      "cell_type": "code",
      "metadata": {
        "id": "kKrbcRQppWu0",
        "outputId": "8e077cf8-3d49-4a00-9b1b-7e9825291697",
        "colab": {
          "base_uri": "https://localhost:8080/",
          "height": 204
        }
      },
      "source": [
        "attribute_list = ['performance','graphics','affordable','favorite','buy','speed',\n",
        "                 'price','security','fps','games','multiplayer','online','subscription',\n",
        "                  'quality']\n",
        "attr_df = pd.DataFrame(index = attribute_list)\n",
        "attr_df['synonym'] = attribute_list\n",
        "attr_df[:5]"
      ],
      "execution_count": 59,
      "outputs": [
        {
          "output_type": "execute_result",
          "data": {
            "text/html": [
              "<div>\n",
              "<style scoped>\n",
              "    .dataframe tbody tr th:only-of-type {\n",
              "        vertical-align: middle;\n",
              "    }\n",
              "\n",
              "    .dataframe tbody tr th {\n",
              "        vertical-align: top;\n",
              "    }\n",
              "\n",
              "    .dataframe thead th {\n",
              "        text-align: right;\n",
              "    }\n",
              "</style>\n",
              "<table border=\"1\" class=\"dataframe\">\n",
              "  <thead>\n",
              "    <tr style=\"text-align: right;\">\n",
              "      <th></th>\n",
              "      <th>synonym</th>\n",
              "    </tr>\n",
              "  </thead>\n",
              "  <tbody>\n",
              "    <tr>\n",
              "      <th>performance</th>\n",
              "      <td>performance</td>\n",
              "    </tr>\n",
              "    <tr>\n",
              "      <th>graphics</th>\n",
              "      <td>graphics</td>\n",
              "    </tr>\n",
              "    <tr>\n",
              "      <th>affordable</th>\n",
              "      <td>affordable</td>\n",
              "    </tr>\n",
              "    <tr>\n",
              "      <th>favorite</th>\n",
              "      <td>favorite</td>\n",
              "    </tr>\n",
              "    <tr>\n",
              "      <th>buy</th>\n",
              "      <td>buy</td>\n",
              "    </tr>\n",
              "  </tbody>\n",
              "</table>\n",
              "</div>"
            ],
            "text/plain": [
              "                 synonym\n",
              "performance  performance\n",
              "graphics        graphics\n",
              "affordable    affordable\n",
              "favorite        favorite\n",
              "buy                  buy"
            ]
          },
          "metadata": {
            "tags": []
          },
          "execution_count": 59
        }
      ]
    },
    {
      "cell_type": "code",
      "metadata": {
        "id": "uaKe_24Wp6eN"
      },
      "source": [
        "attr_dict = attr_df[\"synonym\"].to_dict()\n",
        "rgame[\"attr_tokens\"] = rgame[\"comments_unique\"].apply(lambda list_of_words: [attr_dict[x] for x in list_of_words if x in attr_dict  ])"
      ],
      "execution_count": 60,
      "outputs": []
    },
    {
      "cell_type": "code",
      "metadata": {
        "id": "DSMdhXPFqYri",
        "outputId": "a3e797f6-6ee1-4bfe-fc03-39e636e82fcf",
        "colab": {
          "base_uri": "https://localhost:8080/",
          "height": 68
        }
      },
      "source": [
        "# Define consoles by frequency obtained previously\n",
        "import numpy as np\n",
        "top_brands=['xbox','ps5','pc']\n",
        "\n",
        "# Get unique list of grouped attribute names\n",
        "uniq_attr=np.unique(attr_df['synonym'])\n",
        "uniq_attr"
      ],
      "execution_count": 61,
      "outputs": [
        {
          "output_type": "execute_result",
          "data": {
            "text/plain": [
              "array(['affordable', 'buy', 'favorite', 'fps', 'games', 'graphics',\n",
              "       'multiplayer', 'online', 'performance', 'price', 'quality',\n",
              "       'security', 'speed', 'subscription'], dtype=object)"
            ]
          },
          "metadata": {
            "tags": []
          },
          "execution_count": 61
        }
      ]
    },
    {
      "cell_type": "code",
      "metadata": {
        "id": "13G8z0Zoqluo"
      },
      "source": [
        "# Find top 5 attributes:\n",
        "\n",
        "def calc_freq(tokenized_posts,find_list):\n",
        "    freq_a=0\n",
        "    for i in tokenized_posts:\n",
        "        if find_list in i:\n",
        "            freq_a += 1\n",
        "    return freq_a\n",
        "  \n",
        "# Calculate freq for attr\n",
        "df_top_attr=pd.DataFrame(columns=['attribute','freq'])\n",
        "for i,attr in enumerate(uniq_attr):\n",
        "        temp_freq=calc_freq( rgame.comments_unique,str(attr))\n",
        "        df_top_attr.loc[i]=[str(attr),temp_freq]"
      ],
      "execution_count": 62,
      "outputs": []
    },
    {
      "cell_type": "code",
      "metadata": {
        "id": "1UDK9LFKrAZ6",
        "outputId": "573fc66b-e305-47d1-f16f-14061e52e68b",
        "colab": {
          "base_uri": "https://localhost:8080/",
          "height": 119
        }
      },
      "source": [
        "top_attr=df_top_attr.sort_values(by='freq',ascending=False).head(5)\n",
        "top_attr['attribute']"
      ],
      "execution_count": 63,
      "outputs": [
        {
          "output_type": "execute_result",
          "data": {
            "text/plain": [
              "4           games\n",
              "1             buy\n",
              "9           price\n",
              "10        quality\n",
              "6     multiplayer\n",
              "Name: attribute, dtype: object"
            ]
          },
          "metadata": {
            "tags": []
          },
          "execution_count": 63
        }
      ]
    },
    {
      "cell_type": "code",
      "metadata": {
        "id": "xrlSSLozrYpj"
      },
      "source": [
        "# Grouped Brands and attribute lifts \n",
        "df_lift_brand_attr=pd.DataFrame(columns=['brand','attribute','lift'])\n",
        "i=0\n",
        "for  brand_a in top_brands:\n",
        "    for attr in top_attr['attribute']:\n",
        "        temp_lift=calculate_lift(str(brand_a), str(attr), rgame.comments_unique)\n",
        "        df_lift_brand_attr.loc[i]=[ str(brand_a),str(attr),temp_lift]\n",
        "        i=i+1"
      ],
      "execution_count": 64,
      "outputs": []
    },
    {
      "cell_type": "code",
      "metadata": {
        "id": "Ix7G4R2yrjDO",
        "outputId": "84b11ede-0be7-4f11-aa96-ca6fb15ea16a",
        "colab": {
          "base_uri": "https://localhost:8080/",
          "height": 289
        }
      },
      "source": [
        "df1 = df_lift_brand_attr.sort_values('lift',ascending = False).groupby('brand').head(10)\n",
        "print(df1.sort_values(['brand','lift'],ascending=[True,False]))"
      ],
      "execution_count": 65,
      "outputs": [
        {
          "output_type": "stream",
          "text": [
            "   brand    attribute      lift\n",
            "14    pc  multiplayer  2.652990\n",
            "13    pc      quality  2.060539\n",
            "11    pc          buy  1.920292\n",
            "12    pc        price  1.827787\n",
            "10    pc        games  1.625732\n",
            "6    ps5          buy  3.875002\n",
            "7    ps5        price  2.260191\n",
            "5    ps5        games  1.756825\n",
            "8    ps5      quality  0.504001\n",
            "9    ps5  multiplayer  0.283899\n",
            "2   xbox        price  2.368975\n",
            "4   xbox  multiplayer  1.719256\n",
            "1   xbox          buy  1.599988\n",
            "0   xbox        games  1.398972\n",
            "3   xbox      quality  1.144561\n"
          ],
          "name": "stdout"
        }
      ]
    },
    {
      "cell_type": "code",
      "metadata": {
        "id": "vIy40NgQro3T",
        "outputId": "3b3a6f24-8e34-4c19-94aa-1e5d08a7024b",
        "colab": {
          "base_uri": "https://localhost:8080/",
          "height": 204
        }
      },
      "source": [
        "lift_matrix = df1.pivot(index='brand', columns='attribute')\n",
        "lift_matrix"
      ],
      "execution_count": 66,
      "outputs": [
        {
          "output_type": "execute_result",
          "data": {
            "text/html": [
              "<div>\n",
              "<style scoped>\n",
              "    .dataframe tbody tr th:only-of-type {\n",
              "        vertical-align: middle;\n",
              "    }\n",
              "\n",
              "    .dataframe tbody tr th {\n",
              "        vertical-align: top;\n",
              "    }\n",
              "\n",
              "    .dataframe thead tr th {\n",
              "        text-align: left;\n",
              "    }\n",
              "\n",
              "    .dataframe thead tr:last-of-type th {\n",
              "        text-align: right;\n",
              "    }\n",
              "</style>\n",
              "<table border=\"1\" class=\"dataframe\">\n",
              "  <thead>\n",
              "    <tr>\n",
              "      <th></th>\n",
              "      <th colspan=\"5\" halign=\"left\">lift</th>\n",
              "    </tr>\n",
              "    <tr>\n",
              "      <th>attribute</th>\n",
              "      <th>buy</th>\n",
              "      <th>games</th>\n",
              "      <th>multiplayer</th>\n",
              "      <th>price</th>\n",
              "      <th>quality</th>\n",
              "    </tr>\n",
              "    <tr>\n",
              "      <th>brand</th>\n",
              "      <th></th>\n",
              "      <th></th>\n",
              "      <th></th>\n",
              "      <th></th>\n",
              "      <th></th>\n",
              "    </tr>\n",
              "  </thead>\n",
              "  <tbody>\n",
              "    <tr>\n",
              "      <th>pc</th>\n",
              "      <td>1.920292</td>\n",
              "      <td>1.625732</td>\n",
              "      <td>2.652990</td>\n",
              "      <td>1.827787</td>\n",
              "      <td>2.060539</td>\n",
              "    </tr>\n",
              "    <tr>\n",
              "      <th>ps5</th>\n",
              "      <td>3.875002</td>\n",
              "      <td>1.756825</td>\n",
              "      <td>0.283899</td>\n",
              "      <td>2.260191</td>\n",
              "      <td>0.504001</td>\n",
              "    </tr>\n",
              "    <tr>\n",
              "      <th>xbox</th>\n",
              "      <td>1.599988</td>\n",
              "      <td>1.398972</td>\n",
              "      <td>1.719256</td>\n",
              "      <td>2.368975</td>\n",
              "      <td>1.144561</td>\n",
              "    </tr>\n",
              "  </tbody>\n",
              "</table>\n",
              "</div>"
            ],
            "text/plain": [
              "               lift                                          \n",
              "attribute       buy     games multiplayer     price   quality\n",
              "brand                                                        \n",
              "pc         1.920292  1.625732    2.652990  1.827787  2.060539\n",
              "ps5        3.875002  1.756825    0.283899  2.260191  0.504001\n",
              "xbox       1.599988  1.398972    1.719256  2.368975  1.144561"
            ]
          },
          "metadata": {
            "tags": []
          },
          "execution_count": 66
        }
      ]
    },
    {
      "cell_type": "markdown",
      "metadata": {
        "id": "LLD7d6iwsOzv"
      },
      "source": [
        "##Aspiration Analysis"
      ]
    },
    {
      "cell_type": "code",
      "metadata": {
        "id": "Zg6WcBrOsRml"
      },
      "source": [
        "aspiration_list = ['wish to', 'hope to', 'want to', 'really want', 'prefer', 'dream graphics', 'dream of', 'aspire', 'looking for', 'looking to', 'would like', 'can afford', 'looking at', 'pre order','pre_order', 'cop']"
      ],
      "execution_count": 67,
      "outputs": []
    },
    {
      "cell_type": "code",
      "metadata": {
        "id": "9hbHvmJTsslg",
        "outputId": "07d0fdd1-51cb-4388-c431-f3c13c01756b",
        "colab": {
          "base_uri": "https://localhost:8080/",
          "height": 545
        }
      },
      "source": [
        "aspiration = pd.DataFrame(aspiration_list)\n",
        "aspiration.columns=['word']\n",
        "aspiration"
      ],
      "execution_count": 68,
      "outputs": [
        {
          "output_type": "execute_result",
          "data": {
            "text/html": [
              "<div>\n",
              "<style scoped>\n",
              "    .dataframe tbody tr th:only-of-type {\n",
              "        vertical-align: middle;\n",
              "    }\n",
              "\n",
              "    .dataframe tbody tr th {\n",
              "        vertical-align: top;\n",
              "    }\n",
              "\n",
              "    .dataframe thead th {\n",
              "        text-align: right;\n",
              "    }\n",
              "</style>\n",
              "<table border=\"1\" class=\"dataframe\">\n",
              "  <thead>\n",
              "    <tr style=\"text-align: right;\">\n",
              "      <th></th>\n",
              "      <th>word</th>\n",
              "    </tr>\n",
              "  </thead>\n",
              "  <tbody>\n",
              "    <tr>\n",
              "      <th>0</th>\n",
              "      <td>wish to</td>\n",
              "    </tr>\n",
              "    <tr>\n",
              "      <th>1</th>\n",
              "      <td>hope to</td>\n",
              "    </tr>\n",
              "    <tr>\n",
              "      <th>2</th>\n",
              "      <td>want to</td>\n",
              "    </tr>\n",
              "    <tr>\n",
              "      <th>3</th>\n",
              "      <td>really want</td>\n",
              "    </tr>\n",
              "    <tr>\n",
              "      <th>4</th>\n",
              "      <td>prefer</td>\n",
              "    </tr>\n",
              "    <tr>\n",
              "      <th>5</th>\n",
              "      <td>dream graphics</td>\n",
              "    </tr>\n",
              "    <tr>\n",
              "      <th>6</th>\n",
              "      <td>dream of</td>\n",
              "    </tr>\n",
              "    <tr>\n",
              "      <th>7</th>\n",
              "      <td>aspire</td>\n",
              "    </tr>\n",
              "    <tr>\n",
              "      <th>8</th>\n",
              "      <td>looking for</td>\n",
              "    </tr>\n",
              "    <tr>\n",
              "      <th>9</th>\n",
              "      <td>looking to</td>\n",
              "    </tr>\n",
              "    <tr>\n",
              "      <th>10</th>\n",
              "      <td>would like</td>\n",
              "    </tr>\n",
              "    <tr>\n",
              "      <th>11</th>\n",
              "      <td>can afford</td>\n",
              "    </tr>\n",
              "    <tr>\n",
              "      <th>12</th>\n",
              "      <td>looking at</td>\n",
              "    </tr>\n",
              "    <tr>\n",
              "      <th>13</th>\n",
              "      <td>pre order</td>\n",
              "    </tr>\n",
              "    <tr>\n",
              "      <th>14</th>\n",
              "      <td>pre_order</td>\n",
              "    </tr>\n",
              "    <tr>\n",
              "      <th>15</th>\n",
              "      <td>cop</td>\n",
              "    </tr>\n",
              "  </tbody>\n",
              "</table>\n",
              "</div>"
            ],
            "text/plain": [
              "              word\n",
              "0          wish to\n",
              "1          hope to\n",
              "2          want to\n",
              "3      really want\n",
              "4           prefer\n",
              "5   dream graphics\n",
              "6         dream of\n",
              "7           aspire\n",
              "8      looking for\n",
              "9       looking to\n",
              "10      would like\n",
              "11      can afford\n",
              "12      looking at\n",
              "13       pre order\n",
              "14       pre_order\n",
              "15             cop"
            ]
          },
          "metadata": {
            "tags": []
          },
          "execution_count": 68
        }
      ]
    },
    {
      "cell_type": "code",
      "metadata": {
        "id": "pfBweNL9uEV4"
      },
      "source": [
        "## Function to replace the aspirational phrases with the word - \"aspiration\"\n",
        "def asp_word_replace(comment):\n",
        "    for i in aspiration['word'].index.values:\n",
        "        comment = comment.lower().replace(aspiration['word'][i],'aspiration')\n",
        "    return comment"
      ],
      "execution_count": 69,
      "outputs": []
    },
    {
      "cell_type": "code",
      "metadata": {
        "id": "faMqzz5PtrZO"
      },
      "source": [
        "rgame[\"comments_replace\"] = rgame[\"body\"].apply(asp_word_replace)"
      ],
      "execution_count": 70,
      "outputs": []
    },
    {
      "cell_type": "code",
      "metadata": {
        "id": "Yf25FcSeuKSk"
      },
      "source": [
        "## Tokenize the comments and remove stop words after replacing the phrases by aspiration\n",
        "rgame[\"comments_replace_tokens\"] = rgame[\"comments_replace\"].apply(lambda each_post: word_tokenize(re.sub(r'[^\\w\\s]',' ',each_post.lower())))\n",
        "rgame[\"comments_replace_tokens\"] = rgame[\"comments_replace_tokens\"].apply(lambda list_of_words: [x if x not in model_brand_dict else model_brand_dict[x] for x in list_of_words])\n",
        "rgame[\"comments_replace_tokens\"] = rgame[\"comments_replace_tokens\"].apply(lambda list_of_words: [x for x in list_of_words if x not in stop])\n",
        "rgame[\"comments_replace_tokens\"] = rgame[\"comments_replace_tokens\"].apply(lambda x: sorted(set(x)))"
      ],
      "execution_count": 71,
      "outputs": []
    },
    {
      "cell_type": "code",
      "metadata": {
        "id": "GtIGWrCSuVfO"
      },
      "source": [
        "## Get the lift score for all brands and aspirational words\n",
        "lift_asp_brands = pd.DataFrame(columns=['Brand','Lift'])\n",
        "for index, brand_a in all_brands.iterrows():\n",
        "        lift_asp_brands = lift_asp_brands.append({'Brand': brand_a.brand, \"Lift\":calculate_lift(brand_a.brand, 'aspiration', rgame.comments_replace_tokens)},\n",
        "                                        ignore_index=True)"
      ],
      "execution_count": 72,
      "outputs": []
    },
    {
      "cell_type": "code",
      "metadata": {
        "id": "_oHxQqh9ue5f",
        "outputId": "e1e64ef9-c20a-4a50-c667-c1dff8d39887",
        "colab": {
          "base_uri": "https://localhost:8080/",
          "height": 142
        }
      },
      "source": [
        "lift_asp_brands.sort_values(by='Lift',ascending=False).head(5)"
      ],
      "execution_count": 73,
      "outputs": [
        {
          "output_type": "execute_result",
          "data": {
            "text/html": [
              "<div>\n",
              "<style scoped>\n",
              "    .dataframe tbody tr th:only-of-type {\n",
              "        vertical-align: middle;\n",
              "    }\n",
              "\n",
              "    .dataframe tbody tr th {\n",
              "        vertical-align: top;\n",
              "    }\n",
              "\n",
              "    .dataframe thead th {\n",
              "        text-align: right;\n",
              "    }\n",
              "</style>\n",
              "<table border=\"1\" class=\"dataframe\">\n",
              "  <thead>\n",
              "    <tr style=\"text-align: right;\">\n",
              "      <th></th>\n",
              "      <th>Brand</th>\n",
              "      <th>Lift</th>\n",
              "    </tr>\n",
              "  </thead>\n",
              "  <tbody>\n",
              "    <tr>\n",
              "      <th>2</th>\n",
              "      <td>pc</td>\n",
              "      <td>2.062856</td>\n",
              "    </tr>\n",
              "    <tr>\n",
              "      <th>1</th>\n",
              "      <td>ps5</td>\n",
              "      <td>1.589389</td>\n",
              "    </tr>\n",
              "    <tr>\n",
              "      <th>0</th>\n",
              "      <td>xbox</td>\n",
              "      <td>1.470505</td>\n",
              "    </tr>\n",
              "  </tbody>\n",
              "</table>\n",
              "</div>"
            ],
            "text/plain": [
              "  Brand      Lift\n",
              "2    pc  2.062856\n",
              "1   ps5  1.589389\n",
              "0  xbox  1.470505"
            ]
          },
          "metadata": {
            "tags": []
          },
          "execution_count": 73
        }
      ]
    },
    {
      "cell_type": "markdown",
      "metadata": {
        "id": "b9QDBD0IumQ6"
      },
      "source": [
        "Hardcore gamers would prefer to buy a PC. in just PS5 and XBOX, PS5 wins"
      ]
    },
    {
      "cell_type": "markdown",
      "metadata": {
        "id": "y_fLbL-7uwOp"
      },
      "source": [
        "#Sentiment Analysis\n"
      ]
    },
    {
      "cell_type": "markdown",
      "metadata": {
        "id": "cg3NTGaZvIlr"
      },
      "source": [
        "###Word frequency analysis using POS"
      ]
    },
    {
      "cell_type": "code",
      "metadata": {
        "id": "yACk-kGXvL2t",
        "outputId": "3f537204-73ea-4697-d39a-179dc50e6933",
        "colab": {
          "base_uri": "https://localhost:8080/",
          "height": 68
        }
      },
      "source": [
        "from nltk.tokenize import word_tokenize\n",
        "from nltk.probability import FreqDist\n",
        "from nltk.corpus import stopwords\n",
        "from nltk.tokenize import RegexpTokenizer # to remove punctuations\n",
        "import re\n",
        "import nltk\n",
        "nltk.download('punkt')"
      ],
      "execution_count": 34,
      "outputs": [
        {
          "output_type": "stream",
          "text": [
            "[nltk_data] Downloading package punkt to /root/nltk_data...\n",
            "[nltk_data]   Package punkt is already up-to-date!\n"
          ],
          "name": "stdout"
        },
        {
          "output_type": "execute_result",
          "data": {
            "text/plain": [
              "True"
            ]
          },
          "metadata": {
            "tags": []
          },
          "execution_count": 34
        }
      ]
    },
    {
      "cell_type": "code",
      "metadata": {
        "id": "zRBWZqU-xLiy"
      },
      "source": [
        "#clean_comment accepts a string. It then cleans the comment by removing punctuation and stopwords.\n",
        "#It returns a list of words in that string.\n",
        "def clean_comment(comment):\n",
        "    #For cleaning up the test comment. Remove punctuation and make everything lower case.\n",
        "    comment = re.sub(r'[^\\w\\s]','',comment.lower())\n",
        "    \n",
        "    #Syntax translation:\n",
        "    #word can be anything. I choose word since it's what we're essentially doing\n",
        "    #comment.split() converts the comment into a list. \n",
        "    #Then see if the word in that list is in the drop_stop or not. \n",
        "    #Drops any word that is in the stopwords list.\n",
        "    stopwords_list = stopwords.words('english')\n",
        "    #Store this list and return it.\n",
        "    cleaned = [word for word in comment.split() if word not in stopwords_list]\n",
        "    return cleaned"
      ],
      "execution_count": 74,
      "outputs": []
    },
    {
      "cell_type": "code",
      "metadata": {
        "id": "Id9DJ7OBxO4S"
      },
      "source": [
        "#Use function to create a new cleaned body column.\n",
        "rgame['cleaned body'] = rgame['body'].astype(str).apply(clean_comment)"
      ],
      "execution_count": 75,
      "outputs": []
    },
    {
      "cell_type": "code",
      "metadata": {
        "id": "WB5UJNrCvL7M",
        "outputId": "5dbd7b33-2bdc-49a4-9288-f7e7183a29c2",
        "colab": {
          "base_uri": "https://localhost:8080/",
          "height": 785
        }
      },
      "source": [
        "# Obtain POS for the tokens\n",
        "nltk.download('averaged_perceptron_tagger')\n",
        "\n",
        "rgame['pos']=rgame['cleaned body'].apply(nltk.tag.pos_tag)\n",
        "rgame[:5]"
      ],
      "execution_count": 76,
      "outputs": [
        {
          "output_type": "stream",
          "text": [
            "[nltk_data] Downloading package averaged_perceptron_tagger to\n",
            "[nltk_data]     /root/nltk_data...\n",
            "[nltk_data]   Package averaged_perceptron_tagger is already up-to-\n",
            "[nltk_data]       date!\n"
          ],
          "name": "stdout"
        },
        {
          "output_type": "execute_result",
          "data": {
            "text/html": [
              "<div>\n",
              "<style scoped>\n",
              "    .dataframe tbody tr th:only-of-type {\n",
              "        vertical-align: middle;\n",
              "    }\n",
              "\n",
              "    .dataframe tbody tr th {\n",
              "        vertical-align: top;\n",
              "    }\n",
              "\n",
              "    .dataframe thead th {\n",
              "        text-align: right;\n",
              "    }\n",
              "</style>\n",
              "<table border=\"1\" class=\"dataframe\">\n",
              "  <thead>\n",
              "    <tr style=\"text-align: right;\">\n",
              "      <th></th>\n",
              "      <th>submission</th>\n",
              "      <th>author</th>\n",
              "      <th>body</th>\n",
              "      <th>score</th>\n",
              "      <th>created</th>\n",
              "      <th>url_of_post</th>\n",
              "      <th>comments_tokens</th>\n",
              "      <th>comments_unique</th>\n",
              "      <th>attr_tokens</th>\n",
              "      <th>comments_replace</th>\n",
              "      <th>comments_replace_tokens</th>\n",
              "      <th>cleaned body</th>\n",
              "      <th>pos</th>\n",
              "    </tr>\n",
              "  </thead>\n",
              "  <tbody>\n",
              "    <tr>\n",
              "      <th>0</th>\n",
              "      <td>ipfelj</td>\n",
              "      <td>Smallgenie549</td>\n",
              "      <td>PS5 has to be $500 too, right?</td>\n",
              "      <td>1567</td>\n",
              "      <td>1.599657e+09</td>\n",
              "      <td>/r/Games/comments/ipfelj/xbox_series_x_launche...</td>\n",
              "      <td>[ps5, 500, right]</td>\n",
              "      <td>[500, ps5, right]</td>\n",
              "      <td>[]</td>\n",
              "      <td>ps5 has to be $500 too, right?</td>\n",
              "      <td>[500, ps5, right]</td>\n",
              "      <td>[ps5, 500, right]</td>\n",
              "      <td>[(ps5, NN), (500, CD), (right, NN)]</td>\n",
              "    </tr>\n",
              "    <tr>\n",
              "      <th>1</th>\n",
              "      <td>ipfelj</td>\n",
              "      <td>niallmul97</td>\n",
              "      <td>As a PC guy with no real horse in this race, t...</td>\n",
              "      <td>5805</td>\n",
              "      <td>1.599657e+09</td>\n",
              "      <td>/r/Games/comments/ipfelj/xbox_series_x_launche...</td>\n",
              "      <td>[pc, guy, real, horse, race, insane, amount, p...</td>\n",
              "      <td>[499, amount, guy, horse, insane, interested, ...</td>\n",
              "      <td>[]</td>\n",
              "      <td>as a pc guy with no real horse in this race, t...</td>\n",
              "      <td>[499, amount, guy, horse, insane, interested, ...</td>\n",
              "      <td>[pc, guy, real, horse, race, thats, insane, am...</td>\n",
              "      <td>[(pc, NN), (guy, NN), (real, JJ), (horse, NN),...</td>\n",
              "    </tr>\n",
              "    <tr>\n",
              "      <th>2</th>\n",
              "      <td>ipfelj</td>\n",
              "      <td>narutomaki</td>\n",
              "      <td>Well there it is. It's nice to know the releas...</td>\n",
              "      <td>822</td>\n",
              "      <td>1.599657e+09</td>\n",
              "      <td>/r/Games/comments/ipfelj/xbox_series_x_launche...</td>\n",
              "      <td>[well, nice, know, release, date, also, kind, ...</td>\n",
              "      <td>[also, date, decided, due, dump, f, feels, inf...</td>\n",
              "      <td>[]</td>\n",
              "      <td>well there it is. it's nice to know the releas...</td>\n",
              "      <td>[also, date, decided, due, dump, f, feels, inf...</td>\n",
              "      <td>[well, nice, know, release, date, also, kind, ...</td>\n",
              "      <td>[(well, RB), (nice, RB), (know, VBP), (release...</td>\n",
              "    </tr>\n",
              "    <tr>\n",
              "      <th>3</th>\n",
              "      <td>ipfelj</td>\n",
              "      <td>LIGHT_COLLUSION</td>\n",
              "      <td>Did my coffee not kick in yet or is EA Play no...</td>\n",
              "      <td>1585</td>\n",
              "      <td>1.599657e+09</td>\n",
              "      <td>/r/Games/comments/ipfelj/xbox_series_x_launche...</td>\n",
              "      <td>[coffee, kick, yet, ea, play, included, gpu, p...</td>\n",
              "      <td>[09, 10, 100, 2, 20, 2020, 60, able, addition,...</td>\n",
              "      <td>[games, speed]</td>\n",
              "      <td>did my coffee not kick in yet or is ea play no...</td>\n",
              "      <td>[09, 10, 100, 2, 20, 2020, 60, able, addition,...</td>\n",
              "      <td>[coffee, kick, yet, ea, play, included, gpu, p...</td>\n",
              "      <td>[(coffee, NN), (kick, NN), (yet, RB), (ea, JJ)...</td>\n",
              "    </tr>\n",
              "    <tr>\n",
              "      <th>4</th>\n",
              "      <td>ipfelj</td>\n",
              "      <td>firesyrup</td>\n",
              "      <td>I'm surprised they didn't wait for Sony to rev...</td>\n",
              "      <td>384</td>\n",
              "      <td>1.599657e+09</td>\n",
              "      <td>/r/Games/comments/ipfelj/xbox_series_x_launche...</td>\n",
              "      <td>[surprised, wait, sony, reveal, price, ps5, he...</td>\n",
              "      <td>[chicken, glad, headstart, phase, price, ps5, ...</td>\n",
              "      <td>[price]</td>\n",
              "      <td>i'm surprised they didn't wait for sony to rev...</td>\n",
              "      <td>[chicken, glad, headstart, phase, price, ps5, ...</td>\n",
              "      <td>[im, surprised, didnt, wait, sony, reveal, pri...</td>\n",
              "      <td>[(im, NN), (surprised, VBD), (didnt, JJ), (wai...</td>\n",
              "    </tr>\n",
              "  </tbody>\n",
              "</table>\n",
              "</div>"
            ],
            "text/plain": [
              "  submission  ...                                                pos\n",
              "0     ipfelj  ...                [(ps5, NN), (500, CD), (right, NN)]\n",
              "1     ipfelj  ...  [(pc, NN), (guy, NN), (real, JJ), (horse, NN),...\n",
              "2     ipfelj  ...  [(well, RB), (nice, RB), (know, VBP), (release...\n",
              "3     ipfelj  ...  [(coffee, NN), (kick, NN), (yet, RB), (ea, JJ)...\n",
              "4     ipfelj  ...  [(im, NN), (surprised, VBD), (didnt, JJ), (wai...\n",
              "\n",
              "[5 rows x 13 columns]"
            ]
          },
          "metadata": {
            "tags": []
          },
          "execution_count": 76
        }
      ]
    },
    {
      "cell_type": "code",
      "metadata": {
        "id": "Y944CPiMxkFA",
        "outputId": "2f7aaa43-a822-4de4-b58f-3e150f8710e2",
        "colab": {
          "base_uri": "https://localhost:8080/",
          "height": 717
        }
      },
      "source": [
        "# Extract the list of nouns\n",
        "rgame['nouns']=rgame['pos'].apply(lambda pos_list: [x[0] for x in pos_list if x[1].startswith('NN')])\n",
        "rgame[:5]"
      ],
      "execution_count": 77,
      "outputs": [
        {
          "output_type": "execute_result",
          "data": {
            "text/html": [
              "<div>\n",
              "<style scoped>\n",
              "    .dataframe tbody tr th:only-of-type {\n",
              "        vertical-align: middle;\n",
              "    }\n",
              "\n",
              "    .dataframe tbody tr th {\n",
              "        vertical-align: top;\n",
              "    }\n",
              "\n",
              "    .dataframe thead th {\n",
              "        text-align: right;\n",
              "    }\n",
              "</style>\n",
              "<table border=\"1\" class=\"dataframe\">\n",
              "  <thead>\n",
              "    <tr style=\"text-align: right;\">\n",
              "      <th></th>\n",
              "      <th>submission</th>\n",
              "      <th>author</th>\n",
              "      <th>body</th>\n",
              "      <th>score</th>\n",
              "      <th>created</th>\n",
              "      <th>url_of_post</th>\n",
              "      <th>comments_tokens</th>\n",
              "      <th>comments_unique</th>\n",
              "      <th>attr_tokens</th>\n",
              "      <th>comments_replace</th>\n",
              "      <th>comments_replace_tokens</th>\n",
              "      <th>cleaned body</th>\n",
              "      <th>pos</th>\n",
              "      <th>nouns</th>\n",
              "    </tr>\n",
              "  </thead>\n",
              "  <tbody>\n",
              "    <tr>\n",
              "      <th>0</th>\n",
              "      <td>ipfelj</td>\n",
              "      <td>Smallgenie549</td>\n",
              "      <td>PS5 has to be $500 too, right?</td>\n",
              "      <td>1567</td>\n",
              "      <td>1.599657e+09</td>\n",
              "      <td>/r/Games/comments/ipfelj/xbox_series_x_launche...</td>\n",
              "      <td>[ps5, 500, right]</td>\n",
              "      <td>[500, ps5, right]</td>\n",
              "      <td>[]</td>\n",
              "      <td>ps5 has to be $500 too, right?</td>\n",
              "      <td>[500, ps5, right]</td>\n",
              "      <td>[ps5, 500, right]</td>\n",
              "      <td>[(ps5, NN), (500, CD), (right, NN)]</td>\n",
              "      <td>[ps5, right]</td>\n",
              "    </tr>\n",
              "    <tr>\n",
              "      <th>1</th>\n",
              "      <td>ipfelj</td>\n",
              "      <td>niallmul97</td>\n",
              "      <td>As a PC guy with no real horse in this race, t...</td>\n",
              "      <td>5805</td>\n",
              "      <td>1.599657e+09</td>\n",
              "      <td>/r/Games/comments/ipfelj/xbox_series_x_launche...</td>\n",
              "      <td>[pc, guy, real, horse, race, insane, amount, p...</td>\n",
              "      <td>[499, amount, guy, horse, insane, interested, ...</td>\n",
              "      <td>[]</td>\n",
              "      <td>as a pc guy with no real horse in this race, t...</td>\n",
              "      <td>[499, amount, guy, horse, insane, interested, ...</td>\n",
              "      <td>[pc, guy, real, horse, race, thats, insane, am...</td>\n",
              "      <td>[(pc, NN), (guy, NN), (real, JJ), (horse, NN),...</td>\n",
              "      <td>[pc, guy, horse, race, thats, amount, power, i...</td>\n",
              "    </tr>\n",
              "    <tr>\n",
              "      <th>2</th>\n",
              "      <td>ipfelj</td>\n",
              "      <td>narutomaki</td>\n",
              "      <td>Well there it is. It's nice to know the releas...</td>\n",
              "      <td>822</td>\n",
              "      <td>1.599657e+09</td>\n",
              "      <td>/r/Games/comments/ipfelj/xbox_series_x_launche...</td>\n",
              "      <td>[well, nice, know, release, date, also, kind, ...</td>\n",
              "      <td>[also, date, decided, due, dump, f, feels, inf...</td>\n",
              "      <td>[]</td>\n",
              "      <td>well there it is. it's nice to know the releas...</td>\n",
              "      <td>[also, date, decided, due, dump, f, feels, inf...</td>\n",
              "      <td>[well, nice, know, release, date, also, kind, ...</td>\n",
              "      <td>[(well, RB), (nice, RB), (know, VBP), (release...</td>\n",
              "      <td>[release, date, kind, feels, ms, fk, dump, inf...</td>\n",
              "    </tr>\n",
              "    <tr>\n",
              "      <th>3</th>\n",
              "      <td>ipfelj</td>\n",
              "      <td>LIGHT_COLLUSION</td>\n",
              "      <td>Did my coffee not kick in yet or is EA Play no...</td>\n",
              "      <td>1585</td>\n",
              "      <td>1.599657e+09</td>\n",
              "      <td>/r/Games/comments/ipfelj/xbox_series_x_launche...</td>\n",
              "      <td>[coffee, kick, yet, ea, play, included, gpu, p...</td>\n",
              "      <td>[09, 10, 100, 2, 20, 2020, 60, able, addition,...</td>\n",
              "      <td>[games, speed]</td>\n",
              "      <td>did my coffee not kick in yet or is ea play no...</td>\n",
              "      <td>[09, 10, 100, 2, 20, 2020, 60, able, addition,...</td>\n",
              "      <td>[coffee, kick, yet, ea, play, included, gpu, p...</td>\n",
              "      <td>[(coffee, NN), (kick, NN), (yet, RB), (ea, JJ)...</td>\n",
              "      <td>[coffee, kick, play, value, arts, game, pass, ...</td>\n",
              "    </tr>\n",
              "    <tr>\n",
              "      <th>4</th>\n",
              "      <td>ipfelj</td>\n",
              "      <td>firesyrup</td>\n",
              "      <td>I'm surprised they didn't wait for Sony to rev...</td>\n",
              "      <td>384</td>\n",
              "      <td>1.599657e+09</td>\n",
              "      <td>/r/Games/comments/ipfelj/xbox_series_x_launche...</td>\n",
              "      <td>[surprised, wait, sony, reveal, price, ps5, he...</td>\n",
              "      <td>[chicken, glad, headstart, phase, price, ps5, ...</td>\n",
              "      <td>[price]</td>\n",
              "      <td>i'm surprised they didn't wait for sony to rev...</td>\n",
              "      <td>[chicken, glad, headstart, phase, price, ps5, ...</td>\n",
              "      <td>[im, surprised, didnt, wait, sony, reveal, pri...</td>\n",
              "      <td>[(im, NN), (surprised, VBD), (didnt, JJ), (wai...</td>\n",
              "      <td>[im, wait, sony, reveal, price, ps5, headstart...</td>\n",
              "    </tr>\n",
              "  </tbody>\n",
              "</table>\n",
              "</div>"
            ],
            "text/plain": [
              "  submission  ...                                              nouns\n",
              "0     ipfelj  ...                                       [ps5, right]\n",
              "1     ipfelj  ...  [pc, guy, horse, race, thats, amount, power, i...\n",
              "2     ipfelj  ...  [release, date, kind, feels, ms, fk, dump, inf...\n",
              "3     ipfelj  ...  [coffee, kick, play, value, arts, game, pass, ...\n",
              "4     ipfelj  ...  [im, wait, sony, reveal, price, ps5, headstart...\n",
              "\n",
              "[5 rows x 14 columns]"
            ]
          },
          "metadata": {
            "tags": []
          },
          "execution_count": 77
        }
      ]
    },
    {
      "cell_type": "code",
      "metadata": {
        "id": "g7RmT-mQyfx9",
        "outputId": "8cd313aa-7728-4174-b9bd-6f47617c9769",
        "colab": {
          "base_uri": "https://localhost:8080/",
          "height": 359
        }
      },
      "source": [
        "# Filter the noun list only to make the list of attributes \n",
        "noun_lst = rgame['nouns'].apply(pd.Series).stack().unique()\n",
        "\n",
        "# Get the frequencies for the nouns\n",
        "noun_df= pd.DataFrame(noun_lst)\n",
        "noun_df.columns=['nouns']\n",
        "\n",
        "# Join with frequency table and get frequency of all words\n",
        "all_words = rgame['cleaned body'].sum()\n",
        "freq_dist = nltk.FreqDist(all_words)\n",
        "\n",
        "df_fdist=pd.DataFrame(list(freq_dist.items()), columns=['term', 'freq'])\n",
        "\n",
        "noun_freq_df = pd.merge(noun_df, df_fdist, right_on='term', left_on='nouns')\n",
        "noun_freq_df[:10]"
      ],
      "execution_count": 78,
      "outputs": [
        {
          "output_type": "execute_result",
          "data": {
            "text/html": [
              "<div>\n",
              "<style scoped>\n",
              "    .dataframe tbody tr th:only-of-type {\n",
              "        vertical-align: middle;\n",
              "    }\n",
              "\n",
              "    .dataframe tbody tr th {\n",
              "        vertical-align: top;\n",
              "    }\n",
              "\n",
              "    .dataframe thead th {\n",
              "        text-align: right;\n",
              "    }\n",
              "</style>\n",
              "<table border=\"1\" class=\"dataframe\">\n",
              "  <thead>\n",
              "    <tr style=\"text-align: right;\">\n",
              "      <th></th>\n",
              "      <th>nouns</th>\n",
              "      <th>term</th>\n",
              "      <th>freq</th>\n",
              "    </tr>\n",
              "  </thead>\n",
              "  <tbody>\n",
              "    <tr>\n",
              "      <th>0</th>\n",
              "      <td>ps5</td>\n",
              "      <td>ps5</td>\n",
              "      <td>253</td>\n",
              "    </tr>\n",
              "    <tr>\n",
              "      <th>1</th>\n",
              "      <td>right</td>\n",
              "      <td>right</td>\n",
              "      <td>216</td>\n",
              "    </tr>\n",
              "    <tr>\n",
              "      <th>2</th>\n",
              "      <td>pc</td>\n",
              "      <td>pc</td>\n",
              "      <td>261</td>\n",
              "    </tr>\n",
              "    <tr>\n",
              "      <th>3</th>\n",
              "      <td>guy</td>\n",
              "      <td>guy</td>\n",
              "      <td>90</td>\n",
              "    </tr>\n",
              "    <tr>\n",
              "      <th>4</th>\n",
              "      <td>horse</td>\n",
              "      <td>horse</td>\n",
              "      <td>11</td>\n",
              "    </tr>\n",
              "    <tr>\n",
              "      <th>5</th>\n",
              "      <td>race</td>\n",
              "      <td>race</td>\n",
              "      <td>13</td>\n",
              "    </tr>\n",
              "    <tr>\n",
              "      <th>6</th>\n",
              "      <td>thats</td>\n",
              "      <td>thats</td>\n",
              "      <td>495</td>\n",
              "    </tr>\n",
              "    <tr>\n",
              "      <th>7</th>\n",
              "      <td>amount</td>\n",
              "      <td>amount</td>\n",
              "      <td>68</td>\n",
              "    </tr>\n",
              "    <tr>\n",
              "      <th>8</th>\n",
              "      <td>power</td>\n",
              "      <td>power</td>\n",
              "      <td>59</td>\n",
              "    </tr>\n",
              "    <tr>\n",
              "      <th>9</th>\n",
              "      <td>ill</td>\n",
              "      <td>ill</td>\n",
              "      <td>137</td>\n",
              "    </tr>\n",
              "  </tbody>\n",
              "</table>\n",
              "</div>"
            ],
            "text/plain": [
              "    nouns    term  freq\n",
              "0     ps5     ps5   253\n",
              "1   right   right   216\n",
              "2      pc      pc   261\n",
              "3     guy     guy    90\n",
              "4   horse   horse    11\n",
              "5    race    race    13\n",
              "6   thats   thats   495\n",
              "7  amount  amount    68\n",
              "8   power   power    59\n",
              "9     ill     ill   137"
            ]
          },
          "metadata": {
            "tags": []
          },
          "execution_count": 78
        }
      ]
    },
    {
      "cell_type": "markdown",
      "metadata": {
        "id": "JLuA6yzsy2Gt"
      },
      "source": [
        "Not much to be gained from looking at the word frequency "
      ]
    },
    {
      "cell_type": "markdown",
      "metadata": {
        "id": "Hlhwo4Yxy9zn"
      },
      "source": [
        "##Sentiment Analysis"
      ]
    },
    {
      "cell_type": "code",
      "metadata": {
        "id": "TMIyo9_O9X4i"
      },
      "source": [
        "model_brand = pd.read_csv('ps5_xbox.csv', header = None, sep=',')\n",
        "model_brand.columns = ['brand','model']\n",
        "prelim_dict = model_brand.set_index('model').to_dict('index')\n",
        "model_to_brand_dict = {}\n",
        "#Iterate over the prelim dictionary to make a new one.\n",
        "for key,value in prelim_dict.items():\n",
        "    for key1, value1 in value.items():\n",
        "        model_to_brand_dict[key] = value1\n",
        "        "
      ],
      "execution_count": 80,
      "outputs": []
    },
    {
      "cell_type": "code",
      "metadata": {
        "id": "FC8jpZAn9Esu"
      },
      "source": [
        "#Function to replace all of the car models with car brands.\n",
        "#Part 2 of cleaning comments.\n",
        "#Could merge into clean comment but I feel this is more clear.\n",
        "#model_to_brand takes a list of words as a parameter and a model_to_brand_dict.\n",
        "#It then iterates over the list and sees if each word matches a key in the dictionary. \n",
        "#If the word is in the dictionary, it will be converted to a brand.\n",
        "#Specifically, dict[key] gives the value of that key. In this case model: brand.\n",
        "#Returns the word list converted \n",
        "def model_to_brand(word_list,word_dict=model_to_brand_dict):\n",
        "    #Need initial index of -1 to get index 0 for the iteration\n",
        "    index = -1\n",
        "    for word in word_list: #Iterate for every word in the list\n",
        "        index += 1\n",
        "        if word in model_to_brand_dict: #word is a key in the dictionary\n",
        "            #Convert key to value. Model to brand.\n",
        "            word_list[index] = model_to_brand_dict[word]\n",
        "    return word_list"
      ],
      "execution_count": 81,
      "outputs": []
    },
    {
      "cell_type": "code",
      "metadata": {
        "id": "jPlETpyv9ILZ",
        "outputId": "1da241ad-7d13-40ed-d176-8ba3a09d038a",
        "colab": {
          "base_uri": "https://localhost:8080/",
          "height": 1000
        }
      },
      "source": [
        "#Using function to replace models with brands\n",
        "rgame['cleaned body'] = rgame['cleaned body'].map(model_to_brand)\n",
        "maskx = rgame['cleaned body'].str.contains('xbox',regex=False) == True\n",
        "rgamex = rgame[maskx]\n",
        "rgamex\n"
      ],
      "execution_count": 82,
      "outputs": [
        {
          "output_type": "execute_result",
          "data": {
            "text/html": [
              "<div>\n",
              "<style scoped>\n",
              "    .dataframe tbody tr th:only-of-type {\n",
              "        vertical-align: middle;\n",
              "    }\n",
              "\n",
              "    .dataframe tbody tr th {\n",
              "        vertical-align: top;\n",
              "    }\n",
              "\n",
              "    .dataframe thead th {\n",
              "        text-align: right;\n",
              "    }\n",
              "</style>\n",
              "<table border=\"1\" class=\"dataframe\">\n",
              "  <thead>\n",
              "    <tr style=\"text-align: right;\">\n",
              "      <th></th>\n",
              "      <th>submission</th>\n",
              "      <th>author</th>\n",
              "      <th>body</th>\n",
              "      <th>score</th>\n",
              "      <th>created</th>\n",
              "      <th>url_of_post</th>\n",
              "      <th>comments_tokens</th>\n",
              "      <th>comments_unique</th>\n",
              "      <th>attr_tokens</th>\n",
              "      <th>comments_replace</th>\n",
              "      <th>comments_replace_tokens</th>\n",
              "      <th>cleaned body</th>\n",
              "      <th>pos</th>\n",
              "      <th>nouns</th>\n",
              "    </tr>\n",
              "  </thead>\n",
              "  <tbody>\n",
              "    <tr>\n",
              "      <th>3</th>\n",
              "      <td>ipfelj</td>\n",
              "      <td>LIGHT_COLLUSION</td>\n",
              "      <td>Did my coffee not kick in yet or is EA Play no...</td>\n",
              "      <td>1585</td>\n",
              "      <td>1.599657e+09</td>\n",
              "      <td>/r/Games/comments/ipfelj/xbox_series_x_launche...</td>\n",
              "      <td>[coffee, kick, yet, ea, play, included, gpu, p...</td>\n",
              "      <td>[09, 10, 100, 2, 20, 2020, 60, able, addition,...</td>\n",
              "      <td>[games, speed]</td>\n",
              "      <td>did my coffee not kick in yet or is ea play no...</td>\n",
              "      <td>[09, 10, 100, 2, 20, 2020, 60, able, addition,...</td>\n",
              "      <td>[coffee, kick, yet, ea, play, included, gpu, p...</td>\n",
              "      <td>[(coffee, NN), (kick, NN), (yet, RB), (ea, JJ)...</td>\n",
              "      <td>[coffee, kick, play, value, arts, game, pass, ...</td>\n",
              "    </tr>\n",
              "    <tr>\n",
              "      <th>6</th>\n",
              "      <td>ipfelj</td>\n",
              "      <td>IISuperSlothII</td>\n",
              "      <td>Thank fuck the game of chicken is over, can we...</td>\n",
              "      <td>1998</td>\n",
              "      <td>1.599657e+09</td>\n",
              "      <td>/r/Games/comments/ipfelj/xbox_series_x_launche...</td>\n",
              "      <td>[thank, fuck, game, chicken, get, back, showin...</td>\n",
              "      <td>[350, 450, actually, albeit, back, chicken, de...</td>\n",
              "      <td>[games]</td>\n",
              "      <td>thank fuck the game of chicken is over, can we...</td>\n",
              "      <td>[350, 450, actually, albeit, back, chicken, de...</td>\n",
              "      <td>[thank, fuck, game, chicken, get, back, showin...</td>\n",
              "      <td>[(thank, JJ), (fuck, JJ), (game, NN), (chicken...</td>\n",
              "      <td>[game, chicken, games, sony, try, middle, grou...</td>\n",
              "    </tr>\n",
              "    <tr>\n",
              "      <th>14</th>\n",
              "      <td>ipfelj</td>\n",
              "      <td>IrishBros91</td>\n",
              "      <td>Honestly xbox is smashing this so much value f...</td>\n",
              "      <td>123</td>\n",
              "      <td>1.599659e+09</td>\n",
              "      <td>/r/Games/comments/ipfelj/xbox_series_x_launche...</td>\n",
              "      <td>[honestly, xbox, smashing, much, value, gamers...</td>\n",
              "      <td>[casual, consoles, etc, game, gamers, honestly...</td>\n",
              "      <td>[]</td>\n",
              "      <td>honestly xbox is smashing this so much value f...</td>\n",
              "      <td>[casual, consoles, etc, game, gamers, honestly...</td>\n",
              "      <td>[honestly, xbox, smashing, much, value, gamers...</td>\n",
              "      <td>[(honestly, RB), (xbox, VBZ), (smashing, VBG),...</td>\n",
              "      <td>[value, gamers, consoles, game, pass, etc]</td>\n",
              "    </tr>\n",
              "    <tr>\n",
              "      <th>15</th>\n",
              "      <td>ipfelj</td>\n",
              "      <td>flatlinedisaster</td>\n",
              "      <td>Is xbl gold included in the Xbox all game access?</td>\n",
              "      <td>65</td>\n",
              "      <td>1.599658e+09</td>\n",
              "      <td>/r/Games/comments/ipfelj/xbox_series_x_launche...</td>\n",
              "      <td>[xbl, gold, included, xbox, game, access]</td>\n",
              "      <td>[access, game, gold, included, xbl, xbox]</td>\n",
              "      <td>[]</td>\n",
              "      <td>is xbl gold included in the xbox all game access?</td>\n",
              "      <td>[access, game, gold, included, xbl, xbox]</td>\n",
              "      <td>[xbl, gold, included, xbox, game, access]</td>\n",
              "      <td>[(xbl, JJ), (gold, NN), (included, VBD), (xbox...</td>\n",
              "      <td>[gold, game, access]</td>\n",
              "    </tr>\n",
              "    <tr>\n",
              "      <th>37</th>\n",
              "      <td>ipfelj</td>\n",
              "      <td>aulixindragonz34</td>\n",
              "      <td>Nah,the fact that xbox is going first means on...</td>\n",
              "      <td>51</td>\n",
              "      <td>1.599658e+09</td>\n",
              "      <td>/r/Games/comments/ipfelj/xbox_series_x_launche...</td>\n",
              "      <td>[nah, fact, xbox, going, first, means, one, th...</td>\n",
              "      <td>[400, 500, de, fact, first, go, going, gon, is...</td>\n",
              "      <td>[]</td>\n",
              "      <td>nah,the fact that xbox is going first means on...</td>\n",
              "      <td>[400, 500, de, fact, first, go, going, gon, is...</td>\n",
              "      <td>[nahthe, fact, xbox, going, first, means, one,...</td>\n",
              "      <td>[(nahthe, JJ), (fact, NN), (xbox, IN), (going,...</td>\n",
              "      <td>[fact, thing, wont, ps5, isnt, gonna, ps5]</td>\n",
              "    </tr>\n",
              "    <tr>\n",
              "      <th>...</th>\n",
              "      <td>...</td>\n",
              "      <td>...</td>\n",
              "      <td>...</td>\n",
              "      <td>...</td>\n",
              "      <td>...</td>\n",
              "      <td>...</td>\n",
              "      <td>...</td>\n",
              "      <td>...</td>\n",
              "      <td>...</td>\n",
              "      <td>...</td>\n",
              "      <td>...</td>\n",
              "      <td>...</td>\n",
              "      <td>...</td>\n",
              "      <td>...</td>\n",
              "    </tr>\n",
              "    <tr>\n",
              "      <th>6032</th>\n",
              "      <td>ioqpio</td>\n",
              "      <td>queer_pier</td>\n",
              "      <td>Well it obviously did. Their waiting game is f...</td>\n",
              "      <td>323</td>\n",
              "      <td>1.599560e+09</td>\n",
              "      <td>/r/Games/comments/ioqpio/game_say_ps5_announce...</td>\n",
              "      <td>[well, obviously, waiting, game, finally, xbox...</td>\n",
              "      <td>[announced, finally, first, game, intentional,...</td>\n",
              "      <td>[price]</td>\n",
              "      <td>well it obviously did. their waiting game is f...</td>\n",
              "      <td>[announced, finally, first, game, intentional,...</td>\n",
              "      <td>[well, obviously, waiting, game, finally, xbox...</td>\n",
              "      <td>[(well, RB), (obviously, RB), (waiting, VBG), ...</td>\n",
              "      <td>[game, price]</td>\n",
              "    </tr>\n",
              "    <tr>\n",
              "      <th>6035</th>\n",
              "      <td>ioqpio</td>\n",
              "      <td>MartinPerrott</td>\n",
              "      <td>It's not the \"proper\" Xbox though. I doubt a l...</td>\n",
              "      <td>146</td>\n",
              "      <td>1.599560e+09</td>\n",
              "      <td>/r/Games/comments/ioqpio/game_say_ps5_announce...</td>\n",
              "      <td>[proper, xbox, though, doubt, lower, tier, mod...</td>\n",
              "      <td>[action, doubt, lower, model, proper, push, so...</td>\n",
              "      <td>[]</td>\n",
              "      <td>it's not the \"proper\" xbox though. i doubt a l...</td>\n",
              "      <td>[action, doubt, lower, model, proper, push, so...</td>\n",
              "      <td>[proper, xbox, though, doubt, lower, tier, mod...</td>\n",
              "      <td>[(proper, JJ), (xbox, NNP), (though, IN), (dou...</td>\n",
              "      <td>[xbox, doubt, tier, model, action]</td>\n",
              "    </tr>\n",
              "    <tr>\n",
              "      <th>6057</th>\n",
              "      <td>j4wsgi</td>\n",
              "      <td>jasonj2232</td>\n",
              "      <td>From the AV Watch article:\\n\\n&gt;\\[Caption of Im...</td>\n",
              "      <td>190</td>\n",
              "      <td>1.601809e+09</td>\n",
              "      <td>/r/Games/comments/j4wsgi/playstation_5_first_i...</td>\n",
              "      <td>[av, watch, article, caption, image, 1, experi...</td>\n",
              "      <td>[1, 10, 11, 12, 13, 2, 3, 3d, 4, 4k, 5, 5mm, 6...</td>\n",
              "      <td>[games]</td>\n",
              "      <td>from the av watch article:\\n\\n&gt;\\[caption of im...</td>\n",
              "      <td>[1, 10, 11, 12, 13, 2, 3, 3d, 4, 4k, 5, 5mm, 6...</td>\n",
              "      <td>[av, watch, article, caption, image, 1, experi...</td>\n",
              "      <td>[(av, NN), (watch, NN), (article, NN), (captio...</td>\n",
              "      <td>[av, watch, article, caption, image, experienc...</td>\n",
              "    </tr>\n",
              "    <tr>\n",
              "      <th>6058</th>\n",
              "      <td>j4wsgi</td>\n",
              "      <td>MTMxD</td>\n",
              "      <td>I've been jumping around a lot of the Youtuber...</td>\n",
              "      <td>486</td>\n",
              "      <td>1.601808e+09</td>\n",
              "      <td>/r/Games/comments/j4wsgi/playstation_5_first_i...</td>\n",
              "      <td>[jumping, around, lot, youtubers, got, hands, ...</td>\n",
              "      <td>[adaptive, adds, advantage, around, astro, big...</td>\n",
              "      <td>[games]</td>\n",
              "      <td>i've been jumping around a lot of the youtuber...</td>\n",
              "      <td>[adaptive, adds, advantage, around, astro, big...</td>\n",
              "      <td>[ive, jumping, around, lot, youtubers, got, ha...</td>\n",
              "      <td>[(ive, JJ), (jumping, NN), (around, IN), (lot,...</td>\n",
              "      <td>[jumping, lot, youtubers, hands, takeaway, con...</td>\n",
              "    </tr>\n",
              "    <tr>\n",
              "      <th>6065</th>\n",
              "      <td>j4wsgi</td>\n",
              "      <td>Shad0wdar</td>\n",
              "      <td>Yeah I don't think to many devs will use it, t...</td>\n",
              "      <td>74</td>\n",
              "      <td>1.601814e+09</td>\n",
              "      <td>/r/Games/comments/j4wsgi/playstation_5_first_i...</td>\n",
              "      <td>[yeah, think, many, devs, use, xbox, one, cont...</td>\n",
              "      <td>[controller, devs, good, many, motors, one, re...</td>\n",
              "      <td>[]</td>\n",
              "      <td>yeah i don't think to many devs will use it, t...</td>\n",
              "      <td>[controller, devs, good, many, motors, one, re...</td>\n",
              "      <td>[yeah, dont, think, many, devs, use, xbox, one...</td>\n",
              "      <td>[(yeah, RB), (dont, JJ), (think, VBP), (many, ...</td>\n",
              "      <td>[devs, controller, vibration, motors, triggers]</td>\n",
              "    </tr>\n",
              "  </tbody>\n",
              "</table>\n",
              "<p>340 rows × 14 columns</p>\n",
              "</div>"
            ],
            "text/plain": [
              "     submission  ...                                              nouns\n",
              "3        ipfelj  ...  [coffee, kick, play, value, arts, game, pass, ...\n",
              "6        ipfelj  ...  [game, chicken, games, sony, try, middle, grou...\n",
              "14       ipfelj  ...         [value, gamers, consoles, game, pass, etc]\n",
              "15       ipfelj  ...                               [gold, game, access]\n",
              "37       ipfelj  ...         [fact, thing, wont, ps5, isnt, gonna, ps5]\n",
              "...         ...  ...                                                ...\n",
              "6032     ioqpio  ...                                      [game, price]\n",
              "6035     ioqpio  ...                 [xbox, doubt, tier, model, action]\n",
              "6057     j4wsgi  ...  [av, watch, article, caption, image, experienc...\n",
              "6058     j4wsgi  ...  [jumping, lot, youtubers, hands, takeaway, con...\n",
              "6065     j4wsgi  ...    [devs, controller, vibration, motors, triggers]\n",
              "\n",
              "[340 rows x 14 columns]"
            ]
          },
          "metadata": {
            "tags": []
          },
          "execution_count": 82
        }
      ]
    },
    {
      "cell_type": "markdown",
      "metadata": {
        "id": "rNdLB36pzBhL"
      },
      "source": [
        "###Cosine Similarity for xbox"
      ]
    },
    {
      "cell_type": "code",
      "metadata": {
        "id": "btPLdzqPzGQX"
      },
      "source": [
        "#Import everything.\n",
        "import pandas as pd\n",
        "import nltk\n",
        "import matplotlib.pyplot as plt\n",
        "from sklearn import manifold\n",
        "from matplotlib.font_manager import FontProperties\n",
        "import re\n",
        "\n",
        "import nltk\n",
        "from nltk import FreqDist\n",
        "from nltk.corpus import stopwords # Import the stop word list\n",
        "from nltk.tokenize import sent_tokenize, word_tokenize\n",
        "\n",
        "from collections import Counter\n",
        "from itertools import chain"
      ],
      "execution_count": 83,
      "outputs": []
    },
    {
      "cell_type": "code",
      "metadata": {
        "id": "5dS_ZuAAzM13"
      },
      "source": [
        "attributes = ['games','buy','price', 'quality','multiplayer']"
      ],
      "execution_count": 116,
      "outputs": []
    },
    {
      "cell_type": "code",
      "metadata": {
        "id": "_syOH9aKzWwx",
        "outputId": "589169c0-d6f8-4a86-f2b0-b3dc5cb7289a",
        "colab": {
          "base_uri": "https://localhost:8080/",
          "height": 139
        }
      },
      "source": [
        "attributes_nlp = nlp('games, buy, price, quality, multiplayer')\n",
        "def get_similarity(review_words):\n",
        "    text_review = ' '.join(review_words)\n",
        "    review_nlp = nlp(text_review)\n",
        "    return review_nlp.similarity(attributes_nlp)\n",
        "\n",
        "rgamex['similarity'] =  rgamex['cleaned body'].apply(get_similarity)"
      ],
      "execution_count": 84,
      "outputs": [
        {
          "output_type": "stream",
          "text": [
            "/usr/local/lib/python3.6/dist-packages/ipykernel_launcher.py:7: SettingWithCopyWarning: \n",
            "A value is trying to be set on a copy of a slice from a DataFrame.\n",
            "Try using .loc[row_indexer,col_indexer] = value instead\n",
            "\n",
            "See the caveats in the documentation: https://pandas.pydata.org/pandas-docs/stable/user_guide/indexing.html#returning-a-view-versus-a-copy\n",
            "  import sys\n"
          ],
          "name": "stderr"
        }
      ]
    },
    {
      "cell_type": "code",
      "metadata": {
        "id": "cJZGUxBw0BgY",
        "outputId": "831e747f-acac-4946-a0d9-7294c8634a7f",
        "colab": {
          "base_uri": "https://localhost:8080/",
          "height": 204
        }
      },
      "source": [
        "rgamex.groupby('author')['similarity'].mean().reset_index().sort_values(by='similarity',ascending = False).head(5)"
      ],
      "execution_count": 85,
      "outputs": [
        {
          "output_type": "execute_result",
          "data": {
            "text/html": [
              "<div>\n",
              "<style scoped>\n",
              "    .dataframe tbody tr th:only-of-type {\n",
              "        vertical-align: middle;\n",
              "    }\n",
              "\n",
              "    .dataframe tbody tr th {\n",
              "        vertical-align: top;\n",
              "    }\n",
              "\n",
              "    .dataframe thead th {\n",
              "        text-align: right;\n",
              "    }\n",
              "</style>\n",
              "<table border=\"1\" class=\"dataframe\">\n",
              "  <thead>\n",
              "    <tr style=\"text-align: right;\">\n",
              "      <th></th>\n",
              "      <th>author</th>\n",
              "      <th>similarity</th>\n",
              "    </tr>\n",
              "  </thead>\n",
              "  <tbody>\n",
              "    <tr>\n",
              "      <th>97</th>\n",
              "      <td>LIGHT_COLLUSION</td>\n",
              "      <td>0.741307</td>\n",
              "    </tr>\n",
              "    <tr>\n",
              "      <th>220</th>\n",
              "      <td>holocause</td>\n",
              "      <td>0.740975</td>\n",
              "    </tr>\n",
              "    <tr>\n",
              "      <th>229</th>\n",
              "      <td>jeremynsl</td>\n",
              "      <td>0.729901</td>\n",
              "    </tr>\n",
              "    <tr>\n",
              "      <th>137</th>\n",
              "      <td>SERPMarketing</td>\n",
              "      <td>0.729059</td>\n",
              "    </tr>\n",
              "    <tr>\n",
              "      <th>55</th>\n",
              "      <td>Dragull</td>\n",
              "      <td>0.721781</td>\n",
              "    </tr>\n",
              "  </tbody>\n",
              "</table>\n",
              "</div>"
            ],
            "text/plain": [
              "              author  similarity\n",
              "97   LIGHT_COLLUSION    0.741307\n",
              "220        holocause    0.740975\n",
              "229        jeremynsl    0.729901\n",
              "137    SERPMarketing    0.729059\n",
              "55           Dragull    0.721781"
            ]
          },
          "metadata": {
            "tags": []
          },
          "execution_count": 85
        }
      ]
    },
    {
      "cell_type": "markdown",
      "metadata": {
        "id": "ZjKNdyJy0tI_"
      },
      "source": [
        "###Sentiment analysis using vader"
      ]
    },
    {
      "cell_type": "code",
      "metadata": {
        "id": "F9VnYmCu0uD_",
        "outputId": "3b3b5ee8-4872-4d43-8f70-9cc0899be8dc",
        "colab": {
          "base_uri": "https://localhost:8080/",
          "height": 309
        }
      },
      "source": [
        "pip install VADER"
      ],
      "execution_count": 61,
      "outputs": [
        {
          "output_type": "stream",
          "text": [
            "Collecting VADER\n",
            "\u001b[?25l  Downloading https://files.pythonhosted.org/packages/be/0d/df60a0ae9ffb63c409849d2909883963855d10e2ee9a5a71c97be41da300/vader-0.0.2-py3-none-any.whl (45kB)\n",
            "\r\u001b[K     |███████▏                        | 10kB 16.2MB/s eta 0:00:01\r\u001b[K     |██████████████▎                 | 20kB 1.7MB/s eta 0:00:01\r\u001b[K     |█████████████████████▍          | 30kB 2.2MB/s eta 0:00:01\r\u001b[K     |████████████████████████████▌   | 40kB 2.5MB/s eta 0:00:01\r\u001b[K     |████████████████████████████████| 51kB 1.6MB/s \n",
            "\u001b[?25hRequirement already satisfied: numpy in /usr/local/lib/python3.6/dist-packages (from VADER) (1.18.5)\n",
            "Requirement already satisfied: scikit-learn in /usr/local/lib/python3.6/dist-packages (from VADER) (0.22.2.post1)\n",
            "Requirement already satisfied: scipy in /usr/local/lib/python3.6/dist-packages (from VADER) (1.4.1)\n",
            "Collecting sonopy\n",
            "  Downloading https://files.pythonhosted.org/packages/2b/4d/862855fb391bc30351f90d6c50ea913df9d18b0ae3b6b8ef3c7aa3ac976f/sonopy-0.1.2.tar.gz\n",
            "Requirement already satisfied: joblib>=0.11 in /usr/local/lib/python3.6/dist-packages (from scikit-learn->VADER) (0.16.0)\n",
            "Building wheels for collected packages: sonopy\n",
            "  Building wheel for sonopy (setup.py) ... \u001b[?25l\u001b[?25hdone\n",
            "  Created wheel for sonopy: filename=sonopy-0.1.2-cp36-none-any.whl size=2881 sha256=02e75de0af37fd44d070dece0c54e12f52e70f2ffb8b5e0002aa655ac10ecb38\n",
            "  Stored in directory: /root/.cache/pip/wheels/b6/39/ba/b2f21d4fbcb362658c73f83c9502782300b0399aef3693b506\n",
            "Successfully built sonopy\n",
            "Installing collected packages: sonopy, VADER\n",
            "Successfully installed VADER-0.0.2 sonopy-0.1.2\n"
          ],
          "name": "stdout"
        }
      ]
    },
    {
      "cell_type": "code",
      "metadata": {
        "id": "Iqwwjbfx2Ac5",
        "outputId": "ef7fd918-4e6f-4850-fb12-a8c5cafb7ce9",
        "colab": {
          "base_uri": "https://localhost:8080/",
          "height": 71
        }
      },
      "source": [
        "from nltk.sentiment.vader import SentimentIntensityAnalyzer"
      ],
      "execution_count": 86,
      "outputs": [
        {
          "output_type": "stream",
          "text": [
            "/usr/local/lib/python3.6/dist-packages/nltk/twitter/__init__.py:20: UserWarning: The twython library has not been installed. Some functionality from the twitter package will not be available.\n",
            "  warnings.warn(\"The twython library has not been installed. \"\n"
          ],
          "name": "stderr"
        }
      ]
    },
    {
      "cell_type": "code",
      "metadata": {
        "id": "SHfwAcO72I6j"
      },
      "source": [
        "from nltk.tokenize import sent_tokenize\n"
      ],
      "execution_count": 87,
      "outputs": []
    },
    {
      "cell_type": "code",
      "metadata": {
        "id": "bu4bvglCePad",
        "outputId": "245e063e-79d8-4ea3-b961-9ff37da53832",
        "colab": {
          "base_uri": "https://localhost:8080/",
          "height": 1000
        }
      },
      "source": [
        "rgamex"
      ],
      "execution_count": 91,
      "outputs": [
        {
          "output_type": "execute_result",
          "data": {
            "text/html": [
              "<div>\n",
              "<style scoped>\n",
              "    .dataframe tbody tr th:only-of-type {\n",
              "        vertical-align: middle;\n",
              "    }\n",
              "\n",
              "    .dataframe tbody tr th {\n",
              "        vertical-align: top;\n",
              "    }\n",
              "\n",
              "    .dataframe thead th {\n",
              "        text-align: right;\n",
              "    }\n",
              "</style>\n",
              "<table border=\"1\" class=\"dataframe\">\n",
              "  <thead>\n",
              "    <tr style=\"text-align: right;\">\n",
              "      <th></th>\n",
              "      <th>submission</th>\n",
              "      <th>author</th>\n",
              "      <th>body</th>\n",
              "      <th>score</th>\n",
              "      <th>created</th>\n",
              "      <th>url_of_post</th>\n",
              "      <th>comments_tokens</th>\n",
              "      <th>comments_unique</th>\n",
              "      <th>attr_tokens</th>\n",
              "      <th>comments_replace</th>\n",
              "      <th>comments_replace_tokens</th>\n",
              "      <th>cleaned body</th>\n",
              "      <th>pos</th>\n",
              "      <th>nouns</th>\n",
              "      <th>similarity</th>\n",
              "    </tr>\n",
              "  </thead>\n",
              "  <tbody>\n",
              "    <tr>\n",
              "      <th>3</th>\n",
              "      <td>ipfelj</td>\n",
              "      <td>LIGHT_COLLUSION</td>\n",
              "      <td>Did my coffee not kick in yet or is EA Play no...</td>\n",
              "      <td>1585</td>\n",
              "      <td>1.599657e+09</td>\n",
              "      <td>/r/Games/comments/ipfelj/xbox_series_x_launche...</td>\n",
              "      <td>[coffee, kick, yet, ea, play, included, gpu, p...</td>\n",
              "      <td>[09, 10, 100, 2, 20, 2020, 60, able, addition,...</td>\n",
              "      <td>[games, speed]</td>\n",
              "      <td>did my coffee not kick in yet or is ea play no...</td>\n",
              "      <td>[09, 10, 100, 2, 20, 2020, 60, able, addition,...</td>\n",
              "      <td>[coffee, kick, yet, ea, play, included, gpu, p...</td>\n",
              "      <td>[(coffee, NN), (kick, NN), (yet, RB), (ea, JJ)...</td>\n",
              "      <td>[coffee, kick, play, value, arts, game, pass, ...</td>\n",
              "      <td>0.741307</td>\n",
              "    </tr>\n",
              "    <tr>\n",
              "      <th>6</th>\n",
              "      <td>ipfelj</td>\n",
              "      <td>IISuperSlothII</td>\n",
              "      <td>Thank fuck the game of chicken is over, can we...</td>\n",
              "      <td>1998</td>\n",
              "      <td>1.599657e+09</td>\n",
              "      <td>/r/Games/comments/ipfelj/xbox_series_x_launche...</td>\n",
              "      <td>[thank, fuck, game, chicken, get, back, showin...</td>\n",
              "      <td>[350, 450, actually, albeit, back, chicken, de...</td>\n",
              "      <td>[games]</td>\n",
              "      <td>thank fuck the game of chicken is over, can we...</td>\n",
              "      <td>[350, 450, actually, albeit, back, chicken, de...</td>\n",
              "      <td>[thank, fuck, game, chicken, get, back, showin...</td>\n",
              "      <td>[(thank, JJ), (fuck, JJ), (game, NN), (chicken...</td>\n",
              "      <td>[game, chicken, games, sony, try, middle, grou...</td>\n",
              "      <td>0.673219</td>\n",
              "    </tr>\n",
              "    <tr>\n",
              "      <th>14</th>\n",
              "      <td>ipfelj</td>\n",
              "      <td>IrishBros91</td>\n",
              "      <td>Honestly xbox is smashing this so much value f...</td>\n",
              "      <td>123</td>\n",
              "      <td>1.599659e+09</td>\n",
              "      <td>/r/Games/comments/ipfelj/xbox_series_x_launche...</td>\n",
              "      <td>[honestly, xbox, smashing, much, value, gamers...</td>\n",
              "      <td>[casual, consoles, etc, game, gamers, honestly...</td>\n",
              "      <td>[]</td>\n",
              "      <td>honestly xbox is smashing this so much value f...</td>\n",
              "      <td>[casual, consoles, etc, game, gamers, honestly...</td>\n",
              "      <td>[honestly, xbox, smashing, much, value, gamers...</td>\n",
              "      <td>[(honestly, RB), (xbox, VBZ), (smashing, VBG),...</td>\n",
              "      <td>[value, gamers, consoles, game, pass, etc]</td>\n",
              "      <td>0.701690</td>\n",
              "    </tr>\n",
              "    <tr>\n",
              "      <th>15</th>\n",
              "      <td>ipfelj</td>\n",
              "      <td>flatlinedisaster</td>\n",
              "      <td>Is xbl gold included in the Xbox all game access?</td>\n",
              "      <td>65</td>\n",
              "      <td>1.599658e+09</td>\n",
              "      <td>/r/Games/comments/ipfelj/xbox_series_x_launche...</td>\n",
              "      <td>[xbl, gold, included, xbox, game, access]</td>\n",
              "      <td>[access, game, gold, included, xbl, xbox]</td>\n",
              "      <td>[]</td>\n",
              "      <td>is xbl gold included in the xbox all game access?</td>\n",
              "      <td>[access, game, gold, included, xbl, xbox]</td>\n",
              "      <td>[xbl, gold, included, xbox, game, access]</td>\n",
              "      <td>[(xbl, JJ), (gold, NN), (included, VBD), (xbox...</td>\n",
              "      <td>[gold, game, access]</td>\n",
              "      <td>0.601406</td>\n",
              "    </tr>\n",
              "    <tr>\n",
              "      <th>37</th>\n",
              "      <td>ipfelj</td>\n",
              "      <td>aulixindragonz34</td>\n",
              "      <td>Nah,the fact that xbox is going first means on...</td>\n",
              "      <td>51</td>\n",
              "      <td>1.599658e+09</td>\n",
              "      <td>/r/Games/comments/ipfelj/xbox_series_x_launche...</td>\n",
              "      <td>[nah, fact, xbox, going, first, means, one, th...</td>\n",
              "      <td>[400, 500, de, fact, first, go, going, gon, is...</td>\n",
              "      <td>[]</td>\n",
              "      <td>nah,the fact that xbox is going first means on...</td>\n",
              "      <td>[400, 500, de, fact, first, go, going, gon, is...</td>\n",
              "      <td>[nahthe, fact, xbox, going, first, means, one,...</td>\n",
              "      <td>[(nahthe, JJ), (fact, NN), (xbox, IN), (going,...</td>\n",
              "      <td>[fact, thing, wont, ps5, isnt, gonna, ps5]</td>\n",
              "      <td>0.555006</td>\n",
              "    </tr>\n",
              "    <tr>\n",
              "      <th>...</th>\n",
              "      <td>...</td>\n",
              "      <td>...</td>\n",
              "      <td>...</td>\n",
              "      <td>...</td>\n",
              "      <td>...</td>\n",
              "      <td>...</td>\n",
              "      <td>...</td>\n",
              "      <td>...</td>\n",
              "      <td>...</td>\n",
              "      <td>...</td>\n",
              "      <td>...</td>\n",
              "      <td>...</td>\n",
              "      <td>...</td>\n",
              "      <td>...</td>\n",
              "      <td>...</td>\n",
              "    </tr>\n",
              "    <tr>\n",
              "      <th>6032</th>\n",
              "      <td>ioqpio</td>\n",
              "      <td>queer_pier</td>\n",
              "      <td>Well it obviously did. Their waiting game is f...</td>\n",
              "      <td>323</td>\n",
              "      <td>1.599560e+09</td>\n",
              "      <td>/r/Games/comments/ioqpio/game_say_ps5_announce...</td>\n",
              "      <td>[well, obviously, waiting, game, finally, xbox...</td>\n",
              "      <td>[announced, finally, first, game, intentional,...</td>\n",
              "      <td>[price]</td>\n",
              "      <td>well it obviously did. their waiting game is f...</td>\n",
              "      <td>[announced, finally, first, game, intentional,...</td>\n",
              "      <td>[well, obviously, waiting, game, finally, xbox...</td>\n",
              "      <td>[(well, RB), (obviously, RB), (waiting, VBG), ...</td>\n",
              "      <td>[game, price]</td>\n",
              "      <td>0.702749</td>\n",
              "    </tr>\n",
              "    <tr>\n",
              "      <th>6035</th>\n",
              "      <td>ioqpio</td>\n",
              "      <td>MartinPerrott</td>\n",
              "      <td>It's not the \"proper\" Xbox though. I doubt a l...</td>\n",
              "      <td>146</td>\n",
              "      <td>1.599560e+09</td>\n",
              "      <td>/r/Games/comments/ioqpio/game_say_ps5_announce...</td>\n",
              "      <td>[proper, xbox, though, doubt, lower, tier, mod...</td>\n",
              "      <td>[action, doubt, lower, model, proper, push, so...</td>\n",
              "      <td>[]</td>\n",
              "      <td>it's not the \"proper\" xbox though. i doubt a l...</td>\n",
              "      <td>[action, doubt, lower, model, proper, push, so...</td>\n",
              "      <td>[proper, xbox, though, doubt, lower, tier, mod...</td>\n",
              "      <td>[(proper, JJ), (xbox, NNP), (though, IN), (dou...</td>\n",
              "      <td>[xbox, doubt, tier, model, action]</td>\n",
              "      <td>0.661122</td>\n",
              "    </tr>\n",
              "    <tr>\n",
              "      <th>6057</th>\n",
              "      <td>j4wsgi</td>\n",
              "      <td>jasonj2232</td>\n",
              "      <td>From the AV Watch article:\\n\\n&gt;\\[Caption of Im...</td>\n",
              "      <td>190</td>\n",
              "      <td>1.601809e+09</td>\n",
              "      <td>/r/Games/comments/j4wsgi/playstation_5_first_i...</td>\n",
              "      <td>[av, watch, article, caption, image, 1, experi...</td>\n",
              "      <td>[1, 10, 11, 12, 13, 2, 3, 3d, 4, 4k, 5, 5mm, 6...</td>\n",
              "      <td>[games]</td>\n",
              "      <td>from the av watch article:\\n\\n&gt;\\[caption of im...</td>\n",
              "      <td>[1, 10, 11, 12, 13, 2, 3, 3d, 4, 4k, 5, 5mm, 6...</td>\n",
              "      <td>[av, watch, article, caption, image, 1, experi...</td>\n",
              "      <td>[(av, NN), (watch, NN), (article, NN), (captio...</td>\n",
              "      <td>[av, watch, article, caption, image, experienc...</td>\n",
              "      <td>0.661917</td>\n",
              "    </tr>\n",
              "    <tr>\n",
              "      <th>6058</th>\n",
              "      <td>j4wsgi</td>\n",
              "      <td>MTMxD</td>\n",
              "      <td>I've been jumping around a lot of the Youtuber...</td>\n",
              "      <td>486</td>\n",
              "      <td>1.601808e+09</td>\n",
              "      <td>/r/Games/comments/j4wsgi/playstation_5_first_i...</td>\n",
              "      <td>[jumping, around, lot, youtubers, got, hands, ...</td>\n",
              "      <td>[adaptive, adds, advantage, around, astro, big...</td>\n",
              "      <td>[games]</td>\n",
              "      <td>i've been jumping around a lot of the youtuber...</td>\n",
              "      <td>[adaptive, adds, advantage, around, astro, big...</td>\n",
              "      <td>[ive, jumping, around, lot, youtubers, got, ha...</td>\n",
              "      <td>[(ive, JJ), (jumping, NN), (around, IN), (lot,...</td>\n",
              "      <td>[jumping, lot, youtubers, hands, takeaway, con...</td>\n",
              "      <td>0.655267</td>\n",
              "    </tr>\n",
              "    <tr>\n",
              "      <th>6065</th>\n",
              "      <td>j4wsgi</td>\n",
              "      <td>Shad0wdar</td>\n",
              "      <td>Yeah I don't think to many devs will use it, t...</td>\n",
              "      <td>74</td>\n",
              "      <td>1.601814e+09</td>\n",
              "      <td>/r/Games/comments/j4wsgi/playstation_5_first_i...</td>\n",
              "      <td>[yeah, think, many, devs, use, xbox, one, cont...</td>\n",
              "      <td>[controller, devs, good, many, motors, one, re...</td>\n",
              "      <td>[]</td>\n",
              "      <td>yeah i don't think to many devs will use it, t...</td>\n",
              "      <td>[controller, devs, good, many, motors, one, re...</td>\n",
              "      <td>[yeah, dont, think, many, devs, use, xbox, one...</td>\n",
              "      <td>[(yeah, RB), (dont, JJ), (think, VBP), (many, ...</td>\n",
              "      <td>[devs, controller, vibration, motors, triggers]</td>\n",
              "      <td>0.605158</td>\n",
              "    </tr>\n",
              "  </tbody>\n",
              "</table>\n",
              "<p>340 rows × 15 columns</p>\n",
              "</div>"
            ],
            "text/plain": [
              "     submission  ... similarity\n",
              "3        ipfelj  ...   0.741307\n",
              "6        ipfelj  ...   0.673219\n",
              "14       ipfelj  ...   0.701690\n",
              "15       ipfelj  ...   0.601406\n",
              "37       ipfelj  ...   0.555006\n",
              "...         ...  ...        ...\n",
              "6032     ioqpio  ...   0.702749\n",
              "6035     ioqpio  ...   0.661122\n",
              "6057     j4wsgi  ...   0.661917\n",
              "6058     j4wsgi  ...   0.655267\n",
              "6065     j4wsgi  ...   0.605158\n",
              "\n",
              "[340 rows x 15 columns]"
            ]
          },
          "metadata": {
            "tags": []
          },
          "execution_count": 91
        }
      ]
    },
    {
      "cell_type": "code",
      "metadata": {
        "id": "fS4BO6Gw2O5I"
      },
      "source": [
        "#Create dataframe with original reviews\n",
        "sent_games = rgamex[['author','body']].copy()\n",
        "#Add in columns to store sentiment for the attributes\n",
        "sent_games['games_sentiment'] = 0\n",
        "sent_games['buy_sentiment'] = 0\n",
        "sent_games['price_sentiment'] = 0\n",
        "sent_games['quality_sentiment'] = 0\n",
        "sent_games['multiplayer_sentiment'] = 0\n"
      ],
      "execution_count": 92,
      "outputs": []
    },
    {
      "cell_type": "code",
      "metadata": {
        "id": "flm7IiKH2UO5",
        "outputId": "a5b5be20-a608-42a6-f782-31be5ce66a65",
        "colab": {
          "base_uri": "https://localhost:8080/",
          "height": 51
        }
      },
      "source": [
        "nltk.download('vader_lexicon')\n",
        "vader = SentimentIntensityAnalyzer()"
      ],
      "execution_count": 89,
      "outputs": [
        {
          "output_type": "stream",
          "text": [
            "[nltk_data] Downloading package vader_lexicon to /root/nltk_data...\n",
            "[nltk_data]   Package vader_lexicon is already up-to-date!\n"
          ],
          "name": "stdout"
        }
      ]
    },
    {
      "cell_type": "code",
      "metadata": {
        "id": "DDBz8-uF2aY-"
      },
      "source": [
        "#Iterrate through the dataframe\n",
        "for i in sent_games.index:\n",
        "    #Get a review and split it into sentence tokens\n",
        "    review = sent_games.loc[i,'body']\n",
        "    review = sent_tokenize(review)\n",
        "    \n",
        "    #Store score values here\n",
        "    #Resets every time loop runs. This is intentional.\n",
        "    comp_games = []\n",
        "    comp_buy = []\n",
        "    comp_price = []\n",
        "    comp_quality = []\n",
        "    comp_multiplayer = []\n",
        "    \n",
        "    #Iterate through the sentence tokens. Get compound sentiment score if the word is present.\n",
        "    for sent_token in review:\n",
        "        if 'games' in sent_token.lower():\n",
        "            games_score = vader.polarity_scores(sent_token).get('compound')\n",
        "            comp_games.append(games_score)\n",
        "            \n",
        "        if 'buy' in sent_token.lower():\n",
        "            buy_score = vader.polarity_scores(sent_token).get('compound')\n",
        "            comp_buy.append(buy_score)\n",
        "            \n",
        "        if 'price' in sent_token.lower():\n",
        "            price_score = vader.polarity_scores(sent_token).get('compound')\n",
        "            comp_price.append(price_score)\n",
        "        if 'quality' in sent_token.lower():\n",
        "            quality_score = vader.polarity_scores(sent_token).get('compound')\n",
        "            comp_quality.append(quality_score)\n",
        "        if 'multiplayer' in sent_token.lower():\n",
        "            multiplayer_score = vader.polarity_scores(sent_token).get('compound')\n",
        "            comp_multiplayer.append(multiplayer_score)\n",
        "    \n",
        "    #Store each sentiment score in the array\n",
        "    if len(comp_games) == 0: #Nothing is in the list. No sentiment for the review.\n",
        "        sent_games.loc[i,'games_sentiment'] = None\n",
        "    else: #Balanced is in the review. Take the average of the list and store it.\n",
        "        #Taking average means to convert it into a numpy array and then using the np.mean\n",
        "        sent_games.loc[i,'games_sentiment'] = np.mean(np.array(comp_games))\n",
        "    \n",
        "    #Repeat conditions for attributes.\n",
        "    if len(comp_buy) == 0:\n",
        "        sent_games.loc[i,'buy_sentiment'] = None\n",
        "    else:\n",
        "        sent_games.loc[i,'buy_sentiment'] = np.mean(np.array(comp_buy))\n",
        "    if len(comp_price) == 0:\n",
        "        sent_games.loc[i,'price_sentiment'] = None\n",
        "    else:\n",
        "        sent_games.loc[i,'price_sentiment'] = np.mean(np.array(comp_price))\n",
        "    if len(comp_quality) == 0:\n",
        "        sent_games.loc[i,'quality_sentiment'] = None\n",
        "    else:\n",
        "        sent_games.loc[i,'quality_sentiment'] = np.mean(np.array(comp_quality))\n",
        "    if len(comp_multiplayer) == 0:\n",
        "        sent_games.loc[i,'multiplayer_sentiment'] = None\n",
        "    else:\n",
        "        sent_games.loc[i,'multiplayer_sentiment'] = np.mean(np.array(comp_multiplayer))"
      ],
      "execution_count": 96,
      "outputs": []
    },
    {
      "cell_type": "code",
      "metadata": {
        "id": "ZIHR831J2lHC"
      },
      "source": [
        "#Group all the sentiments of the review together\n",
        "avg_sent_games = sent_games.groupby(by=[\"author\"])[[\"games_sentiment\", \"buy_sentiment\", \"price_sentiment\",\"quality_sentiment\",\"multiplayer_sentiment\"]].mean()"
      ],
      "execution_count": 97,
      "outputs": []
    },
    {
      "cell_type": "code",
      "metadata": {
        "id": "P17gDzwX2pYy"
      },
      "source": [
        "#Sentiments that are not present are treated as Zero. \n",
        "#Want to pinpoint comments based on attributes.\n",
        "#Mean is simply adding five columns together and dividng by 5\n",
        "avg_sent_games['average_sentiment'] = (avg_sent_games['games_sentiment'].fillna(0)+avg_sent_games['buy_sentiment'].fillna(0)\n",
        " +avg_sent_games['price_sentiment'].fillna(0)+avg_sent_games['quality_sentiment'].fillna(0)+avg_sent_games['multiplayer_sentiment'].fillna(0))/5"
      ],
      "execution_count": 98,
      "outputs": []
    },
    {
      "cell_type": "code",
      "metadata": {
        "id": "Do5Q-dYA2tgb",
        "outputId": "d04e3622-3b8c-4d5b-e527-4c47476d47aa",
        "colab": {
          "base_uri": "https://localhost:8080/",
          "height": 470
        }
      },
      "source": [
        "avg_sent_games.sort_values(by='average_sentiment', ascending = False).fillna(0)"
      ],
      "execution_count": 106,
      "outputs": [
        {
          "output_type": "execute_result",
          "data": {
            "text/html": [
              "<div>\n",
              "<style scoped>\n",
              "    .dataframe tbody tr th:only-of-type {\n",
              "        vertical-align: middle;\n",
              "    }\n",
              "\n",
              "    .dataframe tbody tr th {\n",
              "        vertical-align: top;\n",
              "    }\n",
              "\n",
              "    .dataframe thead th {\n",
              "        text-align: right;\n",
              "    }\n",
              "</style>\n",
              "<table border=\"1\" class=\"dataframe\">\n",
              "  <thead>\n",
              "    <tr style=\"text-align: right;\">\n",
              "      <th></th>\n",
              "      <th>games_sentiment</th>\n",
              "      <th>buy_sentiment</th>\n",
              "      <th>price_sentiment</th>\n",
              "      <th>quality_sentiment</th>\n",
              "      <th>multiplayer_sentiment</th>\n",
              "      <th>average_sentiment</th>\n",
              "    </tr>\n",
              "    <tr>\n",
              "      <th>author</th>\n",
              "      <th></th>\n",
              "      <th></th>\n",
              "      <th></th>\n",
              "      <th></th>\n",
              "      <th></th>\n",
              "      <th></th>\n",
              "    </tr>\n",
              "  </thead>\n",
              "  <tbody>\n",
              "    <tr>\n",
              "      <th>uss_wstar</th>\n",
              "      <td>0.659700</td>\n",
              "      <td>0.0000</td>\n",
              "      <td>0.0000</td>\n",
              "      <td>0.6597</td>\n",
              "      <td>0.0000</td>\n",
              "      <td>0.263880</td>\n",
              "    </tr>\n",
              "    <tr>\n",
              "      <th>lingitiz</th>\n",
              "      <td>0.624900</td>\n",
              "      <td>0.6808</td>\n",
              "      <td>0.0000</td>\n",
              "      <td>0.0000</td>\n",
              "      <td>0.0000</td>\n",
              "      <td>0.261140</td>\n",
              "    </tr>\n",
              "    <tr>\n",
              "      <th>SERPMarketing</th>\n",
              "      <td>0.644400</td>\n",
              "      <td>0.0000</td>\n",
              "      <td>0.6444</td>\n",
              "      <td>0.0000</td>\n",
              "      <td>0.0000</td>\n",
              "      <td>0.257760</td>\n",
              "    </tr>\n",
              "    <tr>\n",
              "      <th>gharnyar</th>\n",
              "      <td>0.768400</td>\n",
              "      <td>0.4939</td>\n",
              "      <td>0.0000</td>\n",
              "      <td>0.0000</td>\n",
              "      <td>0.0000</td>\n",
              "      <td>0.252460</td>\n",
              "    </tr>\n",
              "    <tr>\n",
              "      <th>theMTNdewd</th>\n",
              "      <td>0.599400</td>\n",
              "      <td>0.5994</td>\n",
              "      <td>0.0000</td>\n",
              "      <td>0.0000</td>\n",
              "      <td>0.0000</td>\n",
              "      <td>0.239760</td>\n",
              "    </tr>\n",
              "    <tr>\n",
              "      <th>...</th>\n",
              "      <td>...</td>\n",
              "      <td>...</td>\n",
              "      <td>...</td>\n",
              "      <td>...</td>\n",
              "      <td>...</td>\n",
              "      <td>...</td>\n",
              "    </tr>\n",
              "    <tr>\n",
              "      <th>PCMasterCucks</th>\n",
              "      <td>0.000000</td>\n",
              "      <td>0.0000</td>\n",
              "      <td>-0.5574</td>\n",
              "      <td>0.0000</td>\n",
              "      <td>0.0000</td>\n",
              "      <td>-0.111480</td>\n",
              "    </tr>\n",
              "    <tr>\n",
              "      <th>Vancocillin</th>\n",
              "      <td>-0.677833</td>\n",
              "      <td>0.0000</td>\n",
              "      <td>0.0000</td>\n",
              "      <td>0.0000</td>\n",
              "      <td>0.0000</td>\n",
              "      <td>-0.135567</td>\n",
              "    </tr>\n",
              "    <tr>\n",
              "      <th>FickleSmark</th>\n",
              "      <td>-0.713000</td>\n",
              "      <td>0.0000</td>\n",
              "      <td>0.0000</td>\n",
              "      <td>0.0000</td>\n",
              "      <td>0.0000</td>\n",
              "      <td>-0.142600</td>\n",
              "    </tr>\n",
              "    <tr>\n",
              "      <th>jeremynsl</th>\n",
              "      <td>-0.361200</td>\n",
              "      <td>0.0000</td>\n",
              "      <td>0.0000</td>\n",
              "      <td>0.0000</td>\n",
              "      <td>-0.3612</td>\n",
              "      <td>-0.144480</td>\n",
              "    </tr>\n",
              "    <tr>\n",
              "      <th>cjcolt</th>\n",
              "      <td>-0.636900</td>\n",
              "      <td>0.0000</td>\n",
              "      <td>-0.6369</td>\n",
              "      <td>0.0000</td>\n",
              "      <td>0.0000</td>\n",
              "      <td>-0.254760</td>\n",
              "    </tr>\n",
              "  </tbody>\n",
              "</table>\n",
              "<p>301 rows × 6 columns</p>\n",
              "</div>"
            ],
            "text/plain": [
              "               games_sentiment  ...  average_sentiment\n",
              "author                          ...                   \n",
              "uss_wstar             0.659700  ...           0.263880\n",
              "lingitiz              0.624900  ...           0.261140\n",
              "SERPMarketing         0.644400  ...           0.257760\n",
              "gharnyar              0.768400  ...           0.252460\n",
              "theMTNdewd            0.599400  ...           0.239760\n",
              "...                        ...  ...                ...\n",
              "PCMasterCucks         0.000000  ...          -0.111480\n",
              "Vancocillin          -0.677833  ...          -0.135567\n",
              "FickleSmark          -0.713000  ...          -0.142600\n",
              "jeremynsl            -0.361200  ...          -0.144480\n",
              "cjcolt               -0.636900  ...          -0.254760\n",
              "\n",
              "[301 rows x 6 columns]"
            ]
          },
          "metadata": {
            "tags": []
          },
          "execution_count": 106
        }
      ]
    },
    {
      "cell_type": "code",
      "metadata": {
        "id": "cTq0ws8chRTk",
        "outputId": "19039a1a-de72-4694-d2c9-13e84f82328d",
        "colab": {
          "base_uri": "https://localhost:8080/",
          "height": 136
        }
      },
      "source": [
        "avg_sent_gamesx = avg_sent_games.apply('mean')\n",
        "avg_sent_gamesx"
      ],
      "execution_count": 115,
      "outputs": [
        {
          "output_type": "execute_result",
          "data": {
            "text/plain": [
              "games_sentiment          0.221269\n",
              "buy_sentiment            0.220196\n",
              "price_sentiment          0.063085\n",
              "quality_sentiment        0.278700\n",
              "multiplayer_sentiment    0.248500\n",
              "average_sentiment        0.018921\n",
              "dtype: float64"
            ]
          },
          "metadata": {
            "tags": []
          },
          "execution_count": 115
        }
      ]
    },
    {
      "cell_type": "markdown",
      "metadata": {
        "id": "9eVgyXvZh8Py"
      },
      "source": [
        "##Sentiment Analysis PS5"
      ]
    },
    {
      "cell_type": "markdown",
      "metadata": {
        "id": "PeGKwNL4iDY1"
      },
      "source": [
        "###Cosine Similarity\n"
      ]
    },
    {
      "cell_type": "code",
      "metadata": {
        "id": "UNmPQEFliGJM",
        "outputId": "083fda4e-3b5a-401c-fe41-eed133611451",
        "colab": {
          "base_uri": "https://localhost:8080/",
          "height": 1000
        }
      },
      "source": [
        "maskp = rgame['cleaned body'].str.contains('ps5',regex=False) == True\n",
        "rgamep = rgame[maskp]\n",
        "rgamep"
      ],
      "execution_count": 116,
      "outputs": [
        {
          "output_type": "execute_result",
          "data": {
            "text/html": [
              "<div>\n",
              "<style scoped>\n",
              "    .dataframe tbody tr th:only-of-type {\n",
              "        vertical-align: middle;\n",
              "    }\n",
              "\n",
              "    .dataframe tbody tr th {\n",
              "        vertical-align: top;\n",
              "    }\n",
              "\n",
              "    .dataframe thead th {\n",
              "        text-align: right;\n",
              "    }\n",
              "</style>\n",
              "<table border=\"1\" class=\"dataframe\">\n",
              "  <thead>\n",
              "    <tr style=\"text-align: right;\">\n",
              "      <th></th>\n",
              "      <th>submission</th>\n",
              "      <th>author</th>\n",
              "      <th>body</th>\n",
              "      <th>score</th>\n",
              "      <th>created</th>\n",
              "      <th>url_of_post</th>\n",
              "      <th>comments_tokens</th>\n",
              "      <th>comments_unique</th>\n",
              "      <th>attr_tokens</th>\n",
              "      <th>comments_replace</th>\n",
              "      <th>comments_replace_tokens</th>\n",
              "      <th>cleaned body</th>\n",
              "      <th>pos</th>\n",
              "      <th>nouns</th>\n",
              "    </tr>\n",
              "  </thead>\n",
              "  <tbody>\n",
              "    <tr>\n",
              "      <th>0</th>\n",
              "      <td>ipfelj</td>\n",
              "      <td>Smallgenie549</td>\n",
              "      <td>PS5 has to be $500 too, right?</td>\n",
              "      <td>1567</td>\n",
              "      <td>1.599657e+09</td>\n",
              "      <td>/r/Games/comments/ipfelj/xbox_series_x_launche...</td>\n",
              "      <td>[ps5, 500, right]</td>\n",
              "      <td>[500, ps5, right]</td>\n",
              "      <td>[]</td>\n",
              "      <td>ps5 has to be $500 too, right?</td>\n",
              "      <td>[500, ps5, right]</td>\n",
              "      <td>[ps5, 500, right]</td>\n",
              "      <td>[(ps5, NN), (500, CD), (right, NN)]</td>\n",
              "      <td>[ps5, right]</td>\n",
              "    </tr>\n",
              "    <tr>\n",
              "      <th>4</th>\n",
              "      <td>ipfelj</td>\n",
              "      <td>firesyrup</td>\n",
              "      <td>I'm surprised they didn't wait for Sony to rev...</td>\n",
              "      <td>384</td>\n",
              "      <td>1.599657e+09</td>\n",
              "      <td>/r/Games/comments/ipfelj/xbox_series_x_launche...</td>\n",
              "      <td>[surprised, wait, sony, reveal, price, ps5, he...</td>\n",
              "      <td>[chicken, glad, headstart, phase, price, ps5, ...</td>\n",
              "      <td>[price]</td>\n",
              "      <td>i'm surprised they didn't wait for sony to rev...</td>\n",
              "      <td>[chicken, glad, headstart, phase, price, ps5, ...</td>\n",
              "      <td>[im, surprised, didnt, wait, sony, reveal, pri...</td>\n",
              "      <td>[(im, NN), (surprised, VBD), (didnt, JJ), (wai...</td>\n",
              "      <td>[im, wait, sony, reveal, price, ps5, headstart...</td>\n",
              "    </tr>\n",
              "    <tr>\n",
              "      <th>8</th>\n",
              "      <td>ipfelj</td>\n",
              "      <td>BlueWizard69</td>\n",
              "      <td>It’s finally over. \\n\\nI think at this point w...</td>\n",
              "      <td>542</td>\n",
              "      <td>1.599657e+09</td>\n",
              "      <td>/r/Games/comments/ipfelj/xbox_series_x_launche...</td>\n",
              "      <td>[finally, think, point, except, ps5, disc, dri...</td>\n",
              "      <td>[400, 500, cheap, damn, digital, disc, drive, ...</td>\n",
              "      <td>[]</td>\n",
              "      <td>it’s finally over. \\n\\ni think at this point w...</td>\n",
              "      <td>[400, 500, cheap, damn, digital, disc, drive, ...</td>\n",
              "      <td>[finally, think, point, except, ps5, disc, dri...</td>\n",
              "      <td>[(finally, RB), (think, VB), (point, NN), (exc...</td>\n",
              "      <td>[point, drive, match, ps5, end, everything]</td>\n",
              "    </tr>\n",
              "    <tr>\n",
              "      <th>11</th>\n",
              "      <td>ipfelj</td>\n",
              "      <td>RyanVN</td>\n",
              "      <td>Sony can drive a wedge between the Series S/X ...</td>\n",
              "      <td>259</td>\n",
              "      <td>1.599657e+09</td>\n",
              "      <td>/r/Games/comments/ipfelj/xbox_series_x_launche...</td>\n",
              "      <td>[sony, drive, wedge, series, x, ps5, digital, ...</td>\n",
              "      <td>[399, digital, drive, edition, imo, lower, ps5...</td>\n",
              "      <td>[]</td>\n",
              "      <td>sony can drive a wedge between the series s/x ...</td>\n",
              "      <td>[399, digital, drive, edition, imo, lower, ps5...</td>\n",
              "      <td>[sony, drive, wedge, series, sx, ps5, digital,...</td>\n",
              "      <td>[(sony, NN), (drive, NN), (wedge, NN), (series...</td>\n",
              "      <td>[sony, drive, wedge, series, sx, edition, imo]</td>\n",
              "    </tr>\n",
              "    <tr>\n",
              "      <th>12</th>\n",
              "      <td>ipfelj</td>\n",
              "      <td>galvingreen</td>\n",
              "      <td>Actually I really like the way Microsoft is pr...</td>\n",
              "      <td>111</td>\n",
              "      <td>1.599658e+09</td>\n",
              "      <td>/r/Games/comments/ipfelj/xbox_series_x_launche...</td>\n",
              "      <td>[actually, really, like, way, microsoft, proce...</td>\n",
              "      <td>[299, 399, 499, actually, also, awesome, bette...</td>\n",
              "      <td>[buy, games, price]</td>\n",
              "      <td>actually i really like the way microsoft is pr...</td>\n",
              "      <td>[299, 399, 499, actually, also, aspiration, aw...</td>\n",
              "      <td>[actually, really, like, way, microsoft, proce...</td>\n",
              "      <td>[(actually, RB), (really, RB), (like, JJ), (wa...</td>\n",
              "      <td>[way, series, budget, group, students, gamers,...</td>\n",
              "    </tr>\n",
              "    <tr>\n",
              "      <th>...</th>\n",
              "      <td>...</td>\n",
              "      <td>...</td>\n",
              "      <td>...</td>\n",
              "      <td>...</td>\n",
              "      <td>...</td>\n",
              "      <td>...</td>\n",
              "      <td>...</td>\n",
              "      <td>...</td>\n",
              "      <td>...</td>\n",
              "      <td>...</td>\n",
              "      <td>...</td>\n",
              "      <td>...</td>\n",
              "      <td>...</td>\n",
              "      <td>...</td>\n",
              "    </tr>\n",
              "    <tr>\n",
              "      <th>6057</th>\n",
              "      <td>j4wsgi</td>\n",
              "      <td>jasonj2232</td>\n",
              "      <td>From the AV Watch article:\\n\\n&gt;\\[Caption of Im...</td>\n",
              "      <td>190</td>\n",
              "      <td>1.601809e+09</td>\n",
              "      <td>/r/Games/comments/j4wsgi/playstation_5_first_i...</td>\n",
              "      <td>[av, watch, article, caption, image, 1, experi...</td>\n",
              "      <td>[1, 10, 11, 12, 13, 2, 3, 3d, 4, 4k, 5, 5mm, 6...</td>\n",
              "      <td>[games]</td>\n",
              "      <td>from the av watch article:\\n\\n&gt;\\[caption of im...</td>\n",
              "      <td>[1, 10, 11, 12, 13, 2, 3, 3d, 4, 4k, 5, 5mm, 6...</td>\n",
              "      <td>[av, watch, article, caption, image, 1, experi...</td>\n",
              "      <td>[(av, NN), (watch, NN), (article, NN), (captio...</td>\n",
              "      <td>[av, watch, article, caption, image, experienc...</td>\n",
              "    </tr>\n",
              "    <tr>\n",
              "      <th>6062</th>\n",
              "      <td>j4wsgi</td>\n",
              "      <td>feratul</td>\n",
              "      <td>This is just average japanese ads of their new...</td>\n",
              "      <td>128</td>\n",
              "      <td>1.601810e+09</td>\n",
              "      <td>/r/Games/comments/j4wsgi/playstation_5_first_i...</td>\n",
              "      <td>[average, japanese, ads, new, console, many, c...</td>\n",
              "      <td>[ads, announcement, another, average, console,...</td>\n",
              "      <td>[]</td>\n",
              "      <td>this is just average japanese ads of their new...</td>\n",
              "      <td>[ads, announcement, another, average, console,...</td>\n",
              "      <td>[average, japanese, ads, new, console, many, c...</td>\n",
              "      <td>[(average, JJ), (japanese, JJ), (ads, NNS), (n...</td>\n",
              "      <td>[ads, cut, video, sense, upgrade, tho, convinc...</td>\n",
              "    </tr>\n",
              "    <tr>\n",
              "      <th>6063</th>\n",
              "      <td>j4wsgi</td>\n",
              "      <td>jasonj2232</td>\n",
              "      <td># The \"integrated gaming experience\" felt from...</td>\n",
              "      <td>84</td>\n",
              "      <td>1.601810e+09</td>\n",
              "      <td>/r/Games/comments/j4wsgi/playstation_5_first_i...</td>\n",
              "      <td>[integrated, gaming, experience, felt, dualsen...</td>\n",
              "      <td>[14, 15, 16, 17, 3d, 4, accompanied, accordanc...</td>\n",
              "      <td>[games, online, quality]</td>\n",
              "      <td># the \"integrated gaming experience\" felt from...</td>\n",
              "      <td>[14, 15, 16, 17, 3d, 4, accompanied, accordanc...</td>\n",
              "      <td>[integrated, gaming, experience, felt, dualsen...</td>\n",
              "      <td>[(integrated, JJ), (gaming, VBG), (experience,...</td>\n",
              "      <td>[experience, time, move, gameplay, titles, pla...</td>\n",
              "    </tr>\n",
              "    <tr>\n",
              "      <th>6067</th>\n",
              "      <td>j4wsgi</td>\n",
              "      <td>jasonj2232</td>\n",
              "      <td>According to the article by AV Watch, you can'...</td>\n",
              "      <td>162</td>\n",
              "      <td>1.601810e+09</td>\n",
              "      <td>/r/Games/comments/j4wsgi/playstation_5_first_i...</td>\n",
              "      <td>[according, article, av, watch, make, noise, a...</td>\n",
              "      <td>[4, 5, according, afar, apparently, article, a...</td>\n",
              "      <td>[]</td>\n",
              "      <td>according to the article by av watch, you can'...</td>\n",
              "      <td>[4, 5, according, afar, apparently, article, a...</td>\n",
              "      <td>[according, article, av, watch, cant, make, no...</td>\n",
              "      <td>[(according, VBG), (article, NN), (av, NN), (w...</td>\n",
              "      <td>[article, av, watch, cant, noise, afar, unit, ...</td>\n",
              "    </tr>\n",
              "    <tr>\n",
              "      <th>6070</th>\n",
              "      <td>j4wsgi</td>\n",
              "      <td>jasonj2232</td>\n",
              "      <td># No load time, \"instant redo\\n\\n&gt;Now let's mo...</td>\n",
              "      <td>93</td>\n",
              "      <td>1.601810e+09</td>\n",
              "      <td>/r/Games/comments/j4wsgi/playstation_5_first_i...</td>\n",
              "      <td>[load, time, instant, redo, let, move, next, t...</td>\n",
              "      <td>[100, 18, 19, 20, 2d, 3d, able, acquire, actio...</td>\n",
              "      <td>[games, speed]</td>\n",
              "      <td># no load time, \"instant redo\\n\\n&gt;now let's mo...</td>\n",
              "      <td>[100, 18, 19, 20, 2d, 3d, able, acquire, actio...</td>\n",
              "      <td>[load, time, instant, redo, lets, move, next, ...</td>\n",
              "      <td>[(load, NN), (time, NN), (instant, JJ), (redo,...</td>\n",
              "      <td>[load, time, redo, lets, title, title, ps5, la...</td>\n",
              "    </tr>\n",
              "  </tbody>\n",
              "</table>\n",
              "<p>248 rows × 14 columns</p>\n",
              "</div>"
            ],
            "text/plain": [
              "     submission  ...                                              nouns\n",
              "0        ipfelj  ...                                       [ps5, right]\n",
              "4        ipfelj  ...  [im, wait, sony, reveal, price, ps5, headstart...\n",
              "8        ipfelj  ...        [point, drive, match, ps5, end, everything]\n",
              "11       ipfelj  ...     [sony, drive, wedge, series, sx, edition, imo]\n",
              "12       ipfelj  ...  [way, series, budget, group, students, gamers,...\n",
              "...         ...  ...                                                ...\n",
              "6057     j4wsgi  ...  [av, watch, article, caption, image, experienc...\n",
              "6062     j4wsgi  ...  [ads, cut, video, sense, upgrade, tho, convinc...\n",
              "6063     j4wsgi  ...  [experience, time, move, gameplay, titles, pla...\n",
              "6067     j4wsgi  ...  [article, av, watch, cant, noise, afar, unit, ...\n",
              "6070     j4wsgi  ...  [load, time, redo, lets, title, title, ps5, la...\n",
              "\n",
              "[248 rows x 14 columns]"
            ]
          },
          "metadata": {
            "tags": []
          },
          "execution_count": 116
        }
      ]
    },
    {
      "cell_type": "markdown",
      "metadata": {
        "id": "DqZ68p1zl7MT"
      },
      "source": [
        "###Cosine similarity for ps5"
      ]
    },
    {
      "cell_type": "code",
      "metadata": {
        "id": "HfPC4Cvel0kD",
        "outputId": "2ed4df25-d5bf-4569-d6d2-c914c9a5e4d4",
        "colab": {
          "base_uri": "https://localhost:8080/",
          "height": 139
        }
      },
      "source": [
        "attributes_nlp = nlp('games, buy, price, quality, multiplayer')\n",
        "def get_similarity(review_words):\n",
        "    text_review = ' '.join(review_words)\n",
        "    review_nlp = nlp(text_review)\n",
        "    return review_nlp.similarity(attributes_nlp)\n",
        "\n",
        "rgamep['similarity'] =  rgamep['cleaned body'].apply(get_similarity)"
      ],
      "execution_count": 117,
      "outputs": [
        {
          "output_type": "stream",
          "text": [
            "/usr/local/lib/python3.6/dist-packages/ipykernel_launcher.py:7: SettingWithCopyWarning: \n",
            "A value is trying to be set on a copy of a slice from a DataFrame.\n",
            "Try using .loc[row_indexer,col_indexer] = value instead\n",
            "\n",
            "See the caveats in the documentation: https://pandas.pydata.org/pandas-docs/stable/user_guide/indexing.html#returning-a-view-versus-a-copy\n",
            "  import sys\n"
          ],
          "name": "stderr"
        }
      ]
    },
    {
      "cell_type": "code",
      "metadata": {
        "id": "Hdsw0chAmJF0",
        "outputId": "b1c07beb-ae8a-42f1-e4d8-95bc83cee542",
        "colab": {
          "base_uri": "https://localhost:8080/",
          "height": 204
        }
      },
      "source": [
        "rgamep.groupby('author')['similarity'].mean().reset_index().sort_values(by='similarity',ascending = False).head(5)"
      ],
      "execution_count": 118,
      "outputs": [
        {
          "output_type": "execute_result",
          "data": {
            "text/html": [
              "<div>\n",
              "<style scoped>\n",
              "    .dataframe tbody tr th:only-of-type {\n",
              "        vertical-align: middle;\n",
              "    }\n",
              "\n",
              "    .dataframe tbody tr th {\n",
              "        vertical-align: top;\n",
              "    }\n",
              "\n",
              "    .dataframe thead th {\n",
              "        text-align: right;\n",
              "    }\n",
              "</style>\n",
              "<table border=\"1\" class=\"dataframe\">\n",
              "  <thead>\n",
              "    <tr style=\"text-align: right;\">\n",
              "      <th></th>\n",
              "      <th>author</th>\n",
              "      <th>similarity</th>\n",
              "    </tr>\n",
              "  </thead>\n",
              "  <tbody>\n",
              "    <tr>\n",
              "      <th>155</th>\n",
              "      <td>galvingreen</td>\n",
              "      <td>0.728760</td>\n",
              "    </tr>\n",
              "    <tr>\n",
              "      <th>27</th>\n",
              "      <td>DuckSaxaphone</td>\n",
              "      <td>0.722503</td>\n",
              "    </tr>\n",
              "    <tr>\n",
              "      <th>121</th>\n",
              "      <td>Timmar92</td>\n",
              "      <td>0.722329</td>\n",
              "    </tr>\n",
              "    <tr>\n",
              "      <th>215</th>\n",
              "      <td>xRIOSxx</td>\n",
              "      <td>0.716612</td>\n",
              "    </tr>\n",
              "    <tr>\n",
              "      <th>49</th>\n",
              "      <td>JDBriggsBlader</td>\n",
              "      <td>0.716256</td>\n",
              "    </tr>\n",
              "  </tbody>\n",
              "</table>\n",
              "</div>"
            ],
            "text/plain": [
              "             author  similarity\n",
              "155     galvingreen    0.728760\n",
              "27    DuckSaxaphone    0.722503\n",
              "121        Timmar92    0.722329\n",
              "215         xRIOSxx    0.716612\n",
              "49   JDBriggsBlader    0.716256"
            ]
          },
          "metadata": {
            "tags": []
          },
          "execution_count": 118
        }
      ]
    },
    {
      "cell_type": "markdown",
      "metadata": {
        "id": "GXYhmtcSmMbF"
      },
      "source": [
        "###Sentiment analysis using vader"
      ]
    },
    {
      "cell_type": "code",
      "metadata": {
        "id": "zyOyahRjmPml"
      },
      "source": [
        "#Create dataframe with original reviews\n",
        "sent_games = rgamep[['author','body']].copy()\n",
        "#Add in columns to store sentiment for the attributes\n",
        "sent_games['games_sentiment'] = 0\n",
        "sent_games['buy_sentiment'] = 0\n",
        "sent_games['price_sentiment'] = 0\n",
        "sent_games['quality_sentiment'] = 0\n",
        "sent_games['multiplayer_sentiment'] = 0"
      ],
      "execution_count": 119,
      "outputs": []
    },
    {
      "cell_type": "code",
      "metadata": {
        "id": "Ds2PUFpOmiBs"
      },
      "source": [
        "#Iterrate through the dataframe\n",
        "for i in sent_games.index:\n",
        "    #Get a review and split it into sentence tokens\n",
        "    review = sent_games.loc[i,'body']\n",
        "    review = sent_tokenize(review)\n",
        "    \n",
        "    #Store score values here\n",
        "    #Resets every time loop runs. This is intentional.\n",
        "    comp_games = []\n",
        "    comp_buy = []\n",
        "    comp_price = []\n",
        "    comp_quality = []\n",
        "    comp_multiplayer = []\n",
        "    \n",
        "    #Iterate through the sentence tokens. Get compound sentiment score if the word is present.\n",
        "    for sent_token in review:\n",
        "        if 'games' in sent_token.lower():\n",
        "            games_score = vader.polarity_scores(sent_token).get('compound')\n",
        "            comp_games.append(games_score)\n",
        "            \n",
        "        if 'buy' in sent_token.lower():\n",
        "            buy_score = vader.polarity_scores(sent_token).get('compound')\n",
        "            comp_buy.append(buy_score)\n",
        "            \n",
        "        if 'price' in sent_token.lower():\n",
        "            price_score = vader.polarity_scores(sent_token).get('compound')\n",
        "            comp_price.append(price_score)\n",
        "        if 'quality' in sent_token.lower():\n",
        "            quality_score = vader.polarity_scores(sent_token).get('compound')\n",
        "            comp_quality.append(quality_score)\n",
        "        if 'multiplayer' in sent_token.lower():\n",
        "            multiplayer_score = vader.polarity_scores(sent_token).get('compound')\n",
        "            comp_multiplayer.append(multiplayer_score)\n",
        "    \n",
        "    #Store each sentiment score in the array\n",
        "    if len(comp_games) == 0: #Nothing is in the list. No sentiment for the review.\n",
        "        sent_games.loc[i,'games_sentiment'] = None\n",
        "    else: #Balanced is in the review. Take the average of the list and store it.\n",
        "        #Taking average means to convert it into a numpy array and then using the np.mean\n",
        "        sent_games.loc[i,'games_sentiment'] = np.mean(np.array(comp_games))\n",
        "    \n",
        "    #Repeat conditions for attributes.\n",
        "    if len(comp_buy) == 0:\n",
        "        sent_games.loc[i,'buy_sentiment'] = None\n",
        "    else:\n",
        "        sent_games.loc[i,'buy_sentiment'] = np.mean(np.array(comp_buy))\n",
        "    if len(comp_price) == 0:\n",
        "        sent_games.loc[i,'price_sentiment'] = None\n",
        "    else:\n",
        "        sent_games.loc[i,'price_sentiment'] = np.mean(np.array(comp_price))\n",
        "    if len(comp_quality) == 0:\n",
        "        sent_games.loc[i,'quality_sentiment'] = None\n",
        "    else:\n",
        "        sent_games.loc[i,'quality_sentiment'] = np.mean(np.array(comp_quality))\n",
        "    if len(comp_multiplayer) == 0:\n",
        "        sent_games.loc[i,'multiplayer_sentiment'] = None\n",
        "    else:\n",
        "        sent_games.loc[i,'multiplayer_sentiment'] = np.mean(np.array(comp_multiplayer))"
      ],
      "execution_count": 120,
      "outputs": []
    },
    {
      "cell_type": "code",
      "metadata": {
        "id": "uMA3EdvumpCK"
      },
      "source": [
        "#Group all the sentiments of the review together\n",
        "avg_sent_games = sent_games.groupby(by=[\"author\"])[[\"games_sentiment\", \"buy_sentiment\", \"price_sentiment\",\"quality_sentiment\",\"multiplayer_sentiment\"]].mean()"
      ],
      "execution_count": 121,
      "outputs": []
    },
    {
      "cell_type": "code",
      "metadata": {
        "id": "OeHmL51Zmtb_"
      },
      "source": [
        "#Sentiments that are not present are treated as Zero. \n",
        "#Want to pinpoint comments based on attributes.\n",
        "#Mean is simply adding five columns together and dividng by 5\n",
        "avg_sent_games['average_sentiment'] = (avg_sent_games['games_sentiment'].fillna(0)+avg_sent_games['buy_sentiment'].fillna(0)\n",
        " +avg_sent_games['price_sentiment'].fillna(0)+avg_sent_games['quality_sentiment'].fillna(0)+avg_sent_games['multiplayer_sentiment'].fillna(0))/5"
      ],
      "execution_count": 122,
      "outputs": []
    },
    {
      "cell_type": "code",
      "metadata": {
        "id": "AotR7mi5muR1",
        "outputId": "b2ed7158-636f-4190-802b-03a1287e6f84",
        "colab": {
          "base_uri": "https://localhost:8080/",
          "height": 470
        }
      },
      "source": [
        "avg_sent_games.sort_values(by='average_sentiment', ascending = False).fillna(0)"
      ],
      "execution_count": 123,
      "outputs": [
        {
          "output_type": "execute_result",
          "data": {
            "text/html": [
              "<div>\n",
              "<style scoped>\n",
              "    .dataframe tbody tr th:only-of-type {\n",
              "        vertical-align: middle;\n",
              "    }\n",
              "\n",
              "    .dataframe tbody tr th {\n",
              "        vertical-align: top;\n",
              "    }\n",
              "\n",
              "    .dataframe thead th {\n",
              "        text-align: right;\n",
              "    }\n",
              "</style>\n",
              "<table border=\"1\" class=\"dataframe\">\n",
              "  <thead>\n",
              "    <tr style=\"text-align: right;\">\n",
              "      <th></th>\n",
              "      <th>games_sentiment</th>\n",
              "      <th>buy_sentiment</th>\n",
              "      <th>price_sentiment</th>\n",
              "      <th>quality_sentiment</th>\n",
              "      <th>multiplayer_sentiment</th>\n",
              "      <th>average_sentiment</th>\n",
              "    </tr>\n",
              "    <tr>\n",
              "      <th>author</th>\n",
              "      <th></th>\n",
              "      <th></th>\n",
              "      <th></th>\n",
              "      <th></th>\n",
              "      <th></th>\n",
              "      <th></th>\n",
              "    </tr>\n",
              "  </thead>\n",
              "  <tbody>\n",
              "    <tr>\n",
              "      <th>Timmar92</th>\n",
              "      <td>0.766900</td>\n",
              "      <td>0.00000</td>\n",
              "      <td>0.440400</td>\n",
              "      <td>0.0</td>\n",
              "      <td>0.0</td>\n",
              "      <td>0.241460</td>\n",
              "    </tr>\n",
              "    <tr>\n",
              "      <th>TheJoshider10</th>\n",
              "      <td>0.000000</td>\n",
              "      <td>0.31715</td>\n",
              "      <td>0.676500</td>\n",
              "      <td>0.0</td>\n",
              "      <td>0.0</td>\n",
              "      <td>0.198730</td>\n",
              "    </tr>\n",
              "    <tr>\n",
              "      <th>SteveRudzinski</th>\n",
              "      <td>0.527967</td>\n",
              "      <td>0.42045</td>\n",
              "      <td>0.000000</td>\n",
              "      <td>0.0</td>\n",
              "      <td>0.0</td>\n",
              "      <td>0.189683</td>\n",
              "    </tr>\n",
              "    <tr>\n",
              "      <th>Kaellian</th>\n",
              "      <td>0.340000</td>\n",
              "      <td>0.52780</td>\n",
              "      <td>0.000000</td>\n",
              "      <td>0.0</td>\n",
              "      <td>0.0</td>\n",
              "      <td>0.173560</td>\n",
              "    </tr>\n",
              "    <tr>\n",
              "      <th>poklane</th>\n",
              "      <td>0.858800</td>\n",
              "      <td>0.00000</td>\n",
              "      <td>0.000000</td>\n",
              "      <td>0.0</td>\n",
              "      <td>0.0</td>\n",
              "      <td>0.171760</td>\n",
              "    </tr>\n",
              "    <tr>\n",
              "      <th>...</th>\n",
              "      <td>...</td>\n",
              "      <td>...</td>\n",
              "      <td>...</td>\n",
              "      <td>...</td>\n",
              "      <td>...</td>\n",
              "      <td>...</td>\n",
              "    </tr>\n",
              "    <tr>\n",
              "      <th>xenopunk</th>\n",
              "      <td>-0.478133</td>\n",
              "      <td>0.00000</td>\n",
              "      <td>0.000000</td>\n",
              "      <td>0.0</td>\n",
              "      <td>0.0</td>\n",
              "      <td>-0.095627</td>\n",
              "    </tr>\n",
              "    <tr>\n",
              "      <th>king_grushnug</th>\n",
              "      <td>0.000000</td>\n",
              "      <td>0.00000</td>\n",
              "      <td>-0.511033</td>\n",
              "      <td>0.0</td>\n",
              "      <td>0.0</td>\n",
              "      <td>-0.102207</td>\n",
              "    </tr>\n",
              "    <tr>\n",
              "      <th>Adootmoon</th>\n",
              "      <td>-0.591300</td>\n",
              "      <td>0.00000</td>\n",
              "      <td>0.000000</td>\n",
              "      <td>0.0</td>\n",
              "      <td>0.0</td>\n",
              "      <td>-0.118260</td>\n",
              "    </tr>\n",
              "    <tr>\n",
              "      <th>zippopwnage</th>\n",
              "      <td>-0.179850</td>\n",
              "      <td>-0.26040</td>\n",
              "      <td>-0.260400</td>\n",
              "      <td>0.0</td>\n",
              "      <td>0.0</td>\n",
              "      <td>-0.140130</td>\n",
              "    </tr>\n",
              "    <tr>\n",
              "      <th>Meng3267</th>\n",
              "      <td>-0.361200</td>\n",
              "      <td>-0.36120</td>\n",
              "      <td>0.000000</td>\n",
              "      <td>0.0</td>\n",
              "      <td>0.0</td>\n",
              "      <td>-0.144480</td>\n",
              "    </tr>\n",
              "  </tbody>\n",
              "</table>\n",
              "<p>219 rows × 6 columns</p>\n",
              "</div>"
            ],
            "text/plain": [
              "                games_sentiment  ...  average_sentiment\n",
              "author                           ...                   \n",
              "Timmar92               0.766900  ...           0.241460\n",
              "TheJoshider10          0.000000  ...           0.198730\n",
              "SteveRudzinski         0.527967  ...           0.189683\n",
              "Kaellian               0.340000  ...           0.173560\n",
              "poklane                0.858800  ...           0.171760\n",
              "...                         ...  ...                ...\n",
              "xenopunk              -0.478133  ...          -0.095627\n",
              "king_grushnug          0.000000  ...          -0.102207\n",
              "Adootmoon             -0.591300  ...          -0.118260\n",
              "zippopwnage           -0.179850  ...          -0.140130\n",
              "Meng3267              -0.361200  ...          -0.144480\n",
              "\n",
              "[219 rows x 6 columns]"
            ]
          },
          "metadata": {
            "tags": []
          },
          "execution_count": 123
        }
      ]
    },
    {
      "cell_type": "code",
      "metadata": {
        "id": "OVq4JLi-m2Wz",
        "outputId": "816de7f8-91fa-4fa9-e8f0-9f04f8599b34",
        "colab": {
          "base_uri": "https://localhost:8080/",
          "height": 136
        }
      },
      "source": [
        "avg_sent_gamesp = avg_sent_games.apply('mean')\n",
        "avg_sent_gamesp"
      ],
      "execution_count": 125,
      "outputs": [
        {
          "output_type": "execute_result",
          "data": {
            "text/plain": [
              "games_sentiment          0.224718\n",
              "buy_sentiment            0.137686\n",
              "price_sentiment          0.016591\n",
              "quality_sentiment        0.422700\n",
              "multiplayer_sentiment    0.508900\n",
              "average_sentiment        0.019251\n",
              "dtype: float64"
            ]
          },
          "metadata": {
            "tags": []
          },
          "execution_count": 125
        }
      ]
    }
  ]
}