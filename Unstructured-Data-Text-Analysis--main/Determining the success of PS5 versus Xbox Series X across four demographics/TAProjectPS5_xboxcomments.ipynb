{
  "nbformat": 4,
  "nbformat_minor": 0,
  "metadata": {
    "colab": {
      "name": "TAProjectPS5-xboxcomments.ipynb",
      "provenance": [],
      "collapsed_sections": []
    },
    "kernelspec": {
      "name": "python3",
      "display_name": "Python 3"
    }
  },
  "cells": [
    {
      "cell_type": "code",
      "metadata": {
        "id": "QlmB5Ozc0Yhz",
        "outputId": "76ae7ea3-d4d4-486a-b22c-71be2f662144",
        "colab": {
          "base_uri": "https://localhost:8080/",
          "height": 445
        }
      },
      "source": [
        "!python -m spacy download en_core_web_lg"
      ],
      "execution_count": 1,
      "outputs": [
        {
          "output_type": "stream",
          "text": [
            "Requirement already satisfied: en_core_web_lg==2.2.5 from https://github.com/explosion/spacy-models/releases/download/en_core_web_lg-2.2.5/en_core_web_lg-2.2.5.tar.gz#egg=en_core_web_lg==2.2.5 in /usr/local/lib/python3.6/dist-packages (2.2.5)\n",
            "Requirement already satisfied: spacy>=2.2.2 in /usr/local/lib/python3.6/dist-packages (from en_core_web_lg==2.2.5) (2.2.4)\n",
            "Requirement already satisfied: srsly<1.1.0,>=1.0.2 in /usr/local/lib/python3.6/dist-packages (from spacy>=2.2.2->en_core_web_lg==2.2.5) (1.0.2)\n",
            "Requirement already satisfied: preshed<3.1.0,>=3.0.2 in /usr/local/lib/python3.6/dist-packages (from spacy>=2.2.2->en_core_web_lg==2.2.5) (3.0.2)\n",
            "Requirement already satisfied: setuptools in /usr/local/lib/python3.6/dist-packages (from spacy>=2.2.2->en_core_web_lg==2.2.5) (50.3.0)\n",
            "Requirement already satisfied: thinc==7.4.0 in /usr/local/lib/python3.6/dist-packages (from spacy>=2.2.2->en_core_web_lg==2.2.5) (7.4.0)\n",
            "Requirement already satisfied: blis<0.5.0,>=0.4.0 in /usr/local/lib/python3.6/dist-packages (from spacy>=2.2.2->en_core_web_lg==2.2.5) (0.4.1)\n",
            "Requirement already satisfied: tqdm<5.0.0,>=4.38.0 in /usr/local/lib/python3.6/dist-packages (from spacy>=2.2.2->en_core_web_lg==2.2.5) (4.41.1)\n",
            "Requirement already satisfied: numpy>=1.15.0 in /usr/local/lib/python3.6/dist-packages (from spacy>=2.2.2->en_core_web_lg==2.2.5) (1.18.5)\n",
            "Requirement already satisfied: murmurhash<1.1.0,>=0.28.0 in /usr/local/lib/python3.6/dist-packages (from spacy>=2.2.2->en_core_web_lg==2.2.5) (1.0.2)\n",
            "Requirement already satisfied: cymem<2.1.0,>=2.0.2 in /usr/local/lib/python3.6/dist-packages (from spacy>=2.2.2->en_core_web_lg==2.2.5) (2.0.3)\n",
            "Requirement already satisfied: requests<3.0.0,>=2.13.0 in /usr/local/lib/python3.6/dist-packages (from spacy>=2.2.2->en_core_web_lg==2.2.5) (2.23.0)\n",
            "Requirement already satisfied: plac<1.2.0,>=0.9.6 in /usr/local/lib/python3.6/dist-packages (from spacy>=2.2.2->en_core_web_lg==2.2.5) (1.1.3)\n",
            "Requirement already satisfied: catalogue<1.1.0,>=0.0.7 in /usr/local/lib/python3.6/dist-packages (from spacy>=2.2.2->en_core_web_lg==2.2.5) (1.0.0)\n",
            "Requirement already satisfied: wasabi<1.1.0,>=0.4.0 in /usr/local/lib/python3.6/dist-packages (from spacy>=2.2.2->en_core_web_lg==2.2.5) (0.8.0)\n",
            "Requirement already satisfied: certifi>=2017.4.17 in /usr/local/lib/python3.6/dist-packages (from requests<3.0.0,>=2.13.0->spacy>=2.2.2->en_core_web_lg==2.2.5) (2020.6.20)\n",
            "Requirement already satisfied: idna<3,>=2.5 in /usr/local/lib/python3.6/dist-packages (from requests<3.0.0,>=2.13.0->spacy>=2.2.2->en_core_web_lg==2.2.5) (2.10)\n",
            "Requirement already satisfied: urllib3!=1.25.0,!=1.25.1,<1.26,>=1.21.1 in /usr/local/lib/python3.6/dist-packages (from requests<3.0.0,>=2.13.0->spacy>=2.2.2->en_core_web_lg==2.2.5) (1.24.3)\n",
            "Requirement already satisfied: chardet<4,>=3.0.2 in /usr/local/lib/python3.6/dist-packages (from requests<3.0.0,>=2.13.0->spacy>=2.2.2->en_core_web_lg==2.2.5) (3.0.4)\n",
            "Requirement already satisfied: importlib-metadata>=0.20; python_version < \"3.8\" in /usr/local/lib/python3.6/dist-packages (from catalogue<1.1.0,>=0.0.7->spacy>=2.2.2->en_core_web_lg==2.2.5) (2.0.0)\n",
            "Requirement already satisfied: zipp>=0.5 in /usr/local/lib/python3.6/dist-packages (from importlib-metadata>=0.20; python_version < \"3.8\"->catalogue<1.1.0,>=0.0.7->spacy>=2.2.2->en_core_web_lg==2.2.5) (3.2.0)\n",
            "\u001b[38;5;2m✔ Download and installation successful\u001b[0m\n",
            "You can now load the model via spacy.load('en_core_web_lg')\n"
          ],
          "name": "stdout"
        }
      ]
    },
    {
      "cell_type": "code",
      "metadata": {
        "id": "1e79Ovtu0rxc"
      },
      "source": [
        "import spacy\n",
        "import numpy as np\n",
        "from sklearn.metrics.pairwise import cosine_similarity\n",
        "from sklearn.feature_extraction.text import CountVectorizer\n",
        "import pandas as pd\n",
        "import en_core_web_lg"
      ],
      "execution_count": 2,
      "outputs": []
    },
    {
      "cell_type": "code",
      "metadata": {
        "id": "3Hh7CJbF0scb"
      },
      "source": [
        "nlp = spacy.load('en_core_web_lg')"
      ],
      "execution_count": 3,
      "outputs": []
    },
    {
      "cell_type": "code",
      "metadata": {
        "id": "EdcYckRFA1GJ",
        "outputId": "01169594-efcb-4028-d619-3c1973fc9f83",
        "colab": {
          "base_uri": "https://localhost:8080/",
          "height": 281
        }
      },
      "source": [
        "#Read in the scrape results\n",
        "rgames = pd.read_csv('/content/rxboxone_comments.csv')#,sep = '\\t')\n",
        "rgames[:5]"
      ],
      "execution_count": 4,
      "outputs": [
        {
          "output_type": "execute_result",
          "data": {
            "text/html": [
              "<div>\n",
              "<style scoped>\n",
              "    .dataframe tbody tr th:only-of-type {\n",
              "        vertical-align: middle;\n",
              "    }\n",
              "\n",
              "    .dataframe tbody tr th {\n",
              "        vertical-align: top;\n",
              "    }\n",
              "\n",
              "    .dataframe thead th {\n",
              "        text-align: right;\n",
              "    }\n",
              "</style>\n",
              "<table border=\"1\" class=\"dataframe\">\n",
              "  <thead>\n",
              "    <tr style=\"text-align: right;\">\n",
              "      <th></th>\n",
              "      <th>submission</th>\n",
              "      <th>author</th>\n",
              "      <th>body</th>\n",
              "      <th>score</th>\n",
              "      <th>created</th>\n",
              "      <th>url_of_post</th>\n",
              "    </tr>\n",
              "  </thead>\n",
              "  <tbody>\n",
              "    <tr>\n",
              "      <th>0</th>\n",
              "      <td>e9xirg</td>\n",
              "      <td>therealtinnyhippo</td>\n",
              "      <td>Some extra info, courtesy of this official Mic...</td>\n",
              "      <td>2348</td>\n",
              "      <td>1.576209e+09</td>\n",
              "      <td>/r/xboxone/comments/e9xirg/xbox_series_x_world...</td>\n",
              "    </tr>\n",
              "    <tr>\n",
              "      <th>1</th>\n",
              "      <td>e9xirg</td>\n",
              "      <td>IndieAdmirer</td>\n",
              "      <td>[The state of this sub come Holiday 2020. ](ht...</td>\n",
              "      <td>3439</td>\n",
              "      <td>1.576205e+09</td>\n",
              "      <td>/r/xboxone/comments/e9xirg/xbox_series_x_world...</td>\n",
              "    </tr>\n",
              "    <tr>\n",
              "      <th>2</th>\n",
              "      <td>e9xirg</td>\n",
              "      <td>NaN</td>\n",
              "      <td>At the very least it looks like it's going to ...</td>\n",
              "      <td>3805</td>\n",
              "      <td>1.576204e+09</td>\n",
              "      <td>/r/xboxone/comments/e9xirg/xbox_series_x_world...</td>\n",
              "    </tr>\n",
              "    <tr>\n",
              "      <th>3</th>\n",
              "      <td>e9xirg</td>\n",
              "      <td>shugo2000</td>\n",
              "      <td>Did *not* see that coming tonight!!</td>\n",
              "      <td>3046</td>\n",
              "      <td>1.576203e+09</td>\n",
              "      <td>/r/xboxone/comments/e9xirg/xbox_series_x_world...</td>\n",
              "    </tr>\n",
              "    <tr>\n",
              "      <th>4</th>\n",
              "      <td>e9xirg</td>\n",
              "      <td>DrNick1221</td>\n",
              "      <td>Holy crap thats a lot more.... vertical than I...</td>\n",
              "      <td>3964</td>\n",
              "      <td>1.576203e+09</td>\n",
              "      <td>/r/xboxone/comments/e9xirg/xbox_series_x_world...</td>\n",
              "    </tr>\n",
              "  </tbody>\n",
              "</table>\n",
              "</div>"
            ],
            "text/plain": [
              "  submission  ...                                        url_of_post\n",
              "0     e9xirg  ...  /r/xboxone/comments/e9xirg/xbox_series_x_world...\n",
              "1     e9xirg  ...  /r/xboxone/comments/e9xirg/xbox_series_x_world...\n",
              "2     e9xirg  ...  /r/xboxone/comments/e9xirg/xbox_series_x_world...\n",
              "3     e9xirg  ...  /r/xboxone/comments/e9xirg/xbox_series_x_world...\n",
              "4     e9xirg  ...  /r/xboxone/comments/e9xirg/xbox_series_x_world...\n",
              "\n",
              "[5 rows x 6 columns]"
            ]
          },
          "metadata": {
            "tags": []
          },
          "execution_count": 4
        }
      ]
    },
    {
      "cell_type": "markdown",
      "metadata": {
        "id": "aUMxGCS6DATA"
      },
      "source": [
        "###Attribute frequency to determine top five"
      ]
    },
    {
      "cell_type": "code",
      "metadata": {
        "id": "AAx5fJy-A7Is",
        "outputId": "6034019f-bb3a-443b-df83-3b4bdb07a57d",
        "colab": {
          "base_uri": "https://localhost:8080/",
          "height": 52
        }
      },
      "source": [
        "import nltk\n",
        "import re\n",
        "nltk.download('stopwords')\n",
        "#We need to filter out stopwords\n",
        "from nltk.corpus import stopwords\n",
        "#Use nltk's stopwords list\n",
        "stopwords_list = stopwords.words('english')"
      ],
      "execution_count": 5,
      "outputs": [
        {
          "output_type": "stream",
          "text": [
            "[nltk_data] Downloading package stopwords to /root/nltk_data...\n",
            "[nltk_data]   Package stopwords is already up-to-date!\n"
          ],
          "name": "stdout"
        }
      ]
    },
    {
      "cell_type": "code",
      "metadata": {
        "id": "i8CEJpR_CNZa"
      },
      "source": [
        "#clean_comment accepts a string. It then cleans the comment by removing punctuation and stopwords.\n",
        "#It returns a list of words in that string.\n",
        "def clean_comment(comment):\n",
        "    #For cleaning up the test comment. Remove punctuation and make everything lower case.\n",
        "    comment = re.sub(r'[^\\w\\s]','',comment.lower())\n",
        "    \n",
        "    #Syntax translation:\n",
        "    #word can be anything. I choose word since it's what we're essentially doing\n",
        "    #comment.split() converts the comment into a list. \n",
        "    #Then see if the word in that list is in the drop_stop or not. \n",
        "    #Drops any word that is in the stopwords list.\n",
        "    stopwords_list = stopwords.words('english')\n",
        "    #Store this list and return it.\n",
        "    cleaned = [word for word in comment.split() if word not in stopwords_list]\n",
        "    return cleaned"
      ],
      "execution_count": 6,
      "outputs": []
    },
    {
      "cell_type": "code",
      "metadata": {
        "id": "K3ktu50BCOwJ"
      },
      "source": [
        "#Use function to create a new cleaned comment column.\n",
        "rgames['cleaned comment'] = rgames['body'].astype(str).apply(clean_comment)"
      ],
      "execution_count": 7,
      "outputs": []
    },
    {
      "cell_type": "code",
      "metadata": {
        "id": "1p2ToBmFBPf0"
      },
      "source": [
        "#Accepts a list of words as a parameter.\n",
        "#Counts word occurrences and stores it as a dictionary which is returned.\n",
        "def create_word_count(word_list):\n",
        "    #Create dictionary that acts as the values for the main frame.\n",
        "    word_frequency={}\n",
        "\n",
        "    for word in word_list: #Take each word in the words list.\n",
        "        if word in word_frequency: #If I have seen this word, update number of times seen by 1\n",
        "            word_frequency[word] +=1\n",
        "        else: #I have not seen this word yet. Put it in as a key value.\n",
        "            word_frequency[word]  = 1\n",
        "    return word_frequency"
      ],
      "execution_count": 8,
      "outputs": []
    },
    {
      "cell_type": "code",
      "metadata": {
        "id": "cvsnX-m2CpHW"
      },
      "source": [
        "#Create a new column that contains the word frequency dictionaries\n",
        "rgames['count dictionary'] = rgames['cleaned comment'].map(create_word_count)"
      ],
      "execution_count": 9,
      "outputs": []
    },
    {
      "cell_type": "code",
      "metadata": {
        "id": "6qIww-zLBlqo"
      },
      "source": [
        "#Create a list of attributes that we think belong \n",
        "attribute_list = ['performance','graphics','affordable','favorite','buy','speed',\n",
        "                 'price','security','fps','games','multiplayer','online','subscription',\n",
        "                  'quality', 'best']\n",
        "#Feel free to append or add more to the list\n",
        "#attribute_list.append('Phrase here')"
      ],
      "execution_count": 10,
      "outputs": []
    },
    {
      "cell_type": "code",
      "metadata": {
        "id": "wyd2pLYLBx5I"
      },
      "source": [
        "attribute_df = pd.DataFrame(index = attribute_list)"
      ],
      "execution_count": 11,
      "outputs": []
    },
    {
      "cell_type": "code",
      "metadata": {
        "id": "f-zTOLBRB0LM"
      },
      "source": [
        "attribute_df['frequency'] = 0"
      ],
      "execution_count": 12,
      "outputs": []
    },
    {
      "cell_type": "code",
      "metadata": {
        "id": "xhuopaF3B6uM"
      },
      "source": [
        "#Count the number of times a brand has been mentioned in a message/comment throughout the entire df\n",
        "for dictionary in rgames['count dictionary']: #Take each dictionary\n",
        "    for key,value in dictionary.items(): #For each key (word) and value (frequency)\n",
        "        if key in attribute_list: #The key matches a word in the attribute list.\n",
        "            #Add 1 to the value of the word it matched in the dataframe.\n",
        "            attribute_df.loc[key] += 1"
      ],
      "execution_count": 13,
      "outputs": []
    },
    {
      "cell_type": "code",
      "metadata": {
        "id": "ja9un_rqCyvV",
        "outputId": "f0241667-7aea-4bbb-b426-2334ef575b9c",
        "colab": {
          "base_uri": "https://localhost:8080/",
          "height": 197
        }
      },
      "source": [
        "attribute_df.sort_values(by='frequency',ascending=False)[:5]"
      ],
      "execution_count": 14,
      "outputs": [
        {
          "output_type": "execute_result",
          "data": {
            "text/html": [
              "<div>\n",
              "<style scoped>\n",
              "    .dataframe tbody tr th:only-of-type {\n",
              "        vertical-align: middle;\n",
              "    }\n",
              "\n",
              "    .dataframe tbody tr th {\n",
              "        vertical-align: top;\n",
              "    }\n",
              "\n",
              "    .dataframe thead th {\n",
              "        text-align: right;\n",
              "    }\n",
              "</style>\n",
              "<table border=\"1\" class=\"dataframe\">\n",
              "  <thead>\n",
              "    <tr style=\"text-align: right;\">\n",
              "      <th></th>\n",
              "      <th>frequency</th>\n",
              "    </tr>\n",
              "  </thead>\n",
              "  <tbody>\n",
              "    <tr>\n",
              "      <th>games</th>\n",
              "      <td>227</td>\n",
              "    </tr>\n",
              "    <tr>\n",
              "      <th>buy</th>\n",
              "      <td>62</td>\n",
              "    </tr>\n",
              "    <tr>\n",
              "      <th>price</th>\n",
              "      <td>44</td>\n",
              "    </tr>\n",
              "    <tr>\n",
              "      <th>best</th>\n",
              "      <td>39</td>\n",
              "    </tr>\n",
              "    <tr>\n",
              "      <th>performance</th>\n",
              "      <td>18</td>\n",
              "    </tr>\n",
              "  </tbody>\n",
              "</table>\n",
              "</div>"
            ],
            "text/plain": [
              "             frequency\n",
              "games              227\n",
              "buy                 62\n",
              "price               44\n",
              "best                39\n",
              "performance         18"
            ]
          },
          "metadata": {
            "tags": []
          },
          "execution_count": 14
        }
      ]
    },
    {
      "cell_type": "markdown",
      "metadata": {
        "id": "inCJKfCzDGEU"
      },
      "source": [
        "###General Word frequency analysis"
      ]
    },
    {
      "cell_type": "code",
      "metadata": {
        "id": "XKTv01dpDOcW"
      },
      "source": [
        "#Import everything.\n",
        "import pandas as pd\n",
        "import nltk\n",
        "import matplotlib.pyplot as plt\n",
        "from sklearn import manifold\n",
        "from matplotlib.font_manager import FontProperties\n",
        "import re\n",
        "\n",
        "import nltk\n",
        "from nltk import FreqDist\n",
        "from nltk.corpus import stopwords # Import the stop word list\n",
        "from nltk.tokenize import sent_tokenize, word_tokenize\n",
        "\n",
        "from collections import Counter\n",
        "from itertools import chain"
      ],
      "execution_count": 15,
      "outputs": []
    },
    {
      "cell_type": "code",
      "metadata": {
        "id": "aMYEm6biDdv9"
      },
      "source": [
        "#create a new data frame for beers. Clean up the reviews even more for word tokenization.\n",
        "rgames2 = rgames[['author','body']].copy()"
      ],
      "execution_count": 16,
      "outputs": []
    },
    {
      "cell_type": "code",
      "metadata": {
        "id": "87fp0V8pDvKB"
      },
      "source": [
        "#Replace punctuation with blanks. \n",
        "rgames2['new_cleaned_review'] = rgames2['body'].str.replace(r'[^\\w\\s]+', '')"
      ],
      "execution_count": 17,
      "outputs": []
    },
    {
      "cell_type": "code",
      "metadata": {
        "id": "Tg-xfbMxD4ib"
      },
      "source": [
        "#Convert to lower case\n",
        "rgames2['new_cleaned_review'] = rgames2['new_cleaned_review'].str.lower()"
      ],
      "execution_count": 18,
      "outputs": []
    },
    {
      "cell_type": "code",
      "metadata": {
        "id": "OK15h9Z4EAuD"
      },
      "source": [
        "stopwords_list = stopwords.words('english')\n",
        "\n",
        "#Function to get the word tokens\n",
        "def get_tokens(entry):\n",
        "    #Use nltk to get word tokens.\n",
        "    tokens = word_tokenize(entry)\n",
        "    \n",
        "    #Tokenize the word here. Returns the word if the word is a string. .isalpha() is a method that does this.\n",
        "    token_words = [w for w in tokens if w.isalpha()]\n",
        "    \n",
        "    return token_words\n",
        "\n",
        "#Function to remove the stopwords\n",
        "def remove_stop_words(entry):\n",
        "    \n",
        "    no_stopwords = [w for w in entry if not w in stopwords_list]\n",
        "    return (no_stopwords)\n",
        "\n",
        "\n",
        "#Function to delist the entries and join the words together in a string.\n",
        "def rejoin_words(entry):\n",
        "    \n",
        "    joined_words = ( \" \".join(entry))\n",
        "    return joined_words\n",
        "\n"
      ],
      "execution_count": 19,
      "outputs": []
    },
    {
      "cell_type": "code",
      "metadata": {
        "id": "OA_hXz_TEiYB",
        "outputId": "48a08715-0107-465a-ecff-2b11f6f8103e",
        "colab": {
          "base_uri": "https://localhost:8080/",
          "height": 70
        }
      },
      "source": [
        "nltk.download('punkt')"
      ],
      "execution_count": 20,
      "outputs": [
        {
          "output_type": "stream",
          "text": [
            "[nltk_data] Downloading package punkt to /root/nltk_data...\n",
            "[nltk_data]   Package punkt is already up-to-date!\n"
          ],
          "name": "stdout"
        },
        {
          "output_type": "execute_result",
          "data": {
            "text/plain": [
              "True"
            ]
          },
          "metadata": {
            "tags": []
          },
          "execution_count": 20
        }
      ]
    },
    {
      "cell_type": "code",
      "metadata": {
        "id": "N2ISH81-EF_o",
        "outputId": "003ab1d6-3d88-4e19-e61a-9b1508c3360d",
        "colab": {
          "base_uri": "https://localhost:8080/",
          "height": 347
        }
      },
      "source": [
        "#Apply functions\n",
        "#Word tokenization first\n",
        "rgames2['words'] = rgames2['new_cleaned_review'].apply(get_tokens)\n",
        "\n",
        "#Remove stopwords next\n",
        "rgames2['words'] = rgames2['words'].apply(remove_stop_words)\n",
        "\n",
        "#Rejoin list to a sentence.\n",
        "rgames2['processed_review'] = rgames2['words'].apply(rejoin_words)\n",
        "\n",
        "#Iterate through the sentences.\n",
        "\n",
        "#Use the Counter function from the collections module to count words.\n",
        "#Use chain from itertools module to iterate.\n",
        "tally = Counter(chain.from_iterable(map(str.split, rgames2['processed_review'].tolist()))) \n",
        "\n",
        "#Create a series for the word counts.\n",
        "series = pd.Series(tally).sort_values(ascending=False)\n",
        "\n",
        "#Create a term frequency dataframe for the words and their frequency\n",
        "term_freq = series.reset_index()\n",
        "term_freq.columns = ['words','freq']\n",
        "\n",
        "\n",
        "#Top ten most mentioned words\n",
        "term_freq.head(10)"
      ],
      "execution_count": 21,
      "outputs": [
        {
          "output_type": "execute_result",
          "data": {
            "text/html": [
              "<div>\n",
              "<style scoped>\n",
              "    .dataframe tbody tr th:only-of-type {\n",
              "        vertical-align: middle;\n",
              "    }\n",
              "\n",
              "    .dataframe tbody tr th {\n",
              "        vertical-align: top;\n",
              "    }\n",
              "\n",
              "    .dataframe thead th {\n",
              "        text-align: right;\n",
              "    }\n",
              "</style>\n",
              "<table border=\"1\" class=\"dataframe\">\n",
              "  <thead>\n",
              "    <tr style=\"text-align: right;\">\n",
              "      <th></th>\n",
              "      <th>words</th>\n",
              "      <th>freq</th>\n",
              "    </tr>\n",
              "  </thead>\n",
              "  <tbody>\n",
              "    <tr>\n",
              "      <th>0</th>\n",
              "      <td>xbox</td>\n",
              "      <td>496</td>\n",
              "    </tr>\n",
              "    <tr>\n",
              "      <th>1</th>\n",
              "      <td>games</td>\n",
              "      <td>383</td>\n",
              "    </tr>\n",
              "    <tr>\n",
              "      <th>2</th>\n",
              "      <td>one</td>\n",
              "      <td>324</td>\n",
              "    </tr>\n",
              "    <tr>\n",
              "      <th>3</th>\n",
              "      <td>game</td>\n",
              "      <td>297</td>\n",
              "    </tr>\n",
              "    <tr>\n",
              "      <th>4</th>\n",
              "      <td>x</td>\n",
              "      <td>255</td>\n",
              "    </tr>\n",
              "    <tr>\n",
              "      <th>5</th>\n",
              "      <td>series</td>\n",
              "      <td>249</td>\n",
              "    </tr>\n",
              "    <tr>\n",
              "      <th>6</th>\n",
              "      <td>like</td>\n",
              "      <td>243</td>\n",
              "    </tr>\n",
              "    <tr>\n",
              "      <th>7</th>\n",
              "      <td>im</td>\n",
              "      <td>192</td>\n",
              "    </tr>\n",
              "    <tr>\n",
              "      <th>8</th>\n",
              "      <td>console</td>\n",
              "      <td>167</td>\n",
              "    </tr>\n",
              "    <tr>\n",
              "      <th>9</th>\n",
              "      <td>new</td>\n",
              "      <td>164</td>\n",
              "    </tr>\n",
              "  </tbody>\n",
              "</table>\n",
              "</div>"
            ],
            "text/plain": [
              "     words  freq\n",
              "0     xbox   496\n",
              "1    games   383\n",
              "2      one   324\n",
              "3     game   297\n",
              "4        x   255\n",
              "5   series   249\n",
              "6     like   243\n",
              "7       im   192\n",
              "8  console   167\n",
              "9      new   164"
            ]
          },
          "metadata": {
            "tags": []
          },
          "execution_count": 21
        }
      ]
    },
    {
      "cell_type": "markdown",
      "metadata": {
        "id": "2A-RkVRBEp5_"
      },
      "source": [
        "Nothing useful"
      ]
    },
    {
      "cell_type": "markdown",
      "metadata": {
        "id": "dBI4oilsEuH0"
      },
      "source": [
        "#Sentiment Analysis"
      ]
    },
    {
      "cell_type": "markdown",
      "metadata": {
        "id": "PaieMrHeExDR"
      },
      "source": [
        "###cosine similarity"
      ]
    },
    {
      "cell_type": "code",
      "metadata": {
        "id": "2qPRAuulEteC"
      },
      "source": [
        "#Use function to create a new cleaned body column.\n",
        "rgames['cleaned body'] = rgames['body'].astype(str).apply(clean_comment)"
      ],
      "execution_count": 22,
      "outputs": []
    },
    {
      "cell_type": "code",
      "metadata": {
        "id": "fVK4oArmFjVZ"
      },
      "source": [
        "attributes = ['games','buy','price', 'best','performance']"
      ],
      "execution_count": 23,
      "outputs": []
    },
    {
      "cell_type": "code",
      "metadata": {
        "id": "lBC2CiUDFqlZ",
        "outputId": "6da747db-10b7-4d33-dfac-c50e017d7ded",
        "colab": {
          "base_uri": "https://localhost:8080/",
          "height": 478
        }
      },
      "source": [
        "attributes_nlp = nlp('games, buy, price, best, performance')\n",
        "def get_similarity(review_words):\n",
        "    text_review = ' '.join(review_words)\n",
        "    review_nlp = nlp(text_review)\n",
        "    return review_nlp.similarity(attributes_nlp)\n",
        "\n",
        "rgames['similarity'] =  rgames['cleaned body'].apply(get_similarity)"
      ],
      "execution_count": 24,
      "outputs": [
        {
          "output_type": "stream",
          "text": [
            "/usr/lib/python3.6/runpy.py:193: UserWarning: [W008] Evaluating Doc.similarity based on empty vectors.\n",
            "  \"__main__\", mod_spec)\n",
            "/usr/lib/python3.6/runpy.py:193: UserWarning: [W008] Evaluating Doc.similarity based on empty vectors.\n",
            "  \"__main__\", mod_spec)\n",
            "/usr/lib/python3.6/runpy.py:193: UserWarning: [W008] Evaluating Doc.similarity based on empty vectors.\n",
            "  \"__main__\", mod_spec)\n",
            "/usr/lib/python3.6/runpy.py:193: UserWarning: [W008] Evaluating Doc.similarity based on empty vectors.\n",
            "  \"__main__\", mod_spec)\n",
            "/usr/lib/python3.6/runpy.py:193: UserWarning: [W008] Evaluating Doc.similarity based on empty vectors.\n",
            "  \"__main__\", mod_spec)\n",
            "/usr/lib/python3.6/runpy.py:193: UserWarning: [W008] Evaluating Doc.similarity based on empty vectors.\n",
            "  \"__main__\", mod_spec)\n",
            "/usr/lib/python3.6/runpy.py:193: UserWarning: [W008] Evaluating Doc.similarity based on empty vectors.\n",
            "  \"__main__\", mod_spec)\n",
            "/usr/lib/python3.6/runpy.py:193: UserWarning: [W008] Evaluating Doc.similarity based on empty vectors.\n",
            "  \"__main__\", mod_spec)\n",
            "/usr/lib/python3.6/runpy.py:193: UserWarning: [W008] Evaluating Doc.similarity based on empty vectors.\n",
            "  \"__main__\", mod_spec)\n",
            "/usr/lib/python3.6/runpy.py:193: UserWarning: [W008] Evaluating Doc.similarity based on empty vectors.\n",
            "  \"__main__\", mod_spec)\n",
            "/usr/lib/python3.6/runpy.py:193: UserWarning: [W008] Evaluating Doc.similarity based on empty vectors.\n",
            "  \"__main__\", mod_spec)\n",
            "/usr/lib/python3.6/runpy.py:193: UserWarning: [W008] Evaluating Doc.similarity based on empty vectors.\n",
            "  \"__main__\", mod_spec)\n",
            "/usr/lib/python3.6/runpy.py:193: UserWarning: [W008] Evaluating Doc.similarity based on empty vectors.\n",
            "  \"__main__\", mod_spec)\n"
          ],
          "name": "stderr"
        }
      ]
    },
    {
      "cell_type": "code",
      "metadata": {
        "id": "_EwRD_6KF4X2",
        "outputId": "8210ca89-622f-4be6-af50-b1e7b8efa4ac",
        "colab": {
          "base_uri": "https://localhost:8080/",
          "height": 34
        }
      },
      "source": [
        "similarity = rgames.groupby('author')['similarity'].mean().reset_index().sort_values(by='similarity',ascending = False)\n",
        "similarity['similarity'].mean()"
      ],
      "execution_count": 25,
      "outputs": [
        {
          "output_type": "execute_result",
          "data": {
            "text/plain": [
              "0.5468895777129007"
            ]
          },
          "metadata": {
            "tags": []
          },
          "execution_count": 25
        }
      ]
    },
    {
      "cell_type": "markdown",
      "metadata": {
        "id": "Z9vLJCXcGbSw"
      },
      "source": [
        "###Sentiment analysis using vader"
      ]
    },
    {
      "cell_type": "code",
      "metadata": {
        "id": "ufq-_sIcGef1",
        "outputId": "23d09b4b-f5e9-4f3f-ec0e-8cb2f2cf66bc",
        "colab": {
          "base_uri": "https://localhost:8080/",
          "height": 143
        }
      },
      "source": [
        "pip install VADER"
      ],
      "execution_count": 26,
      "outputs": [
        {
          "output_type": "stream",
          "text": [
            "Requirement already satisfied: VADER in /usr/local/lib/python3.6/dist-packages (0.0.2)\n",
            "Requirement already satisfied: numpy in /usr/local/lib/python3.6/dist-packages (from VADER) (1.18.5)\n",
            "Requirement already satisfied: scikit-learn in /usr/local/lib/python3.6/dist-packages (from VADER) (0.22.2.post1)\n",
            "Requirement already satisfied: scipy in /usr/local/lib/python3.6/dist-packages (from VADER) (1.4.1)\n",
            "Requirement already satisfied: sonopy in /usr/local/lib/python3.6/dist-packages (from VADER) (0.1.2)\n",
            "Requirement already satisfied: joblib>=0.11 in /usr/local/lib/python3.6/dist-packages (from scikit-learn->VADER) (0.16.0)\n"
          ],
          "name": "stdout"
        }
      ]
    },
    {
      "cell_type": "code",
      "metadata": {
        "id": "nYNUPXxcGhkG",
        "outputId": "6ac8e672-3944-4897-fc5a-18cfce18d587",
        "colab": {
          "base_uri": "https://localhost:8080/",
          "height": 72
        }
      },
      "source": [
        "from nltk.sentiment.vader import SentimentIntensityAnalyzer"
      ],
      "execution_count": 27,
      "outputs": [
        {
          "output_type": "stream",
          "text": [
            "/usr/local/lib/python3.6/dist-packages/nltk/twitter/__init__.py:20: UserWarning: The twython library has not been installed. Some functionality from the twitter package will not be available.\n",
            "  warnings.warn(\"The twython library has not been installed. \"\n"
          ],
          "name": "stderr"
        }
      ]
    },
    {
      "cell_type": "code",
      "metadata": {
        "id": "gRpo9gLNGlH-"
      },
      "source": [
        "from nltk.tokenize import sent_tokenize\n"
      ],
      "execution_count": 28,
      "outputs": []
    },
    {
      "cell_type": "code",
      "metadata": {
        "id": "QTskCpfbGpDj"
      },
      "source": [
        "#Create dataframe with original reviews\n",
        "sent_games = rgames[['author','body']].copy()\n",
        "#Add in columns to store sentiment for the attributes\n",
        "sent_games['games_sentiment'] = 0\n",
        "sent_games['buy_sentiment'] = 0\n",
        "sent_games['price_sentiment'] = 0\n",
        "sent_games['quality_sentiment'] = 0\n",
        "sent_games['graphics_sentiment'] = 0\n"
      ],
      "execution_count": 29,
      "outputs": []
    },
    {
      "cell_type": "code",
      "metadata": {
        "id": "IV2w6r2SoQaV",
        "outputId": "bb074583-5724-4500-b667-16109aac7597",
        "colab": {
          "base_uri": "https://localhost:8080/",
          "height": 484
        }
      },
      "source": [
        "sent_games.head()"
      ],
      "execution_count": 30,
      "outputs": [
        {
          "output_type": "execute_result",
          "data": {
            "text/html": [
              "<div>\n",
              "<style scoped>\n",
              "    .dataframe tbody tr th:only-of-type {\n",
              "        vertical-align: middle;\n",
              "    }\n",
              "\n",
              "    .dataframe tbody tr th {\n",
              "        vertical-align: top;\n",
              "    }\n",
              "\n",
              "    .dataframe thead th {\n",
              "        text-align: right;\n",
              "    }\n",
              "</style>\n",
              "<table border=\"1\" class=\"dataframe\">\n",
              "  <thead>\n",
              "    <tr style=\"text-align: right;\">\n",
              "      <th></th>\n",
              "      <th>author</th>\n",
              "      <th>body</th>\n",
              "      <th>games_sentiment</th>\n",
              "      <th>buy_sentiment</th>\n",
              "      <th>price_sentiment</th>\n",
              "      <th>quality_sentiment</th>\n",
              "      <th>graphics_sentiment</th>\n",
              "    </tr>\n",
              "  </thead>\n",
              "  <tbody>\n",
              "    <tr>\n",
              "      <th>0</th>\n",
              "      <td>therealtinnyhippo</td>\n",
              "      <td>Some extra info, courtesy of this official Mic...</td>\n",
              "      <td>0</td>\n",
              "      <td>0</td>\n",
              "      <td>0</td>\n",
              "      <td>0</td>\n",
              "      <td>0</td>\n",
              "    </tr>\n",
              "    <tr>\n",
              "      <th>1</th>\n",
              "      <td>IndieAdmirer</td>\n",
              "      <td>[The state of this sub come Holiday 2020. ](ht...</td>\n",
              "      <td>0</td>\n",
              "      <td>0</td>\n",
              "      <td>0</td>\n",
              "      <td>0</td>\n",
              "      <td>0</td>\n",
              "    </tr>\n",
              "    <tr>\n",
              "      <th>2</th>\n",
              "      <td>NaN</td>\n",
              "      <td>At the very least it looks like it's going to ...</td>\n",
              "      <td>0</td>\n",
              "      <td>0</td>\n",
              "      <td>0</td>\n",
              "      <td>0</td>\n",
              "      <td>0</td>\n",
              "    </tr>\n",
              "    <tr>\n",
              "      <th>3</th>\n",
              "      <td>shugo2000</td>\n",
              "      <td>Did *not* see that coming tonight!!</td>\n",
              "      <td>0</td>\n",
              "      <td>0</td>\n",
              "      <td>0</td>\n",
              "      <td>0</td>\n",
              "      <td>0</td>\n",
              "    </tr>\n",
              "    <tr>\n",
              "      <th>4</th>\n",
              "      <td>DrNick1221</td>\n",
              "      <td>Holy crap thats a lot more.... vertical than I...</td>\n",
              "      <td>0</td>\n",
              "      <td>0</td>\n",
              "      <td>0</td>\n",
              "      <td>0</td>\n",
              "      <td>0</td>\n",
              "    </tr>\n",
              "  </tbody>\n",
              "</table>\n",
              "</div>"
            ],
            "text/plain": [
              "              author  ... graphics_sentiment\n",
              "0  therealtinnyhippo  ...                  0\n",
              "1       IndieAdmirer  ...                  0\n",
              "2                NaN  ...                  0\n",
              "3          shugo2000  ...                  0\n",
              "4         DrNick1221  ...                  0\n",
              "\n",
              "[5 rows x 7 columns]"
            ]
          },
          "metadata": {
            "tags": []
          },
          "execution_count": 30
        }
      ]
    },
    {
      "cell_type": "code",
      "metadata": {
        "id": "JJJjGT0lGvWH",
        "outputId": "809495a8-2eb7-4d66-c9b5-a04ebd55474d",
        "colab": {
          "base_uri": "https://localhost:8080/",
          "height": 52
        }
      },
      "source": [
        "nltk.download('vader_lexicon')\n",
        "vader = SentimentIntensityAnalyzer()"
      ],
      "execution_count": 31,
      "outputs": [
        {
          "output_type": "stream",
          "text": [
            "[nltk_data] Downloading package vader_lexicon to /root/nltk_data...\n",
            "[nltk_data]   Package vader_lexicon is already up-to-date!\n"
          ],
          "name": "stdout"
        }
      ]
    },
    {
      "cell_type": "code",
      "metadata": {
        "id": "Vw4HYtagGz9j"
      },
      "source": [
        "#Iterrate through the dataframe\n",
        "for i in sent_games.index:\n",
        "    #Get a review and split it into sentence tokens\n",
        "    review = sent_games.loc[i,'body']\n",
        "    review = sent_tokenize(review)\n",
        "    \n",
        "    #Store score values here\n",
        "    #Resets every time loop runs. This is intentional.\n",
        "    comp_games = []\n",
        "    comp_buy = []\n",
        "    comp_price = []\n",
        "    comp_quality = []\n",
        "    comp_graphics = []\n",
        "    \n",
        "    #Iterate through the sentence tokens. Get compound sentiment score if the word is present.\n",
        "    for sent_token in review:\n",
        "        if 'games' in sent_token.lower():\n",
        "            games_score = vader.polarity_scores(sent_token).get('compound')\n",
        "            comp_games.append(games_score)\n",
        "            \n",
        "        if 'buy' in sent_token.lower():\n",
        "            buy_score = vader.polarity_scores(sent_token).get('compound')\n",
        "            comp_buy.append(buy_score)\n",
        "            \n",
        "        if 'price' in sent_token.lower():\n",
        "            price_score = vader.polarity_scores(sent_token).get('compound')\n",
        "            comp_price.append(price_score)\n",
        "        if 'quality' in sent_token.lower():\n",
        "            quality_score = vader.polarity_scores(sent_token).get('compound')\n",
        "            comp_quality.append(quality_score)\n",
        "        if 'graphics' in sent_token.lower():\n",
        "            graphics_score = vader.polarity_scores(sent_token).get('compound')\n",
        "            comp_graphics.append(graphics_score)\n",
        "    \n",
        "    #Store each sentiment score in the array\n",
        "    if len(comp_games) == 0: #Nothing is in the list. No sentiment for the review.\n",
        "        sent_games.loc[i,'games_sentiment'] = None\n",
        "    else: #Balanced is in the review. Take the average of the list and store it.\n",
        "        #Taking average means to convert it into a numpy array and then using the np.mean\n",
        "        sent_games.loc[i,'games_sentiment'] = np.mean(np.array(comp_games))\n",
        "    \n",
        "    #Repeat conditions for attributes.\n",
        "    if len(comp_buy) == 0:\n",
        "        sent_games.loc[i,'buy_sentiment'] = None\n",
        "    else:\n",
        "        sent_games.loc[i,'buy_sentiment'] = np.mean(np.array(comp_buy))\n",
        "    if len(comp_price) == 0:\n",
        "        sent_games.loc[i,'price_sentiment'] = None\n",
        "    else:\n",
        "        sent_games.loc[i,'price_sentiment'] = np.mean(np.array(comp_price))\n",
        "    if len(comp_quality) == 0:\n",
        "        sent_games.loc[i,'quality_sentiment'] = None\n",
        "    else:\n",
        "        sent_games.loc[i,'quality_sentiment'] = np.mean(np.array(comp_quality))\n",
        "    if len(comp_graphics) == 0:\n",
        "        sent_games.loc[i,'graphics_sentiment'] = None\n",
        "    else:\n",
        "        sent_games.loc[i,'graphics_sentiment'] = np.mean(np.array(comp_graphics))"
      ],
      "execution_count": 32,
      "outputs": []
    },
    {
      "cell_type": "code",
      "metadata": {
        "id": "4uE90aedHG6y"
      },
      "source": [
        "#Group all the sentiments of the review together\n",
        "avg_sent_games = sent_games.groupby(by=[\"author\"])[[\"games_sentiment\", \"buy_sentiment\", \"price_sentiment\",\"quality_sentiment\",\"graphics_sentiment\"]].mean()"
      ],
      "execution_count": 33,
      "outputs": []
    },
    {
      "cell_type": "code",
      "metadata": {
        "id": "iwE2D_JZHMuE"
      },
      "source": [
        "#Sentiments that are not present are treated as Zero. \n",
        "#Want to pinpoint comments based on attributes.\n",
        "#Mean is simply adding five columns together and dividng by 5\n",
        "avg_sent_games['average_sentiment'] = (avg_sent_games['games_sentiment'].fillna(0)+avg_sent_games['buy_sentiment'].fillna(0)\n",
        " +avg_sent_games['price_sentiment'].fillna(0)+avg_sent_games['quality_sentiment'].fillna(0)+avg_sent_games['graphics_sentiment'].fillna(0))/5"
      ],
      "execution_count": 34,
      "outputs": []
    },
    {
      "cell_type": "code",
      "metadata": {
        "id": "GQcK6O9HHRwK",
        "outputId": "81d06941-09d6-422c-9721-f3f9b558d4d3",
        "colab": {
          "base_uri": "https://localhost:8080/",
          "height": 456
        }
      },
      "source": [
        "avg_sent_games.sort_values(by='average_sentiment', ascending = False).fillna(0)"
      ],
      "execution_count": 35,
      "outputs": [
        {
          "output_type": "execute_result",
          "data": {
            "text/html": [
              "<div>\n",
              "<style scoped>\n",
              "    .dataframe tbody tr th:only-of-type {\n",
              "        vertical-align: middle;\n",
              "    }\n",
              "\n",
              "    .dataframe tbody tr th {\n",
              "        vertical-align: top;\n",
              "    }\n",
              "\n",
              "    .dataframe thead th {\n",
              "        text-align: right;\n",
              "    }\n",
              "</style>\n",
              "<table border=\"1\" class=\"dataframe\">\n",
              "  <thead>\n",
              "    <tr style=\"text-align: right;\">\n",
              "      <th></th>\n",
              "      <th>games_sentiment</th>\n",
              "      <th>buy_sentiment</th>\n",
              "      <th>price_sentiment</th>\n",
              "      <th>quality_sentiment</th>\n",
              "      <th>graphics_sentiment</th>\n",
              "      <th>average_sentiment</th>\n",
              "    </tr>\n",
              "    <tr>\n",
              "      <th>author</th>\n",
              "      <th></th>\n",
              "      <th></th>\n",
              "      <th></th>\n",
              "      <th></th>\n",
              "      <th></th>\n",
              "      <th></th>\n",
              "    </tr>\n",
              "  </thead>\n",
              "  <tbody>\n",
              "    <tr>\n",
              "      <th>ZeroDwayne</th>\n",
              "      <td>0.799200</td>\n",
              "      <td>0.799200</td>\n",
              "      <td>0.79920</td>\n",
              "      <td>0.0000</td>\n",
              "      <td>0.0000</td>\n",
              "      <td>0.479520</td>\n",
              "    </tr>\n",
              "    <tr>\n",
              "      <th>Cirias</th>\n",
              "      <td>0.840200</td>\n",
              "      <td>0.840200</td>\n",
              "      <td>0.00000</td>\n",
              "      <td>0.0000</td>\n",
              "      <td>0.0000</td>\n",
              "      <td>0.336080</td>\n",
              "    </tr>\n",
              "    <tr>\n",
              "      <th>mykkenny</th>\n",
              "      <td>0.871400</td>\n",
              "      <td>0.484633</td>\n",
              "      <td>0.09010</td>\n",
              "      <td>0.0000</td>\n",
              "      <td>0.0000</td>\n",
              "      <td>0.289227</td>\n",
              "    </tr>\n",
              "    <tr>\n",
              "      <th>MankyBaws88</th>\n",
              "      <td>0.335514</td>\n",
              "      <td>0.149167</td>\n",
              "      <td>0.00000</td>\n",
              "      <td>0.9136</td>\n",
              "      <td>0.0000</td>\n",
              "      <td>0.279656</td>\n",
              "    </tr>\n",
              "    <tr>\n",
              "      <th>WyrmHero1944</th>\n",
              "      <td>0.000000</td>\n",
              "      <td>0.670500</td>\n",
              "      <td>0.67050</td>\n",
              "      <td>0.0000</td>\n",
              "      <td>0.0000</td>\n",
              "      <td>0.268200</td>\n",
              "    </tr>\n",
              "    <tr>\n",
              "      <th>...</th>\n",
              "      <td>...</td>\n",
              "      <td>...</td>\n",
              "      <td>...</td>\n",
              "      <td>...</td>\n",
              "      <td>...</td>\n",
              "      <td>...</td>\n",
              "    </tr>\n",
              "    <tr>\n",
              "      <th>Eddielowfilthslayer</th>\n",
              "      <td>-0.659700</td>\n",
              "      <td>0.000000</td>\n",
              "      <td>0.00000</td>\n",
              "      <td>0.0000</td>\n",
              "      <td>0.0000</td>\n",
              "      <td>-0.131940</td>\n",
              "    </tr>\n",
              "    <tr>\n",
              "      <th>ichinii</th>\n",
              "      <td>0.000000</td>\n",
              "      <td>0.000000</td>\n",
              "      <td>0.00000</td>\n",
              "      <td>0.0000</td>\n",
              "      <td>-0.7096</td>\n",
              "      <td>-0.141920</td>\n",
              "    </tr>\n",
              "    <tr>\n",
              "      <th>dr_strangelove42</th>\n",
              "      <td>0.000000</td>\n",
              "      <td>0.000000</td>\n",
              "      <td>-0.73385</td>\n",
              "      <td>0.0000</td>\n",
              "      <td>0.0000</td>\n",
              "      <td>-0.146770</td>\n",
              "    </tr>\n",
              "    <tr>\n",
              "      <th>WilhelmScreams</th>\n",
              "      <td>0.000000</td>\n",
              "      <td>-0.790600</td>\n",
              "      <td>0.00000</td>\n",
              "      <td>0.0000</td>\n",
              "      <td>0.0000</td>\n",
              "      <td>-0.158120</td>\n",
              "    </tr>\n",
              "    <tr>\n",
              "      <th>AnotherScoutTrooper</th>\n",
              "      <td>-0.802000</td>\n",
              "      <td>-0.802000</td>\n",
              "      <td>0.00000</td>\n",
              "      <td>0.0000</td>\n",
              "      <td>0.0000</td>\n",
              "      <td>-0.320800</td>\n",
              "    </tr>\n",
              "  </tbody>\n",
              "</table>\n",
              "<p>1289 rows × 6 columns</p>\n",
              "</div>"
            ],
            "text/plain": [
              "                     games_sentiment  ...  average_sentiment\n",
              "author                                ...                   \n",
              "ZeroDwayne                  0.799200  ...           0.479520\n",
              "Cirias                      0.840200  ...           0.336080\n",
              "mykkenny                    0.871400  ...           0.289227\n",
              "MankyBaws88                 0.335514  ...           0.279656\n",
              "WyrmHero1944                0.000000  ...           0.268200\n",
              "...                              ...  ...                ...\n",
              "Eddielowfilthslayer        -0.659700  ...          -0.131940\n",
              "ichinii                     0.000000  ...          -0.141920\n",
              "dr_strangelove42            0.000000  ...          -0.146770\n",
              "WilhelmScreams              0.000000  ...          -0.158120\n",
              "AnotherScoutTrooper        -0.802000  ...          -0.320800\n",
              "\n",
              "[1289 rows x 6 columns]"
            ]
          },
          "metadata": {
            "tags": []
          },
          "execution_count": 35
        }
      ]
    },
    {
      "cell_type": "code",
      "metadata": {
        "id": "8tSCZh7NHXDH",
        "outputId": "c6b9ad77-5097-4ba3-9291-6d3f5321bf23",
        "colab": {
          "base_uri": "https://localhost:8080/",
          "height": 141
        }
      },
      "source": [
        "avg_sent_games = avg_sent_games.apply('mean')\n",
        "avg_sent_games"
      ],
      "execution_count": 36,
      "outputs": [
        {
          "output_type": "execute_result",
          "data": {
            "text/plain": [
              "games_sentiment       0.223397\n",
              "buy_sentiment         0.191704\n",
              "price_sentiment       0.143538\n",
              "quality_sentiment     0.258554\n",
              "graphics_sentiment    0.029075\n",
              "average_sentiment     0.010233\n",
              "dtype: float64"
            ]
          },
          "metadata": {
            "tags": []
          },
          "execution_count": 36
        }
      ]
    },
    {
      "cell_type": "code",
      "metadata": {
        "id": "5pG6vx83rEVS",
        "outputId": "3b380b57-8a8c-4321-81bc-269f08970eaa",
        "colab": {
          "base_uri": "https://localhost:8080/",
          "height": 372
        }
      },
      "source": [
        "avg_sent_games.plot(kind='bar')"
      ],
      "execution_count": 46,
      "outputs": [
        {
          "output_type": "execute_result",
          "data": {
            "text/plain": [
              "<matplotlib.axes._subplots.AxesSubplot at 0x7fe50443a668>"
            ]
          },
          "metadata": {
            "tags": []
          },
          "execution_count": 46
        },
        {
          "output_type": "display_data",
          "data": {
            "image/png": "[encoded data removed]",
            "text/plain": [
              "<Figure size 432x288 with 1 Axes>"
            ]
          },
          "metadata": {
            "tags": [],
            "needs_background": "light"
          }
        }
      ]
    }
  ]
}