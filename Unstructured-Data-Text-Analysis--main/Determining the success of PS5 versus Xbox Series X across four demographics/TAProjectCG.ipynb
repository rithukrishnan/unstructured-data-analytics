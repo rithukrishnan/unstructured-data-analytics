{
  "nbformat": 4,
  "nbformat_minor": 0,
  "metadata": {
    "colab": {
      "name": "TAProjectCG.ipynb",
      "provenance": [],
      "collapsed_sections": []
    },
    "kernelspec": {
      "name": "python3",
      "display_name": "Python 3"
    }
  },
  "cells": [
    {
      "cell_type": "code",
      "metadata": {
        "id": "KW-0U8yxe474",
        "outputId": "89381956-724e-4b14-a913-a04b8861f4df",
        "colab": {
          "base_uri": "https://localhost:8080/",
          "height": 581
        }
      },
      "source": [
        "!python -m spacy download en_core_web_lg"
      ],
      "execution_count": 1,
      "outputs": [
        {
          "output_type": "stream",
          "text": [
            "Collecting en_core_web_lg==2.2.5\n",
            "\u001b[?25l  Downloading https://github.com/explosion/spacy-models/releases/download/en_core_web_lg-2.2.5/en_core_web_lg-2.2.5.tar.gz (827.9MB)\n",
            "\u001b[K     |████████████████████████████████| 827.9MB 1.2MB/s \n",
            "\u001b[?25hRequirement already satisfied: spacy>=2.2.2 in /usr/local/lib/python3.6/dist-packages (from en_core_web_lg==2.2.5) (2.2.4)\n",
            "Requirement already satisfied: thinc==7.4.0 in /usr/local/lib/python3.6/dist-packages (from spacy>=2.2.2->en_core_web_lg==2.2.5) (7.4.0)\n",
            "Requirement already satisfied: catalogue<1.1.0,>=0.0.7 in /usr/local/lib/python3.6/dist-packages (from spacy>=2.2.2->en_core_web_lg==2.2.5) (1.0.0)\n",
            "Requirement already satisfied: blis<0.5.0,>=0.4.0 in /usr/local/lib/python3.6/dist-packages (from spacy>=2.2.2->en_core_web_lg==2.2.5) (0.4.1)\n",
            "Requirement already satisfied: setuptools in /usr/local/lib/python3.6/dist-packages (from spacy>=2.2.2->en_core_web_lg==2.2.5) (50.3.0)\n",
            "Requirement already satisfied: requests<3.0.0,>=2.13.0 in /usr/local/lib/python3.6/dist-packages (from spacy>=2.2.2->en_core_web_lg==2.2.5) (2.23.0)\n",
            "Requirement already satisfied: wasabi<1.1.0,>=0.4.0 in /usr/local/lib/python3.6/dist-packages (from spacy>=2.2.2->en_core_web_lg==2.2.5) (0.8.0)\n",
            "Requirement already satisfied: preshed<3.1.0,>=3.0.2 in /usr/local/lib/python3.6/dist-packages (from spacy>=2.2.2->en_core_web_lg==2.2.5) (3.0.2)\n",
            "Requirement already satisfied: numpy>=1.15.0 in /usr/local/lib/python3.6/dist-packages (from spacy>=2.2.2->en_core_web_lg==2.2.5) (1.18.5)\n",
            "Requirement already satisfied: plac<1.2.0,>=0.9.6 in /usr/local/lib/python3.6/dist-packages (from spacy>=2.2.2->en_core_web_lg==2.2.5) (1.1.3)\n",
            "Requirement already satisfied: tqdm<5.0.0,>=4.38.0 in /usr/local/lib/python3.6/dist-packages (from spacy>=2.2.2->en_core_web_lg==2.2.5) (4.41.1)\n",
            "Requirement already satisfied: murmurhash<1.1.0,>=0.28.0 in /usr/local/lib/python3.6/dist-packages (from spacy>=2.2.2->en_core_web_lg==2.2.5) (1.0.2)\n",
            "Requirement already satisfied: cymem<2.1.0,>=2.0.2 in /usr/local/lib/python3.6/dist-packages (from spacy>=2.2.2->en_core_web_lg==2.2.5) (2.0.3)\n",
            "Requirement already satisfied: srsly<1.1.0,>=1.0.2 in /usr/local/lib/python3.6/dist-packages (from spacy>=2.2.2->en_core_web_lg==2.2.5) (1.0.2)\n",
            "Requirement already satisfied: importlib-metadata>=0.20; python_version < \"3.8\" in /usr/local/lib/python3.6/dist-packages (from catalogue<1.1.0,>=0.0.7->spacy>=2.2.2->en_core_web_lg==2.2.5) (2.0.0)\n",
            "Requirement already satisfied: certifi>=2017.4.17 in /usr/local/lib/python3.6/dist-packages (from requests<3.0.0,>=2.13.0->spacy>=2.2.2->en_core_web_lg==2.2.5) (2020.6.20)\n",
            "Requirement already satisfied: chardet<4,>=3.0.2 in /usr/local/lib/python3.6/dist-packages (from requests<3.0.0,>=2.13.0->spacy>=2.2.2->en_core_web_lg==2.2.5) (3.0.4)\n",
            "Requirement already satisfied: idna<3,>=2.5 in /usr/local/lib/python3.6/dist-packages (from requests<3.0.0,>=2.13.0->spacy>=2.2.2->en_core_web_lg==2.2.5) (2.10)\n",
            "Requirement already satisfied: urllib3!=1.25.0,!=1.25.1,<1.26,>=1.21.1 in /usr/local/lib/python3.6/dist-packages (from requests<3.0.0,>=2.13.0->spacy>=2.2.2->en_core_web_lg==2.2.5) (1.24.3)\n",
            "Requirement already satisfied: zipp>=0.5 in /usr/local/lib/python3.6/dist-packages (from importlib-metadata>=0.20; python_version < \"3.8\"->catalogue<1.1.0,>=0.0.7->spacy>=2.2.2->en_core_web_lg==2.2.5) (3.2.0)\n",
            "Building wheels for collected packages: en-core-web-lg\n",
            "  Building wheel for en-core-web-lg (setup.py) ... \u001b[?25l\u001b[?25hdone\n",
            "  Created wheel for en-core-web-lg: filename=en_core_web_lg-2.2.5-cp36-none-any.whl size=829180944 sha256=4e1576e9cdb0be54224859bfc6e3fc64733de1e5e54c38c2287df556ccd1ea9c\n",
            "  Stored in directory: /tmp/pip-ephem-wheel-cache-memx4un9/wheels/2a/c1/a6/fc7a877b1efca9bc6a089d6f506f16d3868408f9ff89f8dbfc\n",
            "Successfully built en-core-web-lg\n",
            "Installing collected packages: en-core-web-lg\n",
            "Successfully installed en-core-web-lg-2.2.5\n",
            "\u001b[38;5;2m✔ Download and installation successful\u001b[0m\n",
            "You can now load the model via spacy.load('en_core_web_lg')\n"
          ],
          "name": "stdout"
        }
      ]
    },
    {
      "cell_type": "code",
      "metadata": {
        "id": "DmyImZFjh0fd"
      },
      "source": [
        "import spacy\n",
        "import numpy as np\n",
        "from sklearn.metrics.pairwise import cosine_similarity\n",
        "from sklearn.feature_extraction.text import CountVectorizer\n",
        "import pandas as pd\n",
        "import en_core_web_lg"
      ],
      "execution_count": 1,
      "outputs": []
    },
    {
      "cell_type": "code",
      "metadata": {
        "id": "kMwF7ev7h2IS"
      },
      "source": [
        "nlp = spacy.load('en_core_web_lg')"
      ],
      "execution_count": 2,
      "outputs": []
    },
    {
      "cell_type": "code",
      "metadata": {
        "id": "gH_wExJZh6-9"
      },
      "source": [
        "#Importing packages for later\n",
        "import matplotlib.pyplot as plt\n",
        "from sklearn import manifold\n",
        "from matplotlib.font_manager import FontProperties\n",
        "import re"
      ],
      "execution_count": 3,
      "outputs": []
    },
    {
      "cell_type": "code",
      "metadata": {
        "id": "yc20uwIRjO0K",
        "outputId": "6989ee17-9f03-4bcf-b859-c5f2eb96eb91",
        "colab": {
          "base_uri": "https://localhost:8080/",
          "height": 459
        }
      },
      "source": [
        "#Read in the scrape results\n",
        "rgame = pd.read_csv('rgaming_comments.csv')#,sep = '\\t')\n",
        "#Read in the ps5 xbox csv file. \n",
        "model_brand = pd.read_csv('ps5_xbox.csv', header = None, sep=',')\n",
        "model_brand.columns = ['brand','model']\n",
        "#names = ['brand','model'], sep=',')\n",
        "rgame[:5]"
      ],
      "execution_count": 4,
      "outputs": [
        {
          "output_type": "execute_result",
          "data": {
            "text/html": [
              "<div>\n",
              "<style scoped>\n",
              "    .dataframe tbody tr th:only-of-type {\n",
              "        vertical-align: middle;\n",
              "    }\n",
              "\n",
              "    .dataframe tbody tr th {\n",
              "        vertical-align: top;\n",
              "    }\n",
              "\n",
              "    .dataframe thead th {\n",
              "        text-align: right;\n",
              "    }\n",
              "</style>\n",
              "<table border=\"1\" class=\"dataframe\">\n",
              "  <thead>\n",
              "    <tr style=\"text-align: right;\">\n",
              "      <th></th>\n",
              "      <th>submission</th>\n",
              "      <th>author</th>\n",
              "      <th>body</th>\n",
              "      <th>score</th>\n",
              "      <th>created</th>\n",
              "      <th>url_of_post</th>\n",
              "    </tr>\n",
              "  </thead>\n",
              "  <tbody>\n",
              "    <tr>\n",
              "      <th>0</th>\n",
              "      <td>hdtabn</td>\n",
              "      <td>TheTinyPlunger</td>\n",
              "      <td>I actually thought you had the real thing for ...</td>\n",
              "      <td>3416</td>\n",
              "      <td>1.592838e+09</td>\n",
              "      <td>/r/gaming/comments/hdtabn/since_some_of_you_as...</td>\n",
              "    </tr>\n",
              "    <tr>\n",
              "      <th>1</th>\n",
              "      <td>hdtabn</td>\n",
              "      <td>Eaglezzz</td>\n",
              "      <td>**PLEASE DRINK VERIFICATION CAN TO CONTINUE**</td>\n",
              "      <td>946</td>\n",
              "      <td>1.592842e+09</td>\n",
              "      <td>/r/gaming/comments/hdtabn/since_some_of_you_as...</td>\n",
              "    </tr>\n",
              "    <tr>\n",
              "      <th>2</th>\n",
              "      <td>hdtabn</td>\n",
              "      <td>Damascusmascus</td>\n",
              "      <td>They got really intimidated by the [KFConsole]...</td>\n",
              "      <td>232</td>\n",
              "      <td>1.592839e+09</td>\n",
              "      <td>/r/gaming/comments/hdtabn/since_some_of_you_as...</td>\n",
              "    </tr>\n",
              "    <tr>\n",
              "      <th>3</th>\n",
              "      <td>hdtabn</td>\n",
              "      <td>SevenHarmlessSins</td>\n",
              "      <td>What kind of criminal keeps a banana in a fridge?</td>\n",
              "      <td>137</td>\n",
              "      <td>1.592846e+09</td>\n",
              "      <td>/r/gaming/comments/hdtabn/since_some_of_you_as...</td>\n",
              "    </tr>\n",
              "    <tr>\n",
              "      <th>4</th>\n",
              "      <td>hdtabn</td>\n",
              "      <td>Thebaldymaster</td>\n",
              "      <td>Did you make that all you're self???</td>\n",
              "      <td>140</td>\n",
              "      <td>1.592837e+09</td>\n",
              "      <td>/r/gaming/comments/hdtabn/since_some_of_you_as...</td>\n",
              "    </tr>\n",
              "  </tbody>\n",
              "</table>\n",
              "</div>"
            ],
            "text/plain": [
              "  submission  ...                                        url_of_post\n",
              "0     hdtabn  ...  /r/gaming/comments/hdtabn/since_some_of_you_as...\n",
              "1     hdtabn  ...  /r/gaming/comments/hdtabn/since_some_of_you_as...\n",
              "2     hdtabn  ...  /r/gaming/comments/hdtabn/since_some_of_you_as...\n",
              "3     hdtabn  ...  /r/gaming/comments/hdtabn/since_some_of_you_as...\n",
              "4     hdtabn  ...  /r/gaming/comments/hdtabn/since_some_of_you_as...\n",
              "\n",
              "[5 rows x 6 columns]"
            ]
          },
          "metadata": {
            "tags": []
          },
          "execution_count": 4
        }
      ]
    },
    {
      "cell_type": "code",
      "metadata": {
        "id": "WtHF3V8gjTdE",
        "outputId": "989590ba-e54f-483c-fac8-f8e22645f0ab",
        "colab": {
          "base_uri": "https://localhost:8080/",
          "height": 607
        }
      },
      "source": [
        "model_brand"
      ],
      "execution_count": 5,
      "outputs": [
        {
          "output_type": "execute_result",
          "data": {
            "text/html": [
              "<div>\n",
              "<style scoped>\n",
              "    .dataframe tbody tr th:only-of-type {\n",
              "        vertical-align: middle;\n",
              "    }\n",
              "\n",
              "    .dataframe tbody tr th {\n",
              "        vertical-align: top;\n",
              "    }\n",
              "\n",
              "    .dataframe thead th {\n",
              "        text-align: right;\n",
              "    }\n",
              "</style>\n",
              "<table border=\"1\" class=\"dataframe\">\n",
              "  <thead>\n",
              "    <tr style=\"text-align: right;\">\n",
              "      <th></th>\n",
              "      <th>brand</th>\n",
              "      <th>model</th>\n",
              "    </tr>\n",
              "  </thead>\n",
              "  <tbody>\n",
              "    <tr>\n",
              "      <th>0</th>\n",
              "      <td>xbox</td>\n",
              "      <td>xbox series one x</td>\n",
              "    </tr>\n",
              "    <tr>\n",
              "      <th>1</th>\n",
              "      <td>xbox</td>\n",
              "      <td>xbox series one</td>\n",
              "    </tr>\n",
              "    <tr>\n",
              "      <th>2</th>\n",
              "      <td>xbox</td>\n",
              "      <td>xbox one</td>\n",
              "    </tr>\n",
              "    <tr>\n",
              "      <th>3</th>\n",
              "      <td>xbox</td>\n",
              "      <td>xbox series one s</td>\n",
              "    </tr>\n",
              "    <tr>\n",
              "      <th>4</th>\n",
              "      <td>xbox</td>\n",
              "      <td>xbox series 1x</td>\n",
              "    </tr>\n",
              "    <tr>\n",
              "      <th>5</th>\n",
              "      <td>xbox</td>\n",
              "      <td>xbox series 1s</td>\n",
              "    </tr>\n",
              "    <tr>\n",
              "      <th>6</th>\n",
              "      <td>xbox</td>\n",
              "      <td>xbox series x</td>\n",
              "    </tr>\n",
              "    <tr>\n",
              "      <th>7</th>\n",
              "      <td>xbox</td>\n",
              "      <td>xbox series s</td>\n",
              "    </tr>\n",
              "    <tr>\n",
              "      <th>8</th>\n",
              "      <td>xbox</td>\n",
              "      <td>xbox 1</td>\n",
              "    </tr>\n",
              "    <tr>\n",
              "      <th>9</th>\n",
              "      <td>xbox</td>\n",
              "      <td>xbox 1x</td>\n",
              "    </tr>\n",
              "    <tr>\n",
              "      <th>10</th>\n",
              "      <td>xbox</td>\n",
              "      <td>series 1</td>\n",
              "    </tr>\n",
              "    <tr>\n",
              "      <th>11</th>\n",
              "      <td>xbox</td>\n",
              "      <td>xbox 1s</td>\n",
              "    </tr>\n",
              "    <tr>\n",
              "      <th>12</th>\n",
              "      <td>ps5</td>\n",
              "      <td>play station 5</td>\n",
              "    </tr>\n",
              "    <tr>\n",
              "      <th>13</th>\n",
              "      <td>ps5</td>\n",
              "      <td>playstation 5</td>\n",
              "    </tr>\n",
              "    <tr>\n",
              "      <th>14</th>\n",
              "      <td>ps5</td>\n",
              "      <td>p s 5</td>\n",
              "    </tr>\n",
              "    <tr>\n",
              "      <th>15</th>\n",
              "      <td>ps5</td>\n",
              "      <td>playstation</td>\n",
              "    </tr>\n",
              "    <tr>\n",
              "      <th>16</th>\n",
              "      <td>pc</td>\n",
              "      <td>pc</td>\n",
              "    </tr>\n",
              "    <tr>\n",
              "      <th>17</th>\n",
              "      <td>pc</td>\n",
              "      <td>computer</td>\n",
              "    </tr>\n",
              "  </tbody>\n",
              "</table>\n",
              "</div>"
            ],
            "text/plain": [
              "   brand              model\n",
              "0   xbox  xbox series one x\n",
              "1   xbox   xbox series one \n",
              "2   xbox           xbox one\n",
              "3   xbox  xbox series one s\n",
              "4   xbox     xbox series 1x\n",
              "5   xbox     xbox series 1s\n",
              "6   xbox      xbox series x\n",
              "7   xbox     xbox series s \n",
              "8   xbox             xbox 1\n",
              "9   xbox           xbox 1x \n",
              "10  xbox           series 1\n",
              "11  xbox            xbox 1s\n",
              "12   ps5    play station 5 \n",
              "13   ps5      playstation 5\n",
              "14   ps5              p s 5\n",
              "15   ps5        playstation\n",
              "16    pc                 pc\n",
              "17    pc           computer"
            ]
          },
          "metadata": {
            "tags": []
          },
          "execution_count": 5
        }
      ]
    },
    {
      "cell_type": "code",
      "metadata": {
        "id": "xADsUB6rjgxZ",
        "outputId": "4afaf368-208d-431b-cedb-797b2fa3ddbc",
        "colab": {
          "base_uri": "https://localhost:8080/",
          "height": 85
        }
      },
      "source": [
        "import re\n",
        "import nltk\n",
        "nltk.download('stopwords')\n",
        "nltk.download('punkt')\n",
        "from nltk.corpus import stopwords\n",
        "from nltk.probability import FreqDist\n",
        "\n",
        "from nltk import pos_tag, word_tokenize\n",
        "from nltk.stem.porter import PorterStemmer\n",
        "import matplotlib.pyplot as plt\n",
        "\n",
        "from sklearn.manifold import MDS\n",
        "from sklearn.metrics import euclidean_distances\n"
      ],
      "execution_count": 6,
      "outputs": [
        {
          "output_type": "stream",
          "text": [
            "[nltk_data] Downloading package stopwords to /root/nltk_data...\n",
            "[nltk_data]   Unzipping corpora/stopwords.zip.\n",
            "[nltk_data] Downloading package punkt to /root/nltk_data...\n",
            "[nltk_data]   Unzipping tokenizers/punkt.zip.\n"
          ],
          "name": "stdout"
        }
      ]
    },
    {
      "cell_type": "code",
      "metadata": {
        "id": "DdOJlGNFjm_8"
      },
      "source": [
        "## Create dictionary for model to brand mapping\n",
        "model_brand = model_brand.set_index('model')\n",
        "model_brand_dict = model_brand[\"brand\"].to_dict()"
      ],
      "execution_count": 7,
      "outputs": []
    },
    {
      "cell_type": "code",
      "metadata": {
        "id": "trTJvodwjoFK"
      },
      "source": [
        "stop = stopwords.words('english')\n",
        "\n",
        "rgame[\"body\"] = rgame[\"body\"].astype(str)\n",
        "rgame[\"comments_tokens\"] = rgame[\"body\"].apply(lambda each_post: word_tokenize(re.sub(r'[^\\w\\s]',' ',each_post.lower())))\n",
        "rgame[\"comments_tokens\"] = rgame[\"comments_tokens\"].apply(lambda list_of_words: [x if x not in model_brand_dict else model_brand_dict[x] for x in list_of_words])\n",
        "rgame[\"comments_tokens\"] = rgame[\"comments_tokens\"].apply(lambda list_of_words: [x for x in list_of_words if x not in stop])\n"
      ],
      "execution_count": 8,
      "outputs": []
    },
    {
      "cell_type": "code",
      "metadata": {
        "id": "FrDgX5VKjunF",
        "outputId": "8ddb3ae6-29b3-426b-9792-c1d75b8af8e9",
        "colab": {
          "base_uri": "https://localhost:8080/",
          "height": 898
        }
      },
      "source": [
        "## Get all the unique tokens in each comments\n",
        "rgame[\"comments_unique\"] = rgame[\"comments_tokens\"].apply(lambda x: sorted(set(x)))\n",
        "rgame"
      ],
      "execution_count": 9,
      "outputs": [
        {
          "output_type": "execute_result",
          "data": {
            "text/html": [
              "<div>\n",
              "<style scoped>\n",
              "    .dataframe tbody tr th:only-of-type {\n",
              "        vertical-align: middle;\n",
              "    }\n",
              "\n",
              "    .dataframe tbody tr th {\n",
              "        vertical-align: top;\n",
              "    }\n",
              "\n",
              "    .dataframe thead th {\n",
              "        text-align: right;\n",
              "    }\n",
              "</style>\n",
              "<table border=\"1\" class=\"dataframe\">\n",
              "  <thead>\n",
              "    <tr style=\"text-align: right;\">\n",
              "      <th></th>\n",
              "      <th>submission</th>\n",
              "      <th>author</th>\n",
              "      <th>body</th>\n",
              "      <th>score</th>\n",
              "      <th>created</th>\n",
              "      <th>url_of_post</th>\n",
              "      <th>comments_tokens</th>\n",
              "      <th>comments_unique</th>\n",
              "    </tr>\n",
              "  </thead>\n",
              "  <tbody>\n",
              "    <tr>\n",
              "      <th>0</th>\n",
              "      <td>hdtabn</td>\n",
              "      <td>TheTinyPlunger</td>\n",
              "      <td>I actually thought you had the real thing for ...</td>\n",
              "      <td>3416</td>\n",
              "      <td>1.592838e+09</td>\n",
              "      <td>/r/gaming/comments/hdtabn/since_some_of_you_as...</td>\n",
              "      <td>[actually, thought, real, thing, second, great...</td>\n",
              "      <td>[3d, actually, great, real, second, thing, tho...</td>\n",
              "    </tr>\n",
              "    <tr>\n",
              "      <th>1</th>\n",
              "      <td>hdtabn</td>\n",
              "      <td>Eaglezzz</td>\n",
              "      <td>**PLEASE DRINK VERIFICATION CAN TO CONTINUE**</td>\n",
              "      <td>946</td>\n",
              "      <td>1.592842e+09</td>\n",
              "      <td>/r/gaming/comments/hdtabn/since_some_of_you_as...</td>\n",
              "      <td>[please, drink, verification, continue]</td>\n",
              "      <td>[continue, drink, please, verification]</td>\n",
              "    </tr>\n",
              "    <tr>\n",
              "      <th>2</th>\n",
              "      <td>hdtabn</td>\n",
              "      <td>Damascusmascus</td>\n",
              "      <td>They got really intimidated by the [KFConsole]...</td>\n",
              "      <td>232</td>\n",
              "      <td>1.592839e+09</td>\n",
              "      <td>/r/gaming/comments/hdtabn/since_some_of_you_as...</td>\n",
              "      <td>[got, really, intimidated, kfconsole, https, y...</td>\n",
              "      <td>[et6uiw7uzw4, got, https, intimidated, kfconso...</td>\n",
              "    </tr>\n",
              "    <tr>\n",
              "      <th>3</th>\n",
              "      <td>hdtabn</td>\n",
              "      <td>SevenHarmlessSins</td>\n",
              "      <td>What kind of criminal keeps a banana in a fridge?</td>\n",
              "      <td>137</td>\n",
              "      <td>1.592846e+09</td>\n",
              "      <td>/r/gaming/comments/hdtabn/since_some_of_you_as...</td>\n",
              "      <td>[kind, criminal, keeps, banana, fridge]</td>\n",
              "      <td>[banana, criminal, fridge, keeps, kind]</td>\n",
              "    </tr>\n",
              "    <tr>\n",
              "      <th>4</th>\n",
              "      <td>hdtabn</td>\n",
              "      <td>Thebaldymaster</td>\n",
              "      <td>Did you make that all you're self???</td>\n",
              "      <td>140</td>\n",
              "      <td>1.592837e+09</td>\n",
              "      <td>/r/gaming/comments/hdtabn/since_some_of_you_as...</td>\n",
              "      <td>[make, self]</td>\n",
              "      <td>[make, self]</td>\n",
              "    </tr>\n",
              "    <tr>\n",
              "      <th>...</th>\n",
              "      <td>...</td>\n",
              "      <td>...</td>\n",
              "      <td>...</td>\n",
              "      <td>...</td>\n",
              "      <td>...</td>\n",
              "      <td>...</td>\n",
              "      <td>...</td>\n",
              "      <td>...</td>\n",
              "    </tr>\n",
              "    <tr>\n",
              "      <th>1556</th>\n",
              "      <td>gj2fd2</td>\n",
              "      <td>parkwayy</td>\n",
              "      <td>Before whoever whines about how games won't lo...</td>\n",
              "      <td>80</td>\n",
              "      <td>1.589401e+09</td>\n",
              "      <td>/r/gaming/comments/gj2fd2/a_tech_demo_running_...</td>\n",
              "      <td>[whoever, whines, games, look, good, beastly, ...</td>\n",
              "      <td>[beastly, better, com, crap, demo, eh, games, ...</td>\n",
              "    </tr>\n",
              "    <tr>\n",
              "      <th>1557</th>\n",
              "      <td>gj2fd2</td>\n",
              "      <td>intLeon</td>\n",
              "      <td>This but with hoverboard : one of the opening ...</td>\n",
              "      <td>75</td>\n",
              "      <td>1.589389e+09</td>\n",
              "      <td>/r/gaming/comments/gj2fd2/a_tech_demo_running_...</td>\n",
              "      <td>[hoverboard, one, opening, scenes, treasure, p...</td>\n",
              "      <td>[1ainh4, edit, euwu, g6h3vs_qb6s, got, hoverbo...</td>\n",
              "    </tr>\n",
              "    <tr>\n",
              "      <th>1558</th>\n",
              "      <td>gj2fd2</td>\n",
              "      <td>davejugs01</td>\n",
              "      <td>That is fucking incredible</td>\n",
              "      <td>51</td>\n",
              "      <td>1.589388e+09</td>\n",
              "      <td>/r/gaming/comments/gj2fd2/a_tech_demo_running_...</td>\n",
              "      <td>[fucking, incredible]</td>\n",
              "      <td>[fucking, incredible]</td>\n",
              "    </tr>\n",
              "    <tr>\n",
              "      <th>1559</th>\n",
              "      <td>gj2fd2</td>\n",
              "      <td>Sovereign42</td>\n",
              "      <td>Looks neat, now as long as this is footage of ...</td>\n",
              "      <td>110</td>\n",
              "      <td>1.589389e+09</td>\n",
              "      <td>/r/gaming/comments/gj2fd2/a_tech_demo_running_...</td>\n",
              "      <td>[looks, neat, long, footage, rendered, real, t...</td>\n",
              "      <td>[actually, footage, hardware, impressed, junk,...</td>\n",
              "    </tr>\n",
              "    <tr>\n",
              "      <th>1560</th>\n",
              "      <td>gj2fd2</td>\n",
              "      <td>barukatang</td>\n",
              "      <td>Watch the 9 minute video</td>\n",
              "      <td>90</td>\n",
              "      <td>1.589390e+09</td>\n",
              "      <td>/r/gaming/comments/gj2fd2/a_tech_demo_running_...</td>\n",
              "      <td>[watch, 9, minute, video]</td>\n",
              "      <td>[9, minute, video, watch]</td>\n",
              "    </tr>\n",
              "  </tbody>\n",
              "</table>\n",
              "<p>1561 rows × 8 columns</p>\n",
              "</div>"
            ],
            "text/plain": [
              "     submission  ...                                    comments_unique\n",
              "0        hdtabn  ...  [3d, actually, great, real, second, thing, tho...\n",
              "1        hdtabn  ...            [continue, drink, please, verification]\n",
              "2        hdtabn  ...  [et6uiw7uzw4, got, https, intimidated, kfconso...\n",
              "3        hdtabn  ...            [banana, criminal, fridge, keeps, kind]\n",
              "4        hdtabn  ...                                       [make, self]\n",
              "...         ...  ...                                                ...\n",
              "1556     gj2fd2  ...  [beastly, better, com, crap, demo, eh, games, ...\n",
              "1557     gj2fd2  ...  [1ainh4, edit, euwu, g6h3vs_qb6s, got, hoverbo...\n",
              "1558     gj2fd2  ...                              [fucking, incredible]\n",
              "1559     gj2fd2  ...  [actually, footage, hardware, impressed, junk,...\n",
              "1560     gj2fd2  ...                          [9, minute, video, watch]\n",
              "\n",
              "[1561 rows x 8 columns]"
            ]
          },
          "metadata": {
            "tags": []
          },
          "execution_count": 9
        }
      ]
    },
    {
      "cell_type": "markdown",
      "metadata": {
        "id": "IP9F9kDvj5Me"
      },
      "source": [
        "##Lift analysis of brands"
      ]
    },
    {
      "cell_type": "code",
      "metadata": {
        "id": "CzCwCxwcj42x"
      },
      "source": [
        "## Get frequency of all words\n",
        "all_words = rgame['comments_unique'].sum()\n",
        "freq_dist = nltk.FreqDist(all_words)"
      ],
      "execution_count": 10,
      "outputs": []
    },
    {
      "cell_type": "code",
      "metadata": {
        "id": "Jkl__21Hj9Ah"
      },
      "source": [
        "## Get the frequency counts of all brands\n",
        "all_brands_dict = {your_key: freq_dist[your_key] for your_key in freq_dist.keys() if your_key in model_brand_dict.values()}\n",
        "all_brands = pd.DataFrame.from_dict(all_brands_dict, orient='index').reset_index()\n",
        "all_brands.columns = [\"brand\",\"word_frequency\"]\n",
        "all_brands.sort_values(\"word_frequency\", ascending= False, inplace=True)"
      ],
      "execution_count": 11,
      "outputs": []
    },
    {
      "cell_type": "markdown",
      "metadata": {
        "id": "x3hhA0ZKkChi"
      },
      "source": [
        "###ranking"
      ]
    },
    {
      "cell_type": "code",
      "metadata": {
        "id": "CmBOBGUekDdf",
        "outputId": "5157047d-8c8f-4b08-bb3c-1a89ca0ab337",
        "colab": {
          "base_uri": "https://localhost:8080/",
          "height": 142
        }
      },
      "source": [
        "## Display the brands ranking by frequency count\n",
        "top_brands = all_brands.head(3)\n",
        "top10 = all_brands.head(3)\n",
        "top_brands"
      ],
      "execution_count": 12,
      "outputs": [
        {
          "output_type": "execute_result",
          "data": {
            "text/html": [
              "<div>\n",
              "<style scoped>\n",
              "    .dataframe tbody tr th:only-of-type {\n",
              "        vertical-align: middle;\n",
              "    }\n",
              "\n",
              "    .dataframe tbody tr th {\n",
              "        vertical-align: top;\n",
              "    }\n",
              "\n",
              "    .dataframe thead th {\n",
              "        text-align: right;\n",
              "    }\n",
              "</style>\n",
              "<table border=\"1\" class=\"dataframe\">\n",
              "  <thead>\n",
              "    <tr style=\"text-align: right;\">\n",
              "      <th></th>\n",
              "      <th>brand</th>\n",
              "      <th>word_frequency</th>\n",
              "    </tr>\n",
              "  </thead>\n",
              "  <tbody>\n",
              "    <tr>\n",
              "      <th>1</th>\n",
              "      <td>xbox</td>\n",
              "      <td>109</td>\n",
              "    </tr>\n",
              "    <tr>\n",
              "      <th>2</th>\n",
              "      <td>ps5</td>\n",
              "      <td>89</td>\n",
              "    </tr>\n",
              "    <tr>\n",
              "      <th>0</th>\n",
              "      <td>pc</td>\n",
              "      <td>44</td>\n",
              "    </tr>\n",
              "  </tbody>\n",
              "</table>\n",
              "</div>"
            ],
            "text/plain": [
              "  brand  word_frequency\n",
              "1  xbox             109\n",
              "2   ps5              89\n",
              "0    pc              44"
            ]
          },
          "metadata": {
            "tags": []
          },
          "execution_count": 12
        }
      ]
    },
    {
      "cell_type": "markdown",
      "metadata": {
        "id": "gzJwsS05kMmT"
      },
      "source": [
        "###Lift function"
      ]
    },
    {
      "cell_type": "code",
      "metadata": {
        "id": "m00snig-kG4t"
      },
      "source": [
        "def calculate_lift(a, b, tokenized_posts):\n",
        "    num_a = 0\n",
        "    num_b = 0\n",
        "    num_a_b = 0\n",
        "    n = len(tokenized_posts)\n",
        "    if a==b:\n",
        "        return 1\n",
        "    for i in tokenized_posts:\n",
        "        if a in i:\n",
        "            num_a += 1\n",
        "        if b in i:\n",
        "            num_b += 1\n",
        "        if a in i and b in i:\n",
        "            num_a_b += 1\n",
        "    if num_a == 0:\n",
        "        return (float(n)*num_a_b)/(num_b)\n",
        "    elif num_b == 0:\n",
        "        return (float(n)*num_a_b)/(num_a)\n",
        "    else:\n",
        "        return (float(n)*num_a_b)/(num_a*num_b)"
      ],
      "execution_count": 13,
      "outputs": []
    },
    {
      "cell_type": "code",
      "metadata": {
        "id": "ge1ilnTnkWc6"
      },
      "source": [
        "## Get the lift scores for the top-10 brands\n",
        "num_brands = 3\n",
        "\n",
        "## print(top_brands)\n",
        "top_brands = top_brands.head(num_brands)\n",
        "lift_brands = []\n",
        "for index, brand_a in top_brands.iterrows():\n",
        "    for index, brand_b in top_brands.iterrows():\n",
        "        lift_brands.append(calculate_lift(brand_a.brand, brand_b.brand, rgame.comments_unique))"
      ],
      "execution_count": 14,
      "outputs": []
    },
    {
      "cell_type": "code",
      "metadata": {
        "id": "tPpfBeUhkZT2"
      },
      "source": [
        "lift_brands_df = np.reshape(lift_brands,(num_brands,num_brands))"
      ],
      "execution_count": 15,
      "outputs": []
    },
    {
      "cell_type": "markdown",
      "metadata": {
        "id": "izUZSivYlnd3"
      },
      "source": [
        "### console to console Lift Matrix"
      ]
    },
    {
      "cell_type": "code",
      "metadata": {
        "id": "gLE19GswlocI",
        "outputId": "725d80a4-c76c-47ff-bc8b-04bb2d2cf964",
        "colab": {
          "base_uri": "https://localhost:8080/",
          "height": 142
        }
      },
      "source": [
        "lift_brands = pd.DataFrame(data= lift_brands_df)\n",
        "\n",
        "for i in range(3):\n",
        "    lift_brands = lift_brands.rename(columns = {i: top_brands.iloc[i, 0]})\n",
        "    lift_brands = lift_brands.rename(index = {i: top_brands.iloc[i, 0]})\n",
        "lift_brands"
      ],
      "execution_count": 16,
      "outputs": [
        {
          "output_type": "execute_result",
          "data": {
            "text/html": [
              "<div>\n",
              "<style scoped>\n",
              "    .dataframe tbody tr th:only-of-type {\n",
              "        vertical-align: middle;\n",
              "    }\n",
              "\n",
              "    .dataframe tbody tr th {\n",
              "        vertical-align: top;\n",
              "    }\n",
              "\n",
              "    .dataframe thead th {\n",
              "        text-align: right;\n",
              "    }\n",
              "</style>\n",
              "<table border=\"1\" class=\"dataframe\">\n",
              "  <thead>\n",
              "    <tr style=\"text-align: right;\">\n",
              "      <th></th>\n",
              "      <th>xbox</th>\n",
              "      <th>ps5</th>\n",
              "      <th>pc</th>\n",
              "    </tr>\n",
              "  </thead>\n",
              "  <tbody>\n",
              "    <tr>\n",
              "      <th>xbox</th>\n",
              "      <td>1.000000</td>\n",
              "      <td>1.930935</td>\n",
              "      <td>2.603837</td>\n",
              "    </tr>\n",
              "    <tr>\n",
              "      <th>ps5</th>\n",
              "      <td>1.930935</td>\n",
              "      <td>1.000000</td>\n",
              "      <td>2.391726</td>\n",
              "    </tr>\n",
              "    <tr>\n",
              "      <th>pc</th>\n",
              "      <td>2.603837</td>\n",
              "      <td>2.391726</td>\n",
              "      <td>1.000000</td>\n",
              "    </tr>\n",
              "  </tbody>\n",
              "</table>\n",
              "</div>"
            ],
            "text/plain": [
              "          xbox       ps5        pc\n",
              "xbox  1.000000  1.930935  2.603837\n",
              "ps5   1.930935  1.000000  2.391726\n",
              "pc    2.603837  2.391726  1.000000"
            ]
          },
          "metadata": {
            "tags": []
          },
          "execution_count": 16
        }
      ]
    },
    {
      "cell_type": "code",
      "metadata": {
        "id": "xe9KrsGZlvxQ"
      },
      "source": [
        "###MDS plot"
      ],
      "execution_count": null,
      "outputs": []
    },
    {
      "cell_type": "code",
      "metadata": {
        "id": "SGSkRX5Ulwxe",
        "outputId": "64759385-690c-445d-d009-95f89b415f0d",
        "colab": {
          "base_uri": "https://localhost:8080/",
          "height": 292
        }
      },
      "source": [
        "## Calculating the dissimilarity matrix which is the input for plotting MDS plot\n",
        "dissimilarity_matrix = 1/lift_brands\n",
        "np.fill_diagonal(dissimilarity_matrix.values, 0)\n",
        "\n",
        "## Plotting MDS plot\n",
        "from sklearn import manifold\n",
        "seed = np.random.RandomState(seed=3)\n",
        "mds = manifold.MDS(n_components=2, max_iter=3000, eps=1e-9, \n",
        "      random_state=seed, dissimilarity=\"precomputed\", n_jobs=1)\n",
        "results = mds.fit(dissimilarity_matrix)\n",
        "coords = results.embedding_\n",
        "\n",
        "plt.subplots_adjust(bottom = 0.1)\n",
        "plt.scatter(\n",
        "    coords[:, 0], coords[:, 1], marker = 'o'\n",
        "    )\n",
        "for label, x, y in zip(lift_brands, coords[:, 0], coords[:, 1]):\n",
        "    \n",
        "    plt.annotate(\n",
        "        label,\n",
        "        xy = (x, y), xytext = (-20, 20),\n",
        "        textcoords = 'offset points',ha = 'left', va = 'bottom',\n",
        "        bbox = dict(boxstyle = 'round,pad=0.5', fc = 'orange', alpha = 0.5),\n",
        "        arrowprops = dict(arrowstyle = '->', connectionstyle = 'arc3,rad=0'))\n",
        "\n",
        "plt.show()"
      ],
      "execution_count": 17,
      "outputs": [
        {
          "output_type": "display_data",
          "data": {
            "image/png": "[encoded data removed]",
            "text/plain": [
              "<Figure size 432x288 with 1 Axes>"
            ]
          },
          "metadata": {
            "tags": [],
            "needs_background": "light"
          }
        }
      ]
    },
    {
      "cell_type": "markdown",
      "metadata": {
        "id": "kZnMFKz_nHfD"
      },
      "source": [
        "##Attribute Analysis using lift"
      ]
    },
    {
      "cell_type": "code",
      "metadata": {
        "id": "gh-qoxZUnEmK",
        "outputId": "90908c53-b610-4f2f-a9ad-27df14231e28",
        "colab": {
          "base_uri": "https://localhost:8080/",
          "height": 204
        }
      },
      "source": [
        "attribute_list = ['performance','graphics','affordable','favorite','buy','speed',\n",
        "                 'price','security','fps','games','multiplayer','online','subscription',\n",
        "                  'quality']\n",
        "attr_df = pd.DataFrame(index = attribute_list)\n",
        "attr_df['synonym'] = attribute_list\n",
        "attr_df[:5]"
      ],
      "execution_count": 18,
      "outputs": [
        {
          "output_type": "execute_result",
          "data": {
            "text/html": [
              "<div>\n",
              "<style scoped>\n",
              "    .dataframe tbody tr th:only-of-type {\n",
              "        vertical-align: middle;\n",
              "    }\n",
              "\n",
              "    .dataframe tbody tr th {\n",
              "        vertical-align: top;\n",
              "    }\n",
              "\n",
              "    .dataframe thead th {\n",
              "        text-align: right;\n",
              "    }\n",
              "</style>\n",
              "<table border=\"1\" class=\"dataframe\">\n",
              "  <thead>\n",
              "    <tr style=\"text-align: right;\">\n",
              "      <th></th>\n",
              "      <th>synonym</th>\n",
              "    </tr>\n",
              "  </thead>\n",
              "  <tbody>\n",
              "    <tr>\n",
              "      <th>performance</th>\n",
              "      <td>performance</td>\n",
              "    </tr>\n",
              "    <tr>\n",
              "      <th>graphics</th>\n",
              "      <td>graphics</td>\n",
              "    </tr>\n",
              "    <tr>\n",
              "      <th>affordable</th>\n",
              "      <td>affordable</td>\n",
              "    </tr>\n",
              "    <tr>\n",
              "      <th>favorite</th>\n",
              "      <td>favorite</td>\n",
              "    </tr>\n",
              "    <tr>\n",
              "      <th>buy</th>\n",
              "      <td>buy</td>\n",
              "    </tr>\n",
              "  </tbody>\n",
              "</table>\n",
              "</div>"
            ],
            "text/plain": [
              "                 synonym\n",
              "performance  performance\n",
              "graphics        graphics\n",
              "affordable    affordable\n",
              "favorite        favorite\n",
              "buy                  buy"
            ]
          },
          "metadata": {
            "tags": []
          },
          "execution_count": 18
        }
      ]
    },
    {
      "cell_type": "code",
      "metadata": {
        "id": "svVKWWtEnMG2"
      },
      "source": [
        "attr_dict = attr_df[\"synonym\"].to_dict()\n",
        "rgame[\"attr_tokens\"] = rgame[\"comments_unique\"].apply(lambda list_of_words: [attr_dict[x] for x in list_of_words if x in attr_dict  ])"
      ],
      "execution_count": 19,
      "outputs": []
    },
    {
      "cell_type": "code",
      "metadata": {
        "id": "ujzfAoUGnS-W",
        "outputId": "8c745fbb-ce42-49ad-8167-318d9b0546b0",
        "colab": {
          "base_uri": "https://localhost:8080/",
          "height": 68
        }
      },
      "source": [
        "# Define consoles by frequency obtained previously\n",
        "import numpy as np\n",
        "top_brands=['xbox','ps5','pc']\n",
        "\n",
        "# Get unique list of grouped attribute names\n",
        "uniq_attr=np.unique(attr_df['synonym'])\n",
        "uniq_attr"
      ],
      "execution_count": 20,
      "outputs": [
        {
          "output_type": "execute_result",
          "data": {
            "text/plain": [
              "array(['affordable', 'buy', 'favorite', 'fps', 'games', 'graphics',\n",
              "       'multiplayer', 'online', 'performance', 'price', 'quality',\n",
              "       'security', 'speed', 'subscription'], dtype=object)"
            ]
          },
          "metadata": {
            "tags": []
          },
          "execution_count": 20
        }
      ]
    },
    {
      "cell_type": "code",
      "metadata": {
        "id": "JsMvWZB8nWqd"
      },
      "source": [
        "# Find top 5 attributes:\n",
        "\n",
        "def calc_freq(tokenized_posts,find_list):\n",
        "    freq_a=0\n",
        "    for i in tokenized_posts:\n",
        "        if find_list in i:\n",
        "            freq_a += 1\n",
        "    return freq_a\n",
        "  \n",
        "# Calculate freq for attr\n",
        "df_top_attr=pd.DataFrame(columns=['attribute','freq'])\n",
        "for i,attr in enumerate(uniq_attr):\n",
        "        temp_freq=calc_freq( rgame.comments_unique,str(attr))\n",
        "        df_top_attr.loc[i]=[str(attr),temp_freq]"
      ],
      "execution_count": 21,
      "outputs": []
    },
    {
      "cell_type": "code",
      "metadata": {
        "id": "Pz_pzhJ7naAw",
        "outputId": "a6c9ccf1-2a55-4410-f19f-30de9ca35cdf",
        "colab": {
          "base_uri": "https://localhost:8080/",
          "height": 119
        }
      },
      "source": [
        "top_attr=df_top_attr.sort_values(by='freq',ascending=False).head(5)\n",
        "top_attr['attribute']"
      ],
      "execution_count": 22,
      "outputs": [
        {
          "output_type": "execute_result",
          "data": {
            "text/plain": [
              "4       games\n",
              "1         buy\n",
              "7      online\n",
              "5    graphics\n",
              "9       price\n",
              "Name: attribute, dtype: object"
            ]
          },
          "metadata": {
            "tags": []
          },
          "execution_count": 22
        }
      ]
    },
    {
      "cell_type": "code",
      "metadata": {
        "id": "WqR4pBq7nb7L"
      },
      "source": [
        "# Grouped Brands and attribute lifts \n",
        "df_lift_brand_attr=pd.DataFrame(columns=['brand','attribute','lift'])\n",
        "i=0\n",
        "for  brand_a in top_brands:\n",
        "    for attr in top_attr['attribute']:\n",
        "        temp_lift=calculate_lift(str(brand_a), str(attr), rgame.comments_unique)\n",
        "        df_lift_brand_attr.loc[i]=[ str(brand_a),str(attr),temp_lift]\n",
        "        i=i+1"
      ],
      "execution_count": 23,
      "outputs": []
    },
    {
      "cell_type": "code",
      "metadata": {
        "id": "mYGhb8o8ngjf",
        "outputId": "f216086f-79c0-48a4-f20d-be99271db474",
        "colab": {
          "base_uri": "https://localhost:8080/",
          "height": 289
        }
      },
      "source": [
        "df1 = df_lift_brand_attr.sort_values('lift',ascending = False).groupby('brand').head(10)\n",
        "print(df1.sort_values(['brand','lift'],ascending=[True,False]))"
      ],
      "execution_count": 24,
      "outputs": [
        {
          "output_type": "stream",
          "text": [
            "   brand attribute      lift\n",
            "10    pc     games  5.543324\n",
            "13    pc  graphics  3.547727\n",
            "14    pc     price  3.547727\n",
            "11    pc       buy  3.130348\n",
            "12    pc    online  1.970960\n",
            "8    ps5  graphics  1.753933\n",
            "9    ps5     price  1.753933\n",
            "6    ps5       buy  1.031725\n",
            "5    ps5     games  0.548104\n",
            "7    ps5    online  0.000000\n",
            "4   xbox     price  2.864220\n",
            "0   xbox     games  2.237672\n",
            "1   xbox       buy  0.842418\n",
            "2   xbox    online  0.795617\n",
            "3   xbox  graphics  0.000000\n"
          ],
          "name": "stdout"
        }
      ]
    },
    {
      "cell_type": "code",
      "metadata": {
        "id": "d6IwH7Uzni-r",
        "outputId": "02908bd6-0931-4290-b3e7-8652ba657840",
        "colab": {
          "base_uri": "https://localhost:8080/",
          "height": 204
        }
      },
      "source": [
        "lift_matrix = df1.pivot(index='brand', columns='attribute')\n",
        "lift_matrix"
      ],
      "execution_count": 25,
      "outputs": [
        {
          "output_type": "execute_result",
          "data": {
            "text/html": [
              "<div>\n",
              "<style scoped>\n",
              "    .dataframe tbody tr th:only-of-type {\n",
              "        vertical-align: middle;\n",
              "    }\n",
              "\n",
              "    .dataframe tbody tr th {\n",
              "        vertical-align: top;\n",
              "    }\n",
              "\n",
              "    .dataframe thead tr th {\n",
              "        text-align: left;\n",
              "    }\n",
              "\n",
              "    .dataframe thead tr:last-of-type th {\n",
              "        text-align: right;\n",
              "    }\n",
              "</style>\n",
              "<table border=\"1\" class=\"dataframe\">\n",
              "  <thead>\n",
              "    <tr>\n",
              "      <th></th>\n",
              "      <th colspan=\"5\" halign=\"left\">lift</th>\n",
              "    </tr>\n",
              "    <tr>\n",
              "      <th>attribute</th>\n",
              "      <th>buy</th>\n",
              "      <th>games</th>\n",
              "      <th>graphics</th>\n",
              "      <th>online</th>\n",
              "      <th>price</th>\n",
              "    </tr>\n",
              "    <tr>\n",
              "      <th>brand</th>\n",
              "      <th></th>\n",
              "      <th></th>\n",
              "      <th></th>\n",
              "      <th></th>\n",
              "      <th></th>\n",
              "    </tr>\n",
              "  </thead>\n",
              "  <tbody>\n",
              "    <tr>\n",
              "      <th>pc</th>\n",
              "      <td>3.130348</td>\n",
              "      <td>5.543324</td>\n",
              "      <td>3.547727</td>\n",
              "      <td>1.970960</td>\n",
              "      <td>3.547727</td>\n",
              "    </tr>\n",
              "    <tr>\n",
              "      <th>ps5</th>\n",
              "      <td>1.031725</td>\n",
              "      <td>0.548104</td>\n",
              "      <td>1.753933</td>\n",
              "      <td>0.000000</td>\n",
              "      <td>1.753933</td>\n",
              "    </tr>\n",
              "    <tr>\n",
              "      <th>xbox</th>\n",
              "      <td>0.842418</td>\n",
              "      <td>2.237672</td>\n",
              "      <td>0.000000</td>\n",
              "      <td>0.795617</td>\n",
              "      <td>2.864220</td>\n",
              "    </tr>\n",
              "  </tbody>\n",
              "</table>\n",
              "</div>"
            ],
            "text/plain": [
              "               lift                                        \n",
              "attribute       buy     games  graphics    online     price\n",
              "brand                                                      \n",
              "pc         3.130348  5.543324  3.547727  1.970960  3.547727\n",
              "ps5        1.031725  0.548104  1.753933  0.000000  1.753933\n",
              "xbox       0.842418  2.237672  0.000000  0.795617  2.864220"
            ]
          },
          "metadata": {
            "tags": []
          },
          "execution_count": 25
        }
      ]
    },
    {
      "cell_type": "markdown",
      "metadata": {
        "id": "b6BGDu32n8Hv"
      },
      "source": [
        "##Aspiration Analysis"
      ]
    },
    {
      "cell_type": "code",
      "metadata": {
        "id": "RjZONjP1n8_N"
      },
      "source": [
        "aspiration_list = ['wish to', 'hope to', 'want to', 'really want', 'prefer', 'dream graphics', 'dream of', 'aspire', 'looking for', 'looking to', 'would like', 'can afford', 'looking at', 'pre order','pre_order', 'cop']"
      ],
      "execution_count": 26,
      "outputs": []
    },
    {
      "cell_type": "code",
      "metadata": {
        "id": "1Jw_hDMroAEF",
        "outputId": "26a01dbe-18c0-4f19-9716-17e51d3e581e",
        "colab": {
          "base_uri": "https://localhost:8080/",
          "height": 545
        }
      },
      "source": [
        "aspiration = pd.DataFrame(aspiration_list)\n",
        "aspiration.columns=['word']\n",
        "aspiration"
      ],
      "execution_count": 27,
      "outputs": [
        {
          "output_type": "execute_result",
          "data": {
            "text/html": [
              "<div>\n",
              "<style scoped>\n",
              "    .dataframe tbody tr th:only-of-type {\n",
              "        vertical-align: middle;\n",
              "    }\n",
              "\n",
              "    .dataframe tbody tr th {\n",
              "        vertical-align: top;\n",
              "    }\n",
              "\n",
              "    .dataframe thead th {\n",
              "        text-align: right;\n",
              "    }\n",
              "</style>\n",
              "<table border=\"1\" class=\"dataframe\">\n",
              "  <thead>\n",
              "    <tr style=\"text-align: right;\">\n",
              "      <th></th>\n",
              "      <th>word</th>\n",
              "    </tr>\n",
              "  </thead>\n",
              "  <tbody>\n",
              "    <tr>\n",
              "      <th>0</th>\n",
              "      <td>wish to</td>\n",
              "    </tr>\n",
              "    <tr>\n",
              "      <th>1</th>\n",
              "      <td>hope to</td>\n",
              "    </tr>\n",
              "    <tr>\n",
              "      <th>2</th>\n",
              "      <td>want to</td>\n",
              "    </tr>\n",
              "    <tr>\n",
              "      <th>3</th>\n",
              "      <td>really want</td>\n",
              "    </tr>\n",
              "    <tr>\n",
              "      <th>4</th>\n",
              "      <td>prefer</td>\n",
              "    </tr>\n",
              "    <tr>\n",
              "      <th>5</th>\n",
              "      <td>dream graphics</td>\n",
              "    </tr>\n",
              "    <tr>\n",
              "      <th>6</th>\n",
              "      <td>dream of</td>\n",
              "    </tr>\n",
              "    <tr>\n",
              "      <th>7</th>\n",
              "      <td>aspire</td>\n",
              "    </tr>\n",
              "    <tr>\n",
              "      <th>8</th>\n",
              "      <td>looking for</td>\n",
              "    </tr>\n",
              "    <tr>\n",
              "      <th>9</th>\n",
              "      <td>looking to</td>\n",
              "    </tr>\n",
              "    <tr>\n",
              "      <th>10</th>\n",
              "      <td>would like</td>\n",
              "    </tr>\n",
              "    <tr>\n",
              "      <th>11</th>\n",
              "      <td>can afford</td>\n",
              "    </tr>\n",
              "    <tr>\n",
              "      <th>12</th>\n",
              "      <td>looking at</td>\n",
              "    </tr>\n",
              "    <tr>\n",
              "      <th>13</th>\n",
              "      <td>pre order</td>\n",
              "    </tr>\n",
              "    <tr>\n",
              "      <th>14</th>\n",
              "      <td>pre_order</td>\n",
              "    </tr>\n",
              "    <tr>\n",
              "      <th>15</th>\n",
              "      <td>cop</td>\n",
              "    </tr>\n",
              "  </tbody>\n",
              "</table>\n",
              "</div>"
            ],
            "text/plain": [
              "              word\n",
              "0          wish to\n",
              "1          hope to\n",
              "2          want to\n",
              "3      really want\n",
              "4           prefer\n",
              "5   dream graphics\n",
              "6         dream of\n",
              "7           aspire\n",
              "8      looking for\n",
              "9       looking to\n",
              "10      would like\n",
              "11      can afford\n",
              "12      looking at\n",
              "13       pre order\n",
              "14       pre_order\n",
              "15             cop"
            ]
          },
          "metadata": {
            "tags": []
          },
          "execution_count": 27
        }
      ]
    },
    {
      "cell_type": "code",
      "metadata": {
        "id": "wMSc36nFoC8d"
      },
      "source": [
        "## Function to replace the aspirational phrases with the word - \"aspiration\"\n",
        "def asp_word_replace(comment):\n",
        "    for i in aspiration['word'].index.values:\n",
        "        comment = comment.lower().replace(aspiration['word'][i],'aspiration')\n",
        "    return comment"
      ],
      "execution_count": 28,
      "outputs": []
    },
    {
      "cell_type": "code",
      "metadata": {
        "id": "7kMBNjMGoIP5"
      },
      "source": [
        "rgame[\"comments_replace\"] = rgame[\"body\"].apply(asp_word_replace)"
      ],
      "execution_count": 29,
      "outputs": []
    },
    {
      "cell_type": "code",
      "metadata": {
        "id": "wXMj2mYjoKWm"
      },
      "source": [
        "## Tokenize the comments and remove stop words after replacing the phrases by aspiration\n",
        "rgame[\"comments_replace_tokens\"] = rgame[\"comments_replace\"].apply(lambda each_post: word_tokenize(re.sub(r'[^\\w\\s]',' ',each_post.lower())))\n",
        "rgame[\"comments_replace_tokens\"] = rgame[\"comments_replace_tokens\"].apply(lambda list_of_words: [x if x not in model_brand_dict else model_brand_dict[x] for x in list_of_words])\n",
        "rgame[\"comments_replace_tokens\"] = rgame[\"comments_replace_tokens\"].apply(lambda list_of_words: [x for x in list_of_words if x not in stop])\n",
        "rgame[\"comments_replace_tokens\"] = rgame[\"comments_replace_tokens\"].apply(lambda x: sorted(set(x)))"
      ],
      "execution_count": 30,
      "outputs": []
    },
    {
      "cell_type": "code",
      "metadata": {
        "id": "Hot93c3xoLXF"
      },
      "source": [
        "## Get the lift score for all brands and aspirational words\n",
        "lift_asp_brands = pd.DataFrame(columns=['Brand','Lift'])\n",
        "for index, brand_a in all_brands.iterrows():\n",
        "        lift_asp_brands = lift_asp_brands.append({'Brand': brand_a.brand, \"Lift\":calculate_lift(brand_a.brand, 'aspiration', rgame.comments_replace_tokens)},\n",
        "                                        ignore_index=True)"
      ],
      "execution_count": 31,
      "outputs": []
    },
    {
      "cell_type": "code",
      "metadata": {
        "id": "gwEd2NpSoQd2",
        "outputId": "65202889-61e6-4190-9cfe-122b38480a02",
        "colab": {
          "base_uri": "https://localhost:8080/",
          "height": 142
        }
      },
      "source": [
        "lift_asp_brands.sort_values(by='Lift',ascending=False).head(5)"
      ],
      "execution_count": 32,
      "outputs": [
        {
          "output_type": "execute_result",
          "data": {
            "text/html": [
              "<div>\n",
              "<style scoped>\n",
              "    .dataframe tbody tr th:only-of-type {\n",
              "        vertical-align: middle;\n",
              "    }\n",
              "\n",
              "    .dataframe tbody tr th {\n",
              "        vertical-align: top;\n",
              "    }\n",
              "\n",
              "    .dataframe thead th {\n",
              "        text-align: right;\n",
              "    }\n",
              "</style>\n",
              "<table border=\"1\" class=\"dataframe\">\n",
              "  <thead>\n",
              "    <tr style=\"text-align: right;\">\n",
              "      <th></th>\n",
              "      <th>Brand</th>\n",
              "      <th>Lift</th>\n",
              "    </tr>\n",
              "  </thead>\n",
              "  <tbody>\n",
              "    <tr>\n",
              "      <th>2</th>\n",
              "      <td>pc</td>\n",
              "      <td>3.835381</td>\n",
              "    </tr>\n",
              "    <tr>\n",
              "      <th>0</th>\n",
              "      <td>xbox</td>\n",
              "      <td>2.322341</td>\n",
              "    </tr>\n",
              "    <tr>\n",
              "      <th>1</th>\n",
              "      <td>ps5</td>\n",
              "      <td>1.422108</td>\n",
              "    </tr>\n",
              "  </tbody>\n",
              "</table>\n",
              "</div>"
            ],
            "text/plain": [
              "  Brand      Lift\n",
              "2    pc  3.835381\n",
              "0  xbox  2.322341\n",
              "1   ps5  1.422108"
            ]
          },
          "metadata": {
            "tags": []
          },
          "execution_count": 32
        }
      ]
    },
    {
      "cell_type": "markdown",
      "metadata": {
        "id": "mkyo5JnNoZQo"
      },
      "source": [
        "Casual gamers would prefer to buy a PC. comparing just PS5 and XBOX, xbox wins"
      ]
    },
    {
      "cell_type": "markdown",
      "metadata": {
        "id": "J0jzeokRohHZ"
      },
      "source": [
        "#Sentiment Analysis\n"
      ]
    },
    {
      "cell_type": "markdown",
      "metadata": {
        "id": "EEDnyqK5okJV"
      },
      "source": [
        "###Word frequency analysis using POS"
      ]
    },
    {
      "cell_type": "code",
      "metadata": {
        "id": "5p55EHpGoVXR",
        "outputId": "f7d480eb-c1fd-4314-b379-96a0ef85e192",
        "colab": {
          "base_uri": "https://localhost:8080/",
          "height": 68
        }
      },
      "source": [
        "from nltk.tokenize import word_tokenize\n",
        "from nltk.probability import FreqDist\n",
        "from nltk.corpus import stopwords\n",
        "from nltk.tokenize import RegexpTokenizer # to remove punctuations\n",
        "import re\n",
        "import nltk\n",
        "nltk.download('punkt')"
      ],
      "execution_count": 33,
      "outputs": [
        {
          "output_type": "stream",
          "text": [
            "[nltk_data] Downloading package punkt to /root/nltk_data...\n",
            "[nltk_data]   Package punkt is already up-to-date!\n"
          ],
          "name": "stdout"
        },
        {
          "output_type": "execute_result",
          "data": {
            "text/plain": [
              "True"
            ]
          },
          "metadata": {
            "tags": []
          },
          "execution_count": 33
        }
      ]
    },
    {
      "cell_type": "code",
      "metadata": {
        "id": "imWEmN77oofd"
      },
      "source": [
        "#clean_comment accepts a string. It then cleans the comment by removing punctuation and stopwords.\n",
        "#It returns a list of words in that string.\n",
        "def clean_comment(comment):\n",
        "    #For cleaning up the test comment. Remove punctuation and make everything lower case.\n",
        "    comment = re.sub(r'[^\\w\\s]','',comment.lower())\n",
        "    \n",
        "    #Syntax translation:\n",
        "    #word can be anything. I choose word since it's what we're essentially doing\n",
        "    #comment.split() converts the comment into a list. \n",
        "    #Then see if the word in that list is in the drop_stop or not. \n",
        "    #Drops any word that is in the stopwords list.\n",
        "    stopwords_list = stopwords.words('english')\n",
        "    #Store this list and return it.\n",
        "    cleaned = [word for word in comment.split() if word not in stopwords_list]\n",
        "    return cleaned"
      ],
      "execution_count": 34,
      "outputs": []
    },
    {
      "cell_type": "code",
      "metadata": {
        "id": "dsCLj2o2orr0"
      },
      "source": [
        "#Use function to create a new cleaned body column.\n",
        "rgame['cleaned body'] = rgame['body'].astype(str).apply(clean_comment)"
      ],
      "execution_count": 35,
      "outputs": []
    },
    {
      "cell_type": "code",
      "metadata": {
        "id": "u-HIIPGOoxO8",
        "outputId": "14327605-c3ce-49b4-969c-35592444e656",
        "colab": {
          "base_uri": "https://localhost:8080/",
          "height": 564
        }
      },
      "source": [
        "# Obtain POS for the tokens\n",
        "nltk.download('averaged_perceptron_tagger')\n",
        "\n",
        "rgame['pos']=rgame['cleaned body'].apply(nltk.tag.pos_tag)\n",
        "rgame[:5]"
      ],
      "execution_count": 36,
      "outputs": [
        {
          "output_type": "stream",
          "text": [
            "[nltk_data] Downloading package averaged_perceptron_tagger to\n",
            "[nltk_data]     /root/nltk_data...\n",
            "[nltk_data]   Unzipping taggers/averaged_perceptron_tagger.zip.\n"
          ],
          "name": "stdout"
        },
        {
          "output_type": "execute_result",
          "data": {
            "text/html": [
              "<div>\n",
              "<style scoped>\n",
              "    .dataframe tbody tr th:only-of-type {\n",
              "        vertical-align: middle;\n",
              "    }\n",
              "\n",
              "    .dataframe tbody tr th {\n",
              "        vertical-align: top;\n",
              "    }\n",
              "\n",
              "    .dataframe thead th {\n",
              "        text-align: right;\n",
              "    }\n",
              "</style>\n",
              "<table border=\"1\" class=\"dataframe\">\n",
              "  <thead>\n",
              "    <tr style=\"text-align: right;\">\n",
              "      <th></th>\n",
              "      <th>submission</th>\n",
              "      <th>author</th>\n",
              "      <th>body</th>\n",
              "      <th>score</th>\n",
              "      <th>created</th>\n",
              "      <th>url_of_post</th>\n",
              "      <th>comments_tokens</th>\n",
              "      <th>comments_unique</th>\n",
              "      <th>attr_tokens</th>\n",
              "      <th>comments_replace</th>\n",
              "      <th>comments_replace_tokens</th>\n",
              "      <th>cleaned body</th>\n",
              "      <th>pos</th>\n",
              "    </tr>\n",
              "  </thead>\n",
              "  <tbody>\n",
              "    <tr>\n",
              "      <th>0</th>\n",
              "      <td>hdtabn</td>\n",
              "      <td>TheTinyPlunger</td>\n",
              "      <td>I actually thought you had the real thing for ...</td>\n",
              "      <td>3416</td>\n",
              "      <td>1.592838e+09</td>\n",
              "      <td>/r/gaming/comments/hdtabn/since_some_of_you_as...</td>\n",
              "      <td>[actually, thought, real, thing, second, great...</td>\n",
              "      <td>[3d, actually, great, real, second, thing, tho...</td>\n",
              "      <td>[]</td>\n",
              "      <td>i actually thought you had the real thing for ...</td>\n",
              "      <td>[3d, actually, great, real, second, thing, tho...</td>\n",
              "      <td>[actually, thought, real, thing, second, great...</td>\n",
              "      <td>[(actually, RB), (thought, VBN), (real, JJ), (...</td>\n",
              "    </tr>\n",
              "    <tr>\n",
              "      <th>1</th>\n",
              "      <td>hdtabn</td>\n",
              "      <td>Eaglezzz</td>\n",
              "      <td>**PLEASE DRINK VERIFICATION CAN TO CONTINUE**</td>\n",
              "      <td>946</td>\n",
              "      <td>1.592842e+09</td>\n",
              "      <td>/r/gaming/comments/hdtabn/since_some_of_you_as...</td>\n",
              "      <td>[please, drink, verification, continue]</td>\n",
              "      <td>[continue, drink, please, verification]</td>\n",
              "      <td>[]</td>\n",
              "      <td>**please drink verification can to continue**</td>\n",
              "      <td>[continue, drink, please, verification]</td>\n",
              "      <td>[please, drink, verification, continue]</td>\n",
              "      <td>[(please, NN), (drink, VB), (verification, NN)...</td>\n",
              "    </tr>\n",
              "    <tr>\n",
              "      <th>2</th>\n",
              "      <td>hdtabn</td>\n",
              "      <td>Damascusmascus</td>\n",
              "      <td>They got really intimidated by the [KFConsole]...</td>\n",
              "      <td>232</td>\n",
              "      <td>1.592839e+09</td>\n",
              "      <td>/r/gaming/comments/hdtabn/since_some_of_you_as...</td>\n",
              "      <td>[got, really, intimidated, kfconsole, https, y...</td>\n",
              "      <td>[et6uiw7uzw4, got, https, intimidated, kfconso...</td>\n",
              "      <td>[]</td>\n",
              "      <td>they got really intimidated by the [kfconsole]...</td>\n",
              "      <td>[et6uiw7uzw4, got, https, intimidated, kfconso...</td>\n",
              "      <td>[got, really, intimidated, kfconsolehttpsyoutu...</td>\n",
              "      <td>[(got, VBD), (really, RB), (intimidated, VBN),...</td>\n",
              "    </tr>\n",
              "    <tr>\n",
              "      <th>3</th>\n",
              "      <td>hdtabn</td>\n",
              "      <td>SevenHarmlessSins</td>\n",
              "      <td>What kind of criminal keeps a banana in a fridge?</td>\n",
              "      <td>137</td>\n",
              "      <td>1.592846e+09</td>\n",
              "      <td>/r/gaming/comments/hdtabn/since_some_of_you_as...</td>\n",
              "      <td>[kind, criminal, keeps, banana, fridge]</td>\n",
              "      <td>[banana, criminal, fridge, keeps, kind]</td>\n",
              "      <td>[]</td>\n",
              "      <td>what kind of criminal keeps a banana in a fridge?</td>\n",
              "      <td>[banana, criminal, fridge, keeps, kind]</td>\n",
              "      <td>[kind, criminal, keeps, banana, fridge]</td>\n",
              "      <td>[(kind, NN), (criminal, JJ), (keeps, NNS), (ba...</td>\n",
              "    </tr>\n",
              "    <tr>\n",
              "      <th>4</th>\n",
              "      <td>hdtabn</td>\n",
              "      <td>Thebaldymaster</td>\n",
              "      <td>Did you make that all you're self???</td>\n",
              "      <td>140</td>\n",
              "      <td>1.592837e+09</td>\n",
              "      <td>/r/gaming/comments/hdtabn/since_some_of_you_as...</td>\n",
              "      <td>[make, self]</td>\n",
              "      <td>[make, self]</td>\n",
              "      <td>[]</td>\n",
              "      <td>did you make that all you're self???</td>\n",
              "      <td>[make, self]</td>\n",
              "      <td>[make, youre, self]</td>\n",
              "      <td>[(make, VB), (youre, NN), (self, NN)]</td>\n",
              "    </tr>\n",
              "  </tbody>\n",
              "</table>\n",
              "</div>"
            ],
            "text/plain": [
              "  submission  ...                                                pos\n",
              "0     hdtabn  ...  [(actually, RB), (thought, VBN), (real, JJ), (...\n",
              "1     hdtabn  ...  [(please, NN), (drink, VB), (verification, NN)...\n",
              "2     hdtabn  ...  [(got, VBD), (really, RB), (intimidated, VBN),...\n",
              "3     hdtabn  ...  [(kind, NN), (criminal, JJ), (keeps, NNS), (ba...\n",
              "4     hdtabn  ...              [(make, VB), (youre, NN), (self, NN)]\n",
              "\n",
              "[5 rows x 13 columns]"
            ]
          },
          "metadata": {
            "tags": []
          },
          "execution_count": 36
        }
      ]
    },
    {
      "cell_type": "code",
      "metadata": {
        "id": "8BYx1ez-oyza",
        "outputId": "1d8c4934-ee50-44dc-ebbc-516d1964e64f",
        "colab": {
          "base_uri": "https://localhost:8080/",
          "height": 513
        }
      },
      "source": [
        "# Extract the list of nouns\n",
        "rgame['nouns']=rgame['pos'].apply(lambda pos_list: [x[0] for x in pos_list if x[1].startswith('NN')])\n",
        "rgame[:5]"
      ],
      "execution_count": 37,
      "outputs": [
        {
          "output_type": "execute_result",
          "data": {
            "text/html": [
              "<div>\n",
              "<style scoped>\n",
              "    .dataframe tbody tr th:only-of-type {\n",
              "        vertical-align: middle;\n",
              "    }\n",
              "\n",
              "    .dataframe tbody tr th {\n",
              "        vertical-align: top;\n",
              "    }\n",
              "\n",
              "    .dataframe thead th {\n",
              "        text-align: right;\n",
              "    }\n",
              "</style>\n",
              "<table border=\"1\" class=\"dataframe\">\n",
              "  <thead>\n",
              "    <tr style=\"text-align: right;\">\n",
              "      <th></th>\n",
              "      <th>submission</th>\n",
              "      <th>author</th>\n",
              "      <th>body</th>\n",
              "      <th>score</th>\n",
              "      <th>created</th>\n",
              "      <th>url_of_post</th>\n",
              "      <th>comments_tokens</th>\n",
              "      <th>comments_unique</th>\n",
              "      <th>attr_tokens</th>\n",
              "      <th>comments_replace</th>\n",
              "      <th>comments_replace_tokens</th>\n",
              "      <th>cleaned body</th>\n",
              "      <th>pos</th>\n",
              "      <th>nouns</th>\n",
              "    </tr>\n",
              "  </thead>\n",
              "  <tbody>\n",
              "    <tr>\n",
              "      <th>0</th>\n",
              "      <td>hdtabn</td>\n",
              "      <td>TheTinyPlunger</td>\n",
              "      <td>I actually thought you had the real thing for ...</td>\n",
              "      <td>3416</td>\n",
              "      <td>1.592838e+09</td>\n",
              "      <td>/r/gaming/comments/hdtabn/since_some_of_you_as...</td>\n",
              "      <td>[actually, thought, real, thing, second, great...</td>\n",
              "      <td>[3d, actually, great, real, second, thing, tho...</td>\n",
              "      <td>[]</td>\n",
              "      <td>i actually thought you had the real thing for ...</td>\n",
              "      <td>[3d, actually, great, real, second, thing, tho...</td>\n",
              "      <td>[actually, thought, real, thing, second, great...</td>\n",
              "      <td>[(actually, RB), (thought, VBN), (real, JJ), (...</td>\n",
              "      <td>[thing]</td>\n",
              "    </tr>\n",
              "    <tr>\n",
              "      <th>1</th>\n",
              "      <td>hdtabn</td>\n",
              "      <td>Eaglezzz</td>\n",
              "      <td>**PLEASE DRINK VERIFICATION CAN TO CONTINUE**</td>\n",
              "      <td>946</td>\n",
              "      <td>1.592842e+09</td>\n",
              "      <td>/r/gaming/comments/hdtabn/since_some_of_you_as...</td>\n",
              "      <td>[please, drink, verification, continue]</td>\n",
              "      <td>[continue, drink, please, verification]</td>\n",
              "      <td>[]</td>\n",
              "      <td>**please drink verification can to continue**</td>\n",
              "      <td>[continue, drink, please, verification]</td>\n",
              "      <td>[please, drink, verification, continue]</td>\n",
              "      <td>[(please, NN), (drink, VB), (verification, NN)...</td>\n",
              "      <td>[please, verification, continue]</td>\n",
              "    </tr>\n",
              "    <tr>\n",
              "      <th>2</th>\n",
              "      <td>hdtabn</td>\n",
              "      <td>Damascusmascus</td>\n",
              "      <td>They got really intimidated by the [KFConsole]...</td>\n",
              "      <td>232</td>\n",
              "      <td>1.592839e+09</td>\n",
              "      <td>/r/gaming/comments/hdtabn/since_some_of_you_as...</td>\n",
              "      <td>[got, really, intimidated, kfconsole, https, y...</td>\n",
              "      <td>[et6uiw7uzw4, got, https, intimidated, kfconso...</td>\n",
              "      <td>[]</td>\n",
              "      <td>they got really intimidated by the [kfconsole]...</td>\n",
              "      <td>[et6uiw7uzw4, got, https, intimidated, kfconso...</td>\n",
              "      <td>[got, really, intimidated, kfconsolehttpsyoutu...</td>\n",
              "      <td>[(got, VBD), (really, RB), (intimidated, VBN),...</td>\n",
              "      <td>[kfconsolehttpsyoutubeet6uiw7uzw4, move]</td>\n",
              "    </tr>\n",
              "    <tr>\n",
              "      <th>3</th>\n",
              "      <td>hdtabn</td>\n",
              "      <td>SevenHarmlessSins</td>\n",
              "      <td>What kind of criminal keeps a banana in a fridge?</td>\n",
              "      <td>137</td>\n",
              "      <td>1.592846e+09</td>\n",
              "      <td>/r/gaming/comments/hdtabn/since_some_of_you_as...</td>\n",
              "      <td>[kind, criminal, keeps, banana, fridge]</td>\n",
              "      <td>[banana, criminal, fridge, keeps, kind]</td>\n",
              "      <td>[]</td>\n",
              "      <td>what kind of criminal keeps a banana in a fridge?</td>\n",
              "      <td>[banana, criminal, fridge, keeps, kind]</td>\n",
              "      <td>[kind, criminal, keeps, banana, fridge]</td>\n",
              "      <td>[(kind, NN), (criminal, JJ), (keeps, NNS), (ba...</td>\n",
              "      <td>[kind, keeps, fridge]</td>\n",
              "    </tr>\n",
              "    <tr>\n",
              "      <th>4</th>\n",
              "      <td>hdtabn</td>\n",
              "      <td>Thebaldymaster</td>\n",
              "      <td>Did you make that all you're self???</td>\n",
              "      <td>140</td>\n",
              "      <td>1.592837e+09</td>\n",
              "      <td>/r/gaming/comments/hdtabn/since_some_of_you_as...</td>\n",
              "      <td>[make, self]</td>\n",
              "      <td>[make, self]</td>\n",
              "      <td>[]</td>\n",
              "      <td>did you make that all you're self???</td>\n",
              "      <td>[make, self]</td>\n",
              "      <td>[make, youre, self]</td>\n",
              "      <td>[(make, VB), (youre, NN), (self, NN)]</td>\n",
              "      <td>[youre, self]</td>\n",
              "    </tr>\n",
              "  </tbody>\n",
              "</table>\n",
              "</div>"
            ],
            "text/plain": [
              "  submission  ...                                     nouns\n",
              "0     hdtabn  ...                                   [thing]\n",
              "1     hdtabn  ...          [please, verification, continue]\n",
              "2     hdtabn  ...  [kfconsolehttpsyoutubeet6uiw7uzw4, move]\n",
              "3     hdtabn  ...                     [kind, keeps, fridge]\n",
              "4     hdtabn  ...                             [youre, self]\n",
              "\n",
              "[5 rows x 14 columns]"
            ]
          },
          "metadata": {
            "tags": []
          },
          "execution_count": 37
        }
      ]
    },
    {
      "cell_type": "code",
      "metadata": {
        "id": "wKo4Yjjao3-0",
        "outputId": "fa7e96a6-9f9c-438f-ed30-4f257304c818",
        "colab": {
          "base_uri": "https://localhost:8080/",
          "height": 359
        }
      },
      "source": [
        "# Filter the noun list only to make the list of attributes \n",
        "noun_lst = rgame['nouns'].apply(pd.Series).stack().unique()\n",
        "\n",
        "# Get the frequencies for the nouns\n",
        "noun_df= pd.DataFrame(noun_lst)\n",
        "noun_df.columns=['nouns']\n",
        "\n",
        "# Join with frequency table and get frequency of all words\n",
        "all_words = rgame['cleaned body'].sum()\n",
        "freq_dist = nltk.FreqDist(all_words)\n",
        "\n",
        "df_fdist=pd.DataFrame(list(freq_dist.items()), columns=['term', 'freq'])\n",
        "\n",
        "noun_freq_df = pd.merge(noun_df, df_fdist, right_on='term', left_on='nouns')\n",
        "noun_freq_df[:10].sort_values(by='freq',ascending=False)"
      ],
      "execution_count": 42,
      "outputs": [
        {
          "output_type": "execute_result",
          "data": {
            "text/html": [
              "<div>\n",
              "<style scoped>\n",
              "    .dataframe tbody tr th:only-of-type {\n",
              "        vertical-align: middle;\n",
              "    }\n",
              "\n",
              "    .dataframe tbody tr th {\n",
              "        vertical-align: top;\n",
              "    }\n",
              "\n",
              "    .dataframe thead th {\n",
              "        text-align: right;\n",
              "    }\n",
              "</style>\n",
              "<table border=\"1\" class=\"dataframe\">\n",
              "  <thead>\n",
              "    <tr style=\"text-align: right;\">\n",
              "      <th></th>\n",
              "      <th>nouns</th>\n",
              "      <th>term</th>\n",
              "      <th>freq</th>\n",
              "    </tr>\n",
              "  </thead>\n",
              "  <tbody>\n",
              "    <tr>\n",
              "      <th>0</th>\n",
              "      <td>thing</td>\n",
              "      <td>thing</td>\n",
              "      <td>41</td>\n",
              "    </tr>\n",
              "    <tr>\n",
              "      <th>9</th>\n",
              "      <td>youre</td>\n",
              "      <td>youre</td>\n",
              "      <td>32</td>\n",
              "    </tr>\n",
              "    <tr>\n",
              "      <th>6</th>\n",
              "      <td>kind</td>\n",
              "      <td>kind</td>\n",
              "      <td>16</td>\n",
              "    </tr>\n",
              "    <tr>\n",
              "      <th>1</th>\n",
              "      <td>please</td>\n",
              "      <td>please</td>\n",
              "      <td>9</td>\n",
              "    </tr>\n",
              "    <tr>\n",
              "      <th>5</th>\n",
              "      <td>move</td>\n",
              "      <td>move</td>\n",
              "      <td>7</td>\n",
              "    </tr>\n",
              "    <tr>\n",
              "      <th>8</th>\n",
              "      <td>fridge</td>\n",
              "      <td>fridge</td>\n",
              "      <td>5</td>\n",
              "    </tr>\n",
              "    <tr>\n",
              "      <th>3</th>\n",
              "      <td>continue</td>\n",
              "      <td>continue</td>\n",
              "      <td>3</td>\n",
              "    </tr>\n",
              "    <tr>\n",
              "      <th>2</th>\n",
              "      <td>verification</td>\n",
              "      <td>verification</td>\n",
              "      <td>1</td>\n",
              "    </tr>\n",
              "    <tr>\n",
              "      <th>4</th>\n",
              "      <td>kfconsolehttpsyoutubeet6uiw7uzw4</td>\n",
              "      <td>kfconsolehttpsyoutubeet6uiw7uzw4</td>\n",
              "      <td>1</td>\n",
              "    </tr>\n",
              "    <tr>\n",
              "      <th>7</th>\n",
              "      <td>keeps</td>\n",
              "      <td>keeps</td>\n",
              "      <td>1</td>\n",
              "    </tr>\n",
              "  </tbody>\n",
              "</table>\n",
              "</div>"
            ],
            "text/plain": [
              "                              nouns                              term  freq\n",
              "0                             thing                             thing    41\n",
              "9                             youre                             youre    32\n",
              "6                              kind                              kind    16\n",
              "1                            please                            please     9\n",
              "5                              move                              move     7\n",
              "8                            fridge                            fridge     5\n",
              "3                          continue                          continue     3\n",
              "2                      verification                      verification     1\n",
              "4  kfconsolehttpsyoutubeet6uiw7uzw4  kfconsolehttpsyoutubeet6uiw7uzw4     1\n",
              "7                             keeps                             keeps     1"
            ]
          },
          "metadata": {
            "tags": []
          },
          "execution_count": 42
        }
      ]
    },
    {
      "cell_type": "markdown",
      "metadata": {
        "id": "_ckzVOawpYVQ"
      },
      "source": [
        "##Sentiment Analysis"
      ]
    },
    {
      "cell_type": "code",
      "metadata": {
        "id": "9rGwh7YvpYz9"
      },
      "source": [
        "model_brand = pd.read_csv('ps5_xbox.csv', header = None, sep=',')\n",
        "model_brand.columns = ['brand','model']\n",
        "prelim_dict = model_brand.set_index('model').to_dict('index')\n",
        "model_to_brand_dict = {}\n",
        "#Iterate over the prelim dictionary to make a new one.\n",
        "for key,value in prelim_dict.items():\n",
        "    for key1, value1 in value.items():\n",
        "        model_to_brand_dict[key] = value1"
      ],
      "execution_count": 43,
      "outputs": []
    },
    {
      "cell_type": "code",
      "metadata": {
        "id": "jaOzhzFUpd_s"
      },
      "source": [
        "#Function to replace all of the car models with car brands.\n",
        "#Part 2 of cleaning comments.\n",
        "#Could merge into clean comment but I feel this is more clear.\n",
        "#model_to_brand takes a list of words as a parameter and a model_to_brand_dict.\n",
        "#It then iterates over the list and sees if each word matches a key in the dictionary. \n",
        "#If the word is in the dictionary, it will be converted to a brand.\n",
        "#Specifically, dict[key] gives the value of that key. In this case model: brand.\n",
        "#Returns the word list converted \n",
        "def model_to_brand(word_list,word_dict=model_to_brand_dict):\n",
        "    #Need initial index of -1 to get index 0 for the iteration\n",
        "    index = -1\n",
        "    for word in word_list: #Iterate for every word in the list\n",
        "        index += 1\n",
        "        if word in model_to_brand_dict: #word is a key in the dictionary\n",
        "            #Convert key to value. Model to brand.\n",
        "            word_list[index] = model_to_brand_dict[word]\n",
        "    return word_list"
      ],
      "execution_count": 44,
      "outputs": []
    },
    {
      "cell_type": "code",
      "metadata": {
        "id": "ty8i90gfpfyK",
        "outputId": "27d1e075-bd7d-4dc0-b567-deca8c429654",
        "colab": {
          "base_uri": "https://localhost:8080/",
          "height": 1000
        }
      },
      "source": [
        "#Using function to replace models with brands\n",
        "rgame['cleaned body'] = rgame['cleaned body'].map(model_to_brand)\n",
        "maskx = rgame['cleaned body'].str.contains('xbox',regex=False) == True\n",
        "rgamex = rgame[maskx]\n",
        "rgamex\n"
      ],
      "execution_count": 45,
      "outputs": [
        {
          "output_type": "execute_result",
          "data": {
            "text/html": [
              "<div>\n",
              "<style scoped>\n",
              "    .dataframe tbody tr th:only-of-type {\n",
              "        vertical-align: middle;\n",
              "    }\n",
              "\n",
              "    .dataframe tbody tr th {\n",
              "        vertical-align: top;\n",
              "    }\n",
              "\n",
              "    .dataframe thead th {\n",
              "        text-align: right;\n",
              "    }\n",
              "</style>\n",
              "<table border=\"1\" class=\"dataframe\">\n",
              "  <thead>\n",
              "    <tr style=\"text-align: right;\">\n",
              "      <th></th>\n",
              "      <th>submission</th>\n",
              "      <th>author</th>\n",
              "      <th>body</th>\n",
              "      <th>score</th>\n",
              "      <th>created</th>\n",
              "      <th>url_of_post</th>\n",
              "      <th>comments_tokens</th>\n",
              "      <th>comments_unique</th>\n",
              "      <th>attr_tokens</th>\n",
              "      <th>comments_replace</th>\n",
              "      <th>comments_replace_tokens</th>\n",
              "      <th>cleaned body</th>\n",
              "      <th>pos</th>\n",
              "      <th>nouns</th>\n",
              "    </tr>\n",
              "  </thead>\n",
              "  <tbody>\n",
              "    <tr>\n",
              "      <th>5</th>\n",
              "      <td>hdtabn</td>\n",
              "      <td>TheLastGiant</td>\n",
              "      <td>Jokes aside seeing Xbox series x in 3d looks k...</td>\n",
              "      <td>82</td>\n",
              "      <td>1.592839e+09</td>\n",
              "      <td>/r/gaming/comments/hdtabn/since_some_of_you_as...</td>\n",
              "      <td>[jokes, aside, seeing, xbox, series, x, 3d, lo...</td>\n",
              "      <td>[3d, aside, cool, jokes, kinda, like, living, ...</td>\n",
              "      <td>[]</td>\n",
              "      <td>jokes aside seeing xbox series x in 3d looks k...</td>\n",
              "      <td>[3d, aside, cool, jokes, kinda, like, living, ...</td>\n",
              "      <td>[jokes, aside, seeing, xbox, series, x, 3d, lo...</td>\n",
              "      <td>[(jokes, NNS), (aside, RB), (seeing, VBG), (xb...</td>\n",
              "      <td>[jokes, xbox, series, x, cool, pc, living, room]</td>\n",
              "    </tr>\n",
              "    <tr>\n",
              "      <th>11</th>\n",
              "      <td>hdtabn</td>\n",
              "      <td>daepiknoob</td>\n",
              "      <td>All the food items are just free models, but I...</td>\n",
              "      <td>182</td>\n",
              "      <td>1.592838e+09</td>\n",
              "      <td>/r/gaming/comments/hdtabn/since_some_of_you_as...</td>\n",
              "      <td>[food, items, free, models, made, inside, xbox...</td>\n",
              "      <td>[food, free, inside, items, made, models, text...</td>\n",
              "      <td>[]</td>\n",
              "      <td>all the food items are just free models, but i...</td>\n",
              "      <td>[food, free, inside, items, made, models, text...</td>\n",
              "      <td>[food, items, free, models, made, inside, xbox...</td>\n",
              "      <td>[(food, NN), (items, NNS), (free, JJ), (models...</td>\n",
              "      <td>[food, items, models, xbox, xbox]</td>\n",
              "    </tr>\n",
              "    <tr>\n",
              "      <th>28</th>\n",
              "      <td>fl4fjy</td>\n",
              "      <td>2marston</td>\n",
              "      <td>Nintendo has always been red. Xbox sort of cho...</td>\n",
              "      <td>218</td>\n",
              "      <td>1.584625e+09</td>\n",
              "      <td>/r/gaming/comments/fl4fjy/ps5_vs_xbox_series_x...</td>\n",
              "      <td>[nintendo, always, red, xbox, sort, chose, go,...</td>\n",
              "      <td>[always, assume, blue, chose, combo, complete,...</td>\n",
              "      <td>[]</td>\n",
              "      <td>nintendo has always been red. xbox sort of cho...</td>\n",
              "      <td>[always, assume, blue, chose, combo, complete,...</td>\n",
              "      <td>[nintendo, always, red, xbox, sort, chose, go,...</td>\n",
              "      <td>[(nintendo, NN), (always, RB), (red, VBD), (xb...</td>\n",
              "      <td>[nintendo, sort, logo, sort, ps1, logo, redgre...</td>\n",
              "    </tr>\n",
              "    <tr>\n",
              "      <th>35</th>\n",
              "      <td>fl4fjy</td>\n",
              "      <td>ChaosMiles07</td>\n",
              "      <td>I was under the impression that the blue was c...</td>\n",
              "      <td>98</td>\n",
              "      <td>1.584627e+09</td>\n",
              "      <td>/r/gaming/comments/fl4fjy/ps5_vs_xbox_series_x...</td>\n",
              "      <td>[impression, blue, chosen, sometime, ps2, life...</td>\n",
              "      <td>[already, blue, btw, chosen, competition, cons...</td>\n",
              "      <td>[]</td>\n",
              "      <td>i was under the impression that the blue was c...</td>\n",
              "      <td>[already, blue, btw, chosen, competition, cons...</td>\n",
              "      <td>[impression, blue, chosen, sometime, ps2s, lif...</td>\n",
              "      <td>[(impression, NN), (blue, NN), (chosen, VBN), ...</td>\n",
              "      <td>[impression, blue, life, cycle, psx, days, par...</td>\n",
              "    </tr>\n",
              "    <tr>\n",
              "      <th>120</th>\n",
              "      <td>8q686s</td>\n",
              "      <td>Speider</td>\n",
              "      <td>No, they didn't say that.\\nTodd Howard used \"n...</td>\n",
              "      <td>55</td>\n",
              "      <td>1.528691e+09</td>\n",
              "      <td>/r/gaming/comments/8q686s/bethesdas_e3_confere...</td>\n",
              "      <td>[say, todd, howard, used, next, gen, refer, up...</td>\n",
              "      <td>[coming, cutting, edge, games, gen, howard, ne...</td>\n",
              "      <td>[games]</td>\n",
              "      <td>no, they didn't say that.\\ntodd howard used \"n...</td>\n",
              "      <td>[coming, cutting, edge, games, gen, howard, ne...</td>\n",
              "      <td>[didnt, say, todd, howard, used, next, gen, re...</td>\n",
              "      <td>[(didnt, NNS), (say, VBP), (todd, JJ), (howard...</td>\n",
              "      <td>[didnt, howard, gen, refer, games, edge, weren...</td>\n",
              "    </tr>\n",
              "    <tr>\n",
              "      <th>...</th>\n",
              "      <td>...</td>\n",
              "      <td>...</td>\n",
              "      <td>...</td>\n",
              "      <td>...</td>\n",
              "      <td>...</td>\n",
              "      <td>...</td>\n",
              "      <td>...</td>\n",
              "      <td>...</td>\n",
              "      <td>...</td>\n",
              "      <td>...</td>\n",
              "      <td>...</td>\n",
              "      <td>...</td>\n",
              "      <td>...</td>\n",
              "      <td>...</td>\n",
              "    </tr>\n",
              "    <tr>\n",
              "      <th>1413</th>\n",
              "      <td>e3xr4n</td>\n",
              "      <td>Whale_Hunter88</td>\n",
              "      <td>I hope the next xbox gets customization option...</td>\n",
              "      <td>50</td>\n",
              "      <td>1.575135e+09</td>\n",
              "      <td>/r/gaming/comments/e3xr4n/ps5_dev_kits_spotted...</td>\n",
              "      <td>[hope, next, xbox, gets, customization, option...</td>\n",
              "      <td>[ass, bad, controllers, current, customization...</td>\n",
              "      <td>[]</td>\n",
              "      <td>i hope the next xbox gets customization option...</td>\n",
              "      <td>[ass, bad, controllers, current, customization...</td>\n",
              "      <td>[hope, next, xbox, gets, customization, option...</td>\n",
              "      <td>[(hope, NN), (next, IN), (xbox, JJ), (gets, VB...</td>\n",
              "      <td>[hope, customization, options, money, controll...</td>\n",
              "    </tr>\n",
              "    <tr>\n",
              "      <th>1445</th>\n",
              "      <td>fws9xl</td>\n",
              "      <td>M1ghty_boy</td>\n",
              "      <td>WAIT. The Xbox series X is a mini fridge that ...</td>\n",
              "      <td>541</td>\n",
              "      <td>1.586292e+09</td>\n",
              "      <td>/r/gaming/comments/fws9xl/the_true_purpose_of_...</td>\n",
              "      <td>[wait, xbox, series, x, mini, fridge, keep, dr...</td>\n",
              "      <td>[beast, cool, drinks, fan, fridge, keep, mini,...</td>\n",
              "      <td>[]</td>\n",
              "      <td>wait. the xbox series x is a mini fridge that ...</td>\n",
              "      <td>[beast, cool, drinks, fan, fridge, keep, mini,...</td>\n",
              "      <td>[wait, xbox, series, x, mini, fridge, keep, dr...</td>\n",
              "      <td>[(wait, NN), (xbox, NNP), (series, NN), (x, NN...</td>\n",
              "      <td>[wait, xbox, series, x, mini, fridge, drinks, ...</td>\n",
              "    </tr>\n",
              "    <tr>\n",
              "      <th>1497</th>\n",
              "      <td>fl4fjy</td>\n",
              "      <td>2marston</td>\n",
              "      <td>Nintendo has always been red. Xbox sort of cho...</td>\n",
              "      <td>214</td>\n",
              "      <td>1.584625e+09</td>\n",
              "      <td>/r/gaming/comments/fl4fjy/ps5_vs_xbox_series_x...</td>\n",
              "      <td>[nintendo, always, red, xbox, sort, chose, go,...</td>\n",
              "      <td>[always, assume, blue, chose, combo, complete,...</td>\n",
              "      <td>[]</td>\n",
              "      <td>nintendo has always been red. xbox sort of cho...</td>\n",
              "      <td>[always, assume, blue, chose, combo, complete,...</td>\n",
              "      <td>[nintendo, always, red, xbox, sort, chose, go,...</td>\n",
              "      <td>[(nintendo, NN), (always, RB), (red, VBD), (xb...</td>\n",
              "      <td>[nintendo, sort, logo, sort, ps1, logo, redgre...</td>\n",
              "    </tr>\n",
              "    <tr>\n",
              "      <th>1504</th>\n",
              "      <td>fl4fjy</td>\n",
              "      <td>ChaosMiles07</td>\n",
              "      <td>I was under the impression that the blue was c...</td>\n",
              "      <td>96</td>\n",
              "      <td>1.584627e+09</td>\n",
              "      <td>/r/gaming/comments/fl4fjy/ps5_vs_xbox_series_x...</td>\n",
              "      <td>[impression, blue, chosen, sometime, ps2, life...</td>\n",
              "      <td>[already, blue, btw, chosen, competition, cons...</td>\n",
              "      <td>[]</td>\n",
              "      <td>i was under the impression that the blue was c...</td>\n",
              "      <td>[already, blue, btw, chosen, competition, cons...</td>\n",
              "      <td>[impression, blue, chosen, sometime, ps2s, lif...</td>\n",
              "      <td>[(impression, NN), (blue, NN), (chosen, VBN), ...</td>\n",
              "      <td>[impression, blue, life, cycle, psx, days, par...</td>\n",
              "    </tr>\n",
              "    <tr>\n",
              "      <th>1528</th>\n",
              "      <td>elbua1</td>\n",
              "      <td>NaN</td>\n",
              "      <td>I have to imagine they decided to go with this...</td>\n",
              "      <td>104</td>\n",
              "      <td>1.578414e+09</td>\n",
              "      <td>/r/gaming/comments/elbua1/i_swapped_the_ps2_an...</td>\n",
              "      <td>[imagine, decided, go, jokes, confusion, xbox,...</td>\n",
              "      <td>[4, 5, absolutely, alter, changing, confusion,...</td>\n",
              "      <td>[]</td>\n",
              "      <td>i have to imagine they decided to go with this...</td>\n",
              "      <td>[4, 5, absolutely, alter, changing, confusion,...</td>\n",
              "      <td>[imagine, decided, go, jokes, confusion, xbox,...</td>\n",
              "      <td>[(imagine, NN), (decided, VBD), (go, VB), (jok...</td>\n",
              "      <td>[imagine, confusion, xbox, series, x, sony, dont]</td>\n",
              "    </tr>\n",
              "  </tbody>\n",
              "</table>\n",
              "<p>107 rows × 14 columns</p>\n",
              "</div>"
            ],
            "text/plain": [
              "     submission  ...                                              nouns\n",
              "5        hdtabn  ...   [jokes, xbox, series, x, cool, pc, living, room]\n",
              "11       hdtabn  ...                  [food, items, models, xbox, xbox]\n",
              "28       fl4fjy  ...  [nintendo, sort, logo, sort, ps1, logo, redgre...\n",
              "35       fl4fjy  ...  [impression, blue, life, cycle, psx, days, par...\n",
              "120      8q686s  ...  [didnt, howard, gen, refer, games, edge, weren...\n",
              "...         ...  ...                                                ...\n",
              "1413     e3xr4n  ...  [hope, customization, options, money, controll...\n",
              "1445     fws9xl  ...  [wait, xbox, series, x, mini, fridge, drinks, ...\n",
              "1497     fl4fjy  ...  [nintendo, sort, logo, sort, ps1, logo, redgre...\n",
              "1504     fl4fjy  ...  [impression, blue, life, cycle, psx, days, par...\n",
              "1528     elbua1  ...  [imagine, confusion, xbox, series, x, sony, dont]\n",
              "\n",
              "[107 rows x 14 columns]"
            ]
          },
          "metadata": {
            "tags": []
          },
          "execution_count": 45
        }
      ]
    },
    {
      "cell_type": "markdown",
      "metadata": {
        "id": "6u-TQ96WploZ"
      },
      "source": [
        "###Cosine Similarity for xbox"
      ]
    },
    {
      "cell_type": "code",
      "metadata": {
        "id": "EwDZfd68ppwa"
      },
      "source": [
        "#Import everything.\n",
        "import pandas as pd\n",
        "import nltk\n",
        "import matplotlib.pyplot as plt\n",
        "from sklearn import manifold\n",
        "from matplotlib.font_manager import FontProperties\n",
        "import re\n",
        "\n",
        "import nltk\n",
        "from nltk import FreqDist\n",
        "from nltk.corpus import stopwords # Import the stop word list\n",
        "from nltk.tokenize import sent_tokenize, word_tokenize\n",
        "\n",
        "from collections import Counter\n",
        "from itertools import chain"
      ],
      "execution_count": 46,
      "outputs": []
    },
    {
      "cell_type": "code",
      "metadata": {
        "id": "yAllXbsQp6an"
      },
      "source": [
        "attributes = ['games','buy','price', 'graphics','online']"
      ],
      "execution_count": 57,
      "outputs": []
    },
    {
      "cell_type": "code",
      "metadata": {
        "id": "891gQjjUp9Sr",
        "outputId": "33b96435-3048-4149-8ade-0e8f79565756",
        "colab": {
          "base_uri": "https://localhost:8080/",
          "height": 139
        }
      },
      "source": [
        "attributes_nlp = nlp('games, buy, price, graphics, online')\n",
        "def get_similarity(review_words):\n",
        "    text_review = ' '.join(review_words)\n",
        "    review_nlp = nlp(text_review)\n",
        "    return review_nlp.similarity(attributes_nlp)\n",
        "\n",
        "rgamex['similarity'] =  rgamex['cleaned body'].apply(get_similarity)"
      ],
      "execution_count": 58,
      "outputs": [
        {
          "output_type": "stream",
          "text": [
            "/usr/local/lib/python3.6/dist-packages/ipykernel_launcher.py:7: SettingWithCopyWarning: \n",
            "A value is trying to be set on a copy of a slice from a DataFrame.\n",
            "Try using .loc[row_indexer,col_indexer] = value instead\n",
            "\n",
            "See the caveats in the documentation: https://pandas.pydata.org/pandas-docs/stable/user_guide/indexing.html#returning-a-view-versus-a-copy\n",
            "  import sys\n"
          ],
          "name": "stderr"
        }
      ]
    },
    {
      "cell_type": "code",
      "metadata": {
        "id": "70rsDbdTp_z2",
        "outputId": "ef585b80-ef1b-45bf-b55f-c48445a3f107",
        "colab": {
          "base_uri": "https://localhost:8080/",
          "height": 204
        }
      },
      "source": [
        "rgamex.groupby('author')['similarity'].mean().reset_index().sort_values(by='similarity',ascending = False).head(5)"
      ],
      "execution_count": 59,
      "outputs": [
        {
          "output_type": "execute_result",
          "data": {
            "text/html": [
              "<div>\n",
              "<style scoped>\n",
              "    .dataframe tbody tr th:only-of-type {\n",
              "        vertical-align: middle;\n",
              "    }\n",
              "\n",
              "    .dataframe tbody tr th {\n",
              "        vertical-align: top;\n",
              "    }\n",
              "\n",
              "    .dataframe thead th {\n",
              "        text-align: right;\n",
              "    }\n",
              "</style>\n",
              "<table border=\"1\" class=\"dataframe\">\n",
              "  <thead>\n",
              "    <tr style=\"text-align: right;\">\n",
              "      <th></th>\n",
              "      <th>author</th>\n",
              "      <th>similarity</th>\n",
              "    </tr>\n",
              "  </thead>\n",
              "  <tbody>\n",
              "    <tr>\n",
              "      <th>27</th>\n",
              "      <td>Murumasa</td>\n",
              "      <td>0.690940</td>\n",
              "    </tr>\n",
              "    <tr>\n",
              "      <th>35</th>\n",
              "      <td>Shadzzzzzzzzz</td>\n",
              "      <td>0.684487</td>\n",
              "    </tr>\n",
              "    <tr>\n",
              "      <th>3</th>\n",
              "      <td>Blurry-Pixel</td>\n",
              "      <td>0.675048</td>\n",
              "    </tr>\n",
              "    <tr>\n",
              "      <th>66</th>\n",
              "      <td>imaloony8</td>\n",
              "      <td>0.661122</td>\n",
              "    </tr>\n",
              "    <tr>\n",
              "      <th>31</th>\n",
              "      <td>O_Baby_Baby</td>\n",
              "      <td>0.660239</td>\n",
              "    </tr>\n",
              "  </tbody>\n",
              "</table>\n",
              "</div>"
            ],
            "text/plain": [
              "           author  similarity\n",
              "27       Murumasa    0.690940\n",
              "35  Shadzzzzzzzzz    0.684487\n",
              "3    Blurry-Pixel    0.675048\n",
              "66      imaloony8    0.661122\n",
              "31    O_Baby_Baby    0.660239"
            ]
          },
          "metadata": {
            "tags": []
          },
          "execution_count": 59
        }
      ]
    },
    {
      "cell_type": "markdown",
      "metadata": {
        "id": "LDa1AX6HqJXI"
      },
      "source": [
        "###Sentiment analysis using vader"
      ]
    },
    {
      "cell_type": "code",
      "metadata": {
        "id": "aQaEQCQuqGti",
        "outputId": "9400fec7-50a0-4120-b814-f65d960c2f01",
        "colab": {
          "base_uri": "https://localhost:8080/",
          "height": 309
        }
      },
      "source": [
        "pip install VADER"
      ],
      "execution_count": 50,
      "outputs": [
        {
          "output_type": "stream",
          "text": [
            "Collecting VADER\n",
            "\u001b[?25l  Downloading https://files.pythonhosted.org/packages/be/0d/df60a0ae9ffb63c409849d2909883963855d10e2ee9a5a71c97be41da300/vader-0.0.2-py3-none-any.whl (45kB)\n",
            "\r\u001b[K     |███████▏                        | 10kB 17.0MB/s eta 0:00:01\r\u001b[K     |██████████████▎                 | 20kB 1.7MB/s eta 0:00:01\r\u001b[K     |█████████████████████▍          | 30kB 2.2MB/s eta 0:00:01\r\u001b[K     |████████████████████████████▌   | 40kB 2.5MB/s eta 0:00:01\r\u001b[K     |████████████████████████████████| 51kB 1.6MB/s \n",
            "\u001b[?25hCollecting sonopy\n",
            "  Downloading https://files.pythonhosted.org/packages/2b/4d/862855fb391bc30351f90d6c50ea913df9d18b0ae3b6b8ef3c7aa3ac976f/sonopy-0.1.2.tar.gz\n",
            "Requirement already satisfied: scipy in /usr/local/lib/python3.6/dist-packages (from VADER) (1.4.1)\n",
            "Requirement already satisfied: numpy in /usr/local/lib/python3.6/dist-packages (from VADER) (1.18.5)\n",
            "Requirement already satisfied: scikit-learn in /usr/local/lib/python3.6/dist-packages (from VADER) (0.22.2.post1)\n",
            "Requirement already satisfied: joblib>=0.11 in /usr/local/lib/python3.6/dist-packages (from scikit-learn->VADER) (0.16.0)\n",
            "Building wheels for collected packages: sonopy\n",
            "  Building wheel for sonopy (setup.py) ... \u001b[?25l\u001b[?25hdone\n",
            "  Created wheel for sonopy: filename=sonopy-0.1.2-cp36-none-any.whl size=2881 sha256=7c76bf77f29980329739524c88df6adc89f5dacbb4b08b3e0a055d4b4f1c1370\n",
            "  Stored in directory: /root/.cache/pip/wheels/b6/39/ba/b2f21d4fbcb362658c73f83c9502782300b0399aef3693b506\n",
            "Successfully built sonopy\n",
            "Installing collected packages: sonopy, VADER\n",
            "Successfully installed VADER-0.0.2 sonopy-0.1.2\n"
          ],
          "name": "stdout"
        }
      ]
    },
    {
      "cell_type": "code",
      "metadata": {
        "id": "uptiOdBNqPbY",
        "outputId": "65425425-ff22-4263-e520-f064689805b4",
        "colab": {
          "base_uri": "https://localhost:8080/",
          "height": 71
        }
      },
      "source": [
        "from nltk.sentiment.vader import SentimentIntensityAnalyzer"
      ],
      "execution_count": 51,
      "outputs": [
        {
          "output_type": "stream",
          "text": [
            "/usr/local/lib/python3.6/dist-packages/nltk/twitter/__init__.py:20: UserWarning: The twython library has not been installed. Some functionality from the twitter package will not be available.\n",
            "  warnings.warn(\"The twython library has not been installed. \"\n"
          ],
          "name": "stderr"
        }
      ]
    },
    {
      "cell_type": "code",
      "metadata": {
        "id": "CZW4ZK5QqSxq"
      },
      "source": [
        "from nltk.tokenize import sent_tokenize\n"
      ],
      "execution_count": 52,
      "outputs": []
    },
    {
      "cell_type": "code",
      "metadata": {
        "id": "I7ZZXYqCqToD"
      },
      "source": [
        "#Create dataframe with original reviews\n",
        "sent_games = rgamex[['author','body']].copy()\n",
        "#Add in columns to store sentiment for the attributes\n",
        "sent_games['games_sentiment'] = 0\n",
        "sent_games['buy_sentiment'] = 0\n",
        "sent_games['price_sentiment'] = 0\n",
        "sent_games['graphics_sentiment'] = 0\n",
        "sent_games['online_sentiment'] = 0\n"
      ],
      "execution_count": 60,
      "outputs": []
    },
    {
      "cell_type": "code",
      "metadata": {
        "id": "fys2eEkiqXz2",
        "outputId": "a0dd0e13-3c66-41ec-d417-7eb71de4fbf2",
        "colab": {
          "base_uri": "https://localhost:8080/",
          "height": 34
        }
      },
      "source": [
        "nltk.download('vader_lexicon')\n",
        "vader = SentimentIntensityAnalyzer()"
      ],
      "execution_count": 54,
      "outputs": [
        {
          "output_type": "stream",
          "text": [
            "[nltk_data] Downloading package vader_lexicon to /root/nltk_data...\n"
          ],
          "name": "stdout"
        }
      ]
    },
    {
      "cell_type": "code",
      "metadata": {
        "id": "iMbWGN_Zqabr"
      },
      "source": [
        "#Iterrate through the dataframe\n",
        "for i in sent_games.index:\n",
        "    #Get a review and split it into sentence tokens\n",
        "    review = sent_games.loc[i,'body']\n",
        "    review = sent_tokenize(review)\n",
        "    \n",
        "    #Store score values here\n",
        "    #Resets every time loop runs. This is intentional.\n",
        "    comp_games = []\n",
        "    comp_buy = []\n",
        "    comp_price = []\n",
        "    comp_graphics = []\n",
        "    comp_online = []\n",
        "    \n",
        "    #Iterate through the sentence tokens. Get compound sentiment score if the word is present.\n",
        "    for sent_token in review:\n",
        "        if 'games' in sent_token.lower():\n",
        "            games_score = vader.polarity_scores(sent_token).get('compound')\n",
        "            comp_games.append(games_score)\n",
        "            \n",
        "        if 'buy' in sent_token.lower():\n",
        "            buy_score = vader.polarity_scores(sent_token).get('compound')\n",
        "            comp_buy.append(buy_score)\n",
        "            \n",
        "        if 'price' in sent_token.lower():\n",
        "            price_score = vader.polarity_scores(sent_token).get('compound')\n",
        "            comp_price.append(price_score)\n",
        "        if 'graphics' in sent_token.lower():\n",
        "            graphics_score = vader.polarity_scores(sent_token).get('compound')\n",
        "            comp_graphics.append(graphics_score)\n",
        "        if 'online' in sent_token.lower():\n",
        "            online_score = vader.polarity_scores(sent_token).get('compound')\n",
        "            comp_online.append(online_score)\n",
        "    \n",
        "    #Store each sentiment score in the array\n",
        "    if len(comp_games) == 0: #Nothing is in the list. No sentiment for the review.\n",
        "        sent_games.loc[i,'games_sentiment'] = None\n",
        "    else: #Balanced is in the review. Take the average of the list and store it.\n",
        "        #Taking average means to convert it into a numpy array and then using the np.mean\n",
        "        sent_games.loc[i,'games_sentiment'] = np.mean(np.array(comp_games))\n",
        "    \n",
        "    #Repeat conditions for attributes.\n",
        "    if len(comp_buy) == 0:\n",
        "        sent_games.loc[i,'buy_sentiment'] = None\n",
        "    else:\n",
        "        sent_games.loc[i,'buy_sentiment'] = np.mean(np.array(comp_buy))\n",
        "    if len(comp_price) == 0:\n",
        "        sent_games.loc[i,'price_sentiment'] = None\n",
        "    else:\n",
        "        sent_games.loc[i,'price_sentiment'] = np.mean(np.array(comp_price))\n",
        "    if len(comp_graphics) == 0:\n",
        "        sent_games.loc[i,'graphics_sentiment'] = None\n",
        "    else:\n",
        "        sent_games.loc[i,'graphics_sentiment'] = np.mean(np.array(comp_graphics))\n",
        "    if len(comp_online) == 0:\n",
        "        sent_games.loc[i,'online_sentiment'] = None\n",
        "    else:\n",
        "        sent_games.loc[i,'online_sentiment'] = np.mean(np.array(comp_online))"
      ],
      "execution_count": 61,
      "outputs": []
    },
    {
      "cell_type": "code",
      "metadata": {
        "id": "cSj1uMTCqdzZ"
      },
      "source": [
        "#Group all the sentiments of the review together\n",
        "avg_sent_games = sent_games.groupby(by=[\"author\"])[[\"games_sentiment\", \"buy_sentiment\", \"price_sentiment\",\"graphics_sentiment\",\"online_sentiment\"]].mean()"
      ],
      "execution_count": 62,
      "outputs": []
    },
    {
      "cell_type": "code",
      "metadata": {
        "id": "WC4U2YeQsbsV"
      },
      "source": [
        "#Sentiments that are not present are treated as Zero. \n",
        "#Want to pinpoint comments based on attributes.\n",
        "#Mean is simply adding five columns together and dividng by 5\n",
        "avg_sent_games['average_sentiment'] = (avg_sent_games['games_sentiment'].fillna(0)+avg_sent_games['buy_sentiment'].fillna(0)\n",
        " +avg_sent_games['price_sentiment'].fillna(0)+avg_sent_games['graphics_sentiment'].fillna(0)+avg_sent_games['online_sentiment'].fillna(0))/5"
      ],
      "execution_count": 63,
      "outputs": []
    },
    {
      "cell_type": "code",
      "metadata": {
        "id": "fI9TO7bosje0",
        "outputId": "d0ab07e4-df9a-403c-acef-2522cf3202a9",
        "colab": {
          "base_uri": "https://localhost:8080/",
          "height": 470
        }
      },
      "source": [
        "avg_sent_games.sort_values(by='average_sentiment', ascending = False).fillna(0)"
      ],
      "execution_count": 71,
      "outputs": [
        {
          "output_type": "execute_result",
          "data": {
            "text/html": [
              "<div>\n",
              "<style scoped>\n",
              "    .dataframe tbody tr th:only-of-type {\n",
              "        vertical-align: middle;\n",
              "    }\n",
              "\n",
              "    .dataframe tbody tr th {\n",
              "        vertical-align: top;\n",
              "    }\n",
              "\n",
              "    .dataframe thead th {\n",
              "        text-align: right;\n",
              "    }\n",
              "</style>\n",
              "<table border=\"1\" class=\"dataframe\">\n",
              "  <thead>\n",
              "    <tr style=\"text-align: right;\">\n",
              "      <th></th>\n",
              "      <th>games_sentiment</th>\n",
              "      <th>buy_sentiment</th>\n",
              "      <th>price_sentiment</th>\n",
              "      <th>graphics_sentiment</th>\n",
              "      <th>online_sentiment</th>\n",
              "      <th>average_sentiment</th>\n",
              "    </tr>\n",
              "    <tr>\n",
              "      <th>author</th>\n",
              "      <th></th>\n",
              "      <th></th>\n",
              "      <th></th>\n",
              "      <th></th>\n",
              "      <th></th>\n",
              "      <th></th>\n",
              "    </tr>\n",
              "  </thead>\n",
              "  <tbody>\n",
              "    <tr>\n",
              "      <th>FaceEatingHobo</th>\n",
              "      <td>0.8519</td>\n",
              "      <td>0.8519</td>\n",
              "      <td>0.0</td>\n",
              "      <td>0.0</td>\n",
              "      <td>0.0</td>\n",
              "      <td>0.34076</td>\n",
              "    </tr>\n",
              "    <tr>\n",
              "      <th>pwhitwor</th>\n",
              "      <td>0.6059</td>\n",
              "      <td>0.0000</td>\n",
              "      <td>0.0</td>\n",
              "      <td>0.0</td>\n",
              "      <td>0.0</td>\n",
              "      <td>0.12118</td>\n",
              "    </tr>\n",
              "    <tr>\n",
              "      <th>IUsedToBlowMyself</th>\n",
              "      <td>0.5859</td>\n",
              "      <td>0.0000</td>\n",
              "      <td>0.0</td>\n",
              "      <td>0.0</td>\n",
              "      <td>0.0</td>\n",
              "      <td>0.11718</td>\n",
              "    </tr>\n",
              "    <tr>\n",
              "      <th>Pokemansparty</th>\n",
              "      <td>0.3612</td>\n",
              "      <td>0.0000</td>\n",
              "      <td>0.0</td>\n",
              "      <td>0.0</td>\n",
              "      <td>0.0</td>\n",
              "      <td>0.07224</td>\n",
              "    </tr>\n",
              "    <tr>\n",
              "      <th>superdeluxe5</th>\n",
              "      <td>0.2500</td>\n",
              "      <td>0.0000</td>\n",
              "      <td>0.0</td>\n",
              "      <td>0.0</td>\n",
              "      <td>0.0</td>\n",
              "      <td>0.05000</td>\n",
              "    </tr>\n",
              "    <tr>\n",
              "      <th>...</th>\n",
              "      <td>...</td>\n",
              "      <td>...</td>\n",
              "      <td>...</td>\n",
              "      <td>...</td>\n",
              "      <td>...</td>\n",
              "      <td>...</td>\n",
              "    </tr>\n",
              "    <tr>\n",
              "      <th>M1ghty_boy</th>\n",
              "      <td>0.0000</td>\n",
              "      <td>0.0000</td>\n",
              "      <td>0.0</td>\n",
              "      <td>0.0</td>\n",
              "      <td>0.0</td>\n",
              "      <td>0.00000</td>\n",
              "    </tr>\n",
              "    <tr>\n",
              "      <th>Llodsliat</th>\n",
              "      <td>0.0000</td>\n",
              "      <td>0.0000</td>\n",
              "      <td>0.0</td>\n",
              "      <td>0.0</td>\n",
              "      <td>0.0</td>\n",
              "      <td>0.00000</td>\n",
              "    </tr>\n",
              "    <tr>\n",
              "      <th>yourstrulytony</th>\n",
              "      <td>0.0000</td>\n",
              "      <td>0.0000</td>\n",
              "      <td>0.0</td>\n",
              "      <td>0.0</td>\n",
              "      <td>0.0</td>\n",
              "      <td>0.00000</td>\n",
              "    </tr>\n",
              "    <tr>\n",
              "      <th>Speider</th>\n",
              "      <td>-0.1280</td>\n",
              "      <td>0.0000</td>\n",
              "      <td>0.0</td>\n",
              "      <td>0.0</td>\n",
              "      <td>0.0</td>\n",
              "      <td>-0.02560</td>\n",
              "    </tr>\n",
              "    <tr>\n",
              "      <th>Solidsnake00901</th>\n",
              "      <td>0.0000</td>\n",
              "      <td>-0.3491</td>\n",
              "      <td>0.0</td>\n",
              "      <td>0.0</td>\n",
              "      <td>0.0</td>\n",
              "      <td>-0.06982</td>\n",
              "    </tr>\n",
              "  </tbody>\n",
              "</table>\n",
              "<p>88 rows × 6 columns</p>\n",
              "</div>"
            ],
            "text/plain": [
              "                   games_sentiment  ...  average_sentiment\n",
              "author                              ...                   \n",
              "FaceEatingHobo              0.8519  ...            0.34076\n",
              "pwhitwor                    0.6059  ...            0.12118\n",
              "IUsedToBlowMyself           0.5859  ...            0.11718\n",
              "Pokemansparty               0.3612  ...            0.07224\n",
              "superdeluxe5                0.2500  ...            0.05000\n",
              "...                            ...  ...                ...\n",
              "M1ghty_boy                  0.0000  ...            0.00000\n",
              "Llodsliat                   0.0000  ...            0.00000\n",
              "yourstrulytony              0.0000  ...            0.00000\n",
              "Speider                    -0.1280  ...           -0.02560\n",
              "Solidsnake00901             0.0000  ...           -0.06982\n",
              "\n",
              "[88 rows x 6 columns]"
            ]
          },
          "metadata": {
            "tags": []
          },
          "execution_count": 71
        }
      ]
    },
    {
      "cell_type": "code",
      "metadata": {
        "id": "QMGE0LKytshb",
        "outputId": "5454bb0d-d4e7-4731-cb12-39444d498b6a",
        "colab": {
          "base_uri": "https://localhost:8080/",
          "height": 136
        }
      },
      "source": [
        "avg_sent_gamesx = avg_sent_games.apply('mean')\n",
        "avg_sent_gamesx"
      ],
      "execution_count": 72,
      "outputs": [
        {
          "output_type": "execute_result",
          "data": {
            "text/plain": [
              "games_sentiment       0.233670\n",
              "buy_sentiment         0.251400\n",
              "price_sentiment       0.000000\n",
              "graphics_sentiment         NaN\n",
              "online_sentiment      0.542300\n",
              "average_sentiment     0.007686\n",
              "dtype: float64"
            ]
          },
          "metadata": {
            "tags": []
          },
          "execution_count": 72
        }
      ]
    },
    {
      "cell_type": "markdown",
      "metadata": {
        "id": "Pmxl7MRFt4A-"
      },
      "source": [
        "##Sentiment Analysis PS5"
      ]
    },
    {
      "cell_type": "markdown",
      "metadata": {
        "id": "DQLSKazpt6xN"
      },
      "source": [
        "###Cosine Similarity\n"
      ]
    },
    {
      "cell_type": "code",
      "metadata": {
        "id": "oA-AC4QXt-DX",
        "outputId": "b64f6e4b-5db5-4db1-e1b4-85a303ed86f4",
        "colab": {
          "base_uri": "https://localhost:8080/",
          "height": 1000
        }
      },
      "source": [
        "maskp = rgame['cleaned body'].str.contains('ps5',regex=False) == True\n",
        "rgamep = rgame[maskp]\n",
        "rgamep"
      ],
      "execution_count": 73,
      "outputs": [
        {
          "output_type": "execute_result",
          "data": {
            "text/html": [
              "<div>\n",
              "<style scoped>\n",
              "    .dataframe tbody tr th:only-of-type {\n",
              "        vertical-align: middle;\n",
              "    }\n",
              "\n",
              "    .dataframe tbody tr th {\n",
              "        vertical-align: top;\n",
              "    }\n",
              "\n",
              "    .dataframe thead th {\n",
              "        text-align: right;\n",
              "    }\n",
              "</style>\n",
              "<table border=\"1\" class=\"dataframe\">\n",
              "  <thead>\n",
              "    <tr style=\"text-align: right;\">\n",
              "      <th></th>\n",
              "      <th>submission</th>\n",
              "      <th>author</th>\n",
              "      <th>body</th>\n",
              "      <th>score</th>\n",
              "      <th>created</th>\n",
              "      <th>url_of_post</th>\n",
              "      <th>comments_tokens</th>\n",
              "      <th>comments_unique</th>\n",
              "      <th>attr_tokens</th>\n",
              "      <th>comments_replace</th>\n",
              "      <th>comments_replace_tokens</th>\n",
              "      <th>cleaned body</th>\n",
              "      <th>pos</th>\n",
              "      <th>nouns</th>\n",
              "    </tr>\n",
              "  </thead>\n",
              "  <tbody>\n",
              "    <tr>\n",
              "      <th>49</th>\n",
              "      <td>iqnpd5</td>\n",
              "      <td>Tryntofigureitout</td>\n",
              "      <td>Then there's the ps5 which is the largest cons...</td>\n",
              "      <td>101</td>\n",
              "      <td>1.599838e+09</td>\n",
              "      <td>/r/gaming/comments/iqnpd5/this_is_a_size_compa...</td>\n",
              "      <td>[ps5, largest, console, ever, made, boy, conce...</td>\n",
              "      <td>[boy, concerning, console, ever, largest, made...</td>\n",
              "      <td>[]</td>\n",
              "      <td>then there's the ps5 which is the largest cons...</td>\n",
              "      <td>[boy, concerning, console, ever, largest, made...</td>\n",
              "      <td>[theres, ps5, largest, console, ever, made, bo...</td>\n",
              "      <td>[(theres, NNS), (ps5, VBP), (largest, JJS), (c...</td>\n",
              "      <td>[theres, console, boy, concerning]</td>\n",
              "    </tr>\n",
              "    <tr>\n",
              "      <th>109</th>\n",
              "      <td>8q686s</td>\n",
              "      <td>MBCnerdcore</td>\n",
              "      <td>probably a PS5 launch game</td>\n",
              "      <td>82</td>\n",
              "      <td>1.528689e+09</td>\n",
              "      <td>/r/gaming/comments/8q686s/bethesdas_e3_confere...</td>\n",
              "      <td>[probably, ps5, launch, game]</td>\n",
              "      <td>[game, launch, probably, ps5]</td>\n",
              "      <td>[]</td>\n",
              "      <td>probably a ps5 launch game</td>\n",
              "      <td>[game, launch, probably, ps5]</td>\n",
              "      <td>[probably, ps5, launch, game]</td>\n",
              "      <td>[(probably, RB), (ps5, JJ), (launch, JJ), (gam...</td>\n",
              "      <td>[game]</td>\n",
              "    </tr>\n",
              "    <tr>\n",
              "      <th>122</th>\n",
              "      <td>8q686s</td>\n",
              "      <td>MBCnerdcore</td>\n",
              "      <td>If they ANNOUNCE the PS5 in 2020, launch in 20...</td>\n",
              "      <td>67</td>\n",
              "      <td>1.528689e+09</td>\n",
              "      <td>/r/gaming/comments/8q686s/bethesdas_e3_confere...</td>\n",
              "      <td>[announce, ps5, 2020, launch, 2021, starfield,...</td>\n",
              "      <td>[2, 2018, 2020, 2021, announce, e3, going, lau...</td>\n",
              "      <td>[]</td>\n",
              "      <td>if they announce the ps5 in 2020, launch in 20...</td>\n",
              "      <td>[2, 2018, 2020, 2021, announce, e3, going, lau...</td>\n",
              "      <td>[announce, ps5, 2020, launch, 2021, starfield,...</td>\n",
              "      <td>[(announce, NN), (ps5, NN), (2020, CD), (launc...</td>\n",
              "      <td>[announce, ps5, launch, starfield, years, trai...</td>\n",
              "    </tr>\n",
              "    <tr>\n",
              "      <th>130</th>\n",
              "      <td>hxrg13</td>\n",
              "      <td>Kodos-</td>\n",
              "      <td>Am I in the minority by thinking the new Xbox ...</td>\n",
              "      <td>55</td>\n",
              "      <td>1.595711e+09</td>\n",
              "      <td>/r/gaming/comments/hxrg13/xbox_series_x_the_wi...</td>\n",
              "      <td>[minority, thinking, new, xbox, looks, 100x, c...</td>\n",
              "      <td>[100x, cooler, looks, minority, new, ps5, thin...</td>\n",
              "      <td>[]</td>\n",
              "      <td>am i in the minority by thinking the new xbox ...</td>\n",
              "      <td>[100x, cooler, looks, minority, new, ps5, thin...</td>\n",
              "      <td>[minority, thinking, new, xbox, looks, 100x, c...</td>\n",
              "      <td>[(minority, NN), (thinking, VBG), (new, JJ), (...</td>\n",
              "      <td>[minority, xbox, cooler, ps5]</td>\n",
              "    </tr>\n",
              "    <tr>\n",
              "      <th>166</th>\n",
              "      <td>e9xjgu</td>\n",
              "      <td>dospaquetes</td>\n",
              "      <td>nah because then in the minds of customers ps*...</td>\n",
              "      <td>313</td>\n",
              "      <td>1.576205e+09</td>\n",
              "      <td>/r/gaming/comments/e9xjgu/xbox_series_x/</td>\n",
              "      <td>[nah, minds, customers, ps, 5, got, better, xb...</td>\n",
              "      <td>[4, 5, better, customers, got, minds, nah, ps,...</td>\n",
              "      <td>[]</td>\n",
              "      <td>nah because then in the minds of customers ps*...</td>\n",
              "      <td>[4, 5, better, customers, got, minds, nah, ps,...</td>\n",
              "      <td>[nah, minds, customers, ps5, got, better, xbox...</td>\n",
              "      <td>[(nah, JJ), (minds, VBZ), (customers, NNS), (p...</td>\n",
              "      <td>[customers, xbox]</td>\n",
              "    </tr>\n",
              "    <tr>\n",
              "      <th>...</th>\n",
              "      <td>...</td>\n",
              "      <td>...</td>\n",
              "      <td>...</td>\n",
              "      <td>...</td>\n",
              "      <td>...</td>\n",
              "      <td>...</td>\n",
              "      <td>...</td>\n",
              "      <td>...</td>\n",
              "      <td>...</td>\n",
              "      <td>...</td>\n",
              "      <td>...</td>\n",
              "      <td>...</td>\n",
              "      <td>...</td>\n",
              "      <td>...</td>\n",
              "    </tr>\n",
              "    <tr>\n",
              "      <th>1510</th>\n",
              "      <td>ivunxg</td>\n",
              "      <td>MrKnyte</td>\n",
              "      <td>PS5 designer has all of the versions for inspi...</td>\n",
              "      <td>128</td>\n",
              "      <td>1.600543e+09</td>\n",
              "      <td>/r/gaming/comments/ivunxg/im_convinced_that_th...</td>\n",
              "      <td>[ps5, designer, versions, inspiration, 12, hou...</td>\n",
              "      <td>[12, art, bottom, concept, damn, designer, fig...</td>\n",
              "      <td>[]</td>\n",
              "      <td>ps5 designer has all of the versions for inspi...</td>\n",
              "      <td>[12, art, bottom, concept, damn, designer, fig...</td>\n",
              "      <td>[ps5, designer, versions, inspiration, hes, 12...</td>\n",
              "      <td>[(ps5, NN), (designer, NN), (versions, NNS), (...</td>\n",
              "      <td>[ps5, designer, versions, inspiration, hours, ...</td>\n",
              "    </tr>\n",
              "    <tr>\n",
              "      <th>1511</th>\n",
              "      <td>ivunxg</td>\n",
              "      <td>Cryptic789</td>\n",
              "      <td>Show me the real PS5.  *'PS5'*\\n\\nI said the r...</td>\n",
              "      <td>274</td>\n",
              "      <td>1.600530e+09</td>\n",
              "      <td>/r/gaming/comments/ivunxg/im_convinced_that_th...</td>\n",
              "      <td>[show, real, ps5, ps5, said, real, ps5, ps2, t...</td>\n",
              "      <td>[covered, dont, ima, make, meme, mind, paper, ...</td>\n",
              "      <td>[]</td>\n",
              "      <td>show me the real ps5.  *'ps5'*\\n\\ni said the r...</td>\n",
              "      <td>[covered, dont, ima, make, meme, mind, paper, ...</td>\n",
              "      <td>[show, real, ps5, ps5, said, real, ps5, ps2, t...</td>\n",
              "      <td>[(show, NN), (real, JJ), (ps5, NN), (ps5, NN),...</td>\n",
              "      <td>[show, ps5, ps5, ps5, ps2, perfection, ps3, pa...</td>\n",
              "    </tr>\n",
              "    <tr>\n",
              "      <th>1523</th>\n",
              "      <td>hayx1l</td>\n",
              "      <td>Brutis-Maximus</td>\n",
              "      <td>If the PS5 nonchalantly says “are you still th...</td>\n",
              "      <td>183</td>\n",
              "      <td>1.592424e+09</td>\n",
              "      <td>/r/gaming/comments/hayx1l/i_couldnt_unsee_it_f...</td>\n",
              "      <td>[ps5, nonchalantly, says, still, middle, night...</td>\n",
              "      <td>[attack, heart, middle, night, nonchalantly, p...</td>\n",
              "      <td>[]</td>\n",
              "      <td>if the ps5 nonchalantly says “are you still th...</td>\n",
              "      <td>[attack, heart, middle, night, nonchalantly, p...</td>\n",
              "      <td>[ps5, nonchalantly, says, still, middle, night...</td>\n",
              "      <td>[(ps5, NNS), (nonchalantly, RB), (says, VBZ), ...</td>\n",
              "      <td>[ps5, night, heart, attack]</td>\n",
              "    </tr>\n",
              "    <tr>\n",
              "      <th>1527</th>\n",
              "      <td>elbua1</td>\n",
              "      <td>Joosh23rd</td>\n",
              "      <td>I really do prefer this version of the PS5 log...</td>\n",
              "      <td>80</td>\n",
              "      <td>1.578406e+09</td>\n",
              "      <td>/r/gaming/comments/elbua1/i_swapped_the_ps2_an...</td>\n",
              "      <td>[really, prefer, version, ps5, logo, feels, mo...</td>\n",
              "      <td>[feels, imo, logo, modern, prefer, ps5, really...</td>\n",
              "      <td>[]</td>\n",
              "      <td>i really do aspiration this version of the ps5...</td>\n",
              "      <td>[aspiration, feels, imo, logo, modern, ps5, re...</td>\n",
              "      <td>[really, prefer, version, ps5, logo, feels, mo...</td>\n",
              "      <td>[(really, RB), (prefer, VB), (version, NN), (p...</td>\n",
              "      <td>[version, ps5, logo, feels, imo]</td>\n",
              "    </tr>\n",
              "    <tr>\n",
              "      <th>1531</th>\n",
              "      <td>hcwfya</td>\n",
              "      <td>Cockatiel</td>\n",
              "      <td>I can almost promise a week after the PS5 is r...</td>\n",
              "      <td>70</td>\n",
              "      <td>1.592707e+09</td>\n",
              "      <td>/r/gaming/comments/hcwfya/a_ps5_matte_black_do...</td>\n",
              "      <td>[almost, promise, week, ps5, released, see, 10...</td>\n",
              "      <td>[100, almost, black, matte, modded, posts, pro...</td>\n",
              "      <td>[]</td>\n",
              "      <td>i can almost promise a week after the ps5 is r...</td>\n",
              "      <td>[100, almost, black, matte, modded, posts, pro...</td>\n",
              "      <td>[almost, promise, week, ps5, released, see, 10...</td>\n",
              "      <td>[(almost, RB), (promise, NN), (week, NN), (ps5...</td>\n",
              "      <td>[promise, week, ps5, ps5, matte, posts]</td>\n",
              "    </tr>\n",
              "  </tbody>\n",
              "</table>\n",
              "<p>87 rows × 14 columns</p>\n",
              "</div>"
            ],
            "text/plain": [
              "     submission  ...                                              nouns\n",
              "49       iqnpd5  ...                 [theres, console, boy, concerning]\n",
              "109      8q686s  ...                                             [game]\n",
              "122      8q686s  ...  [announce, ps5, launch, starfield, years, trai...\n",
              "130      hxrg13  ...                      [minority, xbox, cooler, ps5]\n",
              "166      e9xjgu  ...                                  [customers, xbox]\n",
              "...         ...  ...                                                ...\n",
              "1510     ivunxg  ...  [ps5, designer, versions, inspiration, hours, ...\n",
              "1511     ivunxg  ...  [show, ps5, ps5, ps5, ps2, perfection, ps3, pa...\n",
              "1523     hayx1l  ...                        [ps5, night, heart, attack]\n",
              "1527     elbua1  ...                   [version, ps5, logo, feels, imo]\n",
              "1531     hcwfya  ...            [promise, week, ps5, ps5, matte, posts]\n",
              "\n",
              "[87 rows x 14 columns]"
            ]
          },
          "metadata": {
            "tags": []
          },
          "execution_count": 73
        }
      ]
    },
    {
      "cell_type": "markdown",
      "metadata": {
        "id": "KQvp1FCkut9T"
      },
      "source": [
        "###Cosine similarity for ps5"
      ]
    },
    {
      "cell_type": "code",
      "metadata": {
        "id": "734UH4E4utgS",
        "outputId": "15edb34c-9471-4308-b6a4-fe68b9172d97",
        "colab": {
          "base_uri": "https://localhost:8080/",
          "height": 139
        }
      },
      "source": [
        "attributes_nlp = nlp('games, buy, price, graphics, online')\n",
        "def get_similarity(review_words):\n",
        "    text_review = ' '.join(review_words)\n",
        "    review_nlp = nlp(text_review)\n",
        "    return review_nlp.similarity(attributes_nlp)\n",
        "\n",
        "rgamep['similarity'] =  rgamep['cleaned body'].apply(get_similarity)"
      ],
      "execution_count": 76,
      "outputs": [
        {
          "output_type": "stream",
          "text": [
            "/usr/local/lib/python3.6/dist-packages/ipykernel_launcher.py:7: SettingWithCopyWarning: \n",
            "A value is trying to be set on a copy of a slice from a DataFrame.\n",
            "Try using .loc[row_indexer,col_indexer] = value instead\n",
            "\n",
            "See the caveats in the documentation: https://pandas.pydata.org/pandas-docs/stable/user_guide/indexing.html#returning-a-view-versus-a-copy\n",
            "  import sys\n"
          ],
          "name": "stderr"
        }
      ]
    },
    {
      "cell_type": "code",
      "metadata": {
        "id": "niowMmVWu9uC",
        "outputId": "e26c7a2d-8079-49c7-c207-204e1254bbd0",
        "colab": {
          "base_uri": "https://localhost:8080/",
          "height": 204
        }
      },
      "source": [
        "rgamep.groupby('author')['similarity'].mean().reset_index().sort_values(by='similarity',ascending = False).head(5)"
      ],
      "execution_count": 77,
      "outputs": [
        {
          "output_type": "execute_result",
          "data": {
            "text/html": [
              "<div>\n",
              "<style scoped>\n",
              "    .dataframe tbody tr th:only-of-type {\n",
              "        vertical-align: middle;\n",
              "    }\n",
              "\n",
              "    .dataframe tbody tr th {\n",
              "        vertical-align: top;\n",
              "    }\n",
              "\n",
              "    .dataframe thead th {\n",
              "        text-align: right;\n",
              "    }\n",
              "</style>\n",
              "<table border=\"1\" class=\"dataframe\">\n",
              "  <thead>\n",
              "    <tr style=\"text-align: right;\">\n",
              "      <th></th>\n",
              "      <th>author</th>\n",
              "      <th>similarity</th>\n",
              "    </tr>\n",
              "  </thead>\n",
              "  <tbody>\n",
              "    <tr>\n",
              "      <th>67</th>\n",
              "      <td>neocatzeo</td>\n",
              "      <td>0.650522</td>\n",
              "    </tr>\n",
              "    <tr>\n",
              "      <th>9</th>\n",
              "      <td>FaceEatingHobo</td>\n",
              "      <td>0.649623</td>\n",
              "    </tr>\n",
              "    <tr>\n",
              "      <th>71</th>\n",
              "      <td>scotlandtheblaze1</td>\n",
              "      <td>0.647237</td>\n",
              "    </tr>\n",
              "    <tr>\n",
              "      <th>37</th>\n",
              "      <td>SegataSanshiro</td>\n",
              "      <td>0.646672</td>\n",
              "    </tr>\n",
              "    <tr>\n",
              "      <th>12</th>\n",
              "      <td>GoTeamScotch</td>\n",
              "      <td>0.629132</td>\n",
              "    </tr>\n",
              "  </tbody>\n",
              "</table>\n",
              "</div>"
            ],
            "text/plain": [
              "               author  similarity\n",
              "67          neocatzeo    0.650522\n",
              "9      FaceEatingHobo    0.649623\n",
              "71  scotlandtheblaze1    0.647237\n",
              "37     SegataSanshiro    0.646672\n",
              "12       GoTeamScotch    0.629132"
            ]
          },
          "metadata": {
            "tags": []
          },
          "execution_count": 77
        }
      ]
    },
    {
      "cell_type": "markdown",
      "metadata": {
        "id": "SvYhuX4EvLQ8"
      },
      "source": [
        "###Sentiment analysis using vader"
      ]
    },
    {
      "cell_type": "code",
      "metadata": {
        "id": "JVgK1-r8vME8"
      },
      "source": [
        "#Create dataframe with original reviews\n",
        "sent_games = rgamep[['author','body']].copy()\n",
        "#Add in columns to store sentiment for the attributes\n",
        "sent_games['games_sentiment'] = 0\n",
        "sent_games['buy_sentiment'] = 0\n",
        "sent_games['price_sentiment'] = 0\n",
        "sent_games['graphics_sentiment'] = 0\n",
        "sent_games['online_sentiment'] = 0"
      ],
      "execution_count": 79,
      "outputs": []
    },
    {
      "cell_type": "code",
      "metadata": {
        "id": "6AnW9gWHvd2p"
      },
      "source": [
        "#Iterrate through the dataframe\n",
        "for i in sent_games.index:\n",
        "    #Get a review and split it into sentence tokens\n",
        "    review = sent_games.loc[i,'body']\n",
        "    review = sent_tokenize(review)\n",
        "    \n",
        "    #Store score values here\n",
        "    #Resets every time loop runs. This is intentional.\n",
        "    comp_games = []\n",
        "    comp_buy = []\n",
        "    comp_price = []\n",
        "    comp_graphics = []\n",
        "    comp_online = []\n",
        "    \n",
        "    #Iterate through the sentence tokens. Get compound sentiment score if the word is present.\n",
        "    for sent_token in review:\n",
        "        if 'games' in sent_token.lower():\n",
        "            games_score = vader.polarity_scores(sent_token).get('compound')\n",
        "            comp_games.append(games_score)\n",
        "            \n",
        "        if 'buy' in sent_token.lower():\n",
        "            buy_score = vader.polarity_scores(sent_token).get('compound')\n",
        "            comp_buy.append(buy_score)\n",
        "            \n",
        "        if 'price' in sent_token.lower():\n",
        "            price_score = vader.polarity_scores(sent_token).get('compound')\n",
        "            comp_price.append(price_score)\n",
        "        if 'graphics' in sent_token.lower():\n",
        "            graphics_score = vader.polarity_scores(sent_token).get('compound')\n",
        "            comp_graphics.append(graphics_score)\n",
        "        if 'online' in sent_token.lower():\n",
        "            online_score = vader.polarity_scores(sent_token).get('compound')\n",
        "            comp_online.append(online_score)\n",
        "    \n",
        "    #Store each sentiment score in the array\n",
        "    if len(comp_games) == 0: #Nothing is in the list. No sentiment for the review.\n",
        "        sent_games.loc[i,'games_sentiment'] = None\n",
        "    else: #Balanced is in the review. Take the average of the list and store it.\n",
        "        #Taking average means to convert it into a numpy array and then using the np.mean\n",
        "        sent_games.loc[i,'games_sentiment'] = np.mean(np.array(comp_games))\n",
        "    \n",
        "    #Repeat conditions for attributes.\n",
        "    if len(comp_buy) == 0:\n",
        "        sent_games.loc[i,'buy_sentiment'] = None\n",
        "    else:\n",
        "        sent_games.loc[i,'buy_sentiment'] = np.mean(np.array(comp_buy))\n",
        "    if len(comp_price) == 0:\n",
        "        sent_games.loc[i,'price_sentiment'] = None\n",
        "    else:\n",
        "        sent_games.loc[i,'price_sentiment'] = np.mean(np.array(comp_price))\n",
        "    if len(comp_graphics) == 0:\n",
        "        sent_games.loc[i,'graphics_sentiment'] = None\n",
        "    else:\n",
        "        sent_games.loc[i,'graphics_sentiment'] = np.mean(np.array(comp_graphics))\n",
        "    if len(comp_online) == 0:\n",
        "        sent_games.loc[i,'online_sentiment'] = None\n",
        "    else:\n",
        "        sent_games.loc[i,'online_sentiment'] = np.mean(np.array(comp_online))"
      ],
      "execution_count": 80,
      "outputs": []
    },
    {
      "cell_type": "code",
      "metadata": {
        "id": "KM_lAsfUvod3"
      },
      "source": [
        "#Group all the sentiments of the review together\n",
        "avg_sent_games = sent_games.groupby(by=[\"author\"])[[\"games_sentiment\", \"buy_sentiment\", \"price_sentiment\",\"graphics_sentiment\",\"online_sentiment\"]].mean()"
      ],
      "execution_count": 81,
      "outputs": []
    },
    {
      "cell_type": "code",
      "metadata": {
        "id": "cCN1cGkDvqKm"
      },
      "source": [
        "#Sentiments that are not present are treated as Zero. \n",
        "#Want to pinpoint comments based on attributes.\n",
        "#Mean is simply adding five columns together and dividng by 5\n",
        "avg_sent_games['average_sentiment'] = (avg_sent_games['games_sentiment'].fillna(0)+avg_sent_games['buy_sentiment'].fillna(0)\n",
        " +avg_sent_games['price_sentiment'].fillna(0)+avg_sent_games['graphics_sentiment'].fillna(0)+avg_sent_games['online_sentiment'].fillna(0))/5"
      ],
      "execution_count": 82,
      "outputs": []
    },
    {
      "cell_type": "code",
      "metadata": {
        "id": "-LGkYu-SvzAY",
        "outputId": "e08fe405-8e44-4d80-8dde-30007d1ba007",
        "colab": {
          "base_uri": "https://localhost:8080/",
          "height": 470
        }
      },
      "source": [
        "avg_sent_games.sort_values(by='average_sentiment', ascending = False).fillna(0)"
      ],
      "execution_count": 83,
      "outputs": [
        {
          "output_type": "execute_result",
          "data": {
            "text/html": [
              "<div>\n",
              "<style scoped>\n",
              "    .dataframe tbody tr th:only-of-type {\n",
              "        vertical-align: middle;\n",
              "    }\n",
              "\n",
              "    .dataframe tbody tr th {\n",
              "        vertical-align: top;\n",
              "    }\n",
              "\n",
              "    .dataframe thead th {\n",
              "        text-align: right;\n",
              "    }\n",
              "</style>\n",
              "<table border=\"1\" class=\"dataframe\">\n",
              "  <thead>\n",
              "    <tr style=\"text-align: right;\">\n",
              "      <th></th>\n",
              "      <th>games_sentiment</th>\n",
              "      <th>buy_sentiment</th>\n",
              "      <th>price_sentiment</th>\n",
              "      <th>graphics_sentiment</th>\n",
              "      <th>online_sentiment</th>\n",
              "      <th>average_sentiment</th>\n",
              "    </tr>\n",
              "    <tr>\n",
              "      <th>author</th>\n",
              "      <th></th>\n",
              "      <th></th>\n",
              "      <th></th>\n",
              "      <th></th>\n",
              "      <th></th>\n",
              "      <th></th>\n",
              "    </tr>\n",
              "  </thead>\n",
              "  <tbody>\n",
              "    <tr>\n",
              "      <th>FaceEatingHobo</th>\n",
              "      <td>0.8519</td>\n",
              "      <td>0.8519</td>\n",
              "      <td>0.0</td>\n",
              "      <td>0.0</td>\n",
              "      <td>0.0</td>\n",
              "      <td>0.34076</td>\n",
              "    </tr>\n",
              "    <tr>\n",
              "      <th>AFAIX</th>\n",
              "      <td>0.0000</td>\n",
              "      <td>0.0000</td>\n",
              "      <td>0.0</td>\n",
              "      <td>0.0</td>\n",
              "      <td>0.0</td>\n",
              "      <td>0.00000</td>\n",
              "    </tr>\n",
              "    <tr>\n",
              "      <th>____Echo____</th>\n",
              "      <td>0.0000</td>\n",
              "      <td>0.0000</td>\n",
              "      <td>0.0</td>\n",
              "      <td>0.0</td>\n",
              "      <td>0.0</td>\n",
              "      <td>0.00000</td>\n",
              "    </tr>\n",
              "    <tr>\n",
              "      <th>danteheehaw</th>\n",
              "      <td>0.0000</td>\n",
              "      <td>0.0000</td>\n",
              "      <td>0.0</td>\n",
              "      <td>0.0</td>\n",
              "      <td>0.0</td>\n",
              "      <td>0.00000</td>\n",
              "    </tr>\n",
              "    <tr>\n",
              "      <th>corruptor789</th>\n",
              "      <td>0.0000</td>\n",
              "      <td>0.0000</td>\n",
              "      <td>0.0</td>\n",
              "      <td>0.0</td>\n",
              "      <td>0.0</td>\n",
              "      <td>0.00000</td>\n",
              "    </tr>\n",
              "    <tr>\n",
              "      <th>...</th>\n",
              "      <td>...</td>\n",
              "      <td>...</td>\n",
              "      <td>...</td>\n",
              "      <td>...</td>\n",
              "      <td>...</td>\n",
              "      <td>...</td>\n",
              "    </tr>\n",
              "    <tr>\n",
              "      <th>Kodos-</th>\n",
              "      <td>0.0000</td>\n",
              "      <td>0.0000</td>\n",
              "      <td>0.0</td>\n",
              "      <td>0.0</td>\n",
              "      <td>0.0</td>\n",
              "      <td>0.00000</td>\n",
              "    </tr>\n",
              "    <tr>\n",
              "      <th>KnownUser7353</th>\n",
              "      <td>0.0000</td>\n",
              "      <td>0.0000</td>\n",
              "      <td>0.0</td>\n",
              "      <td>0.0</td>\n",
              "      <td>0.0</td>\n",
              "      <td>0.00000</td>\n",
              "    </tr>\n",
              "    <tr>\n",
              "      <th>JusMonika</th>\n",
              "      <td>0.0000</td>\n",
              "      <td>0.0000</td>\n",
              "      <td>0.0</td>\n",
              "      <td>0.0</td>\n",
              "      <td>0.0</td>\n",
              "      <td>0.00000</td>\n",
              "    </tr>\n",
              "    <tr>\n",
              "      <th>yourstrulytony</th>\n",
              "      <td>0.0000</td>\n",
              "      <td>0.0000</td>\n",
              "      <td>0.0</td>\n",
              "      <td>0.0</td>\n",
              "      <td>0.0</td>\n",
              "      <td>0.00000</td>\n",
              "    </tr>\n",
              "    <tr>\n",
              "      <th>portalscience</th>\n",
              "      <td>0.0000</td>\n",
              "      <td>-0.4777</td>\n",
              "      <td>0.0</td>\n",
              "      <td>0.0</td>\n",
              "      <td>0.0</td>\n",
              "      <td>-0.09554</td>\n",
              "    </tr>\n",
              "  </tbody>\n",
              "</table>\n",
              "<p>80 rows × 6 columns</p>\n",
              "</div>"
            ],
            "text/plain": [
              "                games_sentiment  ...  average_sentiment\n",
              "author                           ...                   \n",
              "FaceEatingHobo           0.8519  ...            0.34076\n",
              "AFAIX                    0.0000  ...            0.00000\n",
              "____Echo____             0.0000  ...            0.00000\n",
              "danteheehaw              0.0000  ...            0.00000\n",
              "corruptor789             0.0000  ...            0.00000\n",
              "...                         ...  ...                ...\n",
              "Kodos-                   0.0000  ...            0.00000\n",
              "KnownUser7353            0.0000  ...            0.00000\n",
              "JusMonika                0.0000  ...            0.00000\n",
              "yourstrulytony           0.0000  ...            0.00000\n",
              "portalscience            0.0000  ...           -0.09554\n",
              "\n",
              "[80 rows x 6 columns]"
            ]
          },
          "metadata": {
            "tags": []
          },
          "execution_count": 83
        }
      ]
    },
    {
      "cell_type": "code",
      "metadata": {
        "id": "oCtmKYwXv0me",
        "outputId": "52eb923e-3f7e-40d7-9a39-d287dbf2419f",
        "colab": {
          "base_uri": "https://localhost:8080/",
          "height": 136
        }
      },
      "source": [
        "avg_sent_gamesp = avg_sent_games.apply('mean')\n",
        "avg_sent_gamesp"
      ],
      "execution_count": 84,
      "outputs": [
        {
          "output_type": "execute_result",
          "data": {
            "text/plain": [
              "games_sentiment       0.851900\n",
              "buy_sentiment         0.093550\n",
              "price_sentiment       0.000000\n",
              "graphics_sentiment    0.000000\n",
              "online_sentiment           NaN\n",
              "average_sentiment     0.003065\n",
              "dtype: float64"
            ]
          },
          "metadata": {
            "tags": []
          },
          "execution_count": 84
        }
      ]
    }
  ]
}