{
 "cells": [
  {
   "cell_type": "markdown",
   "id": "bb662888",
   "metadata": {},
   "source": [
    "Test if the data support Zipf’s law econometrically. Also plot the most common 100 words in the data against the theoretical prediction of the law. For this question, do not remove stopwords. Also do not perform stemming or lemmatization. "
   ]
  },
  {
   "cell_type": "code",
   "execution_count": 22,
   "id": "a8b3ac65",
   "metadata": {},
   "outputs": [],
   "source": [
    "#import matplotlib\n",
    "#import matplotlib.pyplot as plt\n",
    "import numpy as np\n",
    "import pandas as pd\n",
    "import string\n",
    "import math"
   ]
  },
  {
   "cell_type": "code",
   "execution_count": 2,
   "id": "8008025a",
   "metadata": {},
   "outputs": [],
   "source": [
    "comments = pd.read_csv(\"sample data.csv\", names=['userid','date','review'])"
   ]
  },
  {
   "cell_type": "code",
   "execution_count": 3,
   "id": "f5642ec6",
   "metadata": {},
   "outputs": [
    {
     "data": {
      "text/html": [
       "<div>\n",
       "<style scoped>\n",
       "    .dataframe tbody tr th:only-of-type {\n",
       "        vertical-align: middle;\n",
       "    }\n",
       "\n",
       "    .dataframe tbody tr th {\n",
       "        vertical-align: top;\n",
       "    }\n",
       "\n",
       "    .dataframe thead th {\n",
       "        text-align: right;\n",
       "    }\n",
       "</style>\n",
       "<table border=\"1\" class=\"dataframe\">\n",
       "  <thead>\n",
       "    <tr style=\"text-align: right;\">\n",
       "      <th></th>\n",
       "      <th>userid</th>\n",
       "      <th>date</th>\n",
       "      <th>review</th>\n",
       "    </tr>\n",
       "  </thead>\n",
       "  <tbody>\n",
       "    <tr>\n",
       "      <th>5997</th>\n",
       "      <td>graphicguy</td>\n",
       "      <td>11-Nov</td>\n",
       "      <td>i know there was quite a stir when the hyunda...</td>\n",
       "    </tr>\n",
       "    <tr>\n",
       "      <th>5998</th>\n",
       "      <td>sweendogy</td>\n",
       "      <td>11-Nov</td>\n",
       "      <td>infiniti is getting left behind? your comment...</td>\n",
       "    </tr>\n",
       "    <tr>\n",
       "      <th>5999</th>\n",
       "      <td>billyperksii</td>\n",
       "      <td>11-Nov</td>\n",
       "      <td>here we go again- reviews, sales numbers, is ...</td>\n",
       "    </tr>\n",
       "  </tbody>\n",
       "</table>\n",
       "</div>"
      ],
      "text/plain": [
       "            userid    date                                             review\n",
       "5997    graphicguy  11-Nov   i know there was quite a stir when the hyunda...\n",
       "5998     sweendogy  11-Nov   infiniti is getting left behind? your comment...\n",
       "5999  billyperksii  11-Nov   here we go again- reviews, sales numbers, is ..."
      ]
     },
     "execution_count": 3,
     "metadata": {},
     "output_type": "execute_result"
    }
   ],
   "source": [
    "comments.tail(3)"
   ]
  },
  {
   "cell_type": "code",
   "execution_count": 4,
   "id": "3d40d976",
   "metadata": {},
   "outputs": [
    {
     "name": "stderr",
     "output_type": "stream",
     "text": [
      "/var/folders/gp/xs_xkf814zx898m2wdld0hw40000gn/T/ipykernel_7060/2590820161.py:1: FutureWarning: The default value of regex will change from True to False in a future version.\n",
      "  comments['review'] = comments['review'].str.replace('[{}]'.format(string.punctuation), '')\n"
     ]
    }
   ],
   "source": [
    "comments['review'] = comments['review'].str.replace('[{}]'.format(string.punctuation), '')"
   ]
  },
  {
   "cell_type": "code",
   "execution_count": 5,
   "id": "b92d0e12",
   "metadata": {},
   "outputs": [
    {
     "data": {
      "text/html": [
       "<div>\n",
       "<style scoped>\n",
       "    .dataframe tbody tr th:only-of-type {\n",
       "        vertical-align: middle;\n",
       "    }\n",
       "\n",
       "    .dataframe tbody tr th {\n",
       "        vertical-align: top;\n",
       "    }\n",
       "\n",
       "    .dataframe thead th {\n",
       "        text-align: right;\n",
       "    }\n",
       "</style>\n",
       "<table border=\"1\" class=\"dataframe\">\n",
       "  <thead>\n",
       "    <tr style=\"text-align: right;\">\n",
       "      <th></th>\n",
       "      <th>userid</th>\n",
       "      <th>date</th>\n",
       "      <th>review</th>\n",
       "    </tr>\n",
       "  </thead>\n",
       "  <tbody>\n",
       "  </tbody>\n",
       "</table>\n",
       "</div>"
      ],
      "text/plain": [
       "Empty DataFrame\n",
       "Columns: [userid, date, review]\n",
       "Index: []"
      ]
     },
     "execution_count": 5,
     "metadata": {},
     "output_type": "execute_result"
    }
   ],
   "source": [
    "comments[comments.isnull().any(axis=1)].head()"
   ]
  },
  {
   "cell_type": "code",
   "execution_count": 6,
   "id": "da216232",
   "metadata": {},
   "outputs": [
    {
     "name": "stdout",
     "output_type": "stream",
     "text": [
      "<class 'pandas.core.frame.DataFrame'>\n",
      "RangeIndex: 6000 entries, 0 to 5999\n",
      "Data columns (total 3 columns):\n",
      " #   Column  Non-Null Count  Dtype \n",
      "---  ------  --------------  ----- \n",
      " 0   userid  6000 non-null   object\n",
      " 1   date    6000 non-null   object\n",
      " 2   review  6000 non-null   object\n",
      "dtypes: object(3)\n",
      "memory usage: 140.8+ KB\n"
     ]
    }
   ],
   "source": [
    "comments.info()"
   ]
  },
  {
   "cell_type": "code",
   "execution_count": 7,
   "id": "ca5c7c12",
   "metadata": {},
   "outputs": [
    {
     "name": "stderr",
     "output_type": "stream",
     "text": [
      "[nltk_data] Downloading package punkt to /Users/ri/nltk_data...\n",
      "[nltk_data]   Package punkt is already up-to-date!\n"
     ]
    }
   ],
   "source": [
    "import nltk\n",
    "nltk.download('punkt')\n",
    "from nltk.probability import FreqDist\n",
    "from nltk import pos_tag, word_tokenize\n",
    "\n",
    "all_words = comments['review'].sum()\n",
    "words = nltk.tokenize.word_tokenize(all_words)\n",
    "fdist = FreqDist(words)\n"
   ]
  },
  {
   "cell_type": "code",
   "execution_count": 8,
   "id": "9720a975",
   "metadata": {},
   "outputs": [
    {
     "data": {
      "text/plain": [
       "FreqDist({'the': 32411, 'a': 15948, 'and': 13114, 'to': 12429, 'i': 11297, 'is': 9294, 'of': 8831, 'in': 8053, 'that': 7151, 'it': 6616, ...})"
      ]
     },
     "execution_count": 8,
     "metadata": {},
     "output_type": "execute_result"
    }
   ],
   "source": [
    "fdist"
   ]
  },
  {
   "cell_type": "code",
   "execution_count": 9,
   "id": "b4f8ba2a",
   "metadata": {},
   "outputs": [
    {
     "data": {
      "text/plain": [
       "nltk.probability.FreqDist"
      ]
     },
     "execution_count": 9,
     "metadata": {},
     "output_type": "execute_result"
    }
   ],
   "source": [
    "type(fdist)"
   ]
  },
  {
   "cell_type": "code",
   "execution_count": 10,
   "id": "0e4d10db",
   "metadata": {},
   "outputs": [],
   "source": [
    "word_freq_df = pd.DataFrame(fdist.items(), columns=['word', 'frequency'])"
   ]
  },
  {
   "cell_type": "code",
   "execution_count": 11,
   "id": "5fbb0219",
   "metadata": {},
   "outputs": [
    {
     "data": {
      "text/html": [
       "<div>\n",
       "<style scoped>\n",
       "    .dataframe tbody tr th:only-of-type {\n",
       "        vertical-align: middle;\n",
       "    }\n",
       "\n",
       "    .dataframe tbody tr th {\n",
       "        vertical-align: top;\n",
       "    }\n",
       "\n",
       "    .dataframe thead th {\n",
       "        text-align: right;\n",
       "    }\n",
       "</style>\n",
       "<table border=\"1\" class=\"dataframe\">\n",
       "  <thead>\n",
       "    <tr style=\"text-align: right;\">\n",
       "      <th></th>\n",
       "      <th>word</th>\n",
       "      <th>frequency</th>\n",
       "    </tr>\n",
       "  </thead>\n",
       "  <tbody>\n",
       "    <tr>\n",
       "      <th>0</th>\n",
       "      <td>kia</td>\n",
       "      <td>5986</td>\n",
       "    </tr>\n",
       "    <tr>\n",
       "      <th>1</th>\n",
       "      <td>hyundai</td>\n",
       "      <td>6183</td>\n",
       "    </tr>\n",
       "    <tr>\n",
       "      <th>2</th>\n",
       "      <td>underachieving</td>\n",
       "      <td>2</td>\n",
       "    </tr>\n",
       "    <tr>\n",
       "      <th>3</th>\n",
       "      <td>and</td>\n",
       "      <td>13114</td>\n",
       "    </tr>\n",
       "    <tr>\n",
       "      <th>4</th>\n",
       "      <td>overachieving</td>\n",
       "      <td>2</td>\n",
       "    </tr>\n",
       "  </tbody>\n",
       "</table>\n",
       "</div>"
      ],
      "text/plain": [
       "             word  frequency\n",
       "0             kia       5986\n",
       "1         hyundai       6183\n",
       "2  underachieving          2\n",
       "3             and      13114\n",
       "4   overachieving          2"
      ]
     },
     "execution_count": 11,
     "metadata": {},
     "output_type": "execute_result"
    }
   ],
   "source": [
    "word_freq_df.head()"
   ]
  },
  {
   "cell_type": "code",
   "execution_count": 12,
   "id": "fb81e01f",
   "metadata": {},
   "outputs": [],
   "source": [
    "pos = np.arange(100)\n",
    "#plt.figure(figsize=(10,8))\n",
    "s = 1\n",
    "expected_zipf = [word_freq_df.sort_values(by='frequency', ascending=False)['frequency'][0]/(i+1)**s for i in pos]\n"
   ]
  },
  {
   "cell_type": "code",
   "execution_count": 13,
   "id": "53b35bac",
   "metadata": {},
   "outputs": [],
   "source": [
    "final_zipf_df = word_freq_df.sort_values(by='frequency', ascending=False).iloc[:100]\n",
    "\n",
    "final_zipf_df['zipf_value'] = expected_zipf"
   ]
  },
  {
   "cell_type": "code",
   "execution_count": 30,
   "id": "887913d6",
   "metadata": {},
   "outputs": [
    {
     "data": {
      "text/html": [
       "<div>\n",
       "<style scoped>\n",
       "    .dataframe tbody tr th:only-of-type {\n",
       "        vertical-align: middle;\n",
       "    }\n",
       "\n",
       "    .dataframe tbody tr th {\n",
       "        vertical-align: top;\n",
       "    }\n",
       "\n",
       "    .dataframe thead th {\n",
       "        text-align: right;\n",
       "    }\n",
       "</style>\n",
       "<table border=\"1\" class=\"dataframe\">\n",
       "  <thead>\n",
       "    <tr style=\"text-align: right;\">\n",
       "      <th></th>\n",
       "      <th>rank</th>\n",
       "      <th>word</th>\n",
       "      <th>frequency</th>\n",
       "      <th>zipf_value</th>\n",
       "      <th>log_rank</th>\n",
       "      <th>log_freq</th>\n",
       "      <th>xreg</th>\n",
       "    </tr>\n",
       "  </thead>\n",
       "  <tbody>\n",
       "    <tr>\n",
       "      <th>15</th>\n",
       "      <td>1</td>\n",
       "      <td>the</td>\n",
       "      <td>32411</td>\n",
       "      <td>5986.000000</td>\n",
       "      <td>0.000000</td>\n",
       "      <td>10.386253</td>\n",
       "      <td>-11.319341</td>\n",
       "    </tr>\n",
       "    <tr>\n",
       "      <th>49</th>\n",
       "      <td>2</td>\n",
       "      <td>a</td>\n",
       "      <td>15948</td>\n",
       "      <td>2993.000000</td>\n",
       "      <td>0.693147</td>\n",
       "      <td>9.677089</td>\n",
       "      <td>-10.626194</td>\n",
       "    </tr>\n",
       "    <tr>\n",
       "      <th>3</th>\n",
       "      <td>3</td>\n",
       "      <td>and</td>\n",
       "      <td>13114</td>\n",
       "      <td>1995.333333</td>\n",
       "      <td>1.098612</td>\n",
       "      <td>9.481436</td>\n",
       "      <td>-10.220728</td>\n",
       "    </tr>\n",
       "    <tr>\n",
       "      <th>47</th>\n",
       "      <td>4</td>\n",
       "      <td>to</td>\n",
       "      <td>12429</td>\n",
       "      <td>1496.500000</td>\n",
       "      <td>1.386294</td>\n",
       "      <td>9.427788</td>\n",
       "      <td>-9.933046</td>\n",
       "    </tr>\n",
       "    <tr>\n",
       "      <th>9</th>\n",
       "      <td>5</td>\n",
       "      <td>i</td>\n",
       "      <td>11297</td>\n",
       "      <td>1197.200000</td>\n",
       "      <td>1.609438</td>\n",
       "      <td>9.332292</td>\n",
       "      <td>-9.709903</td>\n",
       "    </tr>\n",
       "    <tr>\n",
       "      <th>...</th>\n",
       "      <td>...</td>\n",
       "      <td>...</td>\n",
       "      <td>...</td>\n",
       "      <td>...</td>\n",
       "      <td>...</td>\n",
       "      <td>...</td>\n",
       "      <td>...</td>\n",
       "    </tr>\n",
       "    <tr>\n",
       "      <th>183</th>\n",
       "      <td>96</td>\n",
       "      <td>how</td>\n",
       "      <td>848</td>\n",
       "      <td>62.354167</td>\n",
       "      <td>4.564348</td>\n",
       "      <td>6.742881</td>\n",
       "      <td>-6.754993</td>\n",
       "    </tr>\n",
       "    <tr>\n",
       "      <th>138</th>\n",
       "      <td>97</td>\n",
       "      <td>know</td>\n",
       "      <td>846</td>\n",
       "      <td>61.711340</td>\n",
       "      <td>4.574711</td>\n",
       "      <td>6.740519</td>\n",
       "      <td>-6.744630</td>\n",
       "    </tr>\n",
       "    <tr>\n",
       "      <th>688</th>\n",
       "      <td>98</td>\n",
       "      <td>also</td>\n",
       "      <td>846</td>\n",
       "      <td>61.081633</td>\n",
       "      <td>4.584967</td>\n",
       "      <td>6.740519</td>\n",
       "      <td>-6.734373</td>\n",
       "    </tr>\n",
       "    <tr>\n",
       "      <th>1214</th>\n",
       "      <td>99</td>\n",
       "      <td>infiniti</td>\n",
       "      <td>840</td>\n",
       "      <td>60.464646</td>\n",
       "      <td>4.595120</td>\n",
       "      <td>6.733402</td>\n",
       "      <td>-6.724221</td>\n",
       "    </tr>\n",
       "    <tr>\n",
       "      <th>45</th>\n",
       "      <td>100</td>\n",
       "      <td>really</td>\n",
       "      <td>824</td>\n",
       "      <td>59.860000</td>\n",
       "      <td>4.605170</td>\n",
       "      <td>6.714171</td>\n",
       "      <td>-6.714171</td>\n",
       "    </tr>\n",
       "  </tbody>\n",
       "</table>\n",
       "<p>100 rows × 7 columns</p>\n",
       "</div>"
      ],
      "text/plain": [
       "      rank      word  frequency   zipf_value  log_rank   log_freq       xreg\n",
       "15       1       the      32411  5986.000000  0.000000  10.386253 -11.319341\n",
       "49       2         a      15948  2993.000000  0.693147   9.677089 -10.626194\n",
       "3        3       and      13114  1995.333333  1.098612   9.481436 -10.220728\n",
       "47       4        to      12429  1496.500000  1.386294   9.427788  -9.933046\n",
       "9        5         i      11297  1197.200000  1.609438   9.332292  -9.709903\n",
       "...    ...       ...        ...          ...       ...        ...        ...\n",
       "183     96       how        848    62.354167  4.564348   6.742881  -6.754993\n",
       "138     97      know        846    61.711340  4.574711   6.740519  -6.744630\n",
       "688     98      also        846    61.081633  4.584967   6.740519  -6.734373\n",
       "1214    99  infiniti        840    60.464646  4.595120   6.733402  -6.724221\n",
       "45     100    really        824    59.860000  4.605170   6.714171  -6.714171\n",
       "\n",
       "[100 rows x 7 columns]"
      ]
     },
     "execution_count": 30,
     "metadata": {},
     "output_type": "execute_result"
    }
   ],
   "source": [
    "final_zipf_df"
   ]
  },
  {
   "cell_type": "code",
   "execution_count": 15,
   "id": "e539af76",
   "metadata": {},
   "outputs": [
    {
     "data": {
      "text/plain": [
       "Text(0.5, 1.0, 'Top 100 tokens in review')"
      ]
     },
     "execution_count": 15,
     "metadata": {},
     "output_type": "execute_result"
    },
    {
     "data": {
      "image/png": "[encoded data removed]",
      "text/plain": [
       "<Figure size 1000x800 with 1 Axes>"
      ]
     },
     "metadata": {},
     "output_type": "display_data"
    }
   ],
   "source": [
    "import matplotlib\n",
    "import matplotlib.pyplot as plt\n",
    "plt.figure(figsize=(10,8))\n",
    "plt.bar(pos, word_freq_df.sort_values(by='frequency', ascending=False)['frequency'][:100], align='center', alpha=0.5)\n",
    "plt.plot(pos, expected_zipf, color='r', linestyle='--',linewidth=2,alpha=0.5)\n",
    "plt.ylabel('Frequency')\n",
    "plt.title('Top 100 tokens in review')"
   ]
  },
  {
   "cell_type": "code",
   "execution_count": 19,
   "id": "65354f75",
   "metadata": {},
   "outputs": [],
   "source": [
    "final_zipf_df.insert(0, 'rank', range(1, len(final_zipf_df) + 1))"
   ]
  },
  {
   "cell_type": "code",
   "execution_count": 23,
   "id": "6a260aa6",
   "metadata": {},
   "outputs": [],
   "source": [
    "final_zipf_df[\"log_rank\"] = final_zipf_df[\"rank\"].map(lambda x: math.log(x))\n",
    "final_zipf_df[\"log_freq\"] = final_zipf_df[\"frequency\"].map(lambda x: math.log(x))"
   ]
  },
  {
   "cell_type": "code",
   "execution_count": 27,
   "id": "a633143b",
   "metadata": {},
   "outputs": [],
   "source": [
    "eco_denominator = final_zipf_df.loc[final_zipf_df[\"frequency\"].idxmin(), \"frequency\"] * final_zipf_df.shape[0]"
   ]
  },
  {
   "cell_type": "code",
   "execution_count": 29,
   "id": "f011cc85",
   "metadata": {},
   "outputs": [],
   "source": [
    "final_zipf_df[\"xreg\"] = final_zipf_df[\"rank\"].map(lambda x: math.log(x/eco_denominator))"
   ]
  },
  {
   "cell_type": "code",
   "execution_count": 31,
   "id": "b472fcc0",
   "metadata": {},
   "outputs": [
    {
     "data": {
      "text/plain": [
       "82400"
      ]
     },
     "execution_count": 31,
     "metadata": {},
     "output_type": "execute_result"
    }
   ],
   "source": [
    "eco_denominator"
   ]
  },
  {
   "cell_type": "code",
   "execution_count": 32,
   "id": "41c74cea",
   "metadata": {},
   "outputs": [
    {
     "data": {
      "text/plain": [
       "-11.319340715897564"
      ]
     },
     "execution_count": 32,
     "metadata": {},
     "output_type": "execute_result"
    }
   ],
   "source": [
    "math.log(1/82400)"
   ]
  },
  {
   "cell_type": "code",
   "execution_count": 34,
   "id": "723c2dfd",
   "metadata": {},
   "outputs": [
    {
     "data": {
      "image/png": "[encoded data removed]",
      "text/plain": [
       "<Figure size 640x480 with 1 Axes>"
      ]
     },
     "metadata": {},
     "output_type": "display_data"
    },
    {
     "name": "stdout",
     "output_type": "stream",
     "text": [
      "[[-0.86139307]]\n"
     ]
    }
   ],
   "source": [
    "from sklearn.linear_model import LinearRegression\n",
    "import matplotlib.pyplot as plt\n",
    "\n",
    "X = final_zipf_df.loc[:, \"xreg\"].values.reshape(-1,1)\n",
    "Y = final_zipf_df.loc[:, \"log_freq\"].values.reshape(-1,1)\n",
    "\n",
    "model = LinearRegression()\n",
    "model.fit(X, Y)\n",
    "\n",
    "Y_pred = model.predict(X)\n",
    "\n",
    "plt.scatter(X, Y)\n",
    "plt.plot(X, Y_pred, color=\"green\")\n",
    "plt.show()\n",
    "\n",
    "print(model.coef_)"
   ]
  },
  {
   "cell_type": "code",
   "execution_count": null,
   "id": "2b8f882a",
   "metadata": {},
   "outputs": [],
   "source": []
  }
 ],
 "metadata": {
  "kernelspec": {
   "display_name": "Python 3 (ipykernel)",
   "language": "python",
   "name": "python3"
  },
  "language_info": {
   "codemirror_mode": {
    "name": "ipython",
    "version": 3
   },
   "file_extension": ".py",
   "mimetype": "text/x-python",
   "name": "python",
   "nbconvert_exporter": "python",
   "pygments_lexer": "ipython3",
   "version": "3.10.5"
  }
 },
 "nbformat": 4,
 "nbformat_minor": 5
}
