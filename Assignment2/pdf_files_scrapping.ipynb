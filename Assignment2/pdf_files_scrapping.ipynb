{
 "cells": [
  {
   "cell_type": "code",
   "execution_count": 1,
   "id": "9e70a1cd",
   "metadata": {},
   "outputs": [],
   "source": [
    "# for get the pdf files or url\n",
    "import requests\n",
    "# for tree traversal scraping in webpage\n",
    "from bs4 import BeautifulSoup\n",
    "import os\n",
    "# For getting information about the pdfs\n",
    "from PyPDF2 import PdfFileReader\n",
    "from urllib.request import unquote"
   ]
  },
  {
   "cell_type": "code",
   "execution_count": null,
   "id": "268271f5",
   "metadata": {},
   "outputs": [],
   "source": []
  },
  {
   "cell_type": "code",
   "execution_count": 2,
   "id": "b25daf72",
   "metadata": {},
   "outputs": [],
   "source": [
    "# website to scrap\n",
    "url = \"http://proceedings.mlr.press/v70/\"\n",
    "\n",
    "# get the url from requests get method\n",
    "read = requests.get(url)\n",
    "\n",
    "# full html content\n",
    "html_content = read.content\n",
    "\n",
    "# Parse the html content\n",
    "soup = BeautifulSoup(html_content, \"html.parser\")\n"
   ]
  },
  {
   "cell_type": "code",
   "execution_count": 3,
   "id": "3ddf5802",
   "metadata": {},
   "outputs": [
    {
     "name": "stdout",
     "output_type": "stream",
     "text": [
      "some pdf_links ['http://proceedings.mlr.press/v70/achab17a/achab17a.pdf', 'http://proceedings.mlr.press/v70/acharya17a/acharya17a.pdf', 'http://proceedings.mlr.press/v70/achiam17a/achiam17a.pdf']\n"
     ]
    }
   ],
   "source": [
    "pdf_links = []\n",
    "for link in soup.findAll('a'):\n",
    "    pdf_links.append(link.get('href'))\n",
    "pdf_links = [link for link in pdf_links if \".pdf\" in link and '-supp' not in link]\n",
    "print(\"some pdf_links\", pdf_links[:3])"
   ]
  },
  {
   "cell_type": "code",
   "execution_count": 4,
   "id": "7e5df456",
   "metadata": {},
   "outputs": [
    {
     "name": "stdout",
     "output_type": "stream",
     "text": [
      "434\n"
     ]
    }
   ],
   "source": [
    "print(len(pdf_links))"
   ]
  },
  {
   "cell_type": "code",
   "execution_count": 5,
   "id": "c4386dbc",
   "metadata": {},
   "outputs": [
    {
     "name": "stdout",
     "output_type": "stream",
     "text": [
      "CPU times: total: 8min 2s\n",
      "Wall time: 10min 28s\n"
     ]
    }
   ],
   "source": [
    "%%time\n",
    "pdf_contents = \" \"\n",
    "for pdf_url in pdf_links:\n",
    "    pdf_response = requests.get(pdf_url)\n",
    "    # extract  PDF file name\n",
    "    filename = unquote(pdf_response.url).split('/')[-1].replace(' ', '_')\n",
    "    # write PDF to local file\n",
    "    with open(filename, 'wb') as f:\n",
    "        # write PDF to local file\n",
    "        f.write(pdf_response.content)\n",
    "    # creating a pdf file object\n",
    "    pdfFileObj = open(filename, 'rb')\n",
    "    # creating a pdf reader object\n",
    "    pdfReader = PdfFileReader(pdfFileObj)\n",
    "    for page in range(0, pdfReader.numPages):\n",
    "        pageObj = pdfReader.getPage(page)\n",
    "        # extracting text from page\n",
    "        pdf_contents = pdf_contents + \" \" + pageObj.extractText()\n",
    "        # closing the pdf file object\n",
    "    pdfFileObj.close()\n",
    "    os.remove(filename)"
   ]
  },
  {
   "cell_type": "code",
   "execution_count": 8,
   "id": "52142bf2",
   "metadata": {},
   "outputs": [],
   "source": [
    "with open('scrapped_pdf_text.txt', 'w+', encoding=\"utf-8\") as fh:\n",
    "    fh.write(pdf_contents)"
   ]
  },
  {
   "cell_type": "code",
   "execution_count": null,
   "id": "b9b58efa",
   "metadata": {},
   "outputs": [],
   "source": []
  }
 ],
 "metadata": {
  "kernelspec": {
   "display_name": "Python 3 (ipykernel)",
   "language": "python",
   "name": "python3"
  },
  "language_info": {
   "codemirror_mode": {
    "name": "ipython",
    "version": 3
   },
   "file_extension": ".py",
   "mimetype": "text/x-python",
   "name": "python",
   "nbconvert_exporter": "python",
   "pygments_lexer": "ipython3",
   "version": "3.10.5"
  }
 },
 "nbformat": 4,
 "nbformat_minor": 5
}
