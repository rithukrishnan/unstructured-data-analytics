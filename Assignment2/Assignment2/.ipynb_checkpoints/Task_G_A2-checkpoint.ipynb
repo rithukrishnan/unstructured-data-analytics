{
 "cells": [
  {
   "cell_type": "markdown",
   "metadata": {},
   "source": [
    "## Task G"
   ]
  },
  {
   "cell_type": "markdown",
   "metadata": {},
   "source": [
    "How would your recommendations differ if you ignored the similarity and feature sentiment scores and simply chose the 3 highest rated products from your entire dataset? Would these products meet the requirements of the user looking for recommendations? Why or why not? Justify your answer with analysis. Use the similarity and sentiment scores as well as overall ratings to answer this question. Here is a sample web implementation of a recommender system based on the same principles (runningshoe4you.com), but in this assignment, we will not have the time for this type of full automation."
   ]
  },
  {
   "cell_type": "code",
   "execution_count": null,
   "metadata": {},
   "outputs": [],
   "source": [
    "Ignoring the similarity and feature sentiment scores leads us to recommend the below as our top three beers:\n",
    "\n",
    "\n",
    "\n",
    "These suggestions would not be useful based on our customers looking for beers that are malty, hoppy, and bold. Analyzing the attribute scores (sweet score, dark score etc.) for each beer we noticed that only one review out of all of the reviews for the top three ranked beers even had an attribute score. This demonstrated that these beers, even though they are highly ranked, do not meet our customers' taste in beverages. This is one of the issues about simply recommending the highest scoring product is that it is not a personalized recommendation. If the forum allowed individuals to rate sweetness or thickness then we might be able to use the highest ratings of those specific attributes to recommend beers more effectively based on tastes.\n",
    "\n",
    "Another thing to consider is the sentiment and similarity scores. The similarity scores for the top 3 highest beers are .1 or very small compared to those of our recommended beers (using the word vectors method, see in previous section). This suggests that the reviews are not closely correlated and they do not necessarily provide a general consensus of the beer. The sentiment scores are also much smaller suggesting that there is not that positive of an impression of these beers overall. Where the beers we recommended have much higher sentiment scores, around 90%. If you sort the beers by sentiment or sentsim score (avg similarity score + avg sentiment score), the top 3 recommended beers actually rank in the middle to the end of the pack. Another issue to consider is also sample size in regards to overall_ratings. Chemtrailmix, Vanilla Bean Assassin, and Blessed have far fewer reviews than our recommended beers. This difference in review size can play a major factor in why the overall ratings for those beers are higher than our suggestions.\n",
    "\n",
    "Overall we believed the recommender system we built using similarity score and word embeddings is more efficient than simply choosing the top 3 highest ranked beers as it takes into account the customers specific tastes to base suggestions on and addresses any disparity caused by sample size of reviews."
   ]
  }
 ],
 "metadata": {
  "kernelspec": {
   "display_name": "Python 3 (ipykernel)",
   "language": "python",
   "name": "python3"
  },
  "language_info": {
   "codemirror_mode": {
    "name": "ipython",
    "version": 3
   },
   "file_extension": ".py",
   "mimetype": "text/x-python",
   "name": "python",
   "nbconvert_exporter": "python",
   "pygments_lexer": "ipython3",
   "version": "3.7.3"
  }
 },
 "nbformat": 4,
 "nbformat_minor": 4
}
