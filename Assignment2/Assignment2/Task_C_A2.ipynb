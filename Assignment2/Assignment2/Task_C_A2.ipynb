{
 "cells": [
  {
   "cell_type": "markdown",
   "metadata": {},
   "source": [
    "## Task C"
   ]
  },
  {
   "cell_type": "markdown",
   "metadata": {},
   "source": [
    "Perform a similarity analysis using cosine similarity (without word embeddings) with the 3 attributes specified by the customer and the reviews. From the output file, calculate the average similarity between each product and the preferred attributes.\n",
    "\n",
    "For similarity analysis, use cosine similarity with bag of words. The script should accept as input a file with the product attributes, and calculate similarity scores (between 0 and 1) between these attributes and each review. That is, the output file should have 3 columns – product_name (for each product, the product_name will repeat as many times as there are reviews of the product), product_review and similarity_score. "
   ]
  },
  {
   "cell_type": "markdown",
   "metadata": {},
   "source": [
    "https://studymachinelearning.com/cosine-similarity-text-similarity-metric/"
   ]
  },
  {
   "cell_type": "code",
   "execution_count": 1,
   "metadata": {},
   "outputs": [],
   "source": [
    "import pandas as pd \n",
    "import json\n",
    "\n",
    "file = open(\"reviews.json\")\n",
    "data = json.load(file)\n",
    "file.close()"
   ]
  },
  {
   "cell_type": "code",
   "execution_count": 2,
   "metadata": {},
   "outputs": [],
   "source": [
    "from sklearn.feature_extraction.text import CountVectorizer\n",
    "import pandas as pd\n",
    "from sklearn.metrics.pairwise import cosine_similarity\n",
    "\n",
    "def create_dataframe(matrix, tokens):\n",
    "\n",
    "    doc_names = [f'review_{i+1}' for i, _ in enumerate(matrix)]\n",
    "    df = pd.DataFrame(data=matrix, index=doc_names, columns=tokens)\n",
    "    return(df)"
   ]
  },
  {
   "cell_type": "code",
   "execution_count": 3,
   "metadata": {},
   "outputs": [],
   "source": [
    "attributes_file = open(\"attributes.txt\",\"r\")\n",
    "attr = attributes_file.readline()\n",
    "attributes_file.close()"
   ]
  },
  {
   "cell_type": "code",
   "execution_count": 4,
   "metadata": {},
   "outputs": [
    {
     "data": {
      "text/plain": [
       "'dark sweet thick'"
      ]
     },
     "execution_count": 4,
     "metadata": {},
     "output_type": "execute_result"
    }
   ],
   "source": [
    "attr"
   ]
  },
  {
   "cell_type": "code",
   "execution_count": 5,
   "metadata": {},
   "outputs": [],
   "source": [
    "product_names = []\n",
    "product_reviews = []\n",
    "similarity_scores = []\n",
    "count_vectorizer = CountVectorizer()\n",
    "\n",
    "beer_names = [name for name in data]\n",
    "count = 0 \n",
    "for beer_name in beer_names:\n",
    "    for i in range(0,len(data[beer_name])):\n",
    "        reviews = (data[beer_name][i]['review'].split('\\n'))\n",
    "\n",
    "        for review in reviews:\n",
    "            vector_matrix = count_vectorizer.fit_transform([review,attr])\n",
    "            tokens = count_vectorizer.get_feature_names()\n",
    "            vector_matrix.toarray()\n",
    "            create_dataframe(vector_matrix.toarray(),tokens)\n",
    "            cosine_similarity_matrix = cosine_similarity(vector_matrix)\n",
    "            #create_dataframe(cosine_similarity_matrix,[review,attr])\n",
    "\n",
    "            count += 1\n",
    "            #print(count)\n",
    "            \n",
    "            score = cosine_similarity_matrix[0][1]\n",
    "            product_names.append(beer_name)\n",
    "            product_reviews.append(review)\n",
    "            similarity_scores.append(score)\n",
    "\n"
   ]
  },
  {
   "cell_type": "code",
   "execution_count": 6,
   "metadata": {},
   "outputs": [],
   "source": [
    "attrs = attr.split(' ')\n",
    "df_eachattr = pd.DataFrame()\n",
    "\n",
    "dark_score = []\n",
    "sweet_score = []\n",
    "thick_score = []\n",
    "beer_names = [name for name in data]\n",
    "count = 0 \n",
    "for beer_name in beer_names:\n",
    "    for i in range(0,len(data[beer_name])):\n",
    "        reviews = (data[beer_name][i]['review'].split('\\n'))\n",
    "\n",
    "        for review in reviews:\n",
    "            for k in range(3):\n",
    "                vector_matrix = count_vectorizer.fit_transform([review,attrs[k]])\n",
    "                tokens = count_vectorizer.get_feature_names()\n",
    "                vector_matrix.toarray()\n",
    "                create_dataframe(vector_matrix.toarray(),tokens)\n",
    "                cosine_similarity_matrix = cosine_similarity(vector_matrix)\n",
    "                #create_dataframe(cosine_similarity_matrix,[review,attr])\n",
    "                score = cosine_similarity_matrix[0][1]\n",
    "\n",
    "                count += 1\n",
    "                #print(count)\n",
    "                if k == 0:\n",
    "                    dark_score.append(score)\n",
    "                elif k == 1:\n",
    "                    sweet_score.append(score)\n",
    "                elif k == 2:\n",
    "                    thick_score.append(score)\n",
    "        \n",
    "#df['product_name'] = product_names        \n",
    "df_eachattr['dark score'] = dark_score\n",
    "df_eachattr['sweet score'] = sweet_score\n",
    "df_eachattr['thick score'] = thick_score"
   ]
  },
  {
   "cell_type": "code",
   "execution_count": 7,
   "metadata": {},
   "outputs": [
    {
     "data": {
      "text/html": [
       "<div>\n",
       "<style scoped>\n",
       "    .dataframe tbody tr th:only-of-type {\n",
       "        vertical-align: middle;\n",
       "    }\n",
       "\n",
       "    .dataframe tbody tr th {\n",
       "        vertical-align: top;\n",
       "    }\n",
       "\n",
       "    .dataframe thead th {\n",
       "        text-align: right;\n",
       "    }\n",
       "</style>\n",
       "<table border=\"1\" class=\"dataframe\">\n",
       "  <thead>\n",
       "    <tr style=\"text-align: right;\">\n",
       "      <th></th>\n",
       "      <th>product_name</th>\n",
       "      <th>product_review</th>\n",
       "      <th>similarity_score</th>\n",
       "    </tr>\n",
       "  </thead>\n",
       "  <tbody>\n",
       "    <tr>\n",
       "      <th>0</th>\n",
       "      <td>Kentucky Brunch Brand Stout</td>\n",
       "      <td>2020 vintage drank 10/22/21 Incredible smell ...</td>\n",
       "      <td>0.066667</td>\n",
       "    </tr>\n",
       "    <tr>\n",
       "      <th>1</th>\n",
       "      <td>Kentucky Brunch Brand Stout</td>\n",
       "      <td>2020 vintage acquired during the pandemic. It ...</td>\n",
       "      <td>0.000000</td>\n",
       "    </tr>\n",
       "    <tr>\n",
       "      <th>2</th>\n",
       "      <td>Kentucky Brunch Brand Stout</td>\n",
       "      <td>Long time waiting to tick this one, and I have...</td>\n",
       "      <td>0.000000</td>\n",
       "    </tr>\n",
       "    <tr>\n",
       "      <th>3</th>\n",
       "      <td>Kentucky Brunch Brand Stout</td>\n",
       "      <td>This review is for the 2019 batch. It was bott...</td>\n",
       "      <td>0.088302</td>\n",
       "    </tr>\n",
       "    <tr>\n",
       "      <th>4</th>\n",
       "      <td>Kentucky Brunch Brand Stout</td>\n",
       "      <td>Supreme maple OD! Soooo easy drinking &amp; well-t...</td>\n",
       "      <td>0.000000</td>\n",
       "    </tr>\n",
       "  </tbody>\n",
       "</table>\n",
       "</div>"
      ],
      "text/plain": [
       "                  product_name  \\\n",
       "0  Kentucky Brunch Brand Stout   \n",
       "1  Kentucky Brunch Brand Stout   \n",
       "2  Kentucky Brunch Brand Stout   \n",
       "3  Kentucky Brunch Brand Stout   \n",
       "4  Kentucky Brunch Brand Stout   \n",
       "\n",
       "                                      product_review  similarity_score  \n",
       "0   2020 vintage drank 10/22/21 Incredible smell ...          0.066667  \n",
       "1  2020 vintage acquired during the pandemic. It ...          0.000000  \n",
       "2  Long time waiting to tick this one, and I have...          0.000000  \n",
       "3  This review is for the 2019 batch. It was bott...          0.088302  \n",
       "4  Supreme maple OD! Soooo easy drinking & well-t...          0.000000  "
      ]
     },
     "execution_count": 7,
     "metadata": {},
     "output_type": "execute_result"
    }
   ],
   "source": [
    "output = pd.DataFrame()\n",
    "\n",
    "output['product_name'] = product_names\n",
    "output['product_review'] = product_reviews\n",
    "output['similarity_score'] = similarity_scores\n",
    "    \n",
    "output.to_csv('cosine_similarity.csv', index=False)\n",
    "output.head()"
   ]
  },
  {
   "cell_type": "code",
   "execution_count": 10,
   "metadata": {},
   "outputs": [
    {
     "data": {
      "text/html": [
       "<div>\n",
       "<style scoped>\n",
       "    .dataframe tbody tr th:only-of-type {\n",
       "        vertical-align: middle;\n",
       "    }\n",
       "\n",
       "    .dataframe tbody tr th {\n",
       "        vertical-align: top;\n",
       "    }\n",
       "\n",
       "    .dataframe thead th {\n",
       "        text-align: right;\n",
       "    }\n",
       "</style>\n",
       "<table border=\"1\" class=\"dataframe\">\n",
       "  <thead>\n",
       "    <tr style=\"text-align: right;\">\n",
       "      <th></th>\n",
       "      <th>dark score</th>\n",
       "      <th>sweet score</th>\n",
       "      <th>thick score</th>\n",
       "    </tr>\n",
       "  </thead>\n",
       "  <tbody>\n",
       "    <tr>\n",
       "      <th>0</th>\n",
       "      <td>0.0</td>\n",
       "      <td>0.0</td>\n",
       "      <td>0.115470</td>\n",
       "    </tr>\n",
       "    <tr>\n",
       "      <th>1</th>\n",
       "      <td>0.0</td>\n",
       "      <td>0.0</td>\n",
       "      <td>0.000000</td>\n",
       "    </tr>\n",
       "    <tr>\n",
       "      <th>2</th>\n",
       "      <td>0.0</td>\n",
       "      <td>0.0</td>\n",
       "      <td>0.000000</td>\n",
       "    </tr>\n",
       "    <tr>\n",
       "      <th>3</th>\n",
       "      <td>0.0</td>\n",
       "      <td>0.0</td>\n",
       "      <td>0.152944</td>\n",
       "    </tr>\n",
       "    <tr>\n",
       "      <th>4</th>\n",
       "      <td>0.0</td>\n",
       "      <td>0.0</td>\n",
       "      <td>0.000000</td>\n",
       "    </tr>\n",
       "  </tbody>\n",
       "</table>\n",
       "</div>"
      ],
      "text/plain": [
       "   dark score  sweet score  thick score\n",
       "0         0.0          0.0     0.115470\n",
       "1         0.0          0.0     0.000000\n",
       "2         0.0          0.0     0.000000\n",
       "3         0.0          0.0     0.152944\n",
       "4         0.0          0.0     0.000000"
      ]
     },
     "execution_count": 10,
     "metadata": {},
     "output_type": "execute_result"
    }
   ],
   "source": [
    "df_eachattr.head()"
   ]
  }
 ],
 "metadata": {
  "kernelspec": {
   "display_name": "Python 3",
   "language": "python",
   "name": "python3"
  },
  "language_info": {
   "codemirror_mode": {
    "name": "ipython",
    "version": 3
   },
   "file_extension": ".py",
   "mimetype": "text/x-python",
   "name": "python",
   "nbconvert_exporter": "python",
   "pygments_lexer": "ipython3",
   "version": "3.8.8"
  }
 },
 "nbformat": 4,
 "nbformat_minor": 4
}
