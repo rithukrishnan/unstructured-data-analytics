{
 "cells": [
  {
   "cell_type": "markdown",
   "metadata": {},
   "source": [
    "## Task D"
   ]
  },
  {
   "cell_type": "markdown",
   "metadata": {},
   "source": [
    "For every review, perform a sentiment analysis. "
   ]
  },
  {
   "cell_type": "code",
   "execution_count": 9,
   "metadata": {},
   "outputs": [],
   "source": [
    "# import SentimentIntensityAnalyzer class\n",
    "# from vaderSentiment.vaderSentiment module.\n",
    "from vaderSentiment.vaderSentiment import SentimentIntensityAnalyzer\n",
    "import json"
   ]
  },
  {
   "cell_type": "code",
   "execution_count": null,
   "metadata": {},
   "outputs": [],
   "source": [
    "# utilyzing: https://www.geeksforgeeks.org/python-sentiment-analysis-using-vader/\n",
    "\n",
    "# function to print sentiments\n",
    "# of the sentence.\n",
    "def sentiment_scores(sentence):\n",
    "\n",
    "\t# Create a SentimentIntensityAnalyzer object.\n",
    "\tsid_obj = SentimentIntensityAnalyzer()\n",
    "\n",
    "\t# polarity_scores method of SentimentIntensityAnalyzer\n",
    "\t# object gives a sentiment dictionary.\n",
    "\t# which contains pos, neg, neu, and compound scores.\n",
    "\tsentiment_dict = sid_obj.polarity_scores(sentence)\n",
    "\t\n",
    "\tprint(\"Overall sentiment dictionary is : \", sentiment_dict)\n",
    "\tprint(\"sentence was rated as \", sentiment_dict['neg']*100, \"% Negative\")\n",
    "\tprint(\"sentence was rated as \", sentiment_dict['neu']*100, \"% Neutral\")\n",
    "\tprint(\"sentence was rated as \", sentiment_dict['pos']*100, \"% Positive\")\n",
    "\n",
    "\tprint(\"Sentence Overall Rated As\", end = \" \")\n",
    "\n",
    "\t# decide sentiment as positive, negative and neutral\n",
    "\tif sentiment_dict['compound'] >= 0.05 :\n",
    "\t\tprint(\"Positive\")\n",
    "\n",
    "\telif sentiment_dict['compound'] <= - 0.05 :\n",
    "\t\tprint(\"Negative\")\n",
    "\n",
    "\telse :\n",
    "\t\tprint(\"Neutral\")"
   ]
  },
  {
   "cell_type": "code",
   "execution_count": 3,
   "metadata": {},
   "outputs": [],
   "source": [
    "# utilyzing: https://www.geeksforgeeks.org/python-sentiment-analysis-using-vader/\n",
    "\n",
    "# function to print sentiments of the sentence.\n",
    "def sentiment_score(sentence):\n",
    "\n",
    "\t# Create a SentimentIntensityAnalyzer object.\n",
    "\tsid_obj = SentimentIntensityAnalyzer()\n",
    "\n",
    "\t# polarity_scores method of SentimentIntensityAnalyzer\n",
    "\t# object gives a sentiment dictionary which contains pos, neg, neu, and compound scores.\n",
    "\tsentiment_dict = sid_obj.polarity_scores(sentence)\n",
    "\t\n",
    "\treturn sentiment_dict"
   ]
  },
  {
   "cell_type": "code",
   "execution_count": 10,
   "metadata": {},
   "outputs": [],
   "source": [
    "def data_load(json_file): \n",
    "    \"\"\"\n",
    "    Function to handle loading and parsing of json file\n",
    "    \"\"\"\n",
    "    # JSON file\n",
    "    f = open (json_file, \"r\")\n",
    "    \n",
    "    # Reading from file\n",
    "    return json.loads(f.read())\n",
    "data = data_load(\"reviews.json\")"
   ]
  },
  {
   "cell_type": "code",
   "execution_count": 49,
   "metadata": {},
   "outputs": [
    {
     "output_type": "stream",
     "name": "stdout",
     "text": "Overall sentiment dictionary is :  {'neg': 0.142, 'neu': 0.796, 'pos': 0.062, 'compound': -0.6114}\nsentence was rated as  14.2 % Negative\nsentence was rated as  79.60000000000001 % Neutral\nsentence was rated as  6.2 % Positive\nSentence Overall Rated As Negative\n"
    }
   ],
   "source": [
    "sentiment_scores(check)"
   ]
  },
  {
   "cell_type": "code",
   "execution_count": 4,
   "metadata": {},
   "outputs": [
    {
     "output_type": "stream",
     "name": "stdout",
     "text": "\n1st statement :\nOverall sentiment dictionary is :  {'neg': 0.165, 'neu': 0.588, 'pos': 0.247, 'compound': 0.5267}\nsentence was rated as  16.5 % Negative\nsentence was rated as  58.8 % Neutral\nsentence was rated as  24.7 % Positive\nSentence Overall Rated As Positive\n\n2nd Statement :\nOverall sentiment dictionary is :  {'neg': 0.0, 'neu': 1.0, 'pos': 0.0, 'compound': 0.0}\nsentence was rated as  0.0 % Negative\nsentence was rated as  100.0 % Neutral\nsentence was rated as  0.0 % Positive\nSentence Overall Rated As Neutral\n\n3rd Statement :\nOverall sentiment dictionary is :  {'neg': 0.459, 'neu': 0.541, 'pos': 0.0, 'compound': -0.5256}\nsentence was rated as  45.9 % Negative\nsentence was rated as  54.1 % Neutral\nsentence was rated as  0.0 % Positive\nSentence Overall Rated As Negative\n"
    }
   ],
   "source": [
    "# Driver code\n",
    "\n",
    "print(\"\\n1st statement :\")\n",
    "sentence = \"Geeks For Geeks is the best portal for \\\n",
    "\t\t\t\tthe computer science engineering students.\"\n",
    "\n",
    "# function calling\n",
    "sentiment_scores(sentence)\n",
    "\n",
    "print(\"\\n2nd Statement :\")\n",
    "sentence = \"study is going on as usual\"\n",
    "sentiment_scores(sentence)\n",
    "\n",
    "print(\"\\n3rd Statement :\")\n",
    "sentence = \"I am very sad today.\"\n",
    "sentiment_scores(sentence)"
   ]
  },
  {
   "cell_type": "code",
   "execution_count": null,
   "metadata": {},
   "outputs": [],
   "source": []
  }
 ],
 "metadata": {
  "kernelspec": {
   "display_name": "Python 3.7.3 64-bit ('base': conda)",
   "language": "python",
   "name": "python37364bitbasecondad5fd69e5360a491f97b41f6b1a972826"
  },
  "language_info": {
   "codemirror_mode": {
    "name": "ipython",
    "version": 3
   },
   "file_extension": ".py",
   "mimetype": "text/x-python",
   "name": "python",
   "nbconvert_exporter": "python",
   "pygments_lexer": "ipython3",
   "version": "3.7.3-final"
  }
 },
 "nbformat": 4,
 "nbformat_minor": 4
}