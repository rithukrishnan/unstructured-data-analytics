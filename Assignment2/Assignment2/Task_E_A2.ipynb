{
  "nbformat": 4,
  "nbformat_minor": 0,
  "metadata": {
    "colab": {
      "name": "Task_E_A2.ipynb",
      "provenance": []
    },
    "kernelspec": {
      "display_name": "Python 3",
      "name": "python3"
    },
    "language_info": {
      "name": "python"
    }
  },
  "cells": [
    {
      "cell_type": "code",
      "metadata": {
        "id": "ZIpwJkB17YKc"
      },
      "source": [
        "import numpy as np\n",
        "import pandas as pd\n",
        "import json"
      ],
      "execution_count": 101,
      "outputs": []
    },
    {
      "cell_type": "code",
      "metadata": {
        "id": "RYbSh02Qjltt"
      },
      "source": [
        "  #Grab cosine_similarity csv and turn it to dictionary with average similarity score for each product\n",
        "  def cosine_sim_convertor(name):\n",
        "    cos_sim = pd.read_csv(name)\n",
        "    cos_sim = cos_sim.groupby('product_name').agg({\n",
        "      'similarity_score': np.mean\n",
        "    })\n",
        "    cos_sim = cos_sim.to_dict('dict')\n",
        "    cos_sim_final = cos_sim['similarity_score']\n",
        "    return cos_sim_final"
      ],
      "execution_count": 102,
      "outputs": []
    },
    {
      "cell_type": "code",
      "metadata": {
        "id": "jTS0BOmTfdix"
      },
      "source": [
        "#grabs all senti scores from json and turn it into dictionary with average senti score for each product\n",
        "def senti_score_convertor(name):\n",
        "  file = open(name)\n",
        "  reviews = json.load(file)\n",
        "  file.close()\n",
        "  beer_names = [name for name in reviews]\n",
        "  d = {}\n",
        "  for name in beer_names:\n",
        "    senti = []\n",
        "    for item in reviews[name]:\n",
        "      senti.append(item['sentiment']['compound'])\n",
        "    d[name] = np.array(senti).mean() \n",
        "  return d"
      ],
      "execution_count": 103,
      "outputs": []
    },
    {
      "cell_type": "code",
      "metadata": {
        "id": "ojp1Yp5Hlw_M"
      },
      "source": [
        "#consolidates senti scores and review scores into one dataframe\n",
        "def sim_senti_consolidate(cos_sim,senti):\n",
        "  d = {}\n",
        "  for item in beer_names:\n",
        "    d[item] = {'sentiment':senti[item], 'similarity': cos_sim[item]}\n",
        "  final_table = pd.DataFrame(d).T\n",
        "  final_table.index.name = 'name'\n",
        "  return final_table"
      ],
      "execution_count": 108,
      "outputs": []
    },
    {
      "cell_type": "code",
      "metadata": {
        "id": "br_m94Ny-SQF"
      },
      "source": [
        "#Assume that the data will be in the form of a table that has the following columns: product name, product review, similarity score, sentiment score\n",
        "#Outputs top 3 products with highest sum of average of sentiment and and average of similarity score \n",
        "def consolidate_table(table):\n",
        "  table['sentsim'] = table['similarity']+table['sentiment']\n",
        "  return table.sort_values('sentsim',ascending=False).head(3)\n"
      ],
      "execution_count": 111,
      "outputs": []
    },
    {
      "cell_type": "code",
      "metadata": {
        "colab": {
          "base_uri": "https://localhost:8080/"
        },
        "id": "o7k5Z4OU-U3o",
        "outputId": "7c58f3ef-0b4a-46b5-84b3-6224f8430ad6"
      },
      "source": [
        "review_scores = cosine_sim_convertor('cosine_similarity.csv')\n",
        "senti_scores = senti_score_convertor('reviews.json')\n",
        "final_table = sim_senti_consolidate(review_scores,senti_scores)\n",
        "df_average = consolidate_table(final_table)\n",
        "print(df_average)"
      ],
      "execution_count": 112,
      "outputs": [
        {
          "output_type": "stream",
          "name": "stdout",
          "text": [
            "                                           sentiment  similarity   sentsim\n",
            "name                                                                      \n",
            "Expedition Stout - Bourbon Barrel-Aged      0.900776    0.011077  0.911853\n",
            "Cable Car Kriek                             0.911168    0.000546  0.911714\n",
            "Genealogy Of Morals - Bourbon Barrel-Aged   0.904744    0.001557  0.906301\n"
          ]
        }
      ]
    },
    {
      "cell_type": "code",
      "metadata": {
        "id": "C8huuqh4C7_s"
      },
      "source": [
        ""
      ],
      "execution_count": null,
      "outputs": []
    }
  ]
}