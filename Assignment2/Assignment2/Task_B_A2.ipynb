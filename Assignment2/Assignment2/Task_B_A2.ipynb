{
 "cells": [
  {
   "cell_type": "code",
   "execution_count": 1,
   "metadata": {},
   "outputs": [
    {
     "name": "stdout",
     "output_type": "stream",
     "text": [
      "Requirement already satisfied: tqdm in /Users/Amanda/opt/anaconda3/lib/python3.8/site-packages (4.59.0)\n",
      "\u001b[33mWARNING: You are using pip version 21.2.4; however, version 21.3.1 is available.\n",
      "You should consider upgrading via the '/Users/Amanda/opt/anaconda3/bin/python -m pip install --upgrade pip' command.\u001b[0m\n"
     ]
    }
   ],
   "source": [
    "!pip install tqdm"
   ]
  },
  {
   "cell_type": "code",
   "execution_count": 2,
   "metadata": {},
   "outputs": [
    {
     "name": "stderr",
     "output_type": "stream",
     "text": [
      "[nltk_data] Downloading package stopwords to\n",
      "[nltk_data]     /Users/Amanda/nltk_data...\n",
      "[nltk_data]   Package stopwords is already up-to-date!\n"
     ]
    },
    {
     "data": {
      "text/plain": [
       "True"
      ]
     },
     "execution_count": 2,
     "metadata": {},
     "output_type": "execute_result"
    }
   ],
   "source": [
    "## Imports\n",
    "import pandas as pd\n",
    "import numpy as np\n",
    "from bs4 import BeautifulSoup\n",
    "from nltk.corpus import stopwords\n",
    "from nltk.tokenize import word_tokenize\n",
    "import matplotlib.pyplot as plt\n",
    "from statistics import mean\n",
    "from sklearn.manifold import MDS\n",
    "import sklearn.datasets as dt\n",
    "import seaborn as sns\n",
    "from sklearn.metrics.pairwise import manhattan_distances, euclidean_distances\n",
    "from matplotlib.offsetbox import OffsetImage, AnnotationBbox\n",
    "import os\n",
    "import re\n",
    "import nltk\n",
    "import requests\n",
    "nltk.download('stopwords')"
   ]
  },
  {
   "cell_type": "markdown",
   "metadata": {},
   "source": [
    "## Task B"
   ]
  },
  {
   "cell_type": "code",
   "execution_count": 3,
   "metadata": {},
   "outputs": [],
   "source": [
    "## importing data (example of how the data is stored in the JSON file)\n",
    "import pandas as pd\n",
    "import json\n",
    "\n",
    "file = open(\"reviews.json\")\n",
    "data = json.load(file)\n",
    "file.close()\n",
    "\n",
    "beer_names = [name for name in data]\n",
    "\n",
    "count = 0\n",
    "with_stop_words = []\n",
    "\n",
    "for beer_name in beer_names:\n",
    "    '''if count > 0:\n",
    "        break'''\n",
    "    #print(data[beer_name][0]['review'])\n",
    "    for word in list(set(data[beer_name][0]['review'].split())): \n",
    "        with_stop_words.append(word.strip().lower()) # lower\n",
    "        \n",
    "no_stop_words = []\n",
    "for word in with_stop_words:\n",
    "    \n",
    "    if word.lower() not in stopwords.words('english'):\n",
    "        \n",
    "        no_stop_words.append(word.lower()) # change from ihsan\n",
    "    \n",
    "s_words_withstopwords = pd.Series(with_stop_words)\n",
    "s_words_withoutstopwords = pd.Series(no_stop_words)\n",
    "\n",
    "import nltk\n",
    "with_stop_word_dist = nltk.FreqDist(s_words_withstopwords)\n",
    "without_stop_word_dist = nltk.FreqDist(s_words_withoutstopwords)\n",
    "\n"
   ]
  },
  {
   "cell_type": "code",
   "execution_count": 4,
   "metadata": {},
   "outputs": [],
   "source": [
    "s_words_withoutstopwords = pd.Series(without_stop_word_dist)\n",
    "s_words_withstopwords = pd.Series(with_stop_word_dist)\n"
   ]
  },
  {
   "cell_type": "code",
   "execution_count": 5,
   "metadata": {},
   "outputs": [],
   "source": [
    "s_words_withoutstopwords_sorted= s_words_withoutstopwords.sort_values(ascending= False)\n",
    "s_words_withstopwords_sorted= s_words_withstopwords.sort_values(ascending= False)"
   ]
  },
  {
   "cell_type": "code",
   "execution_count": 6,
   "metadata": {},
   "outputs": [],
   "source": [
    "df_without_stop = pd.DataFrame()\n",
    "df_without_stop['words'] = s_words_withoutstopwords_sorted.keys()\n",
    "df_without_stop['count'] = s_words_withoutstopwords_sorted.values\n",
    "df_without_stop.to_csv('words_no_stop.csv')\n",
    "\n",
    "df_with_stop = pd.DataFrame()\n",
    "df_with_stop['words'] = s_words_withstopwords_sorted.keys()\n",
    "df_with_stop['count'] = s_words_withstopwords_sorted.values\n",
    "df_with_stop.to_csv('words_with_stop.csv')\n"
   ]
  },
  {
   "cell_type": "markdown",
   "metadata": {},
   "source": [
    "[Link For Task B](https://www.dummies.com/food-drink/drinks/beer/beer-for-dummies-cheat-sheet/)"
   ]
  },
  {
   "cell_type": "code",
   "execution_count": 7,
   "metadata": {},
   "outputs": [],
   "source": [
    "words_no_stop = pd.read_csv(\"words_no_stop.csv\")\n"
   ]
  },
  {
   "cell_type": "code",
   "execution_count": 14,
   "metadata": {},
   "outputs": [
    {
     "data": {
      "text/html": [
       "<div>\n",
       "<style scoped>\n",
       "    .dataframe tbody tr th:only-of-type {\n",
       "        vertical-align: middle;\n",
       "    }\n",
       "\n",
       "    .dataframe tbody tr th {\n",
       "        vertical-align: top;\n",
       "    }\n",
       "\n",
       "    .dataframe thead th {\n",
       "        text-align: right;\n",
       "    }\n",
       "</style>\n",
       "<table border=\"1\" class=\"dataframe\">\n",
       "  <thead>\n",
       "    <tr style=\"text-align: right;\">\n",
       "      <th></th>\n",
       "      <th>Unnamed: 0</th>\n",
       "      <th>words</th>\n",
       "      <th>count</th>\n",
       "    </tr>\n",
       "  </thead>\n",
       "  <tbody>\n",
       "    <tr>\n",
       "      <th>15</th>\n",
       "      <td>15</td>\n",
       "      <td>bit</td>\n",
       "      <td>46</td>\n",
       "    </tr>\n",
       "    <tr>\n",
       "      <th>16</th>\n",
       "      <td>16</td>\n",
       "      <td>bourbon</td>\n",
       "      <td>46</td>\n",
       "    </tr>\n",
       "    <tr>\n",
       "      <th>17</th>\n",
       "      <td>17</td>\n",
       "      <td>sweet</td>\n",
       "      <td>46</td>\n",
       "    </tr>\n",
       "    <tr>\n",
       "      <th>18</th>\n",
       "      <td>18</td>\n",
       "      <td>-</td>\n",
       "      <td>45</td>\n",
       "    </tr>\n",
       "    <tr>\n",
       "      <th>19</th>\n",
       "      <td>19</td>\n",
       "      <td>bottle</td>\n",
       "      <td>45</td>\n",
       "    </tr>\n",
       "    <tr>\n",
       "      <th>20</th>\n",
       "      <td>20</td>\n",
       "      <td>smell</td>\n",
       "      <td>44</td>\n",
       "    </tr>\n",
       "    <tr>\n",
       "      <th>21</th>\n",
       "      <td>21</td>\n",
       "      <td>nose</td>\n",
       "      <td>43</td>\n",
       "    </tr>\n",
       "    <tr>\n",
       "      <th>22</th>\n",
       "      <td>22</td>\n",
       "      <td>great</td>\n",
       "      <td>43</td>\n",
       "    </tr>\n",
       "    <tr>\n",
       "      <th>23</th>\n",
       "      <td>23</td>\n",
       "      <td>poured</td>\n",
       "      <td>42</td>\n",
       "    </tr>\n",
       "    <tr>\n",
       "      <th>24</th>\n",
       "      <td>24</td>\n",
       "      <td>feel</td>\n",
       "      <td>41</td>\n",
       "    </tr>\n",
       "    <tr>\n",
       "      <th>25</th>\n",
       "      <td>25</td>\n",
       "      <td>color</td>\n",
       "      <td>40</td>\n",
       "    </tr>\n",
       "    <tr>\n",
       "      <th>26</th>\n",
       "      <td>26</td>\n",
       "      <td>notes</td>\n",
       "      <td>40</td>\n",
       "    </tr>\n",
       "    <tr>\n",
       "      <th>27</th>\n",
       "      <td>27</td>\n",
       "      <td>thick</td>\n",
       "      <td>40</td>\n",
       "    </tr>\n",
       "    <tr>\n",
       "      <th>28</th>\n",
       "      <td>28</td>\n",
       "      <td>aroma</td>\n",
       "      <td>39</td>\n",
       "    </tr>\n",
       "    <tr>\n",
       "      <th>29</th>\n",
       "      <td>29</td>\n",
       "      <td>body</td>\n",
       "      <td>37</td>\n",
       "    </tr>\n",
       "  </tbody>\n",
       "</table>\n",
       "</div>"
      ],
      "text/plain": [
       "    Unnamed: 0    words  count\n",
       "15          15      bit     46\n",
       "16          16  bourbon     46\n",
       "17          17    sweet     46\n",
       "18          18        -     45\n",
       "19          19   bottle     45\n",
       "20          20    smell     44\n",
       "21          21     nose     43\n",
       "22          22    great     43\n",
       "23          23   poured     42\n",
       "24          24     feel     41\n",
       "25          25    color     40\n",
       "26          26    notes     40\n",
       "27          27    thick     40\n",
       "28          28    aroma     39\n",
       "29          29     body     37"
      ]
     },
     "execution_count": 14,
     "metadata": {},
     "output_type": "execute_result"
    }
   ],
   "source": [
    "\n",
    "words_no_stop[15:30]"
   ]
  },
  {
   "cell_type": "code",
   "execution_count": 15,
   "metadata": {},
   "outputs": [],
   "source": [
    "partb_attributes = open(\"attributes.txt\",\"w+\")\n",
    "partb_attributes.write('dark sweet thick')\n",
    "partb_attributes.close()"
   ]
  }
 ],
 "metadata": {
  "kernelspec": {
   "display_name": "Python 3",
   "language": "python",
   "name": "python3"
  },
  "language_info": {
   "codemirror_mode": {
    "name": "ipython",
    "version": 3
   },
   "file_extension": ".py",
   "mimetype": "text/x-python",
   "name": "python",
   "nbconvert_exporter": "python",
   "pygments_lexer": "ipython3",
   "version": "3.8.8"
  }
 },
 "nbformat": 4,
 "nbformat_minor": 4
}
