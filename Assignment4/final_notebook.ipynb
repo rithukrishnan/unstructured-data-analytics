{
  "cells": [
    {
      "cell_type": "markdown",
      "id": "807d12a0",
      "metadata": {
        "id": "807d12a0"
      },
      "source": [
        "## Team Members\n",
        "\n",
        "1. Siva Sai Kumari Maineni\n",
        "2. Mahathi Mandapati\n",
        "3. Yang Wang\n",
        "4. Kang (Kevin) Hou\n",
        "5. Kinnary Uday Panchal\n",
        "6. Aboorva Erode Baskaran"
      ]
    },
    {
      "cell_type": "markdown",
      "id": "__xTBdtQ2zVG",
      "metadata": {
        "id": "__xTBdtQ2zVG"
      },
      "source": [
        "**Imports**"
      ]
    },
    {
      "cell_type": "code",
      "execution_count": 2,
      "id": "cff289e5",
      "metadata": {
        "colab": {
          "base_uri": "https://localhost:8080/"
        },
        "id": "cff289e5",
        "outputId": "15aab544-3835-4831-bbf9-717262556dae"
      },
      "outputs": [
        {
          "output_type": "stream",
          "name": "stderr",
          "text": [
            "[nltk_data] Downloading package averaged_perceptron_tagger to\n",
            "[nltk_data]     /root/nltk_data...\n",
            "[nltk_data]   Unzipping taggers/averaged_perceptron_tagger.zip.\n",
            "[nltk_data] Downloading package stopwords to /root/nltk_data...\n",
            "[nltk_data]   Unzipping corpora/stopwords.zip.\n",
            "[nltk_data] Downloading package punkt to /root/nltk_data...\n",
            "[nltk_data]   Unzipping tokenizers/punkt.zip.\n",
            "[nltk_data] Downloading package wordnet to /root/nltk_data...\n",
            "[nltk_data] Downloading package omw-1.4 to /root/nltk_data...\n"
          ]
        }
      ],
      "source": [
        "#!/usr/bin/python3.6\n",
        "#Install LDA library if not already installed\n",
        "# pip3.6 install --user lda\n",
        "# the input data file is natgeo_labels_2020.xlsx (a 2-column file with id as column 1 and text in column 2)\n",
        "# there are two output files: topic_word_dist.xlsx and document_topic_dist.xlsx\n",
        "# the script prompts for the name of the columns -- in the data file, I named them id and labels. You are then prompted for # topics. 4 or 5 may be a good starting point.\n",
        "\n",
        "\n",
        "\n",
        "import os, csv, nltk, json, lda\n",
        "import warnings\n",
        "import pandas as pd\n",
        "import numpy as np\n",
        "import requests\n",
        "import re\n",
        "\n",
        "from os import listdir\n",
        "from os.path import isfile, join\n",
        "from collections import Counter\n",
        "# Imports the Google Cloud client library\n",
        "#from google.cloud import vision\n",
        "import matplotlib.pyplot as plt\n",
        "from nltk.tokenize import PunktSentenceTokenizer, RegexpTokenizer,word_tokenize\n",
        "from nltk.corpus import stopwords, wordnet\n",
        "from nltk.stem import WordNetLemmatizer\n",
        "from nltk.stem.snowball import SnowballStemmer\n",
        "\n",
        "from scipy import sparse\n",
        "from sklearn.feature_extraction.text import CountVectorizer\n",
        "from sklearn.linear_model import LogisticRegression\n",
        "from sklearn.metrics import confusion_matrix, roc_auc_score\n",
        "from sklearn.feature_extraction.text import TfidfVectorizer\n",
        "from sklearn.model_selection import cross_val_predict, cross_val_score\n",
        "\n",
        "\n",
        "\n",
        "nltk.download('averaged_perceptron_tagger')\n",
        "nltk.download('stopwords')\n",
        "nltk.download('punkt')\n",
        "nltk.download('wordnet')\n",
        "nltk.download('omw-1.4')\n",
        "\n",
        "warnings.simplefilter(action='ignore', category=FutureWarning)\n",
        "os.environ[\"GOOGLE_APPLICATION_CREDENTIALS\"]=\"/Users/kinnarypanchal/Downloads/uda-assignment-4-96341864fcec.json\""
      ]
    },
    {
      "cell_type": "markdown",
      "id": "TCYQDFFQ9hmG",
      "metadata": {
        "id": "TCYQDFFQ9hmG"
      },
      "source": [
        "**Scraping**"
      ]
    },
    {
      "cell_type": "markdown",
      "id": "JOA3-lnv9dM2",
      "metadata": {
        "id": "JOA3-lnv9dM2"
      },
      "source": [
        "##### **We have used the online scrapper call phantombuster to scrape the NatGeo insta page**"
      ]
    },
    {
      "cell_type": "code",
      "execution_count": null,
      "id": "Dm4JK3Qx-CrG",
      "metadata": {
        "id": "Dm4JK3Qx-CrG"
      },
      "outputs": [],
      "source": [
        "df = pd.read_json('insta_post.json')\n",
        "df_photo =  df[df['type'] == 'Photo']\n",
        "# df_photo = df_photo.drop_duplicates(subset='postUrl', keep=\"first\")\n",
        "new_img_list =  df_photo['postUrl']\n",
        "\n",
        "# This step enable us to access the image after the Instagram url expiration date\n",
        "imgUrl_list =  [s + 'media/?size=l' for s in new_img_list]\n",
        "len(imgUrl_list)\n",
        "new_url_df = pd.DataFrame(imgUrl_list, columns=['url'])\n",
        "df_photo['imgUrl'] = new_url_df['url'].values\n",
        "\n",
        "df_photo.to_json('insta_post1.json', orient= 'records')"
      ]
    },
    {
      "cell_type": "markdown",
      "id": "zjOxeHWk25kA",
      "metadata": {
        "id": "zjOxeHWk25kA"
      },
      "source": [
        "**Image Labeling**"
      ]
    },
    {
      "cell_type": "code",
      "execution_count": null,
      "id": "d7beb6be",
      "metadata": {
        "id": "d7beb6be"
      },
      "outputs": [],
      "source": [
        "# Opening JSON file\n",
        "f = open('insta_post1.json')\n",
        "# returns JSON object as a dictionary\n",
        "data = json.load(f)"
      ]
    },
    {
      "cell_type": "code",
      "execution_count": null,
      "id": "db3ce336",
      "metadata": {
        "id": "db3ce336"
      },
      "outputs": [],
      "source": [
        "def detect_labels_uri(uri):\n",
        "    \"\"\"Detects labels in the file located in Google Cloud Storage or on the\n",
        "    Web.\"\"\"\n",
        "    from google.cloud import vision\n",
        "    client = vision.ImageAnnotatorClient()\n",
        "    image = vision.Image()\n",
        "    image.source.image_uri = uri\n",
        "\n",
        "    response = client.label_detection(image=image)\n",
        "    labels = response.label_annotations\n",
        "    \n",
        "    lbs = list()\n",
        "    scr = list()\n",
        "    for label in labels:\n",
        "        lbs.append(label.description)\n",
        "        scr.append(label.score)\n",
        "        \n",
        "        \n",
        "    return (lbs, scr)\n",
        "\n",
        "    if response.error.message:\n",
        "        raise Exception(\n",
        "            '{}\\nFor more info on error messages, check: '\n",
        "            'https://cloud.google.com/apis/design/errors'.format(\n",
        "                response.error.message))\n",
        "        \n",
        "pid = list()\n",
        "for i in range(0,len(data)):\n",
        "    pid.append(data[i]['postId'])\n",
        "\n",
        "items = Counter(pid).keys()\n",
        "print(\"No of unique items in the list are:\", len(items))\n",
        "\n",
        "url = list()\n",
        "for i in range(0, len(data)):\n",
        "    url.append(data[i]['imgUrl'])\n",
        "\n",
        "items = Counter(url).keys()\n",
        "print(\"No of unique items in the list are:\", len(items))"
      ]
    },
    {
      "cell_type": "code",
      "execution_count": null,
      "id": "8ba3b195",
      "metadata": {
        "id": "8ba3b195"
      },
      "outputs": [],
      "source": [
        "url = list()\n",
        "for i in range(0, len(data)):\n",
        "    url.append(data[i]['imgUrl'])\n",
        "\n",
        "for i in range(0, len(data)):\n",
        "    lbs, scr = detect_labels_uri(url[i])\n",
        "    data[i]['labels'] = lbs \n",
        "    data[i]['score'] = scr\n",
        "\n",
        "with open('insta_label_score.json', 'w') as json_file:\n",
        "    json.dump(data, json_file)"
      ]
    },
    {
      "cell_type": "markdown",
      "id": "fccaa50a",
      "metadata": {
        "id": "fccaa50a"
      },
      "source": [
        "### There are 675 different posts with 893 images in total. \n",
        "### However there are only 485 unique images used throughout all the 675 posts\n",
        "### This implies multiple posts have same images"
      ]
    },
    {
      "cell_type": "code",
      "execution_count": null,
      "id": "_PIYe_X9FR4E",
      "metadata": {
        "colab": {
          "base_uri": "https://localhost:8080/"
        },
        "id": "_PIYe_X9FR4E",
        "outputId": "e7797793-2da0-4be6-d8fe-53913a47374f"
      },
      "outputs": [
        {
          "name": "stdout",
          "output_type": "stream",
          "text": [
            "[Errno 2] No such file or directory: 'Mydrive'\n",
            "/content\n"
          ]
        }
      ],
      "source": [
        "cd /content/MyD"
      ]
    },
    {
      "cell_type": "markdown",
      "id": "Pvajd5Bb4R1i",
      "metadata": {
        "id": "Pvajd5Bb4R1i"
      },
      "source": [
        "**Data Preperation**"
      ]
    },
    {
      "cell_type": "code",
      "execution_count": null,
      "id": "3ae8d4c2",
      "metadata": {
        "id": "3ae8d4c2"
      },
      "outputs": [],
      "source": [
        "# reading data\n",
        "f1 = open('insta_label_score.json')\n",
        "dt = json.load(f1)"
      ]
    },
    {
      "cell_type": "code",
      "execution_count": null,
      "id": "8aa16b56",
      "metadata": {
        "id": "8aa16b56"
      },
      "outputs": [],
      "source": [
        "lbs = list()\n",
        "scr = list()\n",
        "likeCount = list()\n",
        "commentCount = list()\n",
        "caption = list()\n",
        "for i in range(0, len(data)):\n",
        "    lbs.append(dt[i]['labels'])\n",
        "    scr.append(dt[i]['score'])\n",
        "    likeCount.append(dt[i]['likeCount'])\n",
        "    commentCount.append(dt[i]['commentCount'])\n",
        "    caption.append(dt[i]['caption'])"
      ]
    },
    {
      "cell_type": "code",
      "execution_count": null,
      "id": "19a81898",
      "metadata": {
        "colab": {
          "base_uri": "https://localhost:8080/",
          "height": 511
        },
        "id": "19a81898",
        "outputId": "766c2713-77ab-4d60-e0bf-68648bc55abe"
      },
      "outputs": [
        {
          "data": {
            "text/html": [
              "\n",
              "  <div id=\"df-c726c0d6-c27c-4bf1-aced-d9de6d57a714\">\n",
              "    <div class=\"colab-df-container\">\n",
              "      <div>\n",
              "<style scoped>\n",
              "    .dataframe tbody tr th:only-of-type {\n",
              "        vertical-align: middle;\n",
              "    }\n",
              "\n",
              "    .dataframe tbody tr th {\n",
              "        vertical-align: top;\n",
              "    }\n",
              "\n",
              "    .dataframe thead th {\n",
              "        text-align: right;\n",
              "    }\n",
              "</style>\n",
              "<table border=\"1\" class=\"dataframe\">\n",
              "  <thead>\n",
              "    <tr style=\"text-align: right;\">\n",
              "      <th></th>\n",
              "      <th>imgUrl</th>\n",
              "      <th>labels</th>\n",
              "      <th>score</th>\n",
              "      <th>likeCount</th>\n",
              "      <th>commentCount</th>\n",
              "      <th>caption</th>\n",
              "    </tr>\n",
              "  </thead>\n",
              "  <tbody>\n",
              "    <tr>\n",
              "      <th>0</th>\n",
              "      <td>https://www.instagram.com/p/Ckvlx4fA7ch/media/...</td>\n",
              "      <td>[Temple, Sculpture, Statue, World, Art, Landma...</td>\n",
              "      <td>[0.8743597865104675, 0.8710590600967407, 0.865...</td>\n",
              "      <td>22920</td>\n",
              "      <td>217</td>\n",
              "      <td>Photo by National Geographic on November 09, 2...</td>\n",
              "    </tr>\n",
              "    <tr>\n",
              "      <th>1</th>\n",
              "      <td>https://www.instagram.com/p/Ckt9EF4AgD5/media/...</td>\n",
              "      <td>[World, Font, Bedrock, Landscape, Natural land...</td>\n",
              "      <td>[0.898686408996582, 0.8260526657104492, 0.7738...</td>\n",
              "      <td>156864</td>\n",
              "      <td>801</td>\n",
              "      <td>Photo by National Geographic on November 08, 2...</td>\n",
              "    </tr>\n",
              "    <tr>\n",
              "      <th>2</th>\n",
              "      <td>https://www.instagram.com/p/CktA-_-Ae-l/media/...</td>\n",
              "      <td>[Sky, Atmosphere, Building, Cloud, Skyscraper,...</td>\n",
              "      <td>[0.9685000777244568, 0.9481807947158813, 0.927...</td>\n",
              "      <td>135166</td>\n",
              "      <td>673</td>\n",
              "      <td>Photo by National Geographic on November 08, 2...</td>\n",
              "    </tr>\n",
              "    <tr>\n",
              "      <th>3</th>\n",
              "      <td>https://www.instagram.com/p/CkqtXRvApPf/media/...</td>\n",
              "      <td>[Event, Flash photography, Darkness, Working a...</td>\n",
              "      <td>[0.7158313989639282, 0.693068265914917, 0.6923...</td>\n",
              "      <td>96861</td>\n",
              "      <td>1239</td>\n",
              "      <td>Photo by National Geographic on November 07, 2...</td>\n",
              "    </tr>\n",
              "    <tr>\n",
              "      <th>4</th>\n",
              "      <td>https://www.instagram.com/p/CkqtXRvApPf/media/...</td>\n",
              "      <td>[Event, Flash photography, Darkness, Working a...</td>\n",
              "      <td>[0.7158313989639282, 0.693068265914917, 0.6923...</td>\n",
              "      <td>96861</td>\n",
              "      <td>1239</td>\n",
              "      <td>Photo by National Geographic on November 07, 2...</td>\n",
              "    </tr>\n",
              "  </tbody>\n",
              "</table>\n",
              "</div>\n",
              "      <button class=\"colab-df-convert\" onclick=\"convertToInteractive('df-c726c0d6-c27c-4bf1-aced-d9de6d57a714')\"\n",
              "              title=\"Convert this dataframe to an interactive table.\"\n",
              "              style=\"display:none;\">\n",
              "        \n",
              "  <svg xmlns=\"http://www.w3.org/2000/svg\" height=\"24px\"viewBox=\"0 0 24 24\"\n",
              "       width=\"24px\">\n",
              "    <path d=\"M0 0h24v24H0V0z\" fill=\"none\"/>\n",
              "    <path d=\"M18.56 5.44l.94 2.06.94-2.06 2.06-.94-2.06-.94-.94-2.06-.94 2.06-2.06.94zm-11 1L8.5 8.5l.94-2.06 2.06-.94-2.06-.94L8.5 2.5l-.94 2.06-2.06.94zm10 10l.94 2.06.94-2.06 2.06-.94-2.06-.94-.94-2.06-.94 2.06-2.06.94z\"/><path d=\"M17.41 7.96l-1.37-1.37c-.4-.4-.92-.59-1.43-.59-.52 0-1.04.2-1.43.59L10.3 9.45l-7.72 7.72c-.78.78-.78 2.05 0 2.83L4 21.41c.39.39.9.59 1.41.59.51 0 1.02-.2 1.41-.59l7.78-7.78 2.81-2.81c.8-.78.8-2.07 0-2.86zM5.41 20L4 18.59l7.72-7.72 1.47 1.35L5.41 20z\"/>\n",
              "  </svg>\n",
              "      </button>\n",
              "      \n",
              "  <style>\n",
              "    .colab-df-container {\n",
              "      display:flex;\n",
              "      flex-wrap:wrap;\n",
              "      gap: 12px;\n",
              "    }\n",
              "\n",
              "    .colab-df-convert {\n",
              "      background-color: #E8F0FE;\n",
              "      border: none;\n",
              "      border-radius: 50%;\n",
              "      cursor: pointer;\n",
              "      display: none;\n",
              "      fill: #1967D2;\n",
              "      height: 32px;\n",
              "      padding: 0 0 0 0;\n",
              "      width: 32px;\n",
              "    }\n",
              "\n",
              "    .colab-df-convert:hover {\n",
              "      background-color: #E2EBFA;\n",
              "      box-shadow: 0px 1px 2px rgba(60, 64, 67, 0.3), 0px 1px 3px 1px rgba(60, 64, 67, 0.15);\n",
              "      fill: #174EA6;\n",
              "    }\n",
              "\n",
              "    [theme=dark] .colab-df-convert {\n",
              "      background-color: #3B4455;\n",
              "      fill: #D2E3FC;\n",
              "    }\n",
              "\n",
              "    [theme=dark] .colab-df-convert:hover {\n",
              "      background-color: #434B5C;\n",
              "      box-shadow: 0px 1px 3px 1px rgba(0, 0, 0, 0.15);\n",
              "      filter: drop-shadow(0px 1px 2px rgba(0, 0, 0, 0.3));\n",
              "      fill: #FFFFFF;\n",
              "    }\n",
              "  </style>\n",
              "\n",
              "      <script>\n",
              "        const buttonEl =\n",
              "          document.querySelector('#df-c726c0d6-c27c-4bf1-aced-d9de6d57a714 button.colab-df-convert');\n",
              "        buttonEl.style.display =\n",
              "          google.colab.kernel.accessAllowed ? 'block' : 'none';\n",
              "\n",
              "        async function convertToInteractive(key) {\n",
              "          const element = document.querySelector('#df-c726c0d6-c27c-4bf1-aced-d9de6d57a714');\n",
              "          const dataTable =\n",
              "            await google.colab.kernel.invokeFunction('convertToInteractive',\n",
              "                                                     [key], {});\n",
              "          if (!dataTable) return;\n",
              "\n",
              "          const docLinkHtml = 'Like what you see? Visit the ' +\n",
              "            '<a target=\"_blank\" href=https://colab.research.google.com/notebooks/data_table.ipynb>data table notebook</a>'\n",
              "            + ' to learn more about interactive tables.';\n",
              "          element.innerHTML = '';\n",
              "          dataTable['output_type'] = 'display_data';\n",
              "          await google.colab.output.renderOutput(dataTable, element);\n",
              "          const docLink = document.createElement('div');\n",
              "          docLink.innerHTML = docLinkHtml;\n",
              "          element.appendChild(docLink);\n",
              "        }\n",
              "      </script>\n",
              "    </div>\n",
              "  </div>\n",
              "  "
            ],
            "text/plain": [
              "                                              imgUrl  \\\n",
              "0  https://www.instagram.com/p/Ckvlx4fA7ch/media/...   \n",
              "1  https://www.instagram.com/p/Ckt9EF4AgD5/media/...   \n",
              "2  https://www.instagram.com/p/CktA-_-Ae-l/media/...   \n",
              "3  https://www.instagram.com/p/CkqtXRvApPf/media/...   \n",
              "4  https://www.instagram.com/p/CkqtXRvApPf/media/...   \n",
              "\n",
              "                                              labels  \\\n",
              "0  [Temple, Sculpture, Statue, World, Art, Landma...   \n",
              "1  [World, Font, Bedrock, Landscape, Natural land...   \n",
              "2  [Sky, Atmosphere, Building, Cloud, Skyscraper,...   \n",
              "3  [Event, Flash photography, Darkness, Working a...   \n",
              "4  [Event, Flash photography, Darkness, Working a...   \n",
              "\n",
              "                                               score  likeCount  commentCount  \\\n",
              "0  [0.8743597865104675, 0.8710590600967407, 0.865...      22920           217   \n",
              "1  [0.898686408996582, 0.8260526657104492, 0.7738...     156864           801   \n",
              "2  [0.9685000777244568, 0.9481807947158813, 0.927...     135166           673   \n",
              "3  [0.7158313989639282, 0.693068265914917, 0.6923...      96861          1239   \n",
              "4  [0.7158313989639282, 0.693068265914917, 0.6923...      96861          1239   \n",
              "\n",
              "                                             caption  \n",
              "0  Photo by National Geographic on November 09, 2...  \n",
              "1  Photo by National Geographic on November 08, 2...  \n",
              "2  Photo by National Geographic on November 08, 2...  \n",
              "3  Photo by National Geographic on November 07, 2...  \n",
              "4  Photo by National Geographic on November 07, 2...  "
            ]
          },
          "execution_count": 17,
          "metadata": {},
          "output_type": "execute_result"
        }
      ],
      "source": [
        "df = pd.DataFrame(list(zip(url, lbs, scr, likeCount, commentCount, caption)), columns =['imgUrl','labels', 'score', 'likeCount', 'commentCount', 'caption']) \n",
        "df.head()"
      ]
    },
    {
      "cell_type": "code",
      "execution_count": null,
      "id": "8ff213c9",
      "metadata": {
        "id": "8ff213c9"
      },
      "outputs": [],
      "source": [
        "df.to_csv('img_lbs_scr.csv')"
      ]
    },
    {
      "cell_type": "markdown",
      "id": "L0sdzrOq-bof",
      "metadata": {
        "id": "L0sdzrOq-bof"
      },
      "source": [
        "**Task A: Creating the Engagement Column(Target)**"
      ]
    },
    {
      "cell_type": "code",
      "execution_count": null,
      "id": "9c83e674",
      "metadata": {
        "colab": {
          "base_uri": "https://localhost:8080/",
          "height": 704
        },
        "id": "9c83e674",
        "outputId": "6b12262f-6c80-40c3-e038-fbe9eb28d244"
      },
      "outputs": [
        {
          "data": {
            "text/html": [
              "\n",
              "  <div id=\"df-7ec93212-8279-4231-bbc8-463395f2b703\">\n",
              "    <div class=\"colab-df-container\">\n",
              "      <div>\n",
              "<style scoped>\n",
              "    .dataframe tbody tr th:only-of-type {\n",
              "        vertical-align: middle;\n",
              "    }\n",
              "\n",
              "    .dataframe tbody tr th {\n",
              "        vertical-align: top;\n",
              "    }\n",
              "\n",
              "    .dataframe thead th {\n",
              "        text-align: right;\n",
              "    }\n",
              "</style>\n",
              "<table border=\"1\" class=\"dataframe\">\n",
              "  <thead>\n",
              "    <tr style=\"text-align: right;\">\n",
              "      <th></th>\n",
              "      <th>imgUrl</th>\n",
              "      <th>labels</th>\n",
              "      <th>score</th>\n",
              "      <th>likeCount</th>\n",
              "      <th>commentCount</th>\n",
              "      <th>caption</th>\n",
              "      <th>normalizedLikeCount</th>\n",
              "      <th>normalizedCommentCount</th>\n",
              "      <th>engagementScore</th>\n",
              "      <th>engagement</th>\n",
              "    </tr>\n",
              "  </thead>\n",
              "  <tbody>\n",
              "    <tr>\n",
              "      <th>0</th>\n",
              "      <td>https://www.instagram.com/p/Ckvlx4fA7ch/media/...</td>\n",
              "      <td>[Temple, Sculpture, Statue, World, Art, Landma...</td>\n",
              "      <td>[0.8743597865104675, 0.8710590600967407, 0.865...</td>\n",
              "      <td>22920</td>\n",
              "      <td>217</td>\n",
              "      <td>Photo by National Geographic on November 09, 2...</td>\n",
              "      <td>0.023917</td>\n",
              "      <td>0.004502</td>\n",
              "      <td>0.012268</td>\n",
              "      <td>0</td>\n",
              "    </tr>\n",
              "    <tr>\n",
              "      <th>1</th>\n",
              "      <td>https://www.instagram.com/p/Ckt9EF4AgD5/media/...</td>\n",
              "      <td>[World, Font, Bedrock, Landscape, Natural land...</td>\n",
              "      <td>[0.898686408996582, 0.8260526657104492, 0.7738...</td>\n",
              "      <td>156864</td>\n",
              "      <td>801</td>\n",
              "      <td>Photo by National Geographic on November 08, 2...</td>\n",
              "      <td>0.163685</td>\n",
              "      <td>0.016619</td>\n",
              "      <td>0.075445</td>\n",
              "      <td>1</td>\n",
              "    </tr>\n",
              "    <tr>\n",
              "      <th>2</th>\n",
              "      <td>https://www.instagram.com/p/CktA-_-Ae-l/media/...</td>\n",
              "      <td>[Sky, Atmosphere, Building, Cloud, Skyscraper,...</td>\n",
              "      <td>[0.9685000777244568, 0.9481807947158813, 0.927...</td>\n",
              "      <td>135166</td>\n",
              "      <td>673</td>\n",
              "      <td>Photo by National Geographic on November 08, 2...</td>\n",
              "      <td>0.141043</td>\n",
              "      <td>0.013963</td>\n",
              "      <td>0.064795</td>\n",
              "      <td>1</td>\n",
              "    </tr>\n",
              "    <tr>\n",
              "      <th>3</th>\n",
              "      <td>https://www.instagram.com/p/CkqtXRvApPf/media/...</td>\n",
              "      <td>[Event, Flash photography, Darkness, Working a...</td>\n",
              "      <td>[0.7158313989639282, 0.693068265914917, 0.6923...</td>\n",
              "      <td>96861</td>\n",
              "      <td>1239</td>\n",
              "      <td>Photo by National Geographic on November 07, 2...</td>\n",
              "      <td>0.101073</td>\n",
              "      <td>0.025706</td>\n",
              "      <td>0.055853</td>\n",
              "      <td>0</td>\n",
              "    </tr>\n",
              "    <tr>\n",
              "      <th>4</th>\n",
              "      <td>https://www.instagram.com/p/CkqtXRvApPf/media/...</td>\n",
              "      <td>[Event, Flash photography, Darkness, Working a...</td>\n",
              "      <td>[0.7158313989639282, 0.693068265914917, 0.6923...</td>\n",
              "      <td>96861</td>\n",
              "      <td>1239</td>\n",
              "      <td>Photo by National Geographic on November 07, 2...</td>\n",
              "      <td>0.101073</td>\n",
              "      <td>0.025706</td>\n",
              "      <td>0.055853</td>\n",
              "      <td>0</td>\n",
              "    </tr>\n",
              "  </tbody>\n",
              "</table>\n",
              "</div>\n",
              "      <button class=\"colab-df-convert\" onclick=\"convertToInteractive('df-7ec93212-8279-4231-bbc8-463395f2b703')\"\n",
              "              title=\"Convert this dataframe to an interactive table.\"\n",
              "              style=\"display:none;\">\n",
              "        \n",
              "  <svg xmlns=\"http://www.w3.org/2000/svg\" height=\"24px\"viewBox=\"0 0 24 24\"\n",
              "       width=\"24px\">\n",
              "    <path d=\"M0 0h24v24H0V0z\" fill=\"none\"/>\n",
              "    <path d=\"M18.56 5.44l.94 2.06.94-2.06 2.06-.94-2.06-.94-.94-2.06-.94 2.06-2.06.94zm-11 1L8.5 8.5l.94-2.06 2.06-.94-2.06-.94L8.5 2.5l-.94 2.06-2.06.94zm10 10l.94 2.06.94-2.06 2.06-.94-2.06-.94-.94-2.06-.94 2.06-2.06.94z\"/><path d=\"M17.41 7.96l-1.37-1.37c-.4-.4-.92-.59-1.43-.59-.52 0-1.04.2-1.43.59L10.3 9.45l-7.72 7.72c-.78.78-.78 2.05 0 2.83L4 21.41c.39.39.9.59 1.41.59.51 0 1.02-.2 1.41-.59l7.78-7.78 2.81-2.81c.8-.78.8-2.07 0-2.86zM5.41 20L4 18.59l7.72-7.72 1.47 1.35L5.41 20z\"/>\n",
              "  </svg>\n",
              "      </button>\n",
              "      \n",
              "  <style>\n",
              "    .colab-df-container {\n",
              "      display:flex;\n",
              "      flex-wrap:wrap;\n",
              "      gap: 12px;\n",
              "    }\n",
              "\n",
              "    .colab-df-convert {\n",
              "      background-color: #E8F0FE;\n",
              "      border: none;\n",
              "      border-radius: 50%;\n",
              "      cursor: pointer;\n",
              "      display: none;\n",
              "      fill: #1967D2;\n",
              "      height: 32px;\n",
              "      padding: 0 0 0 0;\n",
              "      width: 32px;\n",
              "    }\n",
              "\n",
              "    .colab-df-convert:hover {\n",
              "      background-color: #E2EBFA;\n",
              "      box-shadow: 0px 1px 2px rgba(60, 64, 67, 0.3), 0px 1px 3px 1px rgba(60, 64, 67, 0.15);\n",
              "      fill: #174EA6;\n",
              "    }\n",
              "\n",
              "    [theme=dark] .colab-df-convert {\n",
              "      background-color: #3B4455;\n",
              "      fill: #D2E3FC;\n",
              "    }\n",
              "\n",
              "    [theme=dark] .colab-df-convert:hover {\n",
              "      background-color: #434B5C;\n",
              "      box-shadow: 0px 1px 3px 1px rgba(0, 0, 0, 0.15);\n",
              "      filter: drop-shadow(0px 1px 2px rgba(0, 0, 0, 0.3));\n",
              "      fill: #FFFFFF;\n",
              "    }\n",
              "  </style>\n",
              "\n",
              "      <script>\n",
              "        const buttonEl =\n",
              "          document.querySelector('#df-7ec93212-8279-4231-bbc8-463395f2b703 button.colab-df-convert');\n",
              "        buttonEl.style.display =\n",
              "          google.colab.kernel.accessAllowed ? 'block' : 'none';\n",
              "\n",
              "        async function convertToInteractive(key) {\n",
              "          const element = document.querySelector('#df-7ec93212-8279-4231-bbc8-463395f2b703');\n",
              "          const dataTable =\n",
              "            await google.colab.kernel.invokeFunction('convertToInteractive',\n",
              "                                                     [key], {});\n",
              "          if (!dataTable) return;\n",
              "\n",
              "          const docLinkHtml = 'Like what you see? Visit the ' +\n",
              "            '<a target=\"_blank\" href=https://colab.research.google.com/notebooks/data_table.ipynb>data table notebook</a>'\n",
              "            + ' to learn more about interactive tables.';\n",
              "          element.innerHTML = '';\n",
              "          dataTable['output_type'] = 'display_data';\n",
              "          await google.colab.output.renderOutput(dataTable, element);\n",
              "          const docLink = document.createElement('div');\n",
              "          docLink.innerHTML = docLinkHtml;\n",
              "          element.appendChild(docLink);\n",
              "        }\n",
              "      </script>\n",
              "    </div>\n",
              "  </div>\n",
              "  "
            ],
            "text/plain": [
              "                                              imgUrl  \\\n",
              "0  https://www.instagram.com/p/Ckvlx4fA7ch/media/...   \n",
              "1  https://www.instagram.com/p/Ckt9EF4AgD5/media/...   \n",
              "2  https://www.instagram.com/p/CktA-_-Ae-l/media/...   \n",
              "3  https://www.instagram.com/p/CkqtXRvApPf/media/...   \n",
              "4  https://www.instagram.com/p/CkqtXRvApPf/media/...   \n",
              "\n",
              "                                              labels  \\\n",
              "0  [Temple, Sculpture, Statue, World, Art, Landma...   \n",
              "1  [World, Font, Bedrock, Landscape, Natural land...   \n",
              "2  [Sky, Atmosphere, Building, Cloud, Skyscraper,...   \n",
              "3  [Event, Flash photography, Darkness, Working a...   \n",
              "4  [Event, Flash photography, Darkness, Working a...   \n",
              "\n",
              "                                               score  likeCount  commentCount  \\\n",
              "0  [0.8743597865104675, 0.8710590600967407, 0.865...      22920           217   \n",
              "1  [0.898686408996582, 0.8260526657104492, 0.7738...     156864           801   \n",
              "2  [0.9685000777244568, 0.9481807947158813, 0.927...     135166           673   \n",
              "3  [0.7158313989639282, 0.693068265914917, 0.6923...      96861          1239   \n",
              "4  [0.7158313989639282, 0.693068265914917, 0.6923...      96861          1239   \n",
              "\n",
              "                                             caption  normalizedLikeCount  \\\n",
              "0  Photo by National Geographic on November 09, 2...             0.023917   \n",
              "1  Photo by National Geographic on November 08, 2...             0.163685   \n",
              "2  Photo by National Geographic on November 08, 2...             0.141043   \n",
              "3  Photo by National Geographic on November 07, 2...             0.101073   \n",
              "4  Photo by National Geographic on November 07, 2...             0.101073   \n",
              "\n",
              "   normalizedCommentCount  engagementScore  engagement  \n",
              "0                0.004502         0.012268           0  \n",
              "1                0.016619         0.075445           1  \n",
              "2                0.013963         0.064795           1  \n",
              "3                0.025706         0.055853           0  \n",
              "4                0.025706         0.055853           0  "
            ]
          },
          "execution_count": 18,
          "metadata": {},
          "output_type": "execute_result"
        }
      ],
      "source": [
        "df['normalizedLikeCount'] = df['likeCount']/(df['likeCount'].max())\n",
        "df['normalizedCommentCount'] = df['commentCount']/(df['commentCount'].max())\n",
        "df['engagementScore'] =  .4*df['normalizedLikeCount'] + .6*df['normalizedCommentCount']\n",
        "df['engagement'] = df.apply(lambda x: 1 if x['engagementScore'] > df['engagementScore'].median() else 0, axis = 1)\n",
        "df.head()"
      ]
    },
    {
      "cell_type": "code",
      "execution_count": null,
      "id": "148b7218",
      "metadata": {
        "id": "148b7218"
      },
      "outputs": [],
      "source": [
        "df.to_csv('img_lbs_scr_with_engagement.csv')"
      ]
    },
    {
      "cell_type": "markdown",
      "id": "jHe2JTPP9QWI",
      "metadata": {
        "id": "jHe2JTPP9QWI"
      },
      "source": [
        "## Task C - Topic Modeling"
      ]
    },
    {
      "cell_type": "code",
      "execution_count": 3,
      "id": "qg4DCkkE6EH5",
      "metadata": {
        "id": "qg4DCkkE6EH5"
      },
      "outputs": [],
      "source": [
        "def tokenize_text(version_desc):\n",
        "    lowercase=version_desc.lower()\n",
        "    text = wordnet_lemmatizer.lemmatize(lowercase)\n",
        "    tokens = word_tokenizer.tokenize(text)\n",
        "    return tokens"
      ]
    },
    {
      "cell_type": "code",
      "execution_count": 4,
      "id": "q5UbSZKk9_Ec",
      "metadata": {
        "colab": {
          "base_uri": "https://localhost:8080/"
        },
        "id": "q5UbSZKk9_Ec",
        "outputId": "41d9e739-4133-4ef8-bb2e-9500673f828c"
      },
      "outputs": [
        {
          "output_type": "stream",
          "name": "stdout",
          "text": [
            "Number of rows with any of the empty columns:\n",
            "542\n"
          ]
        }
      ],
      "source": [
        "image_df = pd.read_csv(\"img_lbs_scr_with_engagement.csv\")\n",
        "image_df.reset_index(drop=True)\n",
        "headerList = ['id', 'imgUrl', 'labels', 'score', 'likeCount', 'commentCount', 'caption', 'normalizedLikeCount', 'normalizedCommentCount', 'engagementScore', 'engagement']\n",
        "image_df.to_csv(\"img_lbs_scr_with_engagement_mod.csv\", header=headerList, index=False)\n",
        "image_df = pd.read_csv(\"img_lbs_scr_with_engagement_mod.csv\")\n",
        "\n",
        "\n",
        "#checking for nulls if present any\n",
        "print(\"Number of rows with any of the empty columns:\")\n",
        "print(image_df.isnull().sum().sum())\n",
        "image_df = image_df.dropna()\n"
      ]
    },
    {
      "cell_type": "code",
      "execution_count": 5,
      "id": "UfcN0e4rLnKB",
      "metadata": {
        "colab": {
          "base_uri": "https://localhost:8080/",
          "height": 1000
        },
        "id": "UfcN0e4rLnKB",
        "outputId": "ee36cfb1-9da8-421c-d199-d751a543aacc"
      },
      "outputs": [
        {
          "output_type": "execute_result",
          "data": {
            "text/plain": [
              "      id                                             imgUrl  \\\n",
              "0      0  https://www.instagram.com/p/Ckvlx4fA7ch/media/...   \n",
              "1      1  https://www.instagram.com/p/Ckt9EF4AgD5/media/...   \n",
              "2      2  https://www.instagram.com/p/CktA-_-Ae-l/media/...   \n",
              "3      3  https://www.instagram.com/p/CkqtXRvApPf/media/...   \n",
              "4      4  https://www.instagram.com/p/CkqtXRvApPf/media/...   \n",
              "..   ...                                                ...   \n",
              "882  882  https://www.instagram.com/p/CeWVvyUOwZD/media/...   \n",
              "883  883  https://www.instagram.com/p/CeVzeHcMQPg/media/...   \n",
              "884  884  https://www.instagram.com/p/CeUTV9QOFtk/media/...   \n",
              "888  888  https://www.instagram.com/p/CeTOrRksjrV/media/...   \n",
              "889  889  https://www.instagram.com/p/CeR4eTgu8Mz/media/...   \n",
              "\n",
              "                                                labels  \\\n",
              "0    ['Temple', 'Sculpture', 'Statue', 'World', 'Ar...   \n",
              "1    ['World', 'Font', 'Bedrock', 'Landscape', 'Nat...   \n",
              "2    ['Sky', 'Atmosphere', 'Building', 'Cloud', 'Sk...   \n",
              "3    ['Event', 'Flash photography', 'Darkness', 'Wo...   \n",
              "4    ['Event', 'Flash photography', 'Darkness', 'Wo...   \n",
              "..                                                 ...   \n",
              "882  ['Water', 'Water resources', 'Tree', 'Fluvial ...   \n",
              "883  ['Eye', 'Frog', 'True frog', 'Plant', 'Toad', ...   \n",
              "884  ['Sky', 'Cloud', 'Atmosphere', 'Natural landsc...   \n",
              "888  ['Bird', 'Water', 'Sky', 'Body of water', 'Mor...   \n",
              "889  ['Sky', 'Plant', 'Cloud', 'Plant community', '...   \n",
              "\n",
              "                                                 score  likeCount  \\\n",
              "0    [0.8743597865104675, 0.8710590600967407, 0.865...      22920   \n",
              "1    [0.898686408996582, 0.8260526657104492, 0.7738...     156864   \n",
              "2    [0.9685000777244568, 0.9481807947158813, 0.927...     135166   \n",
              "3    [0.7158313989639282, 0.693068265914917, 0.6923...      96861   \n",
              "4    [0.7158313989639282, 0.693068265914917, 0.6923...      96861   \n",
              "..                                                 ...        ...   \n",
              "882  [0.9736745953559875, 0.9504656791687012, 0.874...     126378   \n",
              "883  [0.9400314688682556, 0.9166107177734375, 0.909...     107664   \n",
              "884  [0.9640792608261108, 0.949225664138794, 0.9481...      97542   \n",
              "888  [0.9773615002632141, 0.9736226201057434, 0.969...     101698   \n",
              "889  [0.9661780595779419, 0.94062340259552, 0.93528...     169802   \n",
              "\n",
              "     commentCount                                            caption  \\\n",
              "0             217  Photo by National Geographic on November 09, 2...   \n",
              "1             801  Photo by National Geographic on November 08, 2...   \n",
              "2             673  Photo by National Geographic on November 08, 2...   \n",
              "3            1239  Photo by National Geographic on November 07, 2...   \n",
              "4            1239  Photo by National Geographic on November 07, 2...   \n",
              "..            ...                                                ...   \n",
              "882           541  Photo by National Geographic on June 03, 2022....   \n",
              "883           609  Photo by National Geographic on June 03, 2022....   \n",
              "884           512  Photo by National Geographic on June 02, 2022....   \n",
              "888           592  Photo by National Geographic on June 02, 2022....   \n",
              "889           835  Photo by National Geographic on June 01, 2022....   \n",
              "\n",
              "     normalizedLikeCount  normalizedCommentCount  engagementScore  engagement  \\\n",
              "0               0.023917                0.004502         0.012268           0   \n",
              "1               0.163685                0.016619         0.075445           1   \n",
              "2               0.141043                0.013963         0.064795           1   \n",
              "3               0.101073                0.025706         0.055853           0   \n",
              "4               0.101073                0.025706         0.055853           0   \n",
              "..                   ...                     ...              ...         ...   \n",
              "882             0.131873                0.011225         0.059484           0   \n",
              "883             0.112345                0.012635         0.052519           0   \n",
              "884             0.101783                0.010623         0.047087           0   \n",
              "888             0.106120                0.012283         0.049818           0   \n",
              "889             0.177185                0.017324         0.081269           1   \n",
              "\n",
              "                                          label_tokens  \n",
              "0    [temple, sculpture, statue, world, art, landma...  \n",
              "1    [world, font, bedrock, landscape, natural, lan...  \n",
              "2    [sky, atmosphere, building, cloud, skyscraper,...  \n",
              "3    [event, flash, photography, darkness, working,...  \n",
              "4    [event, flash, photography, darkness, working,...  \n",
              "..                                                 ...  \n",
              "882  [water, water, resources, tree, fluvial, landf...  \n",
              "883  [eye, frog, true, frog, plant, toad, organism,...  \n",
              "884  [sky, cloud, atmosphere, natural, landscape, m...  \n",
              "888  [bird, water, sky, body, water, morning, beach...  \n",
              "889  [sky, plant, cloud, plant, community, ecoregio...  \n",
              "\n",
              "[351 rows x 12 columns]"
            ],
            "text/html": [
              "\n",
              "  <div id=\"df-d3f7f6fe-5ef0-4f3c-bb25-95190168489d\">\n",
              "    <div class=\"colab-df-container\">\n",
              "      <div>\n",
              "<style scoped>\n",
              "    .dataframe tbody tr th:only-of-type {\n",
              "        vertical-align: middle;\n",
              "    }\n",
              "\n",
              "    .dataframe tbody tr th {\n",
              "        vertical-align: top;\n",
              "    }\n",
              "\n",
              "    .dataframe thead th {\n",
              "        text-align: right;\n",
              "    }\n",
              "</style>\n",
              "<table border=\"1\" class=\"dataframe\">\n",
              "  <thead>\n",
              "    <tr style=\"text-align: right;\">\n",
              "      <th></th>\n",
              "      <th>id</th>\n",
              "      <th>imgUrl</th>\n",
              "      <th>labels</th>\n",
              "      <th>score</th>\n",
              "      <th>likeCount</th>\n",
              "      <th>commentCount</th>\n",
              "      <th>caption</th>\n",
              "      <th>normalizedLikeCount</th>\n",
              "      <th>normalizedCommentCount</th>\n",
              "      <th>engagementScore</th>\n",
              "      <th>engagement</th>\n",
              "      <th>label_tokens</th>\n",
              "    </tr>\n",
              "  </thead>\n",
              "  <tbody>\n",
              "    <tr>\n",
              "      <th>0</th>\n",
              "      <td>0</td>\n",
              "      <td>https://www.instagram.com/p/Ckvlx4fA7ch/media/...</td>\n",
              "      <td>['Temple', 'Sculpture', 'Statue', 'World', 'Ar...</td>\n",
              "      <td>[0.8743597865104675, 0.8710590600967407, 0.865...</td>\n",
              "      <td>22920</td>\n",
              "      <td>217</td>\n",
              "      <td>Photo by National Geographic on November 09, 2...</td>\n",
              "      <td>0.023917</td>\n",
              "      <td>0.004502</td>\n",
              "      <td>0.012268</td>\n",
              "      <td>0</td>\n",
              "      <td>[temple, sculpture, statue, world, art, landma...</td>\n",
              "    </tr>\n",
              "    <tr>\n",
              "      <th>1</th>\n",
              "      <td>1</td>\n",
              "      <td>https://www.instagram.com/p/Ckt9EF4AgD5/media/...</td>\n",
              "      <td>['World', 'Font', 'Bedrock', 'Landscape', 'Nat...</td>\n",
              "      <td>[0.898686408996582, 0.8260526657104492, 0.7738...</td>\n",
              "      <td>156864</td>\n",
              "      <td>801</td>\n",
              "      <td>Photo by National Geographic on November 08, 2...</td>\n",
              "      <td>0.163685</td>\n",
              "      <td>0.016619</td>\n",
              "      <td>0.075445</td>\n",
              "      <td>1</td>\n",
              "      <td>[world, font, bedrock, landscape, natural, lan...</td>\n",
              "    </tr>\n",
              "    <tr>\n",
              "      <th>2</th>\n",
              "      <td>2</td>\n",
              "      <td>https://www.instagram.com/p/CktA-_-Ae-l/media/...</td>\n",
              "      <td>['Sky', 'Atmosphere', 'Building', 'Cloud', 'Sk...</td>\n",
              "      <td>[0.9685000777244568, 0.9481807947158813, 0.927...</td>\n",
              "      <td>135166</td>\n",
              "      <td>673</td>\n",
              "      <td>Photo by National Geographic on November 08, 2...</td>\n",
              "      <td>0.141043</td>\n",
              "      <td>0.013963</td>\n",
              "      <td>0.064795</td>\n",
              "      <td>1</td>\n",
              "      <td>[sky, atmosphere, building, cloud, skyscraper,...</td>\n",
              "    </tr>\n",
              "    <tr>\n",
              "      <th>3</th>\n",
              "      <td>3</td>\n",
              "      <td>https://www.instagram.com/p/CkqtXRvApPf/media/...</td>\n",
              "      <td>['Event', 'Flash photography', 'Darkness', 'Wo...</td>\n",
              "      <td>[0.7158313989639282, 0.693068265914917, 0.6923...</td>\n",
              "      <td>96861</td>\n",
              "      <td>1239</td>\n",
              "      <td>Photo by National Geographic on November 07, 2...</td>\n",
              "      <td>0.101073</td>\n",
              "      <td>0.025706</td>\n",
              "      <td>0.055853</td>\n",
              "      <td>0</td>\n",
              "      <td>[event, flash, photography, darkness, working,...</td>\n",
              "    </tr>\n",
              "    <tr>\n",
              "      <th>4</th>\n",
              "      <td>4</td>\n",
              "      <td>https://www.instagram.com/p/CkqtXRvApPf/media/...</td>\n",
              "      <td>['Event', 'Flash photography', 'Darkness', 'Wo...</td>\n",
              "      <td>[0.7158313989639282, 0.693068265914917, 0.6923...</td>\n",
              "      <td>96861</td>\n",
              "      <td>1239</td>\n",
              "      <td>Photo by National Geographic on November 07, 2...</td>\n",
              "      <td>0.101073</td>\n",
              "      <td>0.025706</td>\n",
              "      <td>0.055853</td>\n",
              "      <td>0</td>\n",
              "      <td>[event, flash, photography, darkness, working,...</td>\n",
              "    </tr>\n",
              "    <tr>\n",
              "      <th>...</th>\n",
              "      <td>...</td>\n",
              "      <td>...</td>\n",
              "      <td>...</td>\n",
              "      <td>...</td>\n",
              "      <td>...</td>\n",
              "      <td>...</td>\n",
              "      <td>...</td>\n",
              "      <td>...</td>\n",
              "      <td>...</td>\n",
              "      <td>...</td>\n",
              "      <td>...</td>\n",
              "      <td>...</td>\n",
              "    </tr>\n",
              "    <tr>\n",
              "      <th>882</th>\n",
              "      <td>882</td>\n",
              "      <td>https://www.instagram.com/p/CeWVvyUOwZD/media/...</td>\n",
              "      <td>['Water', 'Water resources', 'Tree', 'Fluvial ...</td>\n",
              "      <td>[0.9736745953559875, 0.9504656791687012, 0.874...</td>\n",
              "      <td>126378</td>\n",
              "      <td>541</td>\n",
              "      <td>Photo by National Geographic on June 03, 2022....</td>\n",
              "      <td>0.131873</td>\n",
              "      <td>0.011225</td>\n",
              "      <td>0.059484</td>\n",
              "      <td>0</td>\n",
              "      <td>[water, water, resources, tree, fluvial, landf...</td>\n",
              "    </tr>\n",
              "    <tr>\n",
              "      <th>883</th>\n",
              "      <td>883</td>\n",
              "      <td>https://www.instagram.com/p/CeVzeHcMQPg/media/...</td>\n",
              "      <td>['Eye', 'Frog', 'True frog', 'Plant', 'Toad', ...</td>\n",
              "      <td>[0.9400314688682556, 0.9166107177734375, 0.909...</td>\n",
              "      <td>107664</td>\n",
              "      <td>609</td>\n",
              "      <td>Photo by National Geographic on June 03, 2022....</td>\n",
              "      <td>0.112345</td>\n",
              "      <td>0.012635</td>\n",
              "      <td>0.052519</td>\n",
              "      <td>0</td>\n",
              "      <td>[eye, frog, true, frog, plant, toad, organism,...</td>\n",
              "    </tr>\n",
              "    <tr>\n",
              "      <th>884</th>\n",
              "      <td>884</td>\n",
              "      <td>https://www.instagram.com/p/CeUTV9QOFtk/media/...</td>\n",
              "      <td>['Sky', 'Cloud', 'Atmosphere', 'Natural landsc...</td>\n",
              "      <td>[0.9640792608261108, 0.949225664138794, 0.9481...</td>\n",
              "      <td>97542</td>\n",
              "      <td>512</td>\n",
              "      <td>Photo by National Geographic on June 02, 2022....</td>\n",
              "      <td>0.101783</td>\n",
              "      <td>0.010623</td>\n",
              "      <td>0.047087</td>\n",
              "      <td>0</td>\n",
              "      <td>[sky, cloud, atmosphere, natural, landscape, m...</td>\n",
              "    </tr>\n",
              "    <tr>\n",
              "      <th>888</th>\n",
              "      <td>888</td>\n",
              "      <td>https://www.instagram.com/p/CeTOrRksjrV/media/...</td>\n",
              "      <td>['Bird', 'Water', 'Sky', 'Body of water', 'Mor...</td>\n",
              "      <td>[0.9773615002632141, 0.9736226201057434, 0.969...</td>\n",
              "      <td>101698</td>\n",
              "      <td>592</td>\n",
              "      <td>Photo by National Geographic on June 02, 2022....</td>\n",
              "      <td>0.106120</td>\n",
              "      <td>0.012283</td>\n",
              "      <td>0.049818</td>\n",
              "      <td>0</td>\n",
              "      <td>[bird, water, sky, body, water, morning, beach...</td>\n",
              "    </tr>\n",
              "    <tr>\n",
              "      <th>889</th>\n",
              "      <td>889</td>\n",
              "      <td>https://www.instagram.com/p/CeR4eTgu8Mz/media/...</td>\n",
              "      <td>['Sky', 'Plant', 'Cloud', 'Plant community', '...</td>\n",
              "      <td>[0.9661780595779419, 0.94062340259552, 0.93528...</td>\n",
              "      <td>169802</td>\n",
              "      <td>835</td>\n",
              "      <td>Photo by National Geographic on June 01, 2022....</td>\n",
              "      <td>0.177185</td>\n",
              "      <td>0.017324</td>\n",
              "      <td>0.081269</td>\n",
              "      <td>1</td>\n",
              "      <td>[sky, plant, cloud, plant, community, ecoregio...</td>\n",
              "    </tr>\n",
              "  </tbody>\n",
              "</table>\n",
              "<p>351 rows × 12 columns</p>\n",
              "</div>\n",
              "      <button class=\"colab-df-convert\" onclick=\"convertToInteractive('df-d3f7f6fe-5ef0-4f3c-bb25-95190168489d')\"\n",
              "              title=\"Convert this dataframe to an interactive table.\"\n",
              "              style=\"display:none;\">\n",
              "        \n",
              "  <svg xmlns=\"http://www.w3.org/2000/svg\" height=\"24px\"viewBox=\"0 0 24 24\"\n",
              "       width=\"24px\">\n",
              "    <path d=\"M0 0h24v24H0V0z\" fill=\"none\"/>\n",
              "    <path d=\"M18.56 5.44l.94 2.06.94-2.06 2.06-.94-2.06-.94-.94-2.06-.94 2.06-2.06.94zm-11 1L8.5 8.5l.94-2.06 2.06-.94-2.06-.94L8.5 2.5l-.94 2.06-2.06.94zm10 10l.94 2.06.94-2.06 2.06-.94-2.06-.94-.94-2.06-.94 2.06-2.06.94z\"/><path d=\"M17.41 7.96l-1.37-1.37c-.4-.4-.92-.59-1.43-.59-.52 0-1.04.2-1.43.59L10.3 9.45l-7.72 7.72c-.78.78-.78 2.05 0 2.83L4 21.41c.39.39.9.59 1.41.59.51 0 1.02-.2 1.41-.59l7.78-7.78 2.81-2.81c.8-.78.8-2.07 0-2.86zM5.41 20L4 18.59l7.72-7.72 1.47 1.35L5.41 20z\"/>\n",
              "  </svg>\n",
              "      </button>\n",
              "      \n",
              "  <style>\n",
              "    .colab-df-container {\n",
              "      display:flex;\n",
              "      flex-wrap:wrap;\n",
              "      gap: 12px;\n",
              "    }\n",
              "\n",
              "    .colab-df-convert {\n",
              "      background-color: #E8F0FE;\n",
              "      border: none;\n",
              "      border-radius: 50%;\n",
              "      cursor: pointer;\n",
              "      display: none;\n",
              "      fill: #1967D2;\n",
              "      height: 32px;\n",
              "      padding: 0 0 0 0;\n",
              "      width: 32px;\n",
              "    }\n",
              "\n",
              "    .colab-df-convert:hover {\n",
              "      background-color: #E2EBFA;\n",
              "      box-shadow: 0px 1px 2px rgba(60, 64, 67, 0.3), 0px 1px 3px 1px rgba(60, 64, 67, 0.15);\n",
              "      fill: #174EA6;\n",
              "    }\n",
              "\n",
              "    [theme=dark] .colab-df-convert {\n",
              "      background-color: #3B4455;\n",
              "      fill: #D2E3FC;\n",
              "    }\n",
              "\n",
              "    [theme=dark] .colab-df-convert:hover {\n",
              "      background-color: #434B5C;\n",
              "      box-shadow: 0px 1px 3px 1px rgba(0, 0, 0, 0.15);\n",
              "      filter: drop-shadow(0px 1px 2px rgba(0, 0, 0, 0.3));\n",
              "      fill: #FFFFFF;\n",
              "    }\n",
              "  </style>\n",
              "\n",
              "      <script>\n",
              "        const buttonEl =\n",
              "          document.querySelector('#df-d3f7f6fe-5ef0-4f3c-bb25-95190168489d button.colab-df-convert');\n",
              "        buttonEl.style.display =\n",
              "          google.colab.kernel.accessAllowed ? 'block' : 'none';\n",
              "\n",
              "        async function convertToInteractive(key) {\n",
              "          const element = document.querySelector('#df-d3f7f6fe-5ef0-4f3c-bb25-95190168489d');\n",
              "          const dataTable =\n",
              "            await google.colab.kernel.invokeFunction('convertToInteractive',\n",
              "                                                     [key], {});\n",
              "          if (!dataTable) return;\n",
              "\n",
              "          const docLinkHtml = 'Like what you see? Visit the ' +\n",
              "            '<a target=\"_blank\" href=https://colab.research.google.com/notebooks/data_table.ipynb>data table notebook</a>'\n",
              "            + ' to learn more about interactive tables.';\n",
              "          element.innerHTML = '';\n",
              "          dataTable['output_type'] = 'display_data';\n",
              "          await google.colab.output.renderOutput(dataTable, element);\n",
              "          const docLink = document.createElement('div');\n",
              "          docLink.innerHTML = docLinkHtml;\n",
              "          element.appendChild(docLink);\n",
              "        }\n",
              "      </script>\n",
              "    </div>\n",
              "  </div>\n",
              "  "
            ]
          },
          "metadata": {},
          "execution_count": 5
        }
      ],
      "source": [
        "# Removing stop words, punctuation and tokenizing\n",
        "stop = stopwords.words('english')\n",
        "## stop=stop+['photography']\n",
        "image_df[\"labels\"] = image_df[\"labels\"].astype(str)\n",
        "image_df[\"label_tokens\"] = image_df[\"labels\"].apply(lambda each_post: word_tokenize(re.sub(r'[^\\w\\s]',' ',each_post.lower())))\n",
        "image_df[\"label_tokens\"] = image_df[\"label_tokens\"].apply(lambda list_of_words: [x for x in list_of_words if x not in stop])\n",
        "image_df"
      ]
    },
    {
      "cell_type": "code",
      "execution_count": 6,
      "id": "lys_nWrtLlZd",
      "metadata": {
        "colab": {
          "base_uri": "https://localhost:8080/"
        },
        "id": "lys_nWrtLlZd",
        "outputId": "5f9ec96c-c920-4221-e734-bde7bc6c4f5d"
      },
      "outputs": [
        {
          "name": "stdout",
          "output_type": "stream",
          "text": [
            "provide the column name for id: id\n",
            "provide the column name for text: labels\n",
            "Provide the number of latent topics: 5\n"
          ]
        },
        {
          "output_type": "stream",
          "name": "stderr",
          "text": [
            "/usr/local/lib/python3.7/dist-packages/sklearn/feature_extraction/text.py:401: UserWarning: Your stop_words may be inconsistent with your preprocessing. Tokenizing the stop words generated tokens ['doe', 'ha', 'wa'] not in stop_words.\n",
            "  % sorted(inconsistent)\n"
          ]
        },
        {
          "output_type": "stream",
          "name": "stdout",
          "text": [
            "(351, 680)\n"
          ]
        }
      ],
      "source": [
        "labels_list = image_df['labels']\n",
        "\n",
        "label_to_sentence = []\n",
        "\n",
        "for labels_word in labels_list:\n",
        "  labels_word = labels_word[1:]\n",
        "  labels_word = labels_word[:-1]\n",
        "  cur_label = re.sub(r'[^\\w\\s]', '', labels_word)\n",
        "  label_to_sentence.append(cur_label)\n",
        "\n",
        "\n",
        "id_column = input('provide the column name for id: ')\n",
        "labels_column = input('provide the column name for text: ')\n",
        "ntopics= input('Provide the number of latent topics: ');\n",
        "\n",
        "\n",
        "word_tokenizer=RegexpTokenizer(r'\\w+')\n",
        "wordnet_lemmatizer = WordNetLemmatizer()\n",
        "stopwords_nltk=set(stopwords.words('english'))\n",
        "\n",
        "\n",
        "vec_words = CountVectorizer(tokenizer=tokenize_text,stop_words=stopwords_nltk,decode_error='ignore')\n",
        "total_features_words = vec_words.fit_transform(label_to_sentence)\n",
        "total_features_words\n",
        "print(total_features_words.shape)\n",
        "\n",
        "model = lda.LDA(n_topics=int(ntopics), n_iter=500, random_state=1)\n",
        "lda_train = model.fit(total_features_words)\n",
        "\n",
        "topic_word = model.topic_word_\n",
        "doc_topic=model.doc_topic_\n",
        "doc_topic=pd.DataFrame(doc_topic)\n",
        "image_df = image_df.join(doc_topic)\n",
        "doc_topic_df = pd.DataFrame()\n",
        "\n",
        "for i in range(int(ntopics)):\n",
        "    topic=\"topic_\"+str(i)\n",
        "    doc_topic_df[topic]=image_df.groupby([id_column])[i].mean()\n",
        "\n"
      ]
    },
    {
      "cell_type": "code",
      "execution_count": 7,
      "id": "rilJXcDBOf0v",
      "metadata": {
        "colab": {
          "base_uri": "https://localhost:8080/"
        },
        "id": "rilJXcDBOf0v",
        "outputId": "489437d0-f3f6-41f7-bcc1-97b2ad48914b"
      },
      "outputs": [
        {
          "output_type": "stream",
          "name": "stdout",
          "text": [
            "Topics word distribution written in file topic_word_dist.xlsx \n",
            "Document topic distribution written in file document_topic_dist.xlsx \n"
          ]
        }
      ],
      "source": [
        "\n",
        "topic_words_df = doc_topic_df.reset_index()\n",
        "topics = pd.DataFrame(topic_word)\n",
        "topics.columns = vec_words.get_feature_names()\n",
        "topics1 = topics.transpose()\n",
        "\n",
        "\n",
        "\n",
        "print (\"Topics word distribution written in file topic_word_dist.xlsx \")\n",
        "topics1.to_excel(\"topic_word_dist.xlsx\")\n",
        "doc_topic_df.to_excel(\"document_topic_dist.xlsx\",index=False)\n",
        "print (\"Document topic distribution written in file document_topic_dist.xlsx \")"
      ]
    },
    {
      "cell_type": "code",
      "execution_count": 8,
      "id": "vOeRSSxKRBig",
      "metadata": {
        "colab": {
          "base_uri": "https://localhost:8080/"
        },
        "id": "vOeRSSxKRBig",
        "outputId": "34db23ce-8002-4e07-8797-352286ada7e3"
      },
      "outputs": [
        {
          "output_type": "stream",
          "name": "stdout",
          "text": [
            "[('photography', 0.03064249047855606), ('event', 0.0289865871833085), ('art', 0.02567478059281339), ('flash', 0.02484682894518961), ('blue', 0.02319092564994205), ('electric', 0.02070707070707071), ('font', 0.02070707070707071), ('design', 0.01987911905944693), ('fashion', 0.0173952641165756), ('gesture', 0.01573936082132804)]\n",
            "[('plant', 0.08511635984716916), ('terrestrial', 0.07469607502605072), ('bird', 0.04343522056269539), ('animal', 0.03996179228898924), ('beak', 0.02259465092045849), ('dog', 0.02259465092045849), ('monochrome', 0.01912122264675235), ('photography', 0.01912122264675235), ('reptile', 0.01912122264675235), ('black', 0.01738450850989927)]\n",
            "[('landscape', 0.1021051680520419), ('sky', 0.06867546078785688), ('water', 0.06235092157571376), ('natural', 0.05602638236357065), ('cloud', 0.04157029273581495), ('mountain', 0.03163173111673292), ('landforms', 0.02440368630285508), ('phenomenon', 0.02440368630285508), ('slope', 0.02078966389591615), ('bedrock', 0.01898265269244669)]\n",
            "[('landscape', 0.06268488342943095), ('plant', 0.06268488342943095), ('sky', 0.06017798947104538), ('nature', 0.05391075457508148), ('tree', 0.04889696665831036), ('people', 0.04513662572073202), ('natural', 0.04137628478315368), ('wood', 0.04137628478315368), ('grass', 0.03761594384557534), ('cloud', 0.03636249686638256)]\n",
            "[('plant', 0.1142917607223476), ('animal', 0.05926918735891647), ('terrestrial', 0.05644751693002256), ('carnivore', 0.0465716704288939), ('natural', 0.04516083521444694), ('fawn', 0.03669582392776524), ('sky', 0.03387415349887133), ('ecoregion', 0.02681997742663657), ('felidae', 0.02681997742663657), ('grass', 0.02681997742663657)]\n"
          ]
        }
      ],
      "source": [
        "topics_rank = pd.read_excel('topic_word_dist.xlsx')\n",
        "topics_rank\n",
        "\n",
        "# topic 0\n",
        "topic0 = dict(zip(topics_rank['Unnamed: 0'],topics_rank[0]))\n",
        "topic0 = sorted(topic0.items(), key = lambda x:-x[1])\n",
        "\n",
        "\n",
        "# topic 1\n",
        "topic1 = dict(zip(topics_rank['Unnamed: 0'],topics_rank[1]))\n",
        "topic1 = sorted(topic1.items(), key = lambda x:-x[1])\n",
        "\n",
        "# topic 2\n",
        "topic2 = dict(zip(topics_rank['Unnamed: 0'],topics_rank[2]))\n",
        "topic2 = sorted(topic2.items(), key = lambda x:-x[1])\n",
        "\n",
        "# topic 3\n",
        "topic3 = dict(zip(topics_rank['Unnamed: 0'],topics_rank[3]))\n",
        "topic3 = sorted(topic3.items(), key = lambda x:-x[1])\n",
        "\n",
        "# topic 4\n",
        "topic4 = dict(zip(topics_rank['Unnamed: 0'],topics_rank[4]))\n",
        "topic4 = sorted(topic4.items(), key = lambda x:-x[1])\n",
        "\n",
        "\n",
        "\n",
        "print(topic0[:10]) # fashion art design photography \n",
        "print(topic1[:10]) # animal and plant photography\n",
        "print(topic2[:10]) # landscape with natural scene like water, mountain, and sky\n",
        "print(topic3[:10]) # landscape with plant, nature scene, people, sky\n",
        "print(topic4[:10]) # landscape with wildlife and green \n"
      ]
    },
    {
      "cell_type": "code",
      "execution_count": 9,
      "id": "r3ROja6HM9at",
      "metadata": {
        "colab": {
          "base_uri": "https://localhost:8080/",
          "height": 394
        },
        "id": "r3ROja6HM9at",
        "outputId": "84a32b50-6aea-4af6-cedc-52ad92f7887f"
      },
      "outputs": [
        {
          "output_type": "execute_result",
          "data": {
            "text/plain": [
              "     topic_0   topic_1   topic_2   topic_3   topic_4\n",
              "id                                                  \n",
              "0   0.878261  0.008696  0.095652  0.008696  0.008696\n",
              "1   0.008696  0.008696  0.965217  0.008696  0.008696\n",
              "2   0.008696  0.008696  0.878261  0.008696  0.095652\n",
              "3   0.903448  0.006897  0.006897  0.006897  0.075862\n",
              "4   0.903448  0.006897  0.006897  0.006897  0.075862\n",
              "5   0.834483  0.006897  0.006897  0.006897  0.144828\n",
              "6   0.961905  0.009524  0.009524  0.009524  0.009524\n",
              "7   0.248000  0.168000  0.008000  0.568000  0.008000\n",
              "8   0.168000  0.008000  0.088000  0.728000  0.008000\n",
              "9   0.007407  0.007407  0.007407  0.970370  0.007407"
            ],
            "text/html": [
              "\n",
              "  <div id=\"df-ae0e9e87-4469-4d63-8121-83509f54f45f\">\n",
              "    <div class=\"colab-df-container\">\n",
              "      <div>\n",
              "<style scoped>\n",
              "    .dataframe tbody tr th:only-of-type {\n",
              "        vertical-align: middle;\n",
              "    }\n",
              "\n",
              "    .dataframe tbody tr th {\n",
              "        vertical-align: top;\n",
              "    }\n",
              "\n",
              "    .dataframe thead th {\n",
              "        text-align: right;\n",
              "    }\n",
              "</style>\n",
              "<table border=\"1\" class=\"dataframe\">\n",
              "  <thead>\n",
              "    <tr style=\"text-align: right;\">\n",
              "      <th></th>\n",
              "      <th>topic_0</th>\n",
              "      <th>topic_1</th>\n",
              "      <th>topic_2</th>\n",
              "      <th>topic_3</th>\n",
              "      <th>topic_4</th>\n",
              "    </tr>\n",
              "    <tr>\n",
              "      <th>id</th>\n",
              "      <th></th>\n",
              "      <th></th>\n",
              "      <th></th>\n",
              "      <th></th>\n",
              "      <th></th>\n",
              "    </tr>\n",
              "  </thead>\n",
              "  <tbody>\n",
              "    <tr>\n",
              "      <th>0</th>\n",
              "      <td>0.878261</td>\n",
              "      <td>0.008696</td>\n",
              "      <td>0.095652</td>\n",
              "      <td>0.008696</td>\n",
              "      <td>0.008696</td>\n",
              "    </tr>\n",
              "    <tr>\n",
              "      <th>1</th>\n",
              "      <td>0.008696</td>\n",
              "      <td>0.008696</td>\n",
              "      <td>0.965217</td>\n",
              "      <td>0.008696</td>\n",
              "      <td>0.008696</td>\n",
              "    </tr>\n",
              "    <tr>\n",
              "      <th>2</th>\n",
              "      <td>0.008696</td>\n",
              "      <td>0.008696</td>\n",
              "      <td>0.878261</td>\n",
              "      <td>0.008696</td>\n",
              "      <td>0.095652</td>\n",
              "    </tr>\n",
              "    <tr>\n",
              "      <th>3</th>\n",
              "      <td>0.903448</td>\n",
              "      <td>0.006897</td>\n",
              "      <td>0.006897</td>\n",
              "      <td>0.006897</td>\n",
              "      <td>0.075862</td>\n",
              "    </tr>\n",
              "    <tr>\n",
              "      <th>4</th>\n",
              "      <td>0.903448</td>\n",
              "      <td>0.006897</td>\n",
              "      <td>0.006897</td>\n",
              "      <td>0.006897</td>\n",
              "      <td>0.075862</td>\n",
              "    </tr>\n",
              "    <tr>\n",
              "      <th>5</th>\n",
              "      <td>0.834483</td>\n",
              "      <td>0.006897</td>\n",
              "      <td>0.006897</td>\n",
              "      <td>0.006897</td>\n",
              "      <td>0.144828</td>\n",
              "    </tr>\n",
              "    <tr>\n",
              "      <th>6</th>\n",
              "      <td>0.961905</td>\n",
              "      <td>0.009524</td>\n",
              "      <td>0.009524</td>\n",
              "      <td>0.009524</td>\n",
              "      <td>0.009524</td>\n",
              "    </tr>\n",
              "    <tr>\n",
              "      <th>7</th>\n",
              "      <td>0.248000</td>\n",
              "      <td>0.168000</td>\n",
              "      <td>0.008000</td>\n",
              "      <td>0.568000</td>\n",
              "      <td>0.008000</td>\n",
              "    </tr>\n",
              "    <tr>\n",
              "      <th>8</th>\n",
              "      <td>0.168000</td>\n",
              "      <td>0.008000</td>\n",
              "      <td>0.088000</td>\n",
              "      <td>0.728000</td>\n",
              "      <td>0.008000</td>\n",
              "    </tr>\n",
              "    <tr>\n",
              "      <th>9</th>\n",
              "      <td>0.007407</td>\n",
              "      <td>0.007407</td>\n",
              "      <td>0.007407</td>\n",
              "      <td>0.970370</td>\n",
              "      <td>0.007407</td>\n",
              "    </tr>\n",
              "  </tbody>\n",
              "</table>\n",
              "</div>\n",
              "      <button class=\"colab-df-convert\" onclick=\"convertToInteractive('df-ae0e9e87-4469-4d63-8121-83509f54f45f')\"\n",
              "              title=\"Convert this dataframe to an interactive table.\"\n",
              "              style=\"display:none;\">\n",
              "        \n",
              "  <svg xmlns=\"http://www.w3.org/2000/svg\" height=\"24px\"viewBox=\"0 0 24 24\"\n",
              "       width=\"24px\">\n",
              "    <path d=\"M0 0h24v24H0V0z\" fill=\"none\"/>\n",
              "    <path d=\"M18.56 5.44l.94 2.06.94-2.06 2.06-.94-2.06-.94-.94-2.06-.94 2.06-2.06.94zm-11 1L8.5 8.5l.94-2.06 2.06-.94-2.06-.94L8.5 2.5l-.94 2.06-2.06.94zm10 10l.94 2.06.94-2.06 2.06-.94-2.06-.94-.94-2.06-.94 2.06-2.06.94z\"/><path d=\"M17.41 7.96l-1.37-1.37c-.4-.4-.92-.59-1.43-.59-.52 0-1.04.2-1.43.59L10.3 9.45l-7.72 7.72c-.78.78-.78 2.05 0 2.83L4 21.41c.39.39.9.59 1.41.59.51 0 1.02-.2 1.41-.59l7.78-7.78 2.81-2.81c.8-.78.8-2.07 0-2.86zM5.41 20L4 18.59l7.72-7.72 1.47 1.35L5.41 20z\"/>\n",
              "  </svg>\n",
              "      </button>\n",
              "      \n",
              "  <style>\n",
              "    .colab-df-container {\n",
              "      display:flex;\n",
              "      flex-wrap:wrap;\n",
              "      gap: 12px;\n",
              "    }\n",
              "\n",
              "    .colab-df-convert {\n",
              "      background-color: #E8F0FE;\n",
              "      border: none;\n",
              "      border-radius: 50%;\n",
              "      cursor: pointer;\n",
              "      display: none;\n",
              "      fill: #1967D2;\n",
              "      height: 32px;\n",
              "      padding: 0 0 0 0;\n",
              "      width: 32px;\n",
              "    }\n",
              "\n",
              "    .colab-df-convert:hover {\n",
              "      background-color: #E2EBFA;\n",
              "      box-shadow: 0px 1px 2px rgba(60, 64, 67, 0.3), 0px 1px 3px 1px rgba(60, 64, 67, 0.15);\n",
              "      fill: #174EA6;\n",
              "    }\n",
              "\n",
              "    [theme=dark] .colab-df-convert {\n",
              "      background-color: #3B4455;\n",
              "      fill: #D2E3FC;\n",
              "    }\n",
              "\n",
              "    [theme=dark] .colab-df-convert:hover {\n",
              "      background-color: #434B5C;\n",
              "      box-shadow: 0px 1px 3px 1px rgba(0, 0, 0, 0.15);\n",
              "      filter: drop-shadow(0px 1px 2px rgba(0, 0, 0, 0.3));\n",
              "      fill: #FFFFFF;\n",
              "    }\n",
              "  </style>\n",
              "\n",
              "      <script>\n",
              "        const buttonEl =\n",
              "          document.querySelector('#df-ae0e9e87-4469-4d63-8121-83509f54f45f button.colab-df-convert');\n",
              "        buttonEl.style.display =\n",
              "          google.colab.kernel.accessAllowed ? 'block' : 'none';\n",
              "\n",
              "        async function convertToInteractive(key) {\n",
              "          const element = document.querySelector('#df-ae0e9e87-4469-4d63-8121-83509f54f45f');\n",
              "          const dataTable =\n",
              "            await google.colab.kernel.invokeFunction('convertToInteractive',\n",
              "                                                     [key], {});\n",
              "          if (!dataTable) return;\n",
              "\n",
              "          const docLinkHtml = 'Like what you see? Visit the ' +\n",
              "            '<a target=\"_blank\" href=https://colab.research.google.com/notebooks/data_table.ipynb>data table notebook</a>'\n",
              "            + ' to learn more about interactive tables.';\n",
              "          element.innerHTML = '';\n",
              "          dataTable['output_type'] = 'display_data';\n",
              "          await google.colab.output.renderOutput(dataTable, element);\n",
              "          const docLink = document.createElement('div');\n",
              "          docLink.innerHTML = docLinkHtml;\n",
              "          element.appendChild(docLink);\n",
              "        }\n",
              "      </script>\n",
              "    </div>\n",
              "  </div>\n",
              "  "
            ]
          },
          "metadata": {},
          "execution_count": 9
        }
      ],
      "source": [
        "doc_topic_df.head(10)"
      ]
    },
    {
      "cell_type": "code",
      "execution_count": 10,
      "id": "0O76Ed72-_g4",
      "metadata": {
        "id": "0O76Ed72-_g4"
      },
      "outputs": [],
      "source": [
        "df_nat_final = pd.concat([image_df.reset_index(drop=True), doc_topic_df.reset_index(drop=True)], axis=1)\n",
        "\n",
        "\n",
        "q1=np.percentile(df_nat_final.engagementScore, 25) \n",
        "q2=np.percentile(df_nat_final.engagementScore, 50)  \n",
        "q3=np.percentile(df_nat_final.engagementScore, 75)\n",
        "\n",
        "top_quartile=df_nat_final[df_nat_final['engagementScore']>q3]\n",
        "top_quartile.count()\n",
        "\n",
        "average_topic_weights_top = top_quartile[[\"topic_0\",'topic_1',\"topic_2\",'topic_3',\"topic_4\"]].mean(axis=0)\n",
        "\n",
        "bottom_quartile=df_nat_final[df_nat_final['engagementScore']<q1]\n",
        "bottom_quartile.count()\n",
        "\n",
        "average_topic_weights_bot = bottom_quartile[[\"topic_0\",'topic_1',\"topic_2\",'topic_3',\"topic_4\"]].mean(axis=0)\n",
        "\n",
        "quartile_topics = pd.concat([average_topic_weights_top,average_topic_weights_bot],axis=1)\n",
        "quartile_topics.columns = ['Top Quartile','Bottom Quartile']"
      ]
    },
    {
      "cell_type": "code",
      "execution_count": 11,
      "id": "Ee0wDCUF-1FX",
      "metadata": {
        "id": "Ee0wDCUF-1FX",
        "colab": {
          "base_uri": "https://localhost:8080/"
        },
        "outputId": "a6a4f3f2-b514-43dc-b054-5d3c4233ba16"
      },
      "outputs": [
        {
          "output_type": "execute_result",
          "data": {
            "text/plain": [
              "topic_0    0.310714\n",
              "topic_1    0.142742\n",
              "topic_2    0.218270\n",
              "topic_3    0.179181\n",
              "topic_4    0.149094\n",
              "dtype: float64"
            ]
          },
          "metadata": {},
          "execution_count": 11
        }
      ],
      "source": [
        "average_topic_weights_top"
      ]
    },
    {
      "cell_type": "code",
      "execution_count": 12,
      "id": "7Gcu9us_-1B9",
      "metadata": {
        "id": "7Gcu9us_-1B9",
        "colab": {
          "base_uri": "https://localhost:8080/"
        },
        "outputId": "f58873ec-7ea5-4a13-b7f2-c0b9e2adffd1"
      },
      "outputs": [
        {
          "output_type": "execute_result",
          "data": {
            "text/plain": [
              "topic_0    0.239259\n",
              "topic_1    0.038334\n",
              "topic_2    0.199312\n",
              "topic_3    0.318652\n",
              "topic_4    0.204443\n",
              "dtype: float64"
            ]
          },
          "metadata": {},
          "execution_count": 12
        }
      ],
      "source": [
        "average_topic_weights_bot"
      ]
    },
    {
      "cell_type": "code",
      "execution_count": 13,
      "id": "a03e0dd1",
      "metadata": {
        "colab": {
          "base_uri": "https://localhost:8080/",
          "height": 206
        },
        "id": "a03e0dd1",
        "outputId": "73765891-e3d3-4d34-d298-f47c47ebab0c"
      },
      "outputs": [
        {
          "output_type": "execute_result",
          "data": {
            "text/plain": [
              "         Top Quartile  Bottom Quartile\n",
              "topic_0      0.310714         0.239259\n",
              "topic_1      0.142742         0.038334\n",
              "topic_2      0.218270         0.199312\n",
              "topic_3      0.179181         0.318652\n",
              "topic_4      0.149094         0.204443"
            ],
            "text/html": [
              "\n",
              "  <div id=\"df-a2cc0b16-0c1e-41c6-b6f9-7298388853cd\">\n",
              "    <div class=\"colab-df-container\">\n",
              "      <div>\n",
              "<style scoped>\n",
              "    .dataframe tbody tr th:only-of-type {\n",
              "        vertical-align: middle;\n",
              "    }\n",
              "\n",
              "    .dataframe tbody tr th {\n",
              "        vertical-align: top;\n",
              "    }\n",
              "\n",
              "    .dataframe thead th {\n",
              "        text-align: right;\n",
              "    }\n",
              "</style>\n",
              "<table border=\"1\" class=\"dataframe\">\n",
              "  <thead>\n",
              "    <tr style=\"text-align: right;\">\n",
              "      <th></th>\n",
              "      <th>Top Quartile</th>\n",
              "      <th>Bottom Quartile</th>\n",
              "    </tr>\n",
              "  </thead>\n",
              "  <tbody>\n",
              "    <tr>\n",
              "      <th>topic_0</th>\n",
              "      <td>0.310714</td>\n",
              "      <td>0.239259</td>\n",
              "    </tr>\n",
              "    <tr>\n",
              "      <th>topic_1</th>\n",
              "      <td>0.142742</td>\n",
              "      <td>0.038334</td>\n",
              "    </tr>\n",
              "    <tr>\n",
              "      <th>topic_2</th>\n",
              "      <td>0.218270</td>\n",
              "      <td>0.199312</td>\n",
              "    </tr>\n",
              "    <tr>\n",
              "      <th>topic_3</th>\n",
              "      <td>0.179181</td>\n",
              "      <td>0.318652</td>\n",
              "    </tr>\n",
              "    <tr>\n",
              "      <th>topic_4</th>\n",
              "      <td>0.149094</td>\n",
              "      <td>0.204443</td>\n",
              "    </tr>\n",
              "  </tbody>\n",
              "</table>\n",
              "</div>\n",
              "      <button class=\"colab-df-convert\" onclick=\"convertToInteractive('df-a2cc0b16-0c1e-41c6-b6f9-7298388853cd')\"\n",
              "              title=\"Convert this dataframe to an interactive table.\"\n",
              "              style=\"display:none;\">\n",
              "        \n",
              "  <svg xmlns=\"http://www.w3.org/2000/svg\" height=\"24px\"viewBox=\"0 0 24 24\"\n",
              "       width=\"24px\">\n",
              "    <path d=\"M0 0h24v24H0V0z\" fill=\"none\"/>\n",
              "    <path d=\"M18.56 5.44l.94 2.06.94-2.06 2.06-.94-2.06-.94-.94-2.06-.94 2.06-2.06.94zm-11 1L8.5 8.5l.94-2.06 2.06-.94-2.06-.94L8.5 2.5l-.94 2.06-2.06.94zm10 10l.94 2.06.94-2.06 2.06-.94-2.06-.94-.94-2.06-.94 2.06-2.06.94z\"/><path d=\"M17.41 7.96l-1.37-1.37c-.4-.4-.92-.59-1.43-.59-.52 0-1.04.2-1.43.59L10.3 9.45l-7.72 7.72c-.78.78-.78 2.05 0 2.83L4 21.41c.39.39.9.59 1.41.59.51 0 1.02-.2 1.41-.59l7.78-7.78 2.81-2.81c.8-.78.8-2.07 0-2.86zM5.41 20L4 18.59l7.72-7.72 1.47 1.35L5.41 20z\"/>\n",
              "  </svg>\n",
              "      </button>\n",
              "      \n",
              "  <style>\n",
              "    .colab-df-container {\n",
              "      display:flex;\n",
              "      flex-wrap:wrap;\n",
              "      gap: 12px;\n",
              "    }\n",
              "\n",
              "    .colab-df-convert {\n",
              "      background-color: #E8F0FE;\n",
              "      border: none;\n",
              "      border-radius: 50%;\n",
              "      cursor: pointer;\n",
              "      display: none;\n",
              "      fill: #1967D2;\n",
              "      height: 32px;\n",
              "      padding: 0 0 0 0;\n",
              "      width: 32px;\n",
              "    }\n",
              "\n",
              "    .colab-df-convert:hover {\n",
              "      background-color: #E2EBFA;\n",
              "      box-shadow: 0px 1px 2px rgba(60, 64, 67, 0.3), 0px 1px 3px 1px rgba(60, 64, 67, 0.15);\n",
              "      fill: #174EA6;\n",
              "    }\n",
              "\n",
              "    [theme=dark] .colab-df-convert {\n",
              "      background-color: #3B4455;\n",
              "      fill: #D2E3FC;\n",
              "    }\n",
              "\n",
              "    [theme=dark] .colab-df-convert:hover {\n",
              "      background-color: #434B5C;\n",
              "      box-shadow: 0px 1px 3px 1px rgba(0, 0, 0, 0.15);\n",
              "      filter: drop-shadow(0px 1px 2px rgba(0, 0, 0, 0.3));\n",
              "      fill: #FFFFFF;\n",
              "    }\n",
              "  </style>\n",
              "\n",
              "      <script>\n",
              "        const buttonEl =\n",
              "          document.querySelector('#df-a2cc0b16-0c1e-41c6-b6f9-7298388853cd button.colab-df-convert');\n",
              "        buttonEl.style.display =\n",
              "          google.colab.kernel.accessAllowed ? 'block' : 'none';\n",
              "\n",
              "        async function convertToInteractive(key) {\n",
              "          const element = document.querySelector('#df-a2cc0b16-0c1e-41c6-b6f9-7298388853cd');\n",
              "          const dataTable =\n",
              "            await google.colab.kernel.invokeFunction('convertToInteractive',\n",
              "                                                     [key], {});\n",
              "          if (!dataTable) return;\n",
              "\n",
              "          const docLinkHtml = 'Like what you see? Visit the ' +\n",
              "            '<a target=\"_blank\" href=https://colab.research.google.com/notebooks/data_table.ipynb>data table notebook</a>'\n",
              "            + ' to learn more about interactive tables.';\n",
              "          element.innerHTML = '';\n",
              "          dataTable['output_type'] = 'display_data';\n",
              "          await google.colab.output.renderOutput(dataTable, element);\n",
              "          const docLink = document.createElement('div');\n",
              "          docLink.innerHTML = docLinkHtml;\n",
              "          element.appendChild(docLink);\n",
              "        }\n",
              "      </script>\n",
              "    </div>\n",
              "  </div>\n",
              "  "
            ]
          },
          "metadata": {},
          "execution_count": 13
        }
      ],
      "source": [
        "quartile_topics"
      ]
    },
    {
      "cell_type": "markdown",
      "id": "4AWLRVE9-1qT",
      "metadata": {
        "id": "4AWLRVE9-1qT"
      },
      "source": [
        "**Task B : Modeling**"
      ]
    },
    {
      "cell_type": "markdown",
      "id": "yJbZPuFz_k42",
      "metadata": {
        "id": "yJbZPuFz_k42"
      },
      "source": [
        "**Reading the Labeled data**"
      ]
    },
    {
      "cell_type": "code",
      "execution_count": 15,
      "id": "538qOuVJ-3dU",
      "metadata": {
        "id": "538qOuVJ-3dU",
        "colab": {
          "base_uri": "https://localhost:8080/"
        },
        "outputId": "fc3c8a4f-582c-4ad1-d9a2-26083a776b19"
      },
      "outputs": [
        {
          "output_type": "stream",
          "name": "stdout",
          "text": [
            "Index(['imgUrl', 'labels', 'score', 'likeCount', 'commentCount', 'caption',\n",
            "       'normalizedLikeCount', 'normalizedCommentCount', 'engagementScore',\n",
            "       'engagement'],\n",
            "      dtype='object')\n",
            "(893, 10)\n",
            "(893, 10) (893, 2)\n"
          ]
        }
      ],
      "source": [
        "df = pd.read_csv('img_lbs_scr_with_engagement.csv') \\\n",
        "       .drop(['Unnamed: 0'], axis=1)\n",
        "\n",
        "df['imgUrl'] = df['imgUrl'].apply(lambda x: x.split('media')[0])\n",
        "print(df.columns)\n",
        "print(df.shape)\n",
        "\n",
        "\n",
        "df2 = pd.DataFrame(columns=['img_url', 'description'])\n",
        "# Opening JSON file\n",
        "f = open('insta_post1.json')  \n",
        "# returns JSON object as  a dictionary\n",
        "data = json.load(f)\n",
        "# Iterating through the json list\n",
        "for descr in data:\n",
        "    df2 = df2.append({'img_url': descr['postUrl'], 'description': descr['description'] }, ignore_index=True)\n",
        "f.close()\n",
        "\n",
        "print(df.shape, df2.shape)\n",
        "\n",
        "descr_lookup = df2.set_index('img_url').to_dict()['description']\n",
        "df['description'] = df.apply(lambda row: descr_lookup[row['imgUrl']], axis=1)"
      ]
    },
    {
      "cell_type": "markdown",
      "id": "q9r5irt4_veF",
      "metadata": {
        "id": "q9r5irt4_veF"
      },
      "source": [
        "**Processing the data**"
      ]
    },
    {
      "cell_type": "code",
      "execution_count": 16,
      "id": "iF6L9W06_pUG",
      "metadata": {
        "id": "iF6L9W06_pUG",
        "colab": {
          "base_uri": "https://localhost:8080/"
        },
        "outputId": "3dfb4a8f-acfe-47a7-db9d-3c7a5baf8a08"
      },
      "outputs": [
        {
          "output_type": "stream",
          "name": "stdout",
          "text": [
            "(485, 1388)\n"
          ]
        }
      ],
      "source": [
        "stemmer = SnowballStemmer(\"english\")\n",
        "stop = stopwords.words('english')\n",
        "\n",
        "def remove_punctuation(s):\n",
        "    \"\"\"\n",
        "    function to remove punctuations in a \n",
        "    sentence\n",
        "    \"\"\"\n",
        "    string_punctuation = '''()-[]{};:'\"\\,<>./?@#$%^&*_~1234567890'''\n",
        "    no_punct = \"\"\n",
        "    for letter in s:\n",
        "        if letter not in string_punctuation:\n",
        "            no_punct += letter\n",
        "    return no_punct\n",
        "\n",
        "# Define function to lemmatize each word with its POS tag\n",
        "\n",
        "# POS_TAGGER_FUNCTION : TYPE 1\n",
        "def pos_tagger(nltk_tag):\n",
        "    if nltk_tag.startswith('J'):\n",
        "        return wordnet.ADJ\n",
        "    elif nltk_tag.startswith('V'):\n",
        "        return wordnet.VERB\n",
        "    elif nltk_tag.startswith('N'):\n",
        "        return wordnet.NOUN\n",
        "    elif nltk_tag.startswith('R'):\n",
        "        return wordnet.ADV\n",
        "    else:\n",
        "        return None\n",
        "    \n",
        "    \n",
        "def lemmetization(pos_tagged_words):\n",
        "    lemmatized_sentence = []\n",
        "    for word, tag in pos_tagged_words:\n",
        "        if tag is None:\n",
        "            # if there is no available tag, append the token as is\n",
        "            lemmatized_sentence.append(word)\n",
        "        else:\n",
        "            # else use the tag to lemmatize the token\n",
        "            lemmatized_sentence.append(lemmatizer.lemmatize(word, tag))\n",
        "    lemmatized_sentence = \" \".join(lemmatized_sentence)\n",
        "    return lemmatized_sentence\n",
        "\n",
        "    \n",
        "    \n",
        "    \n",
        "# removing unnecessary characters\n",
        "df['description'] = df['description'].apply(lambda x: x.lower().split('|')[-1] \\\n",
        "                                                       .replace('\\n', '') \\\n",
        "                                                       .replace('“', '') \\\n",
        "                                                       .replace('”', ''))\n",
        "# removing punctuations in a sentence\n",
        "i = 0\n",
        "for row in df['description']:\n",
        "    df.iloc[ i, -1] = remove_punctuation(row)\n",
        "    i=i+1\n",
        "    \n",
        "df['description'] = df['description'].apply(word_tokenize)\n",
        "df['description'] = df['description'].apply(lambda x : [w for w in x if w not in stop])\n",
        "\n",
        "# df['description'] = df['description'].apply(lambda x: [stemmer.stem(y) for y in x])\n",
        "# df['description'] = df['description'].apply(lambda x : \" \".join(x))\n",
        "\n",
        "lemmatizer = WordNetLemmatizer()\n",
        "df['description'] = df['description'].apply(lambda x: nltk.pos_tag(x))\n",
        "df['description'] = df['description'].apply(lambda words: list(map(lambda x: (x[0], pos_tagger(x[1])), words)))\n",
        "df['description'] = df['description'].apply(lambda pos_tagged_words: lemmetization(pos_tagged_words))\n",
        "\n",
        "\n",
        "Text_Column = list(df['description'].copy())\n",
        "sklearn_tfidf = TfidfVectorizer(min_df=.01, max_df =.95, stop_words=\"english\",use_idf=True, smooth_idf=False, sublinear_tf=True)\n",
        "sklearn_representation = sklearn_tfidf.fit_transform(Text_Column)\n",
        "Tfidf_Output = pd.DataFrame(sklearn_representation.toarray(), columns=sklearn_tfidf.get_feature_names())\n",
        "\n",
        "final_data = pd.concat([Tfidf_Output, df[['imgUrl', 'engagement']]], axis=1)\n",
        "final_data.drop_duplicates(inplace=True)\n",
        "print(final_data.shape)"
      ]
    },
    {
      "cell_type": "code",
      "execution_count": 17,
      "id": "URPw1nM5_yq1",
      "metadata": {
        "id": "URPw1nM5_yq1"
      },
      "outputs": [],
      "source": [
        "#Plotting Confusion Matrix\n",
        "def show_confusion_matrix(C,class_labels=['0','1']):\n",
        "\n",
        "    assert C.shape == (2,2), \"Confusion matrix should be from binary classification only.\"\n",
        "\n",
        "    # true negative, false positive, etc...\n",
        "    tn = C[0,0]; fp = C[0,1]; fn = C[1,0]; tp = C[1,1];\n",
        "\n",
        "    NP = fn+tp # Num positive examples\n",
        "    NN = tn+fp # Num negative examples\n",
        "    N  = NP+NN\n",
        "\n",
        "    fig = plt.figure(figsize=(8,8))\n",
        "    ax  = fig.add_subplot(111)\n",
        "    ax.imshow(C, interpolation='nearest', cmap=plt.cm.gray)\n",
        "\n",
        "    # Draw the grid boxes\n",
        "    ax.set_xlim(-0.5,2.5)\n",
        "    ax.set_ylim(2.5,-0.5)\n",
        "    ax.plot([-0.5,2.5],[0.5,0.5], '-k', lw=2)\n",
        "    ax.plot([-0.5,2.5],[1.5,1.5], '-k', lw=2)\n",
        "    ax.plot([0.5,0.5],[-0.5,2.5], '-k', lw=2)\n",
        "    ax.plot([1.5,1.5],[-0.5,2.5], '-k', lw=2)\n",
        "\n",
        "    # Set xlabels\n",
        "    ax.set_xlabel('Predicted Label', fontsize=16)\n",
        "    ax.set_xticks([0,1,2])\n",
        "    ax.set_xticklabels(class_labels + [''])\n",
        "    ax.xaxis.set_label_position('top')\n",
        "    ax.xaxis.tick_top()\n",
        "    # These coordinate might require some tinkering. Ditto for y, below.\n",
        "    ax.xaxis.set_label_coords(0.34,1.06)\n",
        "\n",
        "    # Set ylabels\n",
        "    ax.set_ylabel('True Label', fontsize=16, rotation=90)\n",
        "    ax.set_yticklabels(class_labels + [''],rotation=90)\n",
        "    ax.set_yticks([0,1,2])\n",
        "    ax.yaxis.set_label_coords(-0.09,0.65)\n",
        "\n",
        "\n",
        "    # Fill in initial metrics: tp, tn, etc...\n",
        "    ax.text(0,0,\n",
        "            '%d'%(tn),\n",
        "            va='center',\n",
        "            ha='center',\n",
        "            bbox=dict(fc='w',boxstyle='round,pad=1'))\n",
        "\n",
        "    ax.text(0,1,\n",
        "            '%d'%fn,\n",
        "            va='center',\n",
        "            ha='center',\n",
        "            bbox=dict(fc='w',boxstyle='round,pad=1'))\n",
        "\n",
        "    ax.text(1,0,\n",
        "            '%d'%fp,\n",
        "            va='center',\n",
        "            ha='center',\n",
        "            bbox=dict(fc='w',boxstyle='round,pad=1'))\n",
        "\n",
        "\n",
        "    ax.text(1,1,\n",
        "            '%d'%(tp),\n",
        "            va='center',\n",
        "            ha='center',\n",
        "            bbox=dict(fc='w',boxstyle='round,pad=1'))\n",
        "\n",
        "    # Fill in secondary metrics: accuracy, true pos rate, etc...\n",
        "    ax.text(2,0,\n",
        "            'Error: %.2f'%(fp / (fp+tn+0.)),\n",
        "            va='center',\n",
        "            ha='center',\n",
        "            bbox=dict(fc='w',boxstyle='round,pad=1'))\n",
        "\n",
        "    ax.text(2,1,\n",
        "            'Error: %.2f'%(fn / (tp+fn+0.)),\n",
        "            va='center',\n",
        "            ha='center',\n",
        "            bbox=dict(fc='w',boxstyle='round,pad=1'))\n",
        "\n",
        "    ax.text(2,2,\n",
        "            'Accuracy: %.2f'%((tp+tn+0.)/N),\n",
        "            va='center',\n",
        "            ha='center',\n",
        "            bbox=dict(fc='w',boxstyle='round,pad=1'))\n",
        "\n",
        "    ax.text(0,2,' ',\n",
        "            va='center',\n",
        "            ha='center',\n",
        "            bbox=dict(fc='w',boxstyle='round,pad=1'))\n",
        "\n",
        "    ax.text(1,2,\n",
        "            ' ',\n",
        "            va='center',\n",
        "            ha='center',\n",
        "            bbox=dict(fc='w',boxstyle='round,pad=1'))\n",
        "\n",
        "\n",
        "    plt.tight_layout()"
      ]
    },
    {
      "cell_type": "markdown",
      "id": "RkyNDoXeALEw",
      "metadata": {
        "id": "RkyNDoXeALEw"
      },
      "source": [
        "**With Description**"
      ]
    },
    {
      "cell_type": "code",
      "execution_count": 18,
      "id": "bn7FVsFA_131",
      "metadata": {
        "id": "bn7FVsFA_131",
        "colab": {
          "base_uri": "https://localhost:8080/",
          "height": 631
        },
        "outputId": "b4a0183a-75a0-4865-9740-cedf739de0b0"
      },
      "outputs": [
        {
          "output_type": "stream",
          "name": "stdout",
          "text": [
            "CV  accuracy 0.6742268041237114\n",
            "CV auc score 0.6731194502092335\n"
          ]
        },
        {
          "output_type": "display_data",
          "data": {
            "text/plain": [
              "<Figure size 576x576 with 1 Axes>"
            ],
            "image/png": "[encoded data removed]"
          },
          "metadata": {
            "needs_background": "light"
          }
        },
        {
          "output_type": "display_data",
          "data": {
            "text/plain": [
              "<Figure size 432x288 with 0 Axes>"
            ]
          },
          "metadata": {}
        }
      ],
      "source": [
        "selected_features = [col for col in final_data.columns if col not in ['imgUrl', 'engagement']]\n",
        "X = final_data[selected_features]\n",
        "Y = final_data['engagement']\n",
        "\n",
        "#Logit Regression\n",
        "classifier = LogisticRegression()\n",
        "classifier.fit(X, Y)\n",
        "Y_pred = cross_val_predict(classifier, X, Y, cv=5)\n",
        "\n",
        "# calculating CV accuracy\n",
        "cv_scores = cross_val_score(classifier, X, Y, cv=5)\n",
        "print(\"CV  accuracy\", sum(cv_scores) / len(cv_scores))\n",
        "\n",
        "# calculating CV roc_roc\n",
        "cv_scores = cross_val_score(classifier, X, Y, cv=5, scoring='roc_auc')\n",
        "print(\"CV auc score\", roc_auc_score(Y, Y_pred))\n",
        "\n",
        "# calculating confusion matrix\n",
        "cm = confusion_matrix(Y, Y_pred)\n",
        "show_confusion_matrix(cm, ['0', '1'])\n",
        "plt.show()\n",
        "plt.savefig('Confusion.png')"
      ]
    },
    {
      "cell_type": "code",
      "execution_count": 19,
      "id": "b8170036",
      "metadata": {
        "colab": {
          "base_uri": "https://localhost:8080/"
        },
        "id": "b8170036",
        "outputId": "6da79f23-4246-4166-aeab-759d29c6f028"
      },
      "outputs": [
        {
          "output_type": "stream",
          "name": "stdout",
          "text": [
            "[0.8429533657490804, 0.8466444795286396, 0.851220343374101, 1.1851516789323968, 1.224539746393573]\n",
            "animal 0.8466444795286396\n",
            "javieraznarphotography 0.8429533657490804\n",
            "lion 1.224539746393573\n",
            "wild 1.1851516789323968\n",
            "wildlife 0.851220343374101\n"
          ]
        }
      ],
      "source": [
        "coefs = classifier.coef_[0]\n",
        "top_2_idx = np.argsort(coefs)[-5:]\n",
        "top_2_values = [coefs[i] for i in top_2_idx]\n",
        "print(top_2_values)\n",
        "list1=[]\n",
        "for i in range(0,len(classifier.coef_[0])):\n",
        "    if classifier.coef_[0][i] in top_2_values:\n",
        "        print(selected_features[i], classifier.coef_[0][i])"
      ]
    },
    {
      "cell_type": "markdown",
      "id": "gge67FL2ADGe",
      "metadata": {
        "id": "gge67FL2ADGe"
      },
      "source": [
        "**With Image Labels**"
      ]
    },
    {
      "cell_type": "code",
      "execution_count": 20,
      "id": "Ut0UCggkAHsp",
      "metadata": {
        "id": "Ut0UCggkAHsp",
        "colab": {
          "base_uri": "https://localhost:8080/",
          "height": 614
        },
        "outputId": "e3ae945d-8af1-4d08-a5d2-69ca8956d413"
      },
      "outputs": [
        {
          "output_type": "display_data",
          "data": {
            "text/plain": [
              "<Figure size 576x576 with 1 Axes>"
            ],
            "image/png": "[encoded data removed]"
          },
          "metadata": {
            "needs_background": "light"
          }
        },
        {
          "output_type": "stream",
          "name": "stdout",
          "text": [
            "0.6785445571372679\n"
          ]
        },
        {
          "output_type": "display_data",
          "data": {
            "text/plain": [
              "<Figure size 432x288 with 0 Axes>"
            ]
          },
          "metadata": {}
        }
      ],
      "source": [
        "df['labels']=df['labels'].str.split(',').apply(lambda x : (\"\".join(x)).replace(\"'\",''))\n",
        "df['labels']=df['labels'].str[1:-1]\n",
        "Text_Column=df['labels']\n",
        "sklearn_tfidf = TfidfVectorizer(min_df=.01, max_df =.95, stop_words=\"english\",use_idf=True, smooth_idf=False, sublinear_tf=True)\n",
        "sklearn_representation = sklearn_tfidf.fit_transform(Text_Column)\n",
        "Tfidf_Output = pd.DataFrame(sklearn_representation.toarray(), columns=sklearn_tfidf.get_feature_names())\n",
        "\n",
        "\n",
        "Input = pd.concat([df, Tfidf_Output], axis=1)\n",
        "Input=Input.drop(['labels', 'score', 'likeCount', 'commentCount', 'caption',\n",
        "       'normalizedLikeCount', 'normalizedCommentCount', 'engagementScore','description'], axis=1)\n",
        "\n",
        "selected_features2 = [col for col in Input.columns if col not in ['imgUrl', 'engagement']]\n",
        "\n",
        "X = Input.loc[:, selected_features2]\n",
        "Y = Input['engagement']\n",
        "classifier2 = LogisticRegression()\n",
        "classifier2.fit(X, Y)\n",
        "Y_pred = cross_val_predict(classifier2, X, Y, cv=5)\n",
        "cm = confusion_matrix((np.array(Y)), Y_pred)\n",
        "\n",
        "show_confusion_matrix(cm, ['0', '1'])\n",
        "plt.show()\n",
        "plt.savefig('Confusion_matrix_for_Description_model.png')\n",
        "\n",
        "print(roc_auc_score(Y, Y_pred))"
      ]
    },
    {
      "cell_type": "code",
      "execution_count": 21,
      "id": "75ee8751",
      "metadata": {
        "colab": {
          "base_uri": "https://localhost:8080/"
        },
        "id": "75ee8751",
        "outputId": "7bf64ef2-007e-4741-c361-d066f7129b2e"
      },
      "outputs": [
        {
          "output_type": "stream",
          "name": "stdout",
          "text": [
            "[1.5372932057570254, 1.7589684756073956, 1.796031345026158, 2.076934250451457, 2.156309450624101]\n",
            "atmosphere 1.796031345026158\n",
            "carnivore 2.156309450624101\n",
            "ecoregion 1.5372932057570254\n",
            "fawn 2.076934250451457\n",
            "toy 1.7589684756073956\n"
          ]
        }
      ],
      "source": [
        "coefs = classifier2.coef_[0]\n",
        "top_2_idx = np.argsort(coefs)[-5:]\n",
        "top_2_values = [coefs[i] for i in top_2_idx]\n",
        "print(top_2_values)\n",
        "list1=[]\n",
        "for i in range(0,len(classifier2.coef_[0])):\n",
        "    if classifier2.coef_[0][i] in top_2_values:\n",
        "        print(selected_features2[i], classifier2.coef_[0][i])"
      ]
    },
    {
      "cell_type": "markdown",
      "id": "NkANfcybAxhQ",
      "metadata": {
        "id": "NkANfcybAxhQ"
      },
      "source": [
        "**using both labels and description**"
      ]
    },
    {
      "cell_type": "code",
      "execution_count": 22,
      "id": "9cc57084",
      "metadata": {
        "id": "9cc57084"
      },
      "outputs": [],
      "source": [
        "common_cols = list(set(selected_features).intersection(set(selected_features2)))\n",
        "Input2 = pd.merge(Input, final_data.drop(['engagement']+common_cols, axis=1))\n",
        "selected_features3 = [col for col in Input2.columns if col not in ['engagement', 'imgUrl']]"
      ]
    },
    {
      "cell_type": "code",
      "execution_count": 23,
      "id": "lwlbmA79AVqo",
      "metadata": {
        "id": "lwlbmA79AVqo",
        "colab": {
          "base_uri": "https://localhost:8080/",
          "height": 614
        },
        "outputId": "50d84638-b4a2-460e-8c4d-165c12a0c5fa"
      },
      "outputs": [
        {
          "output_type": "stream",
          "name": "stdout",
          "text": [
            "<function confusion_matrix at 0x7fbae37c57a0>\n"
          ]
        },
        {
          "output_type": "display_data",
          "data": {
            "text/plain": [
              "<Figure size 576x576 with 1 Axes>"
            ],
            "image/png": "[encoded data removed]"
          },
          "metadata": {
            "needs_background": "light"
          }
        },
        {
          "output_type": "display_data",
          "data": {
            "text/plain": [
              "<Figure size 432x288 with 0 Axes>"
            ]
          },
          "metadata": {}
        }
      ],
      "source": [
        "X2 = Input2.loc[:, selected_features3]\n",
        "Y2 = Input2['engagement']\n",
        "classifier3 = LogisticRegression()\n",
        "classifier3.fit(X2, Y2)\n",
        "Y_pred2 = cross_val_predict(classifier3, X2, Y2, cv=5)\n",
        "cm = confusion_matrix((np.array(Y2)), Y_pred2)\n",
        "print(confusion_matrix)\n",
        "\n",
        "show_confusion_matrix(cm, ['0', '1'])\n",
        "plt.show()\n",
        "plt.savefig('Confusion_for_model_with_descr_imglabels.png')"
      ]
    },
    {
      "cell_type": "code",
      "execution_count": 24,
      "id": "19ddf2e2",
      "metadata": {
        "colab": {
          "base_uri": "https://localhost:8080/"
        },
        "id": "19ddf2e2",
        "outputId": "a649ebbc-9475-4ff6-8e02-46238c80d982"
      },
      "outputs": [
        {
          "output_type": "stream",
          "name": "stdout",
          "text": [
            "[1.3838128189823342, 1.4932843809122531, 1.5019296845563253, 1.5462841169796075, 1.6890838535420416]\n",
            "atmosphere 1.5019296845563253\n",
            "carnivore 1.6890838535420416\n",
            "ecoregion 1.3838128189823342\n",
            "fawn 1.5462841169796075\n",
            "toy 1.4932843809122531\n"
          ]
        }
      ],
      "source": [
        "coefs = classifier3.coef_[0]\n",
        "top_2_idx = np.argsort(coefs)[-5:]\n",
        "top_2_values = [coefs[i] for i in top_2_idx]\n",
        "print(top_2_values)\n",
        "list1=[]\n",
        "for i in range(0,len(classifier3.coef_[0])):\n",
        "    if classifier3.coef_[0][i] in top_2_values:\n",
        "        print(selected_features3[i], classifier3.coef_[0][i])"
      ]
    },
    {
      "cell_type": "markdown",
      "source": [
        "**Task D**"
      ],
      "metadata": {
        "id": "v0EBMqbPhst0"
      },
      "id": "v0EBMqbPhst0"
    },
    {
      "cell_type": "markdown",
      "source": [
        "## Task D\n",
        "\n",
        "Topics:\n",
        "Topic0: #fashion art design photography  \\\n",
        "Topic1: # animal and plant photography \\\n",
        "Topic2:  # landscape with natural scenes like water, mountain, and sky \\\n",
        "Topic3: # landscape with plants, nature scenes, people, sky \\\n",
        "Topic4: # landscape with wildlife and green  \\\n",
        "\n",
        "Based on the LDA & Logistic regression model, we have observed the following things\n",
        "The posts with the top tier engagement were mostly about fashion art design photography and wildlife photography. This was also evident in the logistic regression, where we saw high coefficients for wildlife related labels. \n",
        "Among Wildlife, based on the coefficients of the model, we observed that the fawn and lion related posts were getting more engagement compared to other\n",
        "For natural landscape photographs, we didn’t see much engagement. \n",
        "Based on logistic regression, we found that Javier Aznar photographer was popular\n",
        "\n",
        "**Conclusion**:  National Geographic should post more about wildlife, especially lion and fawn, and also from Javier Aznar to improve engagement on their Instagram platform.\n",
        "\n",
        "**Other**:\n",
        "Labels have better predictive power compared to the word vector created through the description.\n",
        "Dropping the duplications in descriptions and labels improved the accuracy of the logistic regression. (We found many of the posts we scraped had the same images)\n",
        "\n"
      ],
      "metadata": {
        "id": "A5Gl4-oHhvOe"
      },
      "id": "A5Gl4-oHhvOe"
    }
  ],
  "metadata": {
    "colab": {
      "provenance": []
    },
    "kernelspec": {
      "display_name": "Python 3 (ipykernel)",
      "language": "python",
      "name": "python3"
    },
    "language_info": {
      "codemirror_mode": {
        "name": "ipython",
        "version": 3
      },
      "file_extension": ".py",
      "mimetype": "text/x-python",
      "name": "python",
      "nbconvert_exporter": "python",
      "pygments_lexer": "ipython3",
      "version": "3.10.5"
    }
  },
  "nbformat": 4,
  "nbformat_minor": 5
}